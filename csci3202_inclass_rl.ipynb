{
 "cells": [
  {
   "cell_type": "markdown",
   "metadata": {},
   "source": [
    "# CSCI 3202 Spring 2018 - Friday 20 April\n",
    "\n",
    "# In-class notebook: Reinforcement learnin'\n",
    "\n",
    "<a id='top'></a>\n",
    "\n",
    "<br>\n",
    "\n",
    "* You will **not** submit this to Moodle. But you may find the implementation of a simple active reinforcement learning technique to be a useful starting point for a particular problem on the practicum.\n",
    "* Even though you may be developing some key codes in groups here, it is expected any codes you turn in on the practicum **are entirely your own**.  \n",
    "\n",
    "---\n",
    "\n",
    "Before we begin, let's load a few packages that we might find useful."
   ]
  },
  {
   "cell_type": "code",
   "execution_count": 1,
   "metadata": {
    "collapsed": true
   },
   "outputs": [],
   "source": [
    "import numpy as np\n",
    "from scipy import stats\n",
    "import matplotlib.pyplot as plt\n",
    "from collections import defaultdict"
   ]
  },
  {
   "cell_type": "markdown",
   "metadata": {},
   "source": [
    "---\n",
    "\n",
    "<img src='https://www.explainxkcd.com/wiki/images/9/9a/computers_vs_humans.png' style=\"width: 500px;\"/>\n",
    "\n",
    "## N-armed bandit\n",
    "\n",
    "As discussed in class, the N-armed bandit describes the following problem. There is a gambler (\"agent\") who has the option to play one of N slot machines. The agent can switch between machines, but of course would like to play the one with the highest probability of winning. Alas, these probabilities are unknown... ***for now!***\n",
    "\n",
    "### Learning the probabilities for each of the bandit's N arms\n",
    "\n",
    "Initialize a dictionary for keeping track of our best estimates of each lever's value, and the number of times we have pulled each lever.  We should also leave our code general to see how the number of options (levers to pull) affects how quickly we can learn."
   ]
  },
  {
   "cell_type": "code",
   "execution_count": 5,
   "metadata": {},
   "outputs": [
    {
     "name": "stdout",
     "output_type": "stream",
     "text": [
      "[0, 1, 2]\n"
     ]
    }
   ],
   "source": [
    "N = 3\n",
    "actions = list(range(N))\n",
    "Q = defaultdict(float)\n",
    "Nsa = defaultdict(int)\n",
    "Nwin = defaultdict(int)\n",
    "print(actions)"
   ]
  },
  {
   "cell_type": "markdown",
   "metadata": {},
   "source": [
    "In general, we will need a policy for each state, which could be initialized as a random policy:\n",
    "```\n",
    "policy = {s : random action for s in states}\n",
    "```\n",
    "\n",
    "But here we just want something to return a random action.  Finish this function to pick a random action for us."
   ]
  },
  {
   "cell_type": "code",
   "execution_count": 18,
   "metadata": {},
   "outputs": [],
   "source": [
    "def random_policy(actions):\n",
    "    '''Return a random action (uniform random!)'''\n",
    "    \n",
    "    policy = np.random.choice(actions)\n",
    "    return policy"
   ]
  },
  {
   "cell_type": "markdown",
   "metadata": {},
   "source": [
    "We need to represent the result of the action of pulling a given lever.  So we need probabilities for each.  Let's use the ones from class for now, and write a function to return a win (+1) or loss (+0) with those probabilities, based on which lever we pull (`action`):"
   ]
  },
  {
   "cell_type": "code",
   "execution_count": 47,
   "metadata": {
    "collapsed": true
   },
   "outputs": [],
   "source": [
    "p_levers = [0.3, 0.5, 0.8]\n",
    "\n",
    "def result(action, p_levers):\n",
    "    ''' Return a win (+1) with probability p_levers for the \n",
    "    lever pulled, and a loss (+0) with probability 1-p_levers[action].\n",
    "    action = which lever you pull (index within p_levers)\n",
    "    '''\n",
    "    p_win = p_levers[action]\n",
    "    return np.random.choice([0,1], p = [1-p_win, p_win])\n",
    "    "
   ]
  },
  {
   "cell_type": "markdown",
   "metadata": {},
   "source": [
    "**First, consider the following:**  What is the best you could hope to do, on average, if you *knew* what the probabilities of winning are on any given slot machine?  That is, what is you knew `p_levers`?\n",
    "\n",
    "We could win 80% of the time.\n",
    "\n",
    "<br>\n",
    "\n",
    "### Training\n",
    "\n",
    "Let's run 10 training episodes and see what we get. First, set the random seed so at least for the first step here, we will all be on the same page.\n",
    "\n",
    "For now, save the results of each training episode in a list, along with the reward from each episode."
   ]
  },
  {
   "cell_type": "code",
   "execution_count": 41,
   "metadata": {},
   "outputs": [],
   "source": [
    "np.random.seed(3202)\n",
    "\n",
    "levers = []\n",
    "rewards = []\n",
    "for k in range(1000):\n",
    "    choice = random_policy(actions)        # pick a lever to pull\n",
    "    resultant = result(choice, p_levers)   # what is the result of that pull?\n",
    "    levers.append(choice)\n",
    "    rewards.append(resultant)"
   ]
  },
  {
   "cell_type": "markdown",
   "metadata": {},
   "source": [
    "**The important question:** What are our estimates of the expected utility for each lever?  That is, what are our best estimates of $Q(0)$, $Q(1)$ and $Q(2)$ after this brief training period?\n",
    "\n",
    "Note that we can obtain the total number of times lever 0 was pulled as follows:"
   ]
  },
  {
   "cell_type": "code",
   "execution_count": 42,
   "metadata": {},
   "outputs": [
    {
     "name": "stdout",
     "output_type": "stream",
     "text": [
      "defaultdict(<class 'int'>, {0: 350})\n"
     ]
    }
   ],
   "source": [
    "Nsa[0] = sum([l==0 for l in levers])\n",
    "print(Nsa)"
   ]
  },
  {
   "cell_type": "markdown",
   "metadata": {},
   "source": [
    "and we can get the number of times lever 0 resulted in a win like so:"
   ]
  },
  {
   "cell_type": "code",
   "execution_count": 43,
   "metadata": {},
   "outputs": [
    {
     "name": "stdout",
     "output_type": "stream",
     "text": [
      "99\n"
     ]
    }
   ],
   "source": [
    "Nwin[0] = sum([l==0 and r==1 for l,r in zip(levers,rewards)])\n",
    "print(Nwin[0])"
   ]
  },
  {
   "cell_type": "markdown",
   "metadata": {},
   "source": [
    "which makes our best guess for the expected utility of lever 0:"
   ]
  },
  {
   "cell_type": "code",
   "execution_count": 48,
   "metadata": {},
   "outputs": [
    {
     "name": "stdout",
     "output_type": "stream",
     "text": [
      "0.282857142857\n"
     ]
    }
   ],
   "source": [
    "Q[0] = Nwin[0]/Nsa[0] #our best guess for expected utility of our choices\n",
    "print(Q[0])"
   ]
  },
  {
   "cell_type": "markdown",
   "metadata": {},
   "source": [
    "Update the counters `Nwin` and `Nsa`, and calculate our best estimates of `Q` for levers 1 and 2 as well.  How close are these to the actual values?  Should we continue to **explore** or start **exploiting** at this point?"
   ]
  },
  {
   "cell_type": "code",
   "execution_count": 49,
   "metadata": {
    "collapsed": true
   },
   "outputs": [],
   "source": [
    "for s in actions:\n",
    "    Nsa[s] = sum([l == s for l in levers])\n",
    "    Nwin[s] = sum([l == s and r == l for l,r in zip(levers, rewards)])\n",
    "    Q[s] = Nwin[s]/Nsa[s]"
   ]
  },
  {
   "cell_type": "code",
   "execution_count": 53,
   "metadata": {},
   "outputs": [
    {
     "data": {
      "text/plain": [
       "'\\n    Nwin[1] = sum([l==1 and r == 1 for l,r in zip(levers, rewards)])\\n    Nwin[2] = sum([l==2 and r == 1 for l,r in zip(levers, rewards)])\\n\\n    Nsa[1] = sum([l==1 for l in levers])\\n    Nsa[2] = sum([l==2 for l in levers])\\n\\n    Q[1] = Nwin[1]/Nsa[1]\\n    Q[2] = Nwin[2]/Nsa[2]\\n'"
      ]
     },
     "execution_count": 53,
     "metadata": {},
     "output_type": "execute_result"
    }
   ],
   "source": [
    "'''\n",
    "    Nwin[1] = sum([l==1 and r == 1 for l,r in zip(levers, rewards)])\n",
    "    Nwin[2] = sum([l==2 and r == 1 for l,r in zip(levers, rewards)])\n",
    "\n",
    "    Nsa[1] = sum([l==1 for l in levers])\n",
    "    Nsa[2] = sum([l==2 for l in levers])\n",
    "\n",
    "    Q[1] = Nwin[1]/Nsa[1]\n",
    "    Q[2] = Nwin[2]/Nsa[2]\n",
    "'''"
   ]
  },
  {
   "cell_type": "markdown",
   "metadata": {},
   "source": [
    "#### Let's actively learn!\n",
    "\n",
    "First, we need to include an online estimate of `Q` for each state, that updates `Nsa`, `Nwin` and `Q` as the training progresses, as opposed to after the fact. That is, we need to calculate these things **within** the 'for' loop as opposed to outside of it.  Make sure that you again set the random seed the same as the first time you did this training, so you can check that the results are the same with your new online updating of `Q`.\n",
    "\n",
    "**Potentially useful fact:**  in Python, `x[-1]` returns the *last* item of a list `x`."
   ]
  },
  {
   "cell_type": "code",
   "execution_count": 55,
   "metadata": {},
   "outputs": [
    {
     "name": "stdout",
     "output_type": "stream",
     "text": [
      "defaultdict(<class 'float'>, {0: 0.0, 2: 0.8571428571428571, 1: 0.5})\n"
     ]
    }
   ],
   "source": [
    "np.random.seed(3202)\n",
    "\n",
    "Q = defaultdict(float)       # re-initializing each time we train\n",
    "Nsa = defaultdict(int)\n",
    "Nwin = defaultdict(int)\n",
    "levers = []\n",
    "rewards = []\n",
    "\n",
    "for k in range(10):\n",
    "    levers.append(random_policy(actions))          # pick a lever to pull\n",
    "    rewards.append(result(levers[-1], p_levers))   # what is the result of that pull?\n",
    "    Nsa[levers[-1]] += 1                           # update Nsa\n",
    "    Nwin[levers[-1]] += rewards[-1]                # update Nwin\n",
    "    Q[levers[-1]] = Nwin[levers[-1]] / Nsa[levers[-1]]   # update Q\n",
    "    \n",
    "print(Q)"
   ]
  },
  {
   "cell_type": "markdown",
   "metadata": {},
   "source": [
    "#### Subroutinization for training sampling\n",
    "\n",
    "Before we go any further, we really ought to subroutinize that training loop above.  We also should add some measure of how well we are doing.  So we can (1) track the rewards we've gotten, and (2) use the mean of the last 100 rewards as a measure of how good our strategy is. And, after the 100th training episode, we can keep track of this measure as the training progresses; if it increases, then we are learning! And that's nice.\n",
    "\n",
    "The inputs to our training function are the number of training episodes to run, the available `actions` and `p_levers`, and the outputs should be the counters `Nsa` and `Nwin`, the latest utility estimates `Q` and our time series of mean rewards, `avg_reward`. Finish off this function below."
   ]
  },
  {
   "cell_type": "code",
   "execution_count": 56,
   "metadata": {
    "collapsed": true
   },
   "outputs": [],
   "source": [
    "def run_training(n_train, actions, p_levers):\n",
    "    \n",
    "    assert n_train >= 100, 'Need at least 100 training episodes'\n",
    "    \n",
    "    Q = defaultdict(float)       # re-initializing\n",
    "    Nsa = defaultdict(int)\n",
    "    Nwin = defaultdict(int)\n",
    "    levers = []                  # not actually necessary to keep track of\n",
    "    rewards = []                 # to calculate running average reward\n",
    "    avg_reward = []              # running average reward\n",
    "    \n",
    "    for k in range(n_train):\n",
    "        levers.append(random_policy(actions))          # pick a lever to pull\n",
    "        rewards.append(result(levers[-1], p_levers))   # what is the result of that pull?\n",
    "        Nsa[levers[-1]] += 1                           # update Nsa\n",
    "        Nwin[levers[-1]] += rewards[-1]                # update Nwin\n",
    "        Q[levers[-1]] = Nwin[levers[-1]] / Nsa[levers[-1]]   # update Q\n",
    "        \n",
    "        #Here is where the Q-Learning, or the TD or ADP equations would go\n",
    "        # If we are beyond the 100th training episode,\n",
    "        # then update the running average reward\n",
    "        if k >= 100:\n",
    "            avg_reward.append(np.mean(rewards[-100:]))\n",
    "\n",
    "    return Nsa, Nwin, Q, avg_reward"
   ]
  },
  {
   "cell_type": "markdown",
   "metadata": {},
   "source": [
    "Run the training!"
   ]
  },
  {
   "cell_type": "code",
   "execution_count": 57,
   "metadata": {
    "collapsed": true
   },
   "outputs": [],
   "source": [
    "n_train = 10000\n",
    "Nsa, Nwin, Q, avg_reward = run_training(n_train, actions, p_levers)"
   ]
  },
  {
   "cell_type": "markdown",
   "metadata": {},
   "source": [
    "**A question of interest:** What is the expected reward of any given trial?\n",
    "\n",
    "**[A]** You can calculate this using the Law of Total Probability or estimate by running the above training simulation for many iterations and making an estimate of the probability of winning, regardless of lever pulled. Do that now!"
   ]
  },
  {
   "cell_type": "code",
   "execution_count": 58,
   "metadata": {},
   "outputs": [
    {
     "name": "stdout",
     "output_type": "stream",
     "text": [
      "Expected reward is: 0.5302\n"
     ]
    }
   ],
   "source": [
    "print('Expected reward is: {}'.format(sum(Nwin.values())/n_train))"
   ]
  },
  {
   "cell_type": "markdown",
   "metadata": {},
   "source": [
    "**[B]** Let's also make a plot of the running average for mean reward as the training progresses."
   ]
  },
  {
   "cell_type": "code",
   "execution_count": 59,
   "metadata": {},
   "outputs": [
    {
     "data": {
      "image/png": "[encoded data removed]",
      "text/plain": [
       "<matplotlib.figure.Figure at 0x1c1c2a80eb8>"
      ]
     },
     "metadata": {},
     "output_type": "display_data"
    }
   ],
   "source": [
    "episodes = list(range(100,100+len(avg_reward)))  # episodes we have output for\n",
    "plt.plot(episodes, avg_reward)\n",
    "plt.xlabel('Training episode')\n",
    "plt.ylabel('Running mean reward')\n",
    "plt.show()"
   ]
  },
  {
   "cell_type": "markdown",
   "metadata": {},
   "source": [
    "**Consider**:  how should the number from **A** and the plot from **B** be related?"
   ]
  },
  {
   "cell_type": "markdown",
   "metadata": {},
   "source": [
    "### $\\epsilon$-greedy agent\n",
    "\n",
    "So far, the agent playing this slot machine game has not been trying to *improve* their strategy based on the estimates of `Q`.  So let's fix that.\n",
    "\n",
    "Let's implement an $\\epsilon$-greedy agent. Below is a function to for selecting an $\\epsilon$-greedy action, with a default $\\epsilon$ (probability of acting randomly) of 0.1."
   ]
  },
  {
   "cell_type": "code",
   "execution_count": 60,
   "metadata": {
    "collapsed": true
   },
   "outputs": [],
   "source": [
    "def epsilon_greedy_action(actions, Q, epsilon=0.1):\n",
    "    '''Return a random action or the one with highest utility (so far).\n",
    "    Also will return a random action if we have not observed anything\n",
    "    to estimate Q yet.\n",
    "    '''\n",
    "    if (np.random.uniform()<=epsilon) or (len(Q)==0):\n",
    "        action = random_policy(actions)\n",
    "    else:\n",
    "        action = max([(p,a) for (a, p) in Q.items()])[1]\n",
    "    return action"
   ]
  },
  {
   "cell_type": "markdown",
   "metadata": {},
   "source": [
    "Revise the `run_training` routine ever so slightly so that instead of getting a random action for which lever to pull, the agent chooses an `epsilon_greedy_action`."
   ]
  },
  {
   "cell_type": "code",
   "execution_count": 61,
   "metadata": {
    "collapsed": true
   },
   "outputs": [],
   "source": [
    "def run_smart_training(n_train, actions, p_levers):\n",
    "    assert n_train >= 100, 'Need at least 100 training episodes'\n",
    "    \n",
    "    Q = defaultdict(float)       # re-initializing\n",
    "    Nsa = defaultdict(int)\n",
    "    Nwin = defaultdict(int)\n",
    "    levers = []                  # not actually necessary to keep track of\n",
    "    rewards = []                 # to calculate running average reward\n",
    "    avg_reward = []              # running average reward\n",
    "    \n",
    "    for k in range(n_train):\n",
    "        levers.append(epsilon_greedy_action(actions, Q))          # pick a lever to pull\n",
    "        rewards.append(result(levers[-1], p_levers))   # what is the result of that pull?\n",
    "        Nsa[levers[-1]] += 1                           # update Nsa\n",
    "        Nwin[levers[-1]] += rewards[-1]                # update Nwin\n",
    "        Q[levers[-1]] = Nwin[levers[-1]] / Nsa[levers[-1]]   # update Q\n",
    "        \n",
    "        #Here is where the Q-Learning, or the TD or ADP equations would go\n",
    "        # If we are beyond the 100th training episode,\n",
    "        # then update the running average reward\n",
    "        if k >= 100:\n",
    "            avg_reward.append(np.mean(rewards[-100:]))\n",
    "\n",
    "    return Nsa, Nwin, Q, avg_reward"
   ]
  },
  {
   "cell_type": "markdown",
   "metadata": {},
   "source": [
    "Now re-run the training with an $\\epsilon$-greedy agent using the constant $\\epsilon = 0.1$. Do 10,000 training episodes and report the expected reward. Generate another plot showing the running average reward as training progresses."
   ]
  },
  {
   "cell_type": "code",
   "execution_count": 62,
   "metadata": {},
   "outputs": [
    {
     "name": "stdout",
     "output_type": "stream",
     "text": [
      "Expected reward is: 0.7672\n"
     ]
    },
    {
     "data": {
      "image/png": "[encoded data removed]",
      "text/plain": [
       "<matplotlib.figure.Figure at 0x1c1c2b82518>"
      ]
     },
     "metadata": {},
     "output_type": "display_data"
    }
   ],
   "source": [
    "# Run the training\n",
    "n_train = 10000\n",
    "Nsa, Nwin, Q, avg_reward = run_smart_training(n_train, actions, p_levers)\n",
    "\n",
    "# Print the expected reward\n",
    "print('Expected reward is: {}'.format(sum(Nwin.values())/n_train))\n",
    "\n",
    "# Make a plot of the running average reward\n",
    "episodes = list(range(100,100+len(avg_reward)))  # episodes we have output for\n",
    "plt.plot(episodes, avg_reward)\n",
    "plt.xlabel('Training episode')\n",
    "plt.ylabel('Running mean reward')\n",
    "plt.show()"
   ]
  },
  {
   "cell_type": "markdown",
   "metadata": {},
   "source": [
    "**Some questions:**\n",
    "\n",
    "1. How well does our $\\epsilon$-greedy agent do?\n",
    "1. How well theoretically *could* our agent do, if it knew exactly what the probabilities of each lever paying out are?"
   ]
  },
  {
   "cell_type": "markdown",
   "metadata": {},
   "source": [
    "#### $\\epsilon$-decreasing greedy agent\n",
    "\n",
    "Let's see if we can get closer to that theoretical upper limit, where the agent figures out quickly which lever is the best and starts pulling that one sooner.\n",
    "\n",
    "To do this, we can implement an $\\epsilon$-decreasing agent, where we pick some functional form for $\\epsilon$ that decreases as the training progresses.  You may want to play around with different forms of this function, but this fairly simple problem does not require anything too fancy.\n",
    "\n",
    "We can implement this $\\epsilon$-decreasing within the `run_smart_training` function by modifying the `epsilon` argument that is fed into `epsilon_greedy_action`.  Call this version of your training routine `run_smarter_training`, and make the code modifications below."
   ]
  },
  {
   "cell_type": "code",
   "execution_count": 64,
   "metadata": {},
   "outputs": [],
   "source": [
    "def run_smarter_training(n_train, actions, p_levers):\n",
    "    assert n_train >= 100, 'Need at least 100 training episodes'\n",
    "    \n",
    "    Q = defaultdict(float)       # re-initializing\n",
    "    Nsa = defaultdict(int)\n",
    "    Nwin = defaultdict(int)\n",
    "    levers = []                  # not actually necessary to keep track of\n",
    "    rewards = []                 # to calculate running average reward\n",
    "    avg_reward = []              # running average reward\n",
    "    epsilon = 0.1\n",
    "    for k in range(n_train):\n",
    "        levers.append(epsilon_greedy_action(actions, Q, epsilon))          # pick a lever to pull\n",
    "        rewards.append(result(levers[-1], p_levers))   # what is the result of that pull?\n",
    "        Nsa[levers[-1]] += 1                           # update Nsa\n",
    "        Nwin[levers[-1]] += rewards[-1]                # update Nwin\n",
    "        Q[levers[-1]] = Nwin[levers[-1]] / Nsa[levers[-1]]   # update Q\n",
    "        \n",
    "        #Here is where the Q-Learning, or the TD or ADP equations would go\n",
    "        # If we are beyond the 100th training episode,\n",
    "        # then update the running average reward\n",
    "        epsilon -= 0.01\n",
    "        if k >= 100:\n",
    "            avg_reward.append(np.mean(rewards[-100:]))\n",
    "\n",
    "    return Nsa, Nwin, Q, avg_reward"
   ]
  },
  {
   "cell_type": "markdown",
   "metadata": {
    "collapsed": true
   },
   "source": [
    "Now train this new and improved agent!  How well can the $\\epsilon$-decreasing agent do, relative to our theoretical upper limit?"
   ]
  },
  {
   "cell_type": "code",
   "execution_count": 65,
   "metadata": {},
   "outputs": [
    {
     "name": "stdout",
     "output_type": "stream",
     "text": [
      "Expected reward is: 0.7993\n"
     ]
    },
    {
     "data": {
      "image/png": "[encoded data removed]",
      "text/plain": [
       "<matplotlib.figure.Figure at 0x1c1c2a80630>"
      ]
     },
     "metadata": {},
     "output_type": "display_data"
    }
   ],
   "source": [
    "# Run the training\n",
    "n_train = 10000\n",
    "Nsa, Nwin, Q, avg_reward = run_smarter_training(n_train, actions, p_levers)\n",
    "\n",
    "# Print the expected reward\n",
    "print('Expected reward is: {}'.format(sum(Nwin.values())/n_train))\n",
    "\n",
    "# Make a plot of the running average reward\n",
    "episodes = list(range(100,100+len(avg_reward)))  # episodes we have output for\n",
    "plt.plot(episodes, avg_reward)\n",
    "plt.xlabel('Training episode')\n",
    "plt.ylabel('Running mean reward')\n",
    "plt.show()"
   ]
  },
  {
   "cell_type": "markdown",
   "metadata": {},
   "source": [
    "### Other ways to make things more complicated\n",
    "\n",
    "If you've made it this far, there are a couple extra ways in which we can spice things up and make the problem more difficult.\n",
    "\n",
    "1. Try using more levers.\n",
    "1. Try incentivizing the agent to explore all of the levers a set number of times (i.e., implement an **exploration function**).\n",
    "1. Try making it tougher for the agent to tell which lever is better than any others (i.e., make the `p_levers` values closer together)."
   ]
  }
 ],
 "metadata": {
  "kernelspec": {
   "display_name": "Python 3",
   "language": "python",
   "name": "python3"
  },
  "language_info": {
   "codemirror_mode": {
    "name": "ipython",
    "version": 3
   },
   "file_extension": ".py",
   "mimetype": "text/x-python",
   "name": "python",
   "nbconvert_exporter": "python",
   "pygments_lexer": "ipython3",
   "version": "3.6.1"
  }
 },
 "nbformat": 4,
 "nbformat_minor": 2
}
