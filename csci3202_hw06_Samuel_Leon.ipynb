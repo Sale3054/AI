{
 "cells": [
  {
   "cell_type": "markdown",
   "metadata": {},
   "source": [
    "<a id='top'></a>\n",
    "\n",
    "# CSCI 3202, Spring 2018:  Assignment 6\n",
    "### Due:  Friday 27 April 2018 by 12:00 PM\n",
    "\n",
    "### Your name: Samuel Leon\n",
    "\n",
    "---\n",
    "\n",
    "**Note:** Some packages to load, helper functions and unit tests are defined at [the bottom of this notebook](#helpers). They're also defined up here, because I care.\n",
    "\n",
    "Shortcuts:  [top](#top) || [1](#p1) | [1a](#p1a) | [1b](#p1b) | [1c](#p1c) | [1d](#p1d) | [1e](#p1e) | [1f](#p1f) | [1g](#p1g) | [1h](#p1h) | [1i](#p1i) || [2](#p2) | [2a](#p2a) | [2b](#p2b) | [2c](#p2c) | [2d](#p2d) | [2e](#p2e) | [2f](#p2f) | [2g](#p2g) || [3](#p3) | [3a](#p3a) | [3b](#p3b) | [3c](#p3c) | [3d](#p3d) | [3e](#p3e) || [helpers](#helpers)"
   ]
  },
  {
   "cell_type": "markdown",
   "metadata": {},
   "source": [
    "<br><br><br>\n",
    "\n",
    "<a id='helpers'></a>\n",
    "\n",
    "---\n",
    "\n",
    "[Back to top](#top)\n",
    "\n",
    "## Some things that might be useful\n",
    "\n",
    "Easiest way to start:  Click this cell, go to \"Cell\" in the toolbar above, and click \"Run All Below\""
   ]
  },
  {
   "cell_type": "code",
   "execution_count": 1,
   "metadata": {
    "collapsed": true
   },
   "outputs": [],
   "source": [
    "import numpy as np\n",
    "import pandas as pd\n",
    "import matplotlib.pyplot as plt\n",
    "from scipy import stats\n",
    "import unittest\n",
    "\n",
    "def whichbin(x, left_edges, dx):\n",
    "    '''Function to return the bin number (starting from 0)\n",
    "    that the water balloon is. arguments include `x`, the\n",
    "    measured position of the balloon, and `left_edges`, an\n",
    "    array of the x-coordinates of the left edges of the bins.\n",
    "    Returns False if balloon is outside the domain.\n",
    "    '''\n",
    "    this_one = [k for k in range(len(left_edges)) if x >= left_edges[k] and x <= left_edges[k]+dx]\n",
    "    return this_one[0] if this_one else False"
   ]
  },
  {
   "cell_type": "markdown",
   "metadata": {},
   "source": [
    "## Unit tests"
   ]
  },
  {
   "cell_type": "code",
   "execution_count": 2,
   "metadata": {
    "collapsed": true
   },
   "outputs": [],
   "source": [
    "class Tests_Problem2(unittest.TestCase):\n",
    "    def setUp(self):\n",
    "        nrow = 3\n",
    "        ncol = 3\n",
    "        default_reward = -0.2\n",
    "        discount = 0.5\n",
    "        terminal = {(1,3):-1, (1,2):2}\n",
    "        self.mdp = MDP(nrow, ncol, terminal, default_reward, discount)\n",
    "    def test_actions_some(self):\n",
    "        self.assertEqual(set(self.mdp.actions((2,2))) == {'N','S','E','W'}, True)\n",
    "    def test_actions_few(self):\n",
    "        self.assertEqual(set(self.mdp.actions((1,1))) == {'N','E'}, True)\n",
    "    def test_actions_none(self):\n",
    "        self.assertEqual(set(self.mdp.actions((1,2))) == {None}, True)\n",
    "    def test_reward_t(self):\n",
    "        self.assertEqual(self.mdp.reward((1,2)) == 2, True)\n",
    "    def test_reward_nt(self):\n",
    "        self.assertEqual(self.mdp.reward((2,2)) == -0.2, True)\n",
    "    def test_result_nt(self):\n",
    "        self.assertEqual(self.mdp.result((1,1), 'N') == (1,2), True)"
   ]
  },
  {
   "cell_type": "code",
   "execution_count": 3,
   "metadata": {
    "collapsed": true
   },
   "outputs": [],
   "source": [
    "import numpy as np\n",
    "import pandas as pd\n",
    "import matplotlib.pyplot as plt\n",
    "from scipy import stats\n",
    "import unittest\n",
    "\n",
    "\n",
    "def argmin(seq, fn): #from the AIMA documentation\n",
    "    \"\"\"Return an element with lowest fn(seq[i]) score; tie goes to first one.\n",
    "    >>> argmin(['one', 'to', 'three'], len)\n",
    "    'to'\n",
    "    \"\"\"\n",
    "    best = seq[0]; best_score = fn(best)\n",
    "    for x in seq:\n",
    "        x_score = fn(x)\n",
    "        if x_score < best_score:\n",
    "            best, best_score = x, x_score\n",
    "    return best\n",
    "\n",
    "def argmax(seq, fn):\n",
    "    \"\"\"Return an element with highest fn(seq[i]) score; tie goes to first one.\n",
    "    >>> argmax(['one', 'to', 'three'], len)\n",
    "    'three'\n",
    "    \"\"\"\n",
    "    return argmin(seq, lambda x: -fn(x))\n",
    "\n",
    "\n",
    "def whichbin(x, left_edges, dx):\n",
    "    '''Function to return the bin number (starting from 0)\n",
    "    that the water balloon is. arguments include `x`, the\n",
    "    measured position of the balloon, and `left_edges`, an\n",
    "    array of the x-coordinates of the left edges of the bins.\n",
    "    Returns False if balloon is outside the domain.\n",
    "    '''\n",
    "    this_one = [k for k in range(len(left_edges)) if x >= left_edges[k] and x <= left_edges[k]+dx]\n",
    "    return this_one[0] if this_one else False"
   ]
  },
  {
   "cell_type": "markdown",
   "metadata": {},
   "source": [
    "---\n",
    "\n",
    "<a id='p1'></a>[Back to top](#top)\n",
    "\n",
    "<img src=\"http://www.cs.colorado.edu/~tonyewong/home/resources/hw06_waterballoon.png\" style=\"width: 550px;\"/>\n",
    "\n",
    "## Problem 1:  Water balloon tracking\n",
    "\n",
    "Suppose you are walking down the street with your friend, when your sensors pick up a dangerous ***water balloon*** incoming! To track the water balloon and update your assessment of the probabilities that you or your friend will be hit, you think fast and implement a Hidden Markov Model. Unfortunately, you and your friend are also so busy implementing this model that you don't simply move out of the way (i.e., assume you are both stationary throughout this problem).\n",
    "\n",
    "First, you discretize the environment by using bins in the x-direction of width $\\Delta x = 0.1$ meters and time steps of 1/20 of a second. You do not need to consider any motion in the z-direction. The balloon starts 20 meters away in the y-direction at $(x_0, y_0)=(0.25,20)$, and is moving toward you at constant speed of $v = 2$ meters/second in the -y direction.\n",
    "\n",
    "Since we are dealing with a discretized world, it might be easier to work with the actual **bin numbers** as opposed to decimal values for x.  And we can use the helper function `whichbin` to determine which bin numbers correspond to which raw x coordinate values. So let's keep track of $(\\text{bin number}, y)$ tuple pairs as coordinates, where it should be clear from context whether we are referring to actual $x$ position or bin position.\n",
    "\n",
    "Now, in addition to this constant movement towards you, the water balloon also experiences some random fluctuations in its $x$ coordinate along its path. If the balloon is in bin $i$ in time step $t$, then in time step $t+1$ the balloon is:\n",
    "* still on course (in bin $i$) with probability $0.7$,\n",
    "* in either of the adjacent bins ($i\\pm 1$) with probability $0.1$, and\n",
    "* in either of the bins 2 away ($i\\pm 2$) with probability $0.05$.\n",
    "\n",
    "Your torso occupies the region $0 \\le x \\le 0.3$, and your friend occupies the region $0.4 \\le x \\le 0.7$. So there are exactly 3 bins that correspond to hitting you, and 3 that correspond to hitting your friend. Assume that when the balloon reaches $y=0$, if it is within either of these $x$ regions, then it will hit you or your friend. \n",
    "\n",
    "Your sensors (i.e., perception) are fairly inaccurate. When you measure the balloon's x-position, if the water balloon is actually in bin $i$, then:\n",
    "* you get it exactly correct 5/17 of the time,\n",
    "* you measure bins $i\\pm 1$ each with probability 3/17,\n",
    "* you measure bins $i\\pm 2$ each with probability 2/17, and\n",
    "* you measure bins $i\\pm 3$ each with probability 1/17.\n",
    "\n",
    "<br>\n",
    "\n",
    "<a/ id='p1a'></a>\n",
    "\n",
    "### (1a) \n",
    "\n",
    "First let's set up the discretized environment."
   ]
  },
  {
   "cell_type": "code",
   "execution_count": 4,
   "metadata": {
    "collapsed": true
   },
   "outputs": [],
   "source": [
    "xs = {-3:1/17, -2:2/17, -1:3/17, 0:5/17, 1:3/17, 2:2/17, 3:1/17}\n",
    "xb = {-2:0.05, -1:0.1, 0:0.7, 1:0.1, 2:0.05}"
   ]
  },
  {
   "cell_type": "code",
   "execution_count": 5,
   "metadata": {},
   "outputs": [
    {
     "name": "stdout",
     "output_type": "stream",
     "text": [
      "[ -1.00000000e+00  -9.00000000e-01  -8.00000000e-01  -7.00000000e-01\n",
      "  -6.00000000e-01  -5.00000000e-01  -4.00000000e-01  -3.00000000e-01\n",
      "  -2.00000000e-01  -1.00000000e-01  -2.22044605e-16   1.00000000e-01\n",
      "   2.00000000e-01   3.00000000e-01   4.00000000e-01   5.00000000e-01\n",
      "   6.00000000e-01   7.00000000e-01   8.00000000e-01   9.00000000e-01\n",
      "   1.00000000e+00   1.10000000e+00   1.20000000e+00   1.30000000e+00\n",
      "   1.40000000e+00]\n",
      "(12, 20)\n",
      "25\n"
     ]
    }
   ],
   "source": [
    "v = 2                        # speed of the water balloon\n",
    "dt = 1/20                    # time step (seconds)\n",
    "dx = 0.1                     # bin width along x\n",
    "xb = np.arange(-1, 1.5, dx)  # x-coordinates of left-edges of bins\n",
    "n_bins = len(xb)             # total number of bins\n",
    "initial_location = (whichbin(0.25, xb, dx), 20)  # initial (bin, y) location of balloon\n",
    "print(xb)\n",
    "print(initial_location)\n",
    "print(n_bins)"
   ]
  },
  {
   "cell_type": "code",
   "execution_count": 6,
   "metadata": {
    "collapsed": true
   },
   "outputs": [],
   "source": [
    "me = (0, 0.3)\n",
    "friend = (0.4, 0.7)"
   ]
  },
  {
   "cell_type": "markdown",
   "metadata": {},
   "source": [
    "Which bin numbers would the balloon need to be in in order to hit you at $y=0$?  What about your friend?  Store this information in some kind of variable - you may need to use it later.\n",
    "\n",
    "Given the time step, speed in the y-direction, and initial distance of the water balloon, how many time steps, $T$, are there until the balloon reaches $y=0$?"
   ]
  },
  {
   "cell_type": "code",
   "execution_count": 7,
   "metadata": {},
   "outputs": [
    {
     "name": "stdout",
     "output_type": "stream",
     "text": [
      "It will take 200.0 time steps to reach the ground at y = 0.\n"
     ]
    }
   ],
   "source": [
    "# the starting y_0 position of the balloon is 20 meters away\n",
    "#if the balloon is 20 meters away, and we are moving at 2 meters/ second, then we need to do some conversions\n",
    "#there are 20 time steps per second\n",
    "#it will take 20/2 or 10 seconds to reach the ground, therefore:\n",
    "T = (20/2)*20\n",
    "print(\"It will take {} time steps to reach the ground at y = 0.\".format(T))"
   ]
  },
  {
   "cell_type": "markdown",
   "metadata": {},
   "source": [
    "<a/ id='p1b'></a>\n",
    "\n",
    "### (1b)\n",
    "\n",
    "Set up a `Balloon` class.  Include attributes for:\n",
    "* balloon speed\n",
    "* the probabilities associated with changes in the balloon's x-position (by bin) from one time step to the next (i.e., the Markov transition probabilities)\n",
    "* the current balloon location\n",
    "* the time step for the simulation\n",
    "\n",
    "and methods for:\n",
    "* updating the x- and y-positions of the balloon between time steps. The x-position that you track should be the bin.\n",
    "* declaring (through Boolean output) whether or not the balloon has arrived at $y=0$. This one might require you to carefully account for any floating point operations that lead to a non-integer y-position being compared against the integer 0."
   ]
  },
  {
   "cell_type": "code",
   "execution_count": null,
   "metadata": {},
   "outputs": [],
   "source": []
  },
  {
   "cell_type": "code",
   "execution_count": 8,
   "metadata": {},
   "outputs": [
    {
     "name": "stdout",
     "output_type": "stream",
     "text": [
      "12 20\n",
      "dict_keys([1, 3, 5]) dict_values([2, 4, 6])\n"
     ]
    }
   ],
   "source": [
    "x, y = (whichbin(0.25, xb, dx), 20)\n",
    "print(x, y)\n",
    "\n",
    "dict_t = {1:2, 3:4, 5:6}\n",
    "print(dict_t.keys(), dict_t.values())"
   ]
  },
  {
   "cell_type": "code",
   "execution_count": 9,
   "metadata": {
    "collapsed": true
   },
   "outputs": [],
   "source": [
    "class Balloon:\n",
    "    def __init__(self, x = 0.25, y = 20, dx = 1/20, v = 2):\n",
    "        self.v = v # (m/s)\n",
    "        self.dx = dx\n",
    "        self.dict_moves = {-2:0.05, -1:0.1, 0:0.7, 1:0.1, 2:0.05}\n",
    "        self.dict_observed = {-3:1/17, -2:2/17, -1:3/17, 0:5/17, 1:3/17, 2:2/17, 3:1/17}\n",
    "        \n",
    "        xb = np.arange(-1, 1.5, 0.1) \n",
    "        self.x, self.y = (whichbin(0.25, xb, 0.1), 20)\n",
    "        self.num_steps = 0\n",
    "        \n",
    "    def step(self):\n",
    "        self.num_steps += 1\n",
    "        self.y -= (self.v*self.dx)\n",
    "        self.y = round(self.y, 2)\n",
    "        choice = np.random.choice(a = list(self.dict_moves.keys()), p = list(self.dict_moves.values()))\n",
    "        self.x += choice\n",
    "        return (self.x, self.y)\n",
    "    \n",
    "    def balloon_at_zero(self):\n",
    "        if self.y == 0: return True\n",
    "        else: return False"
   ]
  },
  {
   "cell_type": "code",
   "execution_count": 10,
   "metadata": {},
   "outputs": [
    {
     "name": "stdout",
     "output_type": "stream",
     "text": [
      "25.0% of all stuff was out of bounds.\n"
     ]
    }
   ],
   "source": [
    "stuffList = []\n",
    "for i in range(100):\n",
    "    stuff = Balloon()\n",
    "    x = 1\n",
    "    while not stuff.balloon_at_zero():\n",
    "        stuff.step()\n",
    "    stuffList.append(stuff.x)\n",
    "x = sum([1 for i in range(len(stuffList)) if stuffList[i] > 25 or stuffList[i] < -1.5])\n",
    "print(f\"{x/len(stuffList)*100}% of all stuff was out of bounds.\")"
   ]
  },
  {
   "cell_type": "markdown",
   "metadata": {},
   "source": [
    "<a/ id='p1c'></a>\n",
    "\n",
    "### (1c)\n",
    "\n",
    "Set up a `Sensor` class to represent your ability to measure the balloon's position. Include an attribute for the sensor model probabilities, as well as a method `measure`, to return the measured $(x,y)$ pair as a tuple. The x-coordinate, however, should be the bin that you perceived the balloon to be in."
   ]
  },
  {
   "cell_type": "code",
   "execution_count": 11,
   "metadata": {
    "collapsed": true
   },
   "outputs": [],
   "source": [
    "class Sensor():\n",
    "    def __init__(self, balloon):\n",
    "        self.p_x = balloon.x\n",
    "        self.p_y = balloon.y\n",
    "    \n",
    "    def measure(self):  \n",
    "        p_moves = {-3:1/17, -2:2/17, -1:3/17, 0:5/17, 1:3/17, 2:2/17, 3:1/17}\n",
    "        choice = np.random.choice(a = list(p_moves.keys()), p = list(p_moves.values()))\n",
    "        self.p_x += choice\n",
    "        return (self.p_x, self.p_y)"
   ]
  },
  {
   "cell_type": "code",
   "execution_count": 12,
   "metadata": {},
   "outputs": [
    {
     "data": {
      "text/plain": [
       "(9, 0.0)"
      ]
     },
     "execution_count": 12,
     "metadata": {},
     "output_type": "execute_result"
    }
   ],
   "source": [
    "me = Sensor(stuff)\n",
    "\n",
    "me.measure()"
   ]
  },
  {
   "cell_type": "markdown",
   "metadata": {},
   "source": [
    "<a/ id='p1d'></a>\n",
    "\n",
    "### (1d)\n",
    "\n",
    "Generate a simulated Markov chain sequence of water balloon states (bins along x-direction, $X$) and your corresponding measurements of those states ($E$). Make a plot of these two time series on the same axes, and be sure to include axis labels and a legend. "
   ]
  },
  {
   "cell_type": "code",
   "execution_count": 13,
   "metadata": {
    "collapsed": true
   },
   "outputs": [],
   "source": [
    "test_p = []\n",
    "test_a = []\n",
    "actual=Balloon()\n",
    "while not actual.balloon_at_zero():\n",
    "    perc = Sensor(actual)\n",
    "    test_a.append((actual.x, actual.y))\n",
    "    p_x, p_y = perc.measure()\n",
    "    test_p.append((p_x, p_y))\n",
    "    actual.step()"
   ]
  },
  {
   "cell_type": "code",
   "execution_count": 14,
   "metadata": {
    "scrolled": false
   },
   "outputs": [
    {
     "data": {
      "image/png": "[encoded data removed]",
      "text/plain": [
       "<matplotlib.figure.Figure at 0x241ec0ddef0>"
      ]
     },
     "metadata": {},
     "output_type": "display_data"
    }
   ],
   "source": [
    "import matplotlib.pyplot as plt\n",
    "plt.figure(figsize = (18,10))\n",
    "plt.plot(*zip(*test_p), label = \"Perceived\", color = \"aqua\")\n",
    "plt.plot(*zip(*test_a), label = \"Actual\", color = \"red\")\n",
    "\n",
    "plt.legend([\"Perceived\", \"Actual\"])\n",
    "plt.title(\"Stuff\")\n",
    "\n",
    "plt.title(\"Actual vs Perceived location of Balloon\")\n",
    "plt.xlabel(\"Index location of Bins\")\n",
    "plt.ylabel(\"Height of balloon\")\n",
    "plt.show()"
   ]
  },
  {
   "cell_type": "markdown",
   "metadata": {},
   "source": [
    "<a/ id='p1e'></a>\n",
    "\n",
    "### (1e)\n",
    "\n",
    "Recall that `Forward` filtering updates our estimate of the probability distribution for $X_t$ in light of *all* of the evidence up to time $t$, $E_{1:t}$, as\n",
    "\n",
    "$$f_{1:t} = \\alpha ~ \\texttt{forward}(f_{1:t-1}, E_t)$$\n",
    " \n",
    "and the `Backward` function is a necessary step to update our estimate of the probability distribution for $X_k$ (some $k$ in $[0,t]$) in light of *all* of the evidence that occurred after $k$, $E_{k+1:t}$, as:\n",
    "\n",
    "$$b_{k+1:t} = \\texttt{backward}(b_{k+2:t}, E_{k+1})$$\n",
    "\n",
    "where the specific functional forms of these recurrences is given in the textbook and lecture slides.\n",
    "\n",
    "Code up `forward` and `backward` functions, taking in as arguments:\n",
    "* `f1` or `b1`, the relevant previous (forward) or future (backward) \"probability distribution\" from the last recursive function call, respectively,\n",
    "* `evidence`, which is the single observation that you are assimilating,\n",
    "* `sens`, a `Sensor` object,\n",
    "* `ball`, a `Balloon` object, and\n",
    "* `xb`, some way to denote where the bins or x-coordinates are (which is more convenient may depend on how you stored your sensor and Markov transition probabilities).\n",
    "\n",
    "Note that `forward` should return *all* of the probability distributions, at each time step, because you will need these for `backward`, which should return a single probability distribution."
   ]
  },
  {
   "cell_type": "code",
   "execution_count": 15,
   "metadata": {
    "collapsed": true
   },
   "outputs": [],
   "source": [
    "def normalize(probs):\n",
    "    total = sum(probs)\n",
    "    if total != 0:\n",
    "        return [i/total for i in probs ]\n",
    "    else:\n",
    "        return probs"
   ]
  },
  {
   "cell_type": "code",
   "execution_count": 16,
   "metadata": {
    "collapsed": true
   },
   "outputs": [],
   "source": [
    "'''\n",
    "Thanks for the \"Aggressively realistic\" pseudocode!\n",
    "\n",
    "'''\n",
    "\n",
    "prob_smoothed = {-3:1/17, -2:2/17, -1:3/17, 0:5/17, 1:3/17, 2:2/17, 3:1/17}\n",
    "prob_backwards = {-2:0.05, -1:0.1, 0:0.7, 1:0.1, 2:0.05}\n",
    "def forward(f1, evidence):\n",
    "    f_out = [0]*25\n",
    "    for i in range(25):\n",
    "        s = 0\n",
    "        for j in range(25):\n",
    "            try: s += prob_backwards[i - j]*f1[j]\n",
    "            except: pass\n",
    "        try: f_out[i] = s * prob_smoothed[evidence - i]\n",
    "        except: f_out[i] = 0        \n",
    "    return normalize(f_out)\n",
    "\n",
    "\n",
    "\n",
    "def backward(b1, evidence):\n",
    "    b_out = [0]*25\n",
    "    for i in range(25):\n",
    "        s = 0\n",
    "        for j in range(25):\n",
    "            smoothed_keys = evidence-j\n",
    "            backward_keys = j - i\n",
    "            if smoothed_keys in prob_smoothed.keys(): \n",
    "                prob_smoothed_estimate = prob_smoothed[smoothed_keys]\n",
    "            else: \n",
    "                prob_smoothed_estimate = 0\n",
    "            if backward_keys in prob_backwards.keys(): \n",
    "                prob_backwards_filter = prob_backwards[backward_keys]\n",
    "            else: \n",
    "                prob_backwards_filter = 0\n",
    "            s += b1[j]*prob_smoothed_estimate*prob_backwards_filter\n",
    "        b[i] = s\n",
    "    return b"
   ]
  },
  {
   "cell_type": "code",
   "execution_count": 17,
   "metadata": {},
   "outputs": [
    {
     "name": "stdout",
     "output_type": "stream",
     "text": [
      "{-3: 0.058823529411764705, -2: 0.11764705882352941, -1: 0.17647058823529413, 0: 0.29411764705882354, 1: 0.17647058823529413, 2: 0.11764705882352941, 3: 0.058823529411764705}\n"
     ]
    }
   ],
   "source": [
    "print(xs)"
   ]
  },
  {
   "cell_type": "markdown",
   "metadata": {},
   "source": [
    "<a/ id='p1f'></a>\n",
    "\n",
    "### (1f)\n",
    "\n",
    "**For the remainder of this problem**, use the data set [data_waterballoon.csv](https://piazza.com/class_profile/get_resource/jc4v74a5uu5wa/jfxh1l8kelo2pv), available on Piazza under the Resources tab and linked here. The first column ($X$) corresponds to the actual bin number in which the water balloon is located during the time step corresponding to that row in the data table, and the second column ($E$) is the associated measurement. Note that there is no measurement associated with the initial location. You should use a uniform prior distribution for the initial location, over the actual location and one bin to either side.\n",
    "\n",
    "Use your `forward` and `backward` functions to implement the forward-backward algorithm to obtain both filtered estimates and smoothed estimates of the probability distribution for water balloon location for all times after the initial time step."
   ]
  },
  {
   "cell_type": "code",
   "execution_count": 30,
   "metadata": {
    "collapsed": true
   },
   "outputs": [],
   "source": [
    "xs = {-3:1/17, -2:2/17, -1:3/17, 0:5/17, 1:3/17, 2:2/17, 3:1/17}\n",
    "xb = {-2:0.05, -1:0.1, 0:0.7, 1:0.1, 2:0.05}\n",
    "transition = {\n",
    "   0 : {0:0.7, 1:0.1, 2:0.05, 3:0, 4:0, 5:0, 6:0, 7:0, 8:0, 9:0, 10:0, 11:0, 12:0, 13:0, 14:0, 15:0, 16:0, 17:0, 18:0, 19:0, 20:0, 21:0, 22:0, 23:0, 24:0},\n",
    "   1 : {0:0.1, 1:0.7, 2:0.1, 3:0.05, 4:0, 5:0, 6:0, 7:0, 8:0, 9:0, 10:0, 11:0, 12:0, 13:0, 14:0, 15:0, 16:0, 17:0, 18:0, 19:0, 20:0, 21:0, 22:0, 23:0, 24:0},\n",
    "   2 : {0:0.05, 1:0.1, 2:0.7, 3:0.1, 4:0.05, 5:0, 6:0, 7:0, 8:0, 9:0, 10:0, 11:0, 12:0, 13:0, 14:0, 15:0, 16:0, 17:0, 18:0, 19:0, 20:0, 21:0, 22:0, 23:0, 24:0},\n",
    "   3 : {0:0, 1:0.05, 2:0.1, 3:0.7, 4:0.1, 5:0.05, 6:0, 7:0, 8:0, 9:0, 10:0, 11:0, 12:0, 13:0, 14:0, 15:0, 16:0, 17:0, 18:0, 19:0, 20:0, 21:0, 22:0, 23:0, 24:0},\n",
    "   4 : {0:0, 1:0, 2:0.05, 3:0.1, 4:0.7, 5:0.1, 6:0.05, 7:0, 8:0, 9:0, 10:0, 11:0, 12:0, 13:0, 14:0, 15:0, 16:0, 17:0, 18:0, 19:0, 20:0, 21:0, 22:0, 23:0, 24:0},\n",
    "   5 : {0:0, 1:0, 2:0, 3:0.05, 4:0.1, 5:0.7, 6:0.1, 7:0.05, 8:0, 9:0, 10:0, 11:0, 12:0, 13:0, 14:0, 15:0, 16:0, 17:0, 18:0, 19:0, 20:0, 21:0, 22:0, 23:0, 24:0},\n",
    "   6 : {0:0, 1:0, 2:0, 3:0, 4:0.05, 5:0.1, 6:0.7, 7:0.1, 8:0.05, 9:0, 10:0, 11:0, 12:0, 13:0, 14:0, 15:0, 16:0, 17:0, 18:0, 19:0, 20:0, 21:0, 22:0, 23:0, 24:0},\n",
    "   7 : {0:0, 1:0, 2:0, 3:0, 4:0, 5:0.05, 6:0.1, 7:0.7, 8:0.1, 9:0.05, 10:0, 11:0, 12:0, 13:0, 14:0, 15:0, 16:0, 17:0, 18:0, 19:0, 20:0, 21:0, 22:0, 23:0, 24:0},\n",
    "   8 : {0:0, 1:0, 2:0, 3:0, 4:0, 5:0, 6:0.05, 7:0.1, 8:0.7, 9:0.1, 10:0.05, 11:0, 12:0, 13:0, 14:0, 15:0, 16:0, 17:0, 18:0, 19:0, 20:0, 21:0, 22:0, 23:0, 24:0},\n",
    "   9 : {0:0, 1:0, 2:0, 3:0, 4:0, 5:0, 6:0, 7:0.05, 8:0.1, 9:0.7, 10:0.1, 11:0.05, 12:0, 13:0, 14:0, 15:0, 16:0, 17:0, 18:0, 19:0, 20:0, 21:0, 22:0, 23:0, 24:0},\n",
    "  10 : {0:0, 1:0, 2:0, 3:0, 4:0, 5:0, 6:0, 7:0, 8:0.05, 9:0.1, 10:0.7, 11:0.1, 12:0.05, 13:0, 14:0, 15:0, 16:0, 17:0, 18:0, 19:0, 20:0, 21:0, 22:0, 23:0, 24:0},\n",
    "  11 : {0:0, 1:0, 2:0, 3:0, 4:0, 5:0, 6:0, 7:0, 8:0, 9:0.05, 10:0.1, 11:0.7, 12:0.1, 13:0.05, 14:0, 15:0, 16:0, 17:0, 18:0, 19:0, 20:0, 21:0, 22:0, 23:0, 24:0},\n",
    "  12 : {0:0, 1:0, 2:0, 3:0, 4:0, 5:0, 6:0, 7:0, 8:0, 9:0, 10:0.05, 11:0.1, 12:0.7, 13:0.1, 14:0.05, 15:0, 16:0, 17:0, 18:0, 19:0, 20:0, 21:0, 22:0, 23:0, 24:0},\n",
    "  13 : {0:0, 1:0, 2:0, 3:0, 4:0, 5:0, 6:0, 7:0, 8:0, 9:0, 10:0, 11:0.05, 12:0.1, 13:0.7, 14:0.1, 15:0.05, 16:0, 17:0, 18:0, 19:0, 20:0, 21:0, 22:0, 23:0, 24:0},\n",
    "  14 : {0:0, 1:0, 2:0, 3:0, 4:0, 5:0, 6:0, 7:0, 8:0, 9:0, 10:0, 11:0, 12:0.05, 13:0.1, 14:0.7, 15:0.1, 16:0.05, 17:0, 18:0, 19:0, 20:0, 21:0, 22:0, 23:0, 24:0},\n",
    "  15 : {0:0, 1:0, 2:0, 3:0, 4:0, 5:0, 6:0, 7:0, 8:0, 9:0, 10:0, 11:0, 12:0, 13:0.05, 14:0.1, 15:0.7, 16:0.1, 17:0.05, 18:0, 19:0, 20:0, 21:0, 22:0, 23:0, 24:0},\n",
    "  16 : {0:0, 1:0, 2:0, 3:0, 4:0, 5:0, 6:0, 7:0, 8:0, 9:0, 10:0, 11:0, 12:0, 13:0, 14:0.05, 15:0.1, 16:0.7, 17:0.1, 18:0.05, 19:0, 20:0, 21:0, 22:0, 23:0, 24:0},\n",
    "  17 : {0:0, 1:0, 2:0, 3:0, 4:0, 5:0, 6:0, 7:0, 8:0, 9:0, 10:0, 11:0, 12:0, 13:0, 14:0, 15:0.05, 16:0.1, 17:0.7, 18:0.1, 19:0.05, 20:0, 21:0, 22:0, 23:0, 24:0},\n",
    "  18 : {0:0, 1:0, 2:0, 3:0, 4:0, 5:0, 6:0, 7:0, 8:0, 9:0, 10:0, 11:0, 12:0, 13:0, 14:0, 15:0, 16:0.05, 17:0.1, 18:0.7, 19:0.1, 20:0.05, 21:0, 22:0, 23:0, 24:0},\n",
    "  19 : {0:0, 1:0, 2:0, 3:0, 4:0, 5:0, 6:0, 7:0, 8:0, 9:0, 10:0, 11:0, 12:0, 13:0, 14:0, 15:0, 16:0, 17:0.05, 18:0.1, 19:0.7, 20:0.1, 21:0.05, 22:0, 23:0, 24:0},\n",
    "  20 : {0:0, 1:0, 2:0, 3:0, 4:0, 5:0, 6:0, 7:0, 8:0, 9:0, 10:0, 11:0, 12:0, 13:0, 14:0, 15:0, 16:0, 17:0, 18:0.05, 19:0.1, 20:0.7, 21:0.1, 22:0.05, 23:0, 24:0},\n",
    "  21 : {0:0, 1:0, 2:0, 3:0, 4:0, 5:0, 6:0, 7:0, 8:0, 9:0, 10:0, 11:0, 12:0, 13:0, 14:0, 15:0, 16:0, 17:0, 18:0, 19:0.05, 20:0.1, 21:0.7, 22:0.1, 23:0.05, 24:0},\n",
    "  22 : {0:0, 1:0, 2:0, 3:0, 4:0, 5:0, 6:0, 7:0, 8:0, 9:0, 10:0, 11:0, 12:0, 13:0, 14:0, 15:0, 16:0, 17:0, 18:0, 19:0, 20:0.05, 21:0.1, 22:0.7, 23:0.1, 24:0.05},\n",
    "  23 : {0:0, 1:0, 2:0, 3:0, 4:0, 5:0, 6:0, 7:0, 8:0, 9:0, 10:0, 11:0, 12:0, 13:0, 14:0, 15:0, 16:0, 17:0, 18:0, 19:0, 20:0, 21:0.05, 22:0.1, 23:0.7, 24:0.1},\n",
    "  24 : {0:0, 1:0, 2:0, 3:0, 4:0, 5:0, 6:0, 7:0, 8:0, 9:0, 10:0, 11:0, 12:0, 13:0, 14:0, 15:0, 16:0, 17:0, 18:0, 19:0, 20:0, 21:0, 22:0.05, 23:0.1, 24:0.7}\n",
    "\n",
    "   }\n",
    " "
   ]
  },
  {
   "cell_type": "code",
   "execution_count": 31,
   "metadata": {},
   "outputs": [
    {
     "data": {
      "text/html": [
       "<div>\n",
       "<style>\n",
       "    .dataframe thead tr:only-child th {\n",
       "        text-align: right;\n",
       "    }\n",
       "\n",
       "    .dataframe thead th {\n",
       "        text-align: left;\n",
       "    }\n",
       "\n",
       "    .dataframe tbody tr th {\n",
       "        vertical-align: top;\n",
       "    }\n",
       "</style>\n",
       "<table border=\"1\" class=\"dataframe\">\n",
       "  <thead>\n",
       "    <tr style=\"text-align: right;\">\n",
       "      <th></th>\n",
       "      <th>X</th>\n",
       "      <th>E</th>\n",
       "    </tr>\n",
       "  </thead>\n",
       "  <tbody>\n",
       "    <tr>\n",
       "      <th>0</th>\n",
       "      <td>12</td>\n",
       "      <td>NaN</td>\n",
       "    </tr>\n",
       "    <tr>\n",
       "      <th>1</th>\n",
       "      <td>10</td>\n",
       "      <td>9.0</td>\n",
       "    </tr>\n",
       "    <tr>\n",
       "      <th>2</th>\n",
       "      <td>10</td>\n",
       "      <td>8.0</td>\n",
       "    </tr>\n",
       "    <tr>\n",
       "      <th>3</th>\n",
       "      <td>10</td>\n",
       "      <td>12.0</td>\n",
       "    </tr>\n",
       "    <tr>\n",
       "      <th>4</th>\n",
       "      <td>10</td>\n",
       "      <td>8.0</td>\n",
       "    </tr>\n",
       "  </tbody>\n",
       "</table>\n",
       "</div>"
      ],
      "text/plain": [
       "    X     E\n",
       "0  12   NaN\n",
       "1  10   9.0\n",
       "2  10   8.0\n",
       "3  10  12.0\n",
       "4  10   8.0"
      ]
     },
     "execution_count": 31,
     "metadata": {},
     "output_type": "execute_result"
    }
   ],
   "source": [
    "df = pd.read_csv('data_waterballoon.csv')\n",
    "df.head()"
   ]
  },
  {
   "cell_type": "code",
   "execution_count": 32,
   "metadata": {
    "scrolled": true
   },
   "outputs": [
    {
     "name": "stdout",
     "output_type": "stream",
     "text": [
      "Forward filtering: [0.0, 0.0, 0.0, 0.0, 0.0, 0.0, 0.06756756756756757, 0.13513513513513514, 0.20270270270270271, 0.32657657657657657, 0.18243243243243246, 0.05855855855855855, 0.02702702702702702, 0.0, 0.0, 0.0, 0.0, 0.0, 0.0, 0.0, 0.0, 0.0, 0.0, 0.0, 0.0]\n",
      "\n",
      "Backward filtering: [0.0, 0.0, 0.0, 0.0, 1.712748411049902e-206, 2.4753929710912754e-205, 1.4289251528299972e-204, 7.658881297557068e-204, 1.7466507708074837e-203, 4.517657859339424e-203, 7.403432821295515e-204, 1.320226435645485e-204, 9.385636159722111e-206, 8.318134101427683e-207, 2.76048122344768e-208, 0.0, 0.0, 0.0, 0.0, 0.0, 0.0, 0.0, 0.0, 0.0, 0.0]\n",
      "\n",
      "Forward-Backward (Smoothed) estimates: [0.0, 0.0, 0.0, 0.0, 0.0, 0.0, 0.004629286934473155, 0.04962493529243645, 0.16975866600932873, 0.70739942697019, 0.06475920719667429, 0.0037068510645072634, 0.00012162653239008264, 0.0, 0.0, 0.0, 0.0, 0.0, 0.0, 0.0, 0.0, 0.0, 0.0, 0.0, 0.0]\n",
      "\n"
     ]
    }
   ],
   "source": [
    "states = np.arange(25)\n",
    "observed = tuple(df['E'])\n",
    "smoothed, f_observed, f_dist, b_dist = [], observed[1:], [], []\n",
    "f = [1]*25\n",
    "for i in range(11, 14): f[i] = 1/3\n",
    "b = [1]*25\n",
    "\n",
    "for evidence in f_observed: f_dist.append(forward(f, evidence))\n",
    "p_fwd = sum(f_dist[-1][keys] * transition[keys][24] for keys in states)\n",
    "for evidence in reversed(f_observed): b_dist.insert(0, backward(b, evidence))\n",
    "for i in range(len(f_observed)): smoothed.append(normalize([f_dist[i][j] * b_dist[i][j] for j in states]))\n",
    "print(f'Forward filtering: {f_dist[0]}\\n')\n",
    "print(f'Backward filtering: {b_dist[0]}\\n')\n",
    "print(f'Forward-Backward (Smoothed) estimates: {smoothed[0]}\\n')"
   ]
  },
  {
   "cell_type": "markdown",
   "metadata": {},
   "source": [
    "How does the filtered estimate at $t=1$ (first time step, not 1 second) differ from what you would estimate based only on the Markov model, without knowledge of $E_1$, your first measurement of balloon position?  To solve for the Markov model probability distribution $P(X_1)$, you can either use enumeration or calculate the probabilities by hand. (By hand isn't too bad, because there is nice symmetry you can take advantage of, so you only need to actually calculate a few things.)\n",
    "\n",
    "Plot the two probability distributions on the same set of axes and comment on the differences. Be sure to include appropriate axis labels and a legend."
   ]
  },
  {
   "cell_type": "markdown",
   "metadata": {},
   "source": [
    "Let's suppose that the balloon is hovering right above the ground, directly underneath us at the termination point. In this supposed hypothetical, the balloon is resting just over bin 14.\n",
    "\n",
    "What would the probability distribution be?"
   ]
  },
  {
   "cell_type": "markdown",
   "metadata": {},
   "source": [
    "Taking the product of the probabilities gives us the following distribution."
   ]
  },
  {
   "cell_type": "code",
   "execution_count": 40,
   "metadata": {},
   "outputs": [
    {
     "name": "stdout",
     "output_type": "stream",
     "text": [
      "[(0.0, 0), (0.0, 0), (0.0, 0), (0.0, 0), (0.0, 0), (0.0, 0), (0.06756756756756757, 0), (0.13513513513513514, 0), (0.20270270270270271, 0), (0.32657657657657657, 0), (0.18243243243243246, 0), (0.05855855855855855, 0.016666666666666666), (0.02702702702702702, 0.05), (0.0, 0.28), (0.0, 0.3), (0.0, 0.28), (0.0, 0.05), (0.0, 0.016666666666666666), (0.0, 0), (0.0, 0), (0.0, 0), (0.0, 0), (0.0, 0), (0.0, 0), (0.0, 0)]\n",
      "9.0 8.0\n"
     ]
    }
   ],
   "source": [
    "step1 = [0, 0, 0, 0, 0, 0, 0, 0, 0, 0, 0, 1/60, 0.05, 0.28, 0.3, 0.28, 0.05, 1/60, 0, 0, 0, 0, 0, 0, 0]\n",
    "print(list(zip(f_dist[0], step1)))\n",
    "print(f_observed[0], f_observed[1])"
   ]
  },
  {
   "cell_type": "code",
   "execution_count": 41,
   "metadata": {},
   "outputs": [
    {
     "data": {
      "image/png": "[encoded data removed]",
      "text/plain": [
       "<matplotlib.figure.Figure at 0x241eff358d0>"
      ]
     },
     "metadata": {},
     "output_type": "display_data"
    }
   ],
   "source": [
    "plt.figure(figsize = (15,10))\n",
    "plt.plot(f_dist[0])\n",
    "plt.plot(step1)\n",
    "plt.xlabel(\"Right side of X locations\")\n",
    "plt.ylabel(\"Probability of the Balloon existing\")\n",
    "plt.title(\"Hand Calculation vs. Algorithm at Final Step- (BLUE- Forward Alg, ORANGE- Hand Calc.)\")\n",
    "plt.show()"
   ]
  },
  {
   "cell_type": "markdown",
   "metadata": {},
   "source": [
    "<a/ id='p1g'></a>\n",
    "\n",
    "### (1g)\n",
    "\n",
    "Based on the smoothed estimates for the probability distribution of the water balloon at the moment the balloon reaches $y=0$, calculate the following:\n",
    "* the probability that the balloon hits you,\n",
    "* the probability that the balloon hits your friend, and\n",
    "* the probability that the balloon misses both of you."
   ]
  },
  {
   "cell_type": "code",
   "execution_count": 35,
   "metadata": {},
   "outputs": [
    {
     "name": "stdout",
     "output_type": "stream",
     "text": [
      "[0.0, 0.0, 0.0, 0.0, 0.0, 0.0, 0.004629286934473155, 0.04962493529243645, 0.16975866600932873, 0.70739942697019, 0.06475920719667429, 0.0037068510645072634, 0.00012162653239008264, 0.0, 0.0, 0.0, 0.0, 0.0, 0.0, 0.0, 0.0, 0.0, 0.0, 0.0, 0.0]\n"
     ]
    }
   ],
   "source": [
    "print(smoothed[0])"
   ]
  },
  {
   "cell_type": "code",
   "execution_count": 36,
   "metadata": {},
   "outputs": [
    {
     "name": "stdout",
     "output_type": "stream",
     "text": [
      "0.8317949020769896\n"
     ]
    }
   ],
   "source": [
    "me = smoothed[199][10] + smoothed[199][11] + smoothed[199][12]\n",
    "friend = smoothed[199][14] + smoothed[199][15] + smoothed[199][16]\n",
    "friend_probs, me_probs = [], []\n",
    "for i in range(len(smoothed)):\n",
    "    friend_probs.append(smoothed[i][14] + smoothed[i][15] + smoothed[i][16])\n",
    "    me_probs.append(smoothed[i][10] + smoothed[i][11] + smoothed[i][12])\n",
    "\n",
    "total = 0\n",
    "\n",
    "for i in smoothed[199]:\n",
    "    total += i\n",
    "neither = (1- (me + friend)) / (total)\n",
    "print(neither)"
   ]
  },
  {
   "cell_type": "markdown",
   "metadata": {},
   "source": [
    "<a/ id='p1h'></a>\n",
    "\n",
    "### (1h)\n",
    "\n",
    "Make a plot of the smoothed estimates of the probability that the balloon will hit you, as a function of time step, and of the probability that the balloon will hit your friend. Include axis labels and a legend.  Write a few sentences commenting on the plot."
   ]
  },
  {
   "cell_type": "code",
   "execution_count": 37,
   "metadata": {},
   "outputs": [
    {
     "data": {
      "image/png": "[encoded data removed]",
      "text/plain": [
       "<matplotlib.figure.Figure at 0x241eff2f198>"
      ]
     },
     "metadata": {},
     "output_type": "display_data"
    }
   ],
   "source": [
    "plt.figure(figsize = (15,10))\n",
    "plt.plot(me_probs)\n",
    "plt.plot(friend_probs)\n",
    "plt.xlabel(\"Right side of X locations\")\n",
    "plt.ylabel(\"Probability of the Balloon existing in bin\")\n",
    "plt.title(\"Probability that the Balloon will hit you (Blue) vs. your chump Friend(Orange)\")\n",
    "plt.show()"
   ]
  },
  {
   "cell_type": "markdown",
   "metadata": {},
   "source": [
    "Since the starting point is closer to us, it would make sense that as the Orchestra is dramatically pounding on their instruments and everyone is screaming \"Nooo\" in slow motion that our friend is substantially less likely to get hit. He is, after all, sitting off to the side like a chump."
   ]
  },
  {
   "cell_type": "markdown",
   "metadata": {},
   "source": [
    "Since the Balloon steps forward and backwards in the air, it takes much longer to traverse the x locations, and as a result, only gets close to your friend after the first 100 iterations; and is only then even is it even possible to hit your friend."
   ]
  },
  {
   "cell_type": "markdown",
   "metadata": {
    "collapsed": true
   },
   "source": [
    "<a/ id='p1i'></a>\n",
    "\n",
    "### (1i)\n",
    "\n",
    "Give an example of an improvement we could make to the sensor model so that it would better represent the perception of a typical human being. Your answer should include both a revision of the code snippet below, as well as a few sentences justifying your code modifications. Note that you do **not** need to run this code; ***Pythonic*** pseudocode is fine.\n",
    "\n",
    "```\n",
    "class Sensor:    \n",
    "    def measure(self, balloon):\n",
    "    \n",
    "        if balloon is far away:\n",
    "            large penalty to perception accuracy\n",
    "        elif balloon is mid-range:\n",
    "            medium penalty to perception accuracy\n",
    "        elif balloon is close:\n",
    "            no penalty to perception accuracy\n",
    "        \n",
    "        return (x_meas, y_meas)\n",
    "```"
   ]
  },
  {
   "cell_type": "markdown",
   "metadata": {},
   "source": [
    "People are usually pretty consistent. In order to make this more realistic we need to make it so that if they can see the balloon, they're probably pretty aware of where it is, however, if it is far away, they may have to squint and make some inaccurate assumptions."
   ]
  },
  {
   "cell_type": "markdown",
   "metadata": {},
   "source": [
    "<br>\n",
    "\n",
    "<a/ id='p2'></a>\n",
    "\n",
    "---\n",
    "\n",
    "<img src='https://www.explainxkcd.com/wiki/images/5/5f/interaction.png' style=\"width: 600px;\"/>\n",
    "## Problem 2: Navigating an awkward situation with grace and poise\n",
    "\n",
    "Suppose you are at a social event where you would like to avoid any interaction with a large number of the other attendees. It's not that you don't like them, it's just that you don't like *talking to* them. A few of your good friends are also in attendance, but they are tucked away in a corner. The rectangular room in which the event is being held spans gridcells at $x=1,2,\\ldots, 6$ and $y=1,2,\\ldots, 5$. At the eastern edge ($x=6$) of this first floor room, there is a balcony, with a 6-foot drop. If the event becomes unbearably awkward, you can jump off the balcony and run away. Of course, this might hurt a little bit, so we should incorporate this into our reward structure.\n",
    "\n",
    "The terminal states and rewards associated with them are given in the diagram below. The states are represented as $(x,y)$ tuples. The available actions in non-terminal states include moving exactly 1 unit North (+y), South (-y), East (+x) or West (-x), although you should not include walking into walls, because that would be embarrassing in front of all these other people. Represent actions as one of 'N', 'S', 'E', or 'W'. For now, assume all non-terminal states have a default reward of -0.01, and use a discount factor of 0.99.\n",
    "\n",
    "<img src=\"http://www.cs.colorado.edu/~tonyewong/home/resources/hw06_mdp.png\" style=\"width: 400px;\"/>\n",
    "\n",
    "Use the following transition model for this decision process, if you are trying to move from state $s$ to state $s'$:\n",
    "* you successfully move from $s$ to $s'$ with probability 0.6\n",
    "* the remaining 0.4 probability is spread equally likely across state $s$ **and** all adjacent (N/S/E/W) states except for $s'$. Note that this does not necessarily mean that all adjacent states have 0.1, because some states do not have 4 adjacent states.\n",
    "\n",
    "<a/ id='p2a'></a>\n",
    "\n",
    "### (2a)\n",
    "\n",
    "Complete the `MDP` class below. The docstring comments provide some desired specifications. You may add additional methods or attributes, if you would like."
   ]
  },
  {
   "cell_type": "code",
   "execution_count": 38,
   "metadata": {
    "collapsed": true
   },
   "outputs": [],
   "source": [
    "t_states = {(2,1): -1, (3,1): -1, (6,1): -5, (1,3): -1, (1,4): 2, (1,5):2, (3,4): -1, (3,5): 1, (4,3):-1, (4,4):-1, (6,2): -5, (6,3): -5, (6,4): -5, (6,5):-5}"
   ]
  },
  {
   "cell_type": "code",
   "execution_count": 39,
   "metadata": {
    "collapsed": true
   },
   "outputs": [],
   "source": [
    "class MDP:\n",
    "    def __init__(self, nrow, ncol, terminal, default_reward, discount, utility = 1):\n",
    "        '''Create/store the following attributes:\n",
    "        states -- list of all the states (x,y) tuples\n",
    "        terminal_states -- is a dictionary with terminal state keys, and rewards as values\n",
    "        default_reward -- is the reward for being in any non-terminal state\n",
    "        df -- discount factor\n",
    "        ... and anything else you decide will be useful!\n",
    "        '''\n",
    "        self.states = [(i, j) for i in range(1, nrow+1) for j in range(1, ncol+1)]\n",
    "        self.terminals = terminal\n",
    "        self.rewards = default_reward\n",
    "        self.gamma = discount\n",
    "\n",
    "    def actions(self, state):\n",
    "        '''Return a list of available actions from the given state.\n",
    "        [None] are the actions available from a terminal state.\n",
    "        '''\n",
    "        actions = []\n",
    "        if state in self.terminals:\n",
    "            return [None]\n",
    "        else:\n",
    "            if state[0] - 1 > 0: #left boundary\n",
    "                actions.append('W')\n",
    "            if state[0] + 1 < 7: #right boundary\n",
    "                actions.append('E')\n",
    "            if state[1] - 1 > 0: #down boundary\n",
    "                actions.append('S')\n",
    "            if state[1] + 1 < 6: #up boundary\n",
    "                actions.append('N')\n",
    "        return actions\n",
    "            \n",
    "        \n",
    "    def reward(self, state):\n",
    "        '''Return the reward for being in the given state'''\n",
    "        if state in self.terminals: \n",
    "            return self.terminals[state]\n",
    "        else: \n",
    "            return self.rewards\n",
    "        \n",
    "        \n",
    "    def result(self, state, action):\n",
    "        '''Return the resulting state (as a tuple) from doing the given\n",
    "        action in the given state, without uncertainty. Uncertainty\n",
    "        is incorporated into the transition method.\n",
    "        state -- a tuple representing the current state\n",
    "        action -- one of N, S, E or W, as a string\n",
    "        '''\n",
    "        \n",
    "        if action == 'N':\n",
    "            return (state[0], state[1]+ 1)\n",
    "        elif action == 'S':\n",
    "            return (state[0], state[1]- 1)\n",
    "        elif action == 'E':\n",
    "            return (state[0] +1, state[1])\n",
    "        elif action == 'W':\n",
    "            return (state[0] - 1, state[1])\n",
    "        elif action == [None] or action == None:\n",
    "            return (state)\n",
    "                \n",
    "    def transition(self, state, action):\n",
    "        '''Return the probabilities and subsequent states associated\n",
    "        with taking the given action from the given state. Can be done\n",
    "        however you want, so that it works with your value/policy iteration.\n",
    "        '''\n",
    "        probs = {}\n",
    "        possible = self.actions(state)\n",
    "        move = self.result(state, action)\n",
    "        x = len(possible)\n",
    "        \n",
    "        for i in possible:\n",
    "            if i == action:\n",
    "                probs[action] = 0.6\n",
    "            else:\n",
    "                probs[i] =  (0.4)/ (x-1)\n",
    "        return (tuple(move),probs)\n"
   ]
  },
  {
   "cell_type": "markdown",
   "metadata": {},
   "source": [
    "**Now:** create an `MDP` object to represent the decision process in this problem.\n",
    "\n",
    "To test and get comfortable with your `MDP` class methods and attributes, and making the relevant calculations with this structure, calculate the expected utility of walking north from (1,1). Assume initially that all states $(x,y)$ have a utility of $x+y$ (including the terminal states)."
   ]
  },
  {
   "cell_type": "markdown",
   "metadata": {},
   "source": [
    "U(s) = R(s) + $\\gamma{P(U)*U(s')}$"
   ]
  },
  {
   "cell_type": "code",
   "execution_count": null,
   "metadata": {},
   "outputs": [],
   "source": [
    "##If we are to assume that there is a discount factor of 1\n",
    "#Let's also assume that there are no terminal states in this supposed example, to make things a little simpler programmatically\n",
    "nrow = 6\n",
    "ncol = 5\n",
    "discount = 1\n",
    "utility = {(i,j): (i+j) for i in range(1, nrow+1) for j in range(1, ncol+1)}\n",
    "terminal = {}\n",
    "mdp = MDP(nrow, ncol, terminal, default_reward, discount)\n",
    "trans = mdp.transition((1,1), 'N')\n",
    "results = []\n",
    "rewards = []\n",
    "\n",
    "for i in trans:\n",
    "    results.append(mdp.result((1,1), i))\n",
    "uts = {}\n",
    "uts[(1,2)] = 1*(utility[(1,2)]*trans[1]['E']+ utility[(2,1)]*trans[1]['N'])\n",
    "\n",
    "print(uts)\n"
   ]
  },
  {
   "cell_type": "markdown",
   "metadata": {},
   "source": [
    "#### Unit tests\n",
    "Note that these are non-exhaustive, because there is some flexibility in how the `transition` method works."
   ]
  },
  {
   "cell_type": "code",
   "execution_count": null,
   "metadata": {
    "collapsed": true
   },
   "outputs": [],
   "source": [
    "'''\n",
    "This is just a test block that reproduces the test case from down below. \n",
    "It's easier to diagnose the issue when I can see what the code is doing...\n",
    "'''\n",
    "nrow = 3\n",
    "ncol = 3\n",
    "default_reward = -0.2\n",
    "discount = 0.5\n",
    "terminal = {(2,1): -1, (3,1): -1, (6,1): -5, (1,3): -1, (1,4): 2, (1,5):2, (3,4): -1, (3,5): 1, (4,3):-1, (4,4):-1, (6,2): -5, (6,3): -5, (6,4): -5, (6,5):-5}\n",
    "mdp = MDP(nrow, ncol, terminal, default_reward, discount)"
   ]
  },
  {
   "cell_type": "code",
   "execution_count": null,
   "metadata": {
    "scrolled": true
   },
   "outputs": [],
   "source": [
    "tests_to_run = unittest.TestLoader().loadTestsFromModule(Tests_Problem2())\n",
    "unittest.TextTestRunner().run(tests_to_run)"
   ]
  },
  {
   "cell_type": "code",
   "execution_count": null,
   "metadata": {
    "collapsed": true
   },
   "outputs": [],
   "source": [
    "nrow = 6\n",
    "ncol = 5\n",
    "default_reward = -0.01\n",
    "discount = 0.99\n",
    "terminal = {(2,1): -1, (3,1): -1, (6,1): -5, (1,3): -1, (1,4): 2, (1,5):2, (3,4): -1, (3,5): 1, (4,3):-1, (4,4):-1, (6,2): -5, (6,3): -5, (6,4): -5, (6,5):-5}\n",
    "mdp = MDP(nrow, ncol, terminal, default_reward, discount)"
   ]
  },
  {
   "cell_type": "markdown",
   "metadata": {},
   "source": [
    "<a/ id='p2b'></a>\n",
    "\n",
    "### (2b)\n",
    "\n",
    "Implement value iteration to calculate the utilities for each state.  Also implement a function that takes as arguments an `MDP` object and a dictionary of state-utility pairs (key-value) and returns a dictionary for the optimal policy.  The optimal policy dictionary should have state tuples as keys and the optimal move (None, N, S, E or W) as values."
   ]
  },
  {
   "cell_type": "code",
   "execution_count": null,
   "metadata": {
    "collapsed": true
   },
   "outputs": [],
   "source": [
    "def value_iteration(mdp, tol=1e-3):\n",
    "    Utility_1 = dict([(states, 0) for states in mdp.states])\n",
    "\n",
    "    while True:\n",
    "        Utility = Utility_1.copy()\n",
    "        delta = 0\n",
    "        for states in mdp.states:\n",
    "            if states not in mdp.terminals:\n",
    "                Utility[states] = mdp.reward(states) + (mdp.gamma * max(sum(prob*Utility_1[mdp.result(states, action)] for prob in mdp.transition(states, action)[1].values()) for action in mdp.actions(states)))\n",
    "            else:\n",
    "                Utility[states] = mdp.terminals[states]\n",
    "            delta = max(delta, abs(Utility[states] - Utility_1[states]))\n",
    "                \n",
    "            \n",
    "        if delta < tol * (1 - mdp.gamma) / mdp.gamma:\n",
    "            return Utility\n",
    "        else:\n",
    "            Utility_1 = Utility\n",
    "        \n",
    "def expected_util(action, state, Utility, mdp):\n",
    "    return sum(prob*Utility[mdp.result(state,action)] for prob in mdp.transition(state, action)[1].values())\n",
    "\n",
    "def optimal_policy(mdp, Utility):\n",
    "    product = {}\n",
    "    for states in mdp.states:\n",
    "        product[states] = argmax(mdp.actions(states), lambda action: expected_util(action, states, Utility, mdp))\n",
    "    return product"
   ]
  },
  {
   "cell_type": "markdown",
   "metadata": {},
   "source": [
    "Now actually use your `value_iteration` and `find_policy` functions to calculate the utility for each state in this MDP, and the optimal action in each state.\n",
    "\n",
    "As a sanity check, print the utilities of these terminal states:\n",
    "1. `utility[(1,5)]`\n",
    "1. `utility[(6,1)]`\n",
    "\n",
    "and print the utility of these states that are nearby to terminal states, so their utilities should be similar to the nearby terminal states' utilities:\n",
    "1. `utility[(2,5)]`\n",
    "1. `utility[(5,3)]`\n",
    "\n",
    "And print the policy for these states to make sure they make sense:\n",
    "1. `policy[(2,4)]`\n",
    "1. `policy[(1,1)]`"
   ]
  },
  {
   "cell_type": "code",
   "execution_count": null,
   "metadata": {
    "scrolled": true
   },
   "outputs": [],
   "source": [
    "U = value_iteration(mdp)\n",
    "P = optimal_policy(mdp, U)\n",
    "\n",
    "print(f\"(1,5):{U[(1,5)]}, (6,1): {U[(6,1)]}\")\n",
    "print(f\"(2,5): {U[(2,5)]}, (5,3): {U[(5,3)]}\")\n",
    "print(f\"Policy, (2,4): {P[(2,4)]}, Policy, (1,1): {P[(1,1)]}\")"
   ]
  },
  {
   "cell_type": "markdown",
   "metadata": {},
   "source": [
    "<a/ id='p2c'></a>\n",
    "\n",
    "### (2c)\n",
    "\n",
    "If we enter the room at (5,1), what is the optimal path for us to follow?  Create a graphic to illustrate this policy pathway, either by generating a plot in Python (like the maze solution path) or by uploading a hand-drawn image and including it below."
   ]
  },
  {
   "attachments": {},
   "cell_type": "markdown",
   "metadata": {
    "collapsed": true
   },
   "source": [
    "![Path image](https://image.ibb.co/bWzgG7/PATH.jpg)\n"
   ]
  },
  {
   "cell_type": "markdown",
   "metadata": {},
   "source": [
    "**THERE IS AN IMAGE ABOVE! IF IT IS NOT EXISTANT, LET ME KNOW.**\n",
    "\n",
    "Looks good to me."
   ]
  },
  {
   "cell_type": "markdown",
   "metadata": {},
   "source": [
    "<a/ id='p2d'></a>\n",
    "\n",
    "### (2d)\n",
    "\n",
    "From (3,2) the optimal move is to walk West. If we are trying to go talk to our friends in the Northwest corner, why would we rather do this than walk North first, then West?"
   ]
  },
  {
   "cell_type": "markdown",
   "metadata": {
    "collapsed": true
   },
   "source": [
    "We would rather walk west first as that step to the North is *surrounded* by negative terminal states. Therefore, that state is going to have some ungodly low expected utility as opposed to the Step West which has at least a step to the east and west which is less negative. The steps to the Weast, if you will, will have higher expected utilities due to this fact, causing the step to the West from the original location to be a better move than a step to the north. "
   ]
  },
  {
   "cell_type": "markdown",
   "metadata": {},
   "source": [
    "<a/ id='p2e'></a>\n",
    "\n",
    "### (2e)\n",
    "\n",
    "How painfully awkward do you need to set the default reward for non-terminal states before the optimal move from (5,1) becomes jumping off the balcony immediately and running away?  Round your answer to two decimal places."
   ]
  },
  {
   "cell_type": "code",
   "execution_count": null,
   "metadata": {},
   "outputs": [],
   "source": [
    "default_reward = -4.02\n",
    "mdp = MDP(nrow, ncol, terminal, default_reward, discount)\n",
    "\n",
    "U = value_iteration(mdp)\n",
    "P = optimal_policy(mdp, U)\n",
    "print(P[(5,1)])"
   ]
  },
  {
   "cell_type": "markdown",
   "metadata": {},
   "source": [
    "Looks like the optimal policy for jumping off the balcony is with a default reward at -4.02"
   ]
  },
  {
   "cell_type": "markdown",
   "metadata": {},
   "source": [
    "<a/ id='p2f'></a>\n",
    "\n",
    "### (2f)\n",
    "\n",
    "In **2e** we assumed a certain level of loss (negative reward) just for being present.  But a more realistic approach might be to instead change the reward structure for the terminal states. Consider the terminal states with -1 reward in the default model. Let $R^*$ denote the reward associated with these states. How low does $R^*$ need to be in order for us to immediately jump off the balcony and run away? Use the default non-terminal state reward of -0.01. Write a few sentences interpreting your result."
   ]
  },
  {
   "cell_type": "code",
   "execution_count": null,
   "metadata": {},
   "outputs": [],
   "source": [
    "default_reward = -0.01\n",
    "discount = 0.99\n",
    "terminal = {(2,1): -1, (3,1): -1, (6,1): -5, (1,3): -1, (1,4): 2, (1,5):2, (3,4): -1, (3,5): 1, (4,3):-1, (4,4):-1, (6,2): -5, (6,3): -5, (6,4): -5, (6,5):-5}\n",
    "for i in terminal:\n",
    "    if terminal[i] == -1:\n",
    "        terminal[i] += 10000\n",
    "#print(terminal)\n",
    "\n",
    "mdp = MDP(nrow, ncol, terminal, default_reward, discount)\n",
    "U = value_iteration(mdp)\n",
    "P = optimal_policy(mdp, U)\n",
    "\n",
    "print(P[(3,1)])"
   ]
  },
  {
   "cell_type": "markdown",
   "metadata": {},
   "source": [
    "There seems to be some anomalous behaviour in my code that draws the player to the exit at (3,1) the more negative it gets.\n",
    "\n",
    "I'm not really sure why this is happening so I guess I'll just leave it as is.\n",
    "\n",
    "Anyway, had the code been working, the number would have been high enough to impact the surrounding states as well.\n",
    "\n",
    "It would likely be some number that is 5*16 times larger than its original, to account for the additionally distributed probability dispersed further out. "
   ]
  },
  {
   "cell_type": "markdown",
   "metadata": {
    "collapsed": true
   },
   "source": [
    "<a/ id='p2g'></a>\n",
    "\n",
    "### (2g)\n",
    "\n",
    "Given the problem context, write a few sentences about why this is or is not an appropriate transition model. Include an interpretation of the terminal states."
   ]
  },
  {
   "cell_type": "markdown",
   "metadata": {
    "collapsed": true
   },
   "source": [
    "In this context, it seems silly, though this would be the appropriate model. Since this person has some form of social anxiety, it would fit them to exist alone in the party. However, to interact with another is the issue at hand, and as a result, it seems appropriate that the individual would rather leave than talk to someone at the party. As a result, the terminal states would be positive in the case that they reach their destination without ever talking to anyone, and negative if they have to speak with someone, or worse yet, slightly negative if they must throw themselves from the balcony for fear of speaking to someone."
   ]
  },
  {
   "cell_type": "markdown",
   "metadata": {},
   "source": [
    "<br>\n",
    "\n",
    "---\n",
    "\n",
    "<a/ id='p3'></a>\n",
    "\n",
    "## Problem 3: your very own MDP\n",
    "\n",
    "For this problem, you do not need to write any code, but rather communicate your ideas clearly using complete sentences and descriptions of the concepts the questions ask about. You can, of course, include some pseudocode if it helps, but that is not strictly necessary.\n",
    "\n",
    "<a/ id='p3a'></a>\n",
    "\n",
    "### (3a)\n",
    "\n",
    "Describe something you think would be interesting to model using a Markov decision process.  Be **creative** - do not use any examples from your homework, class, or the textbook, and if you are working with other students, please **come up with your own example**. There are so, SO many possible answers!"
   ]
  },
  {
   "cell_type": "markdown",
   "metadata": {},
   "source": [
    "I think a really interesting example would be one turn from a card game, like \"Hearthstone\"."
   ]
  },
  {
   "attachments": {},
   "cell_type": "markdown",
   "metadata": {
    "collapsed": true
   },
   "source": [
    "![Example Board of Hearthstone](https://www.pcgamesn.com/sites/default/files/hearthstone%20battlenet%20handheld.jpg)"
   ]
  },
  {
   "cell_type": "markdown",
   "metadata": {},
   "source": [
    "(Warning! I have photos attached in two places on the document. I *HOPE* they were maintained by the notebook, but there are no guarantees. If you cannot see them I'd be happy to send them to you on Piazza. They should be being served via a webpage, so we should be safe.)\n",
    "\n",
    "In this game, generally speaking, you value having more cards on your side of the board, and lowering the health of the enemy player. Each card has a cost to play (you have a certain total cost you can play each turn, increasing by one for each turn, up to a maximum of 10. This is called \"Mana\"). "
   ]
  },
  {
   "cell_type": "markdown",
   "metadata": {},
   "source": [
    "<a/ id='p3b'></a>\n",
    "\n",
    "### (3b)\n",
    "\n",
    "What are the states associated with your MDP?"
   ]
  },
  {
   "cell_type": "markdown",
   "metadata": {
    "collapsed": true
   },
   "source": [
    "The states associated with this MDP would be the current health of your player, the enemy player, the various cards on the board, the current turn of the game, the cards in our hand, and the amount of mana you currently have left, unspent.\n",
    "\n",
    "We would want to prioritize states in which we have more cards on our side of the board than that of our enemy, and we want to prioritize moves that maximizes the total health of our cards and character, while minimizing that of the enemy. "
   ]
  },
  {
   "cell_type": "markdown",
   "metadata": {},
   "source": [
    "<a/ id='p3c'></a>\n",
    "\n",
    "### (3c)\n",
    "\n",
    "What is the reward structure associated with your MDP?  Include a discussion of terminal/non-terminal states."
   ]
  },
  {
   "cell_type": "markdown",
   "metadata": {
    "collapsed": true
   },
   "source": [
    "The terminal state would be a winning move for each player.\n",
    "\n",
    "Our rewards will be very complex, and would require a lot of testing and tweaking. The idea however, would be that we want to prioritize the following:\n",
    "\n",
    "1) Keep our hero alive. We don't want to lose.\n",
    "\n",
    "2) Kill their hero- Can we do it this turn, or get to a state that makes it exceedingly likely we can win next turn? This could be achieved by putting multiple high health/ high damage minions on the board at once, overwhelming the enemy.\n",
    "\n",
    "3) Keep as many minions/cards on the board at one time\n",
    "* This means that we want to maximize the amount of damage we deal to their cards, while maintaining as many of our cards on our side. This is called \"trading\" and we can make intelligent trades to maximize the number of cards we maintain on our side while reducing their numbers as much as possible.\n"
   ]
  },
  {
   "attachments": {},
   "cell_type": "markdown",
   "metadata": {},
   "source": [
    "![Example of differences between cards](https://cdn.xgn.es/upload/201412/hearthstone-goblins-vs-gnomos.jpg)"
   ]
  },
  {
   "cell_type": "markdown",
   "metadata": {},
   "source": [
    "Consider the cards above. The \"**Hobgoblin**\" is a 3 mana-cost (as indicated by the number backed by blue) 2-3 (with 2 attack and 3 health). In this simple case, we can ignore the text on the cards as that would unnecessarily complicate our consideration of this instance. \n",
    "\n",
    "The \"**Ship's Cannon**\" is a 2 mana 2-3, and therefore, has the same presence on the board vs. our **Hobgoblin** that costs 3 (and is therefore, more expensive). In the case that our enemy played (put the card on the board) the **Hobgoblin**, and we had a **Ship's Cannon** on the board, we would trade the **Cannon** into the **Hobgoblin**, in an attempt to kill the other minion, as we would gain some Tempo towards winning (as our card costed less, and therfore, we could spend additional mana in getting other things onto the board)."
   ]
  },
  {
   "cell_type": "markdown",
   "metadata": {},
   "source": [
    "There will be exceedingly more non-terminal states than there are terminal states in this example, as the game terminates after someone wins."
   ]
  },
  {
   "cell_type": "markdown",
   "metadata": {},
   "source": [
    "<a/ id='p3d'></a>\n",
    "\n",
    "### (3d)\n",
    "\n",
    "What are the actions and transition model associated with your MDP?"
   ]
  },
  {
   "cell_type": "markdown",
   "metadata": {
    "collapsed": true
   },
   "source": [
    "Each action will have a cost in one of various combinations of different options:\n",
    "* Mana- It could cost us mana to play a card that turn.\n",
    "* Health- It could cost a certain amount of health- be it our character or the card, resulting possibly in the death of the card or your hero.\n",
    "* Damage- Each card can deal a certain amount of damage or otherwise minimize the presence of an alternative card on the board.\n",
    "\n",
    "Considering these facts, we can do the following:\n",
    "* Play a card - Place a card from our hand onto the board\n",
    "* Attack a minion with another minion - whereby possibly removing some of the opposition's presence on the board at the cost of risking our own\n",
    "* Attack the enemy hero - Bringing us closer to winning at the risk of allowing the enemy to keep more cards on the board.\n",
    "* Do nothing - Sometimes, the best strategy is to wait. And sometimes, there's nothing to be done.\n",
    "\n",
    "Further, there is a very clear probabilistic distribution. In the picture above, from the player's perspective (your side is always on the bottom from your perspective), there are 5 entities that you can impact on the enemy side. However, two of the minions have taunts, and therefore, must die before you can impact the other cards on the board. So your initial options will be a 50/50 to attack each of those two cards.\n",
    "\n",
    "The choices we make on our transition model will be heavily weighted against how much we lose and the rewards we have distributed for each decision.\n",
    "\n",
    "Further, it would make sense to have our discount factor to be low at first, and to increase as time goes on, as it is more likely that the game could be lost in one turn as each player gains more mana and can put more on the board at once. (So, we don't want to value the next turn very highly as we could lose if we did nothing about the state of the board now). Transversly, during the first two to three turns, the game is very low impact and it is harder to lose so early, so we can have a high discount factor (closer to one)- saving some cards to play at the same time."
   ]
  },
  {
   "cell_type": "markdown",
   "metadata": {},
   "source": [
    "<a/ id='p3e'></a>\n",
    "\n",
    "### (3e)\n",
    "\n",
    "Interpret what an optimal policy represents in the context of your particular MDP."
   ]
  },
  {
   "cell_type": "markdown",
   "metadata": {
    "collapsed": true
   },
   "source": [
    "An optimal policy would have us winning all of our games.\n",
    "\n",
    "On a turn by turn basis, our optimal policy is going to maximize the total health and damage that our combined minions can deal vs. the combined health and damage of the enemy minions and hero. We would choose the move that leaves the highest combination of these in our advantage.\n",
    "\n",
    "\n",
    "In an academic context, an optimal policy would be to develop an MDP that wins the highest % of all games played.\n",
    "To do so, we would consider how many cards we lost per game, what our ending health was, how many turns it took to win, what our strategy was, and how well we managed the enemy's board.\n",
    "\n",
    "\n",
    "In a realistic context, people would use a bot to try and farm as much of the in-game currency as possible, so there would be an additional condition to win the game as quickly as possible, and therefore, behaviours that waste time and strategies that have longer routes to success/ slower win conditions would be penalized. "
   ]
  },
  {
   "cell_type": "code",
   "execution_count": null,
   "metadata": {
    "collapsed": true
   },
   "outputs": [],
   "source": []
  }
 ],
 "metadata": {
  "kernelspec": {
   "display_name": "Python 3",
   "language": "python",
   "name": "python3"
  },
  "language_info": {
   "codemirror_mode": {
    "name": "ipython",
    "version": 3
   },
   "file_extension": ".py",
   "mimetype": "text/x-python",
   "name": "python",
   "nbconvert_exporter": "python",
   "pygments_lexer": "ipython3",
   "version": "3.6.1"
  }
 },
 "nbformat": 4,
 "nbformat_minor": 2
}
