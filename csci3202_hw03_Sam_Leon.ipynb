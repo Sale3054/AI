{
 "cells": [
  {
   "cell_type": "markdown",
   "metadata": {},
   "source": [
    "<a id='top'></a>\n",
    "\n",
    "# CSCI 3202, Spring 2018\n",
    "# Assignment 3\n",
    "# Due:  Wednesday 28 February 2018 by 12:00 PM\n",
    "\n",
    "<br>\n",
    "\n",
    "### Your name: Samuel Leon\n",
    "\n",
    "<br>\n",
    "\n",
    "**Note:** Some packages to load, helper functions and unit tests are defined at [the bottom of this notebook](#helpers)\n",
    "\n",
    "Shortcuts:  [top](#top) || [1](#p1) | [1a](#p1a) | [1b](#p1b) | [1c](#p1c) | [1d](#p1d) | [1e](#p1e) || [2](#p2) | [2a](#p2a) | [2b](#p2b) | [2c](#p2c) | [2d](#p2d) | [2e](#p2e) | [2f](#p2f) || [helpers](#helpers)"
   ]
  },
  {
   "cell_type": "markdown",
   "metadata": {},
   "source": [
    "---\n",
    "\n",
    "<a id='p1'></a>[Back to top](#top)\n",
    "\n",
    "## Problem 1\n",
    "\n",
    "### Still trying to Escape from Chicago\n",
    "\n",
    "Well, it turns out Snake lived through his perilous trip to New York City.  He returned to Chicago, where he is living happily among the criminals, sea lions and criminal sea lions.\n",
    "\n",
    "During Snake's time on the east coast, he came to realize that the soothing Atlantic Ocean air does wonders for his nerves. Living in the penal colony of Chicago is just so stressful! So he has decided to pack up and move to Providence, Rhode Island.\n",
    "\n",
    "Because Snake has traveled across the country already, he has some prior knowledge regarding how far various cities along the way are from his final destination of Providence.  In particular, Snake maps out the **straight-line distance** from major cities to Providence. This information is displayed graphically below, on a tattoo on Kurt Russell's forearm (you can't prove that isn't true), and in the `sld_providence` dictionary in the [helper functions](#helper) at the bottom of this notebook.\n",
    "\n",
    "Also note that because it doesn't make much sense to add estimated travel times and the straight-line distance, we will only be using the `map_distances` state space graph for this problem.\n",
    "\n",
    "**map_distances**          |  **sld_providence**\n",
    ":-------------------------:|:-------------------------:\n",
    "<img src=\"http://www.cs.colorado.edu/~tonyewong/home/resources/us_map_distances.png\" style=\"width: 500px;\"/>  | <img src=\"http://www.cs.colorado.edu/~tonyewong/home/resources/us_map_heuristicSLD.png\" style=\"width: 500px;\"/>\n",
    "\n",
    "\n",
    "<a id='p1a'></a>\n",
    "### (1a)\n",
    "\n",
    "Modify your code for uniform-cost search from Homework 2 so that it provides optionally as output the number of nodes **expanded** in completing the search. \n",
    "\n",
    "Include a new optional logical (True/False) argument **return_nexp**, so your function calls to the new uniform cost search will look like: `uniform_cost(start, goal, state_graph, return_cost, return_nexp)`.\n",
    "* If `return_nexp` is True, then the last output in the output tuple should be the number of nodes expanded.\n",
    "* If `return_nexp` is False, then the code should behave exactly as it did in Homework 2.\n",
    "\n",
    "Then, verify that your revised codes are working by checking Snake's optimal route from Chicago to New York. Include the number of nodes expanded and the path cost (using `map_distances`)."
   ]
  },
  {
   "cell_type": "code",
   "execution_count": 1,
   "metadata": {
    "collapsed": true
   },
   "outputs": [],
   "source": [
    "import heapq\n",
    "class Frontier_PQ:\n",
    "    ''' frontier class for uniform search, ordered by path cost '''\n",
    "    \n",
    "    def __init__(self, start, cost):\n",
    "        self.states = {}\n",
    "        self.q = []\n",
    "        self.add(start, cost)\n",
    "        \n",
    "    def add(self, state, cost):\n",
    "        ''' push the new state and cost to get there onto the heap'''\n",
    "        heapq.heappush(self.q, (cost, state))\n",
    "        self.states[state] = cost\n",
    "\n",
    "    def pop(self):\n",
    "        (cost, state) = heapq.heappop(self.q)  # get cost of getting to explored state\n",
    "        self.states.pop(state)    # and remove from frontier\n",
    "        return (cost, state)\n",
    "\n",
    "    def replace(self, state, cost):\n",
    "        ''' found a cheaper route to `state`, replacing old cost with new `cost` '''\n",
    "        self.states[state] = cost\n",
    "        for i, (oldcost, oldstate) in enumerate(self.q):\n",
    "            if oldstate==state and oldcost > cost:\n",
    "                self.q[i] = (cost, state)\n",
    "                heapq._siftdown(self.q, 0, i) # now i is posisbly out of order; restore\n",
    "        return\n",
    "    \n",
    "\n",
    "def uniform_cost(start, goal, state_graph, return_cost=False, return_nexp=False, print_expansions = False):\n",
    "    frontier = Frontier_PQ(start, 0)\n",
    "    previous = {start : None}\n",
    "    explored = {}\n",
    "    nodes = 0\n",
    "    expansions = []\n",
    "    \n",
    "    while frontier:\n",
    "        s = frontier.pop()\n",
    "        nodes += 1\n",
    "        expansions.append(s[1])\n",
    "        if s[1] == goal:\n",
    "            if return_cost == True: \n",
    "                if return_nexp == True: \n",
    "                    if print_expansions: print(\"Expansions: \", expansions)\n",
    "                    return path(previous, s[1]), s[0], nodes\n",
    "                else:\n",
    "                    if print_expansions: print(\"Expansions: \", expansions)\n",
    "                    return path(previous, s[1]), s[0]\n",
    "            if return_cost == False:\n",
    "                if return_nexp == True: \n",
    "                    if print_expansions: print(\"Expansions: \", expansions)\n",
    "                    return path(previous, s[1]), nodes\n",
    "                else:\n",
    "                    if print_expansions: print(\"Expansions: \", expansions)\n",
    "                    return path(previous, s[1])\n",
    "        \n",
    "        explored[s[1]] = s[0]\n",
    "        for s2 in state_graph[s[1]]:\n",
    "            #print(state_graph[s[1]])\n",
    "            newcost = explored[s[1]]+state_graph[s[1]][s2]\n",
    "            if (s2 not in explored) and (s2 not in frontier.states):\n",
    "                frontier.add(s2, newcost)\n",
    "                previous[s2] = s[1]\n",
    "            elif (s2 in frontier.states) and (frontier.states[s2] > newcost):\n",
    "                frontier.replace(s2, newcost)\n",
    "                previous[s2] = s[1]\n",
    "                \n",
    "                "
   ]
  },
  {
   "cell_type": "markdown",
   "metadata": {},
   "source": [
    "#### Unit tests"
   ]
  },
  {
   "cell_type": "code",
   "execution_count": 2,
   "metadata": {},
   "outputs": [
    {
     "ename": "NameError",
     "evalue": "name 'unittest' is not defined",
     "output_type": "error",
     "traceback": [
      "\u001b[1;31m---------------------------------------------------------------------------\u001b[0m",
      "\u001b[1;31mNameError\u001b[0m                                 Traceback (most recent call last)",
      "\u001b[1;32m<ipython-input-2-e21ff27bf57a>\u001b[0m in \u001b[0;36m<module>\u001b[1;34m()\u001b[0m\n\u001b[1;32m----> 1\u001b[1;33m \u001b[0mtests_to_run\u001b[0m \u001b[1;33m=\u001b[0m \u001b[0munittest\u001b[0m\u001b[1;33m.\u001b[0m\u001b[0mTestSuite\u001b[0m\u001b[1;33m(\u001b[0m\u001b[1;33m)\u001b[0m\u001b[1;33m\u001b[0m\u001b[0m\n\u001b[0m\u001b[0;32m      2\u001b[0m \u001b[0mtests_to_run\u001b[0m\u001b[1;33m.\u001b[0m\u001b[0maddTest\u001b[0m\u001b[1;33m(\u001b[0m\u001b[0mTests_Problem1\u001b[0m\u001b[1;33m(\u001b[0m\u001b[1;34m'test_ucs_route'\u001b[0m\u001b[1;33m)\u001b[0m\u001b[1;33m)\u001b[0m\u001b[1;33m\u001b[0m\u001b[0m\n\u001b[0;32m      3\u001b[0m \u001b[0mtests_to_run\u001b[0m\u001b[1;33m.\u001b[0m\u001b[0maddTest\u001b[0m\u001b[1;33m(\u001b[0m\u001b[0mTests_Problem1\u001b[0m\u001b[1;33m(\u001b[0m\u001b[1;34m'test_ucs_cost'\u001b[0m\u001b[1;33m)\u001b[0m\u001b[1;33m)\u001b[0m\u001b[1;33m\u001b[0m\u001b[0m\n\u001b[0;32m      4\u001b[0m \u001b[0mtests_to_run\u001b[0m\u001b[1;33m.\u001b[0m\u001b[0maddTest\u001b[0m\u001b[1;33m(\u001b[0m\u001b[0mTests_Problem1\u001b[0m\u001b[1;33m(\u001b[0m\u001b[1;34m'test_ucs_nexp'\u001b[0m\u001b[1;33m)\u001b[0m\u001b[1;33m)\u001b[0m\u001b[1;33m\u001b[0m\u001b[0m\n\u001b[0;32m      5\u001b[0m \u001b[0munittest\u001b[0m\u001b[1;33m.\u001b[0m\u001b[0mTextTestRunner\u001b[0m\u001b[1;33m(\u001b[0m\u001b[1;33m)\u001b[0m\u001b[1;33m.\u001b[0m\u001b[0mrun\u001b[0m\u001b[1;33m(\u001b[0m\u001b[0mtests_to_run\u001b[0m\u001b[1;33m)\u001b[0m\u001b[1;33m\u001b[0m\u001b[0m\n",
      "\u001b[1;31mNameError\u001b[0m: name 'unittest' is not defined"
     ]
    }
   ],
   "source": [
    "tests_to_run = unittest.TestSuite()\n",
    "tests_to_run.addTest(Tests_Problem1('test_ucs_route'))\n",
    "tests_to_run.addTest(Tests_Problem1('test_ucs_cost'))\n",
    "tests_to_run.addTest(Tests_Problem1('test_ucs_nexp'))\n",
    "unittest.TextTestRunner().run(tests_to_run)"
   ]
  },
  {
   "cell_type": "markdown",
   "metadata": {},
   "source": [
    "<br>\n",
    "\n",
    "<a/ id='p1b'></a>\n",
    "\n",
    "### (1b)\n",
    "\n",
    "#### Heuristic function\n",
    "\n",
    "Define a function to take as an argument the `state` that Snake is in (city on our graphs), and return as output the value of the straight-line distance heuristic, between Snake's `state` and Providence.  Note that your function should be quite short, and amounts to looking up the proper value from the `sld_providence` dictionary defined in the [helper functions](#helper).  Call this function `heuristic_sld_providence`.\n",
    "\n",
    "This might seem sort of silly right now, but it will make your codes much easier to adapt in Problem 2."
   ]
  },
  {
   "cell_type": "code",
   "execution_count": null,
   "metadata": {
    "collapsed": true
   },
   "outputs": [],
   "source": [
    "def heuristic_sld_providence(state, state_graph = sld_providence):\n",
    "    return state_graph[state]"
   ]
  },
  {
   "cell_type": "markdown",
   "metadata": {},
   "source": [
    "#### Unit tests"
   ]
  },
  {
   "cell_type": "code",
   "execution_count": null,
   "metadata": {},
   "outputs": [],
   "source": [
    "tests_to_run = unittest.TestSuite()\n",
    "tests_to_run.addTest(Tests_Problem1(\"test_sld_providence\"))\n",
    "unittest.TextTestRunner().run(tests_to_run)"
   ]
  },
  {
   "cell_type": "markdown",
   "metadata": {},
   "source": [
    "<br>\n",
    "\n",
    "<a/ id='p1c'></a>\n",
    "\n",
    "### (1c)\n",
    "\n",
    "#### Full-blown A\\* search\n",
    "\n",
    "We are finally ready to help Snake use his knowledge of straight-line distances from various cities to Providence to inform his path-finding from Chicago to Providence!\n",
    "\n",
    "Modify your uniform-cost search codes from **(1a)** even further so that they now perform **A\\* search**, using as the heuristic function the straight-line distance to Providence.\n",
    "\n",
    "Provide `heuristic` as an additional argument, which should just be the function name to call within the A\\* code. So your call to the A\\* routine should look like:  `astar_search(start, goal, state_graph, heuristic, return_cost, return_nexp)`.  (This kind of modular programming will make it much easier to swap in alternative heuristic functions later, and also helps to facilitate debugging if something goes wrong.)"
   ]
  },
  {
   "cell_type": "code",
   "execution_count": null,
   "metadata": {
    "collapsed": true
   },
   "outputs": [],
   "source": [
    "import heapq\n",
    "class Frontier_PQA:\n",
    "    ''' frontier class for uniform search, ordered by path cost '''\n",
    "    \n",
    "    def __init__(self, h_cost, start, cost):\n",
    "        self.states = {}\n",
    "        self.q = []\n",
    "        self.h = {}\n",
    "        self.add(h_cost, start, cost)\n",
    "        \n",
    "    def add(self, h_cost, state, cost):\n",
    "        ''' push the new state and cost to get there onto the heap'''\n",
    "        heapq.heappush(self.q, (h_cost, cost, state))\n",
    "        self.states[state] = cost\n",
    "\n",
    "    def pop(self):\n",
    "        (h_cost, cost, state) = heapq.heappop(self.q)  # get cost of getting to explored state\n",
    "        self.states.pop(state)    # and remove from frontier\n",
    "        return (h_cost, cost, state)\n",
    "\n",
    "    def replace(self, state, cost, h_cost = 0):\n",
    "        ''' found a cheaper route to `state`, replacing old cost with new `cost` '''\n",
    "        self.states[state] = cost\n",
    "        for i, (oldcost, oldstate) in enumerate(self.q):\n",
    "            if oldstate==state and oldcost > cost:\n",
    "                self.q[i] = (h_cost, cost, state)\n",
    "                heapq._siftdown(self.q, 0, i) # now i is posisbly out of order; restore\n",
    "        return\n",
    "    \n",
    "def astar_search(start, goal, state_graph, heuristic, return_cost=False, return_nexp=False, print_expansions = False):\n",
    "    #Class to implement Priority Queue-\n",
    "    #Owning the following methods: Add, Replace, Pop\n",
    "    frontier = Frontier_PQA(heuristic(start), start, 0)\n",
    "    previous = {}\n",
    "    previous[start] = None\n",
    "    \n",
    "    #Dictionary- Actual cost to node\n",
    "    cost_so_far = {}\n",
    "    cost_so_far[start] = 0\n",
    "       \n",
    "    #Number of nodes expanded thus far\n",
    "    expanded = 0\n",
    "    #List storing the expanded nodes\n",
    "    expansions = []\n",
    "    #Bool for debugging purposes\n",
    "    debug = False\n",
    "    \n",
    "    #While the queue is not empty\n",
    "    while frontier:\n",
    "        #If debug bool is true, check the state of the queue after x expanded nodes\n",
    "        if debug:\n",
    "            print(f\"State of the queue after {expanded} expanded:\")\n",
    "            for thing in frontier.q:\n",
    "                print(f\"    {thing}\")\n",
    "        \n",
    "        #Get minimum item from the \n",
    "        heuristic_cost, city_cost, city_name = frontier.pop()\n",
    "        expanded += 1\n",
    "        expansions.append(city_name)\n",
    "        \n",
    "        if city_name == goal:\n",
    "            if return_cost == True: \n",
    "                if return_nexp == True: \n",
    "                    if print_expansions: print(\"Expansions: \", expansions)\n",
    "                    return path(previous, city_name), city_cost, expanded\n",
    "                else:\n",
    "                    if print_expansions: print(\"Expansions: \", expansions)\n",
    "                    return path(previous, city_name), city_cost\n",
    "            if return_cost == False:\n",
    "                if return_nexp == True: \n",
    "                    if print_expansions: print(\"Expansions: \", expansions)\n",
    "                    return path(previous, city_name), expanded\n",
    "                else:\n",
    "                    if print_expansions: print(\"Expansions: \", expansions)\n",
    "                    return path(previous, city_name)\n",
    "        \n",
    "        cost_so_far[city_name] = city_cost\n",
    "        \n",
    "        for neighbors in state_graph[city_name]:\n",
    "            new_cost = cost_so_far[city_name] + state_graph[city_name][neighbors]\n",
    "            \n",
    "            \n",
    "            if neighbors not in cost_so_far or new_cost < cost_so_far[neighbors]:\n",
    "                priority = new_cost + heuristic(neighbors)\n",
    "                cost_so_far[neighbors] = priority\n",
    "                \n",
    "                frontier.add(priority, neighbors, new_cost)\n",
    "                previous[neighbors] = city_name"
   ]
  },
  {
   "cell_type": "markdown",
   "metadata": {},
   "source": [
    "\n",
    "#### Unit tests"
   ]
  },
  {
   "cell_type": "code",
   "execution_count": null,
   "metadata": {},
   "outputs": [],
   "source": [
    "tests_to_run = unittest.TestSuite()\n",
    "tests_to_run.addTest(Tests_Problem1(\"test_astar_path\"))\n",
    "tests_to_run.addTest(Tests_Problem1(\"test_astar_cost\"))\n",
    "tests_to_run.addTest(Tests_Problem1(\"test_astar_nexp\"))\n",
    "unittest.TextTestRunner().run(tests_to_run)"
   ]
  },
  {
   "cell_type": "markdown",
   "metadata": {},
   "source": [
    "<br>\n",
    "\n",
    "<a/ id='p1d'></a>\n",
    "\n",
    "### (1d)\n",
    "\n",
    "Snake has already made it to Buffalo on his own, but he is growing weary.  There were ***so*** many sea lions along the way, and he had to stop and admire their grace and beauty.  Use your A\\* search code from **(1c)** to help Snake find the optimal path **by distance traveled** the rest of the way to Providence.  Print to the screen the following:\n",
    "1. the optimal path\n",
    "2. the optimal path cost (miles traveled)\n",
    "3. the number of states expanded during the A\\* search\n",
    "\n",
    "Additionally, show below how many states must be expanded to find the optimal path from Buffalo to Providence using the regular old uniform-cost search algorithm from **(1a)**.  Comment on the difference in states that must be explored by each algorithm.\n",
    "\n",
    "**Sanity check:** No matter what your `start` and `goal` states are, how should the output from `astar_search` and `uniform_cost` search compare?"
   ]
  },
  {
   "cell_type": "code",
   "execution_count": null,
   "metadata": {},
   "outputs": [],
   "source": [
    "print(uniform_cost('buf', 'pro', map_distances, return_cost=True, return_nexp=True, print_expansions = True))\n",
    "print(astar_search('buf','pro', map_distances, heuristic_sld_providence, return_cost=True, return_nexp=True, print_expansions = True))"
   ]
  },
  {
   "cell_type": "markdown",
   "metadata": {},
   "source": [
    "<br>\n",
    "\n",
    "<a/ id='p1e'></a>\n",
    "\n",
    "### (1e)\n",
    "\n",
    "How many states are expanded by each of A\\* search and uniform cost search, to find the optimal path **from Philadelphia to Providence**?"
   ]
  },
  {
   "cell_type": "code",
   "execution_count": null,
   "metadata": {
    "scrolled": true
   },
   "outputs": [],
   "source": [
    "print(uniform_cost('phi', 'pro', map_distances, return_cost=True, return_nexp=True, print_expansions = True))\n",
    "print(astar_search('phi','pro', map_distances, heuristic_sld_providence, return_cost=True, return_nexp=True, print_expansions = True))"
   ]
  },
  {
   "cell_type": "markdown",
   "metadata": {},
   "source": [
    "You should find that uniform cost search has explored more states than A\\* search.  Name the city/cities corresponding to the additional state expansions, and a brief justification for how you know these are being explored."
   ]
  },
  {
   "cell_type": "markdown",
   "metadata": {
    "collapsed": true
   },
   "source": [
    "It is the case that UCS expands more nodes to find the optimal path, compared to A\\* search, which, in this case, expands two less nodes."
   ]
  },
  {
   "cell_type": "markdown",
   "metadata": {},
   "source": [
    "<br>\n",
    "\n",
    "---\n",
    "\n",
    "<br>\n",
    "\n",
    "[Back to top](#top)\n",
    "\n",
    "<a/ id='p2'></a>\n",
    "\n",
    "![8tile](http://www.8puzzle.com/images/8_puzzle_goal_state_b.png)\n",
    "\n",
    "## Problem 2\n",
    "\n",
    "### 8-tile puzzle\n",
    "\n",
    "Consider the 8-tile puzzle, as discussed in class.  The goal state is illustrated in the figure above, and the rest of the state space is obtained by sliding a numbered tile in the plane of the puzzle into the blank spot.  We can use a 0 to represent the blank space, and represent the state of an 8-tile puzzle board as a `numpy` array as follows:"
   ]
  },
  {
   "cell_type": "code",
   "execution_count": null,
   "metadata": {},
   "outputs": [],
   "source": [
    "goal = np.array([[0,1,2],[3,4,5],[6,7,8]])\n",
    "\n",
    "start = np.array([[8,7,6], [5,4,3], [2,1,0]])\n",
    "\n",
    "print(f'Start state is:\\n{start}')\n",
    "print(f'Goal state is:\\n{goal}')\n"
   ]
  },
  {
   "cell_type": "markdown",
   "metadata": {},
   "source": [
    "<br>\n",
    "\n",
    "<a/ id='p2a'></a>\n",
    "\n",
    "### (2a)\n",
    "\n",
    "Design two heuristic functions to return the **Manhattan distance** heuristic and the **number of misplaced tiles** heuristic.  These functions should be called `heuristic_manhattan` and `heuristic_misplaced`, and:\n",
    "* take two `numpy` array arguments, `state` and `goal`\n",
    "* `state` is the current state of an 8-tile board,\n",
    "* `goal` is the goal state to measure against,\n",
    "* return the appropriate heuristic value (Manhattan distance or misplaced tiles) for the estimated distance of the given `state` to the `goal`"
   ]
  },
  {
   "cell_type": "code",
   "execution_count": null,
   "metadata": {
    "collapsed": true
   },
   "outputs": [],
   "source": [
    "def heuristic_manhattan(state, goal):\n",
    "    coordinates_state = {}\n",
    "    coordinates_goal = {}\n",
    "    dist = 0\n",
    "    for x in range(len(state)):\n",
    "        for y in range(len(state)):\n",
    "            coordinates_state[state[x][y]] = (x,y)\n",
    "            coordinates_goal[goal[x][y]] = (x,y)\n",
    "     \n",
    "    for i in range(len(coordinates_state)):\n",
    "        x, y = coordinates_state[i]\n",
    "        x2, y2 = coordinates_goal[i]\n",
    "        dist += (abs(x2 - x) + abs(y2-y))\n",
    "        \n",
    "    return dist\n",
    "\n",
    "heuristic_manhattan(start, goal)\n",
    "def heuristic_misplaced(state, goal):\n",
    "    differences = (state != goal)\n",
    "    num_displaced = sum(sum(differences))\n",
    "    return num_displaced"
   ]
  },
  {
   "cell_type": "markdown",
   "metadata": {},
   "source": [
    "#### Unit tests"
   ]
  },
  {
   "cell_type": "code",
   "execution_count": null,
   "metadata": {},
   "outputs": [],
   "source": [
    "tests_to_run = unittest.TestSuite()\n",
    "tests_to_run.addTest(Tests_Problem2(\"test_manhattan\"))\n",
    "tests_to_run.addTest(Tests_Problem2(\"test_misplaced\"))\n",
    "unittest.TextTestRunner().run(tests_to_run)"
   ]
  },
  {
   "cell_type": "markdown",
   "metadata": {},
   "source": [
    "<br>\n",
    "\n",
    "<a/ id='p2b'></a>\n",
    "\n",
    "### (2b)\n",
    "\n",
    "#### Is this puzzle even solvable??\n",
    "\n",
    "It turns out that some arrangements of those 8 tiles are not possible to solve into the `goal` state given above. We would like to be able to check whether or not a given 8-tile puzzle board is solvable.\n",
    "\n",
    "Suppose you take the tiles of any given 8-tile puzzle board and arranged them in a single row, with the first row coming in order first, then the second row in order, and finally the third row in order.  So the goal state would be [1,2,3,4,5,6,7,8]. Another possible state is:"
   ]
  },
  {
   "cell_type": "code",
   "execution_count": null,
   "metadata": {
    "collapsed": true
   },
   "outputs": [],
   "source": [
    "state_test = np.array([[1,4,2],[3,0,5],[6,7,8]])"
   ]
  },
  {
   "cell_type": "markdown",
   "metadata": {},
   "source": [
    "The state `state_test` is found by sliding the 1 tile to the blank spot, then sliding the 4 tile up to take the position formerly occupied by the 1 tile.  When we rearrange this state into a row, we obtain [1,4,2,3,5,6,7,8].\n",
    "\n",
    "We define an **inverted tile pair** to be a pair of tiles in the row representation of the puzzle that is out of order relative to the goal state. That is, each occurrence of a tile that has a higher value than another tile later in the row counts as an inversion.  So `state_test` has **two** inversions:  4 and 2, and 4 and 3.\n",
    "\n",
    "We define the **parity** of an 8-tile board to be the number of inversions in the puzzle board.  So the parity of `state_test` is 2, and the parity of `goal` is 0. An 8-tile puzzle board may be rearranged (within the rules of the game) into another board if the two boards have the same parity. So it would be very handy if we had a function to check whether or not an arbitrary arrangement of those 8 tiles can be solved for a given `goal` state.\n",
    "\n",
    "Write a function `check_parity(state1, state2)`:\n",
    "* take as arguments two `numpy` arrays representing 8-tile boards, `state1` and `state2`\n",
    "* return `True` if the two boards have the same parity and `False` otherwise"
   ]
  },
  {
   "cell_type": "code",
   "execution_count": null,
   "metadata": {},
   "outputs": [],
   "source": [
    "def check_parity(state1, state2):\n",
    "    goal = np.array([[1,4,2], [3,0,5], [6,7,8]])\n",
    "    num_swaps_s1 = 0\n",
    "    num_swaps_s2 = 0\n",
    "    \n",
    "    for i in range(len(state1)):\n",
    "        for j in range(len(state1)):\n",
    "            first_check = heuristic_misplaced(state1, goal)\n",
    "            \n",
    "            temp = state1[i][j]\n",
    "            \n",
    "            state1[i][j] = goal[i][j]\n",
    "            \n",
    "            second_check = heuristic_misplaced(state1, goal)\n",
    "            \n",
    "            if second_check >= first_check:\n",
    "                state1[i][j] = temp\n",
    "            else:\n",
    "                num_swaps_s1 += 1\n",
    "    \n",
    "    for i in range(len(state2)):\n",
    "        for j in range(len(state2)):\n",
    "            first_check = heuristic_misplaced(state2, goal)\n",
    "            \n",
    "            temp = state2[i][j]\n",
    "            \n",
    "            state2[i][j] = goal[i][j]\n",
    "            \n",
    "            second_check = heuristic_misplaced(state2, goal)\n",
    "            \n",
    "            if second_check >= first_check:\n",
    "                state2[i][j] = temp\n",
    "            else:\n",
    "                num_swaps_s2 += 1\n",
    "                \n",
    "    return num_swaps_s1%2 == num_swaps_s2%2\n",
    "\n",
    "check_parity(start, goal)\n",
    "    "
   ]
  },
  {
   "cell_type": "markdown",
   "metadata": {},
   "source": [
    "#### Unit tests"
   ]
  },
  {
   "cell_type": "code",
   "execution_count": null,
   "metadata": {},
   "outputs": [],
   "source": [
    "tests_to_run = unittest.TestSuite()\n",
    "tests_to_run.addTest(Tests_Problem2(\"test_parity_true\"))\n",
    "tests_to_run.addTest(Tests_Problem2(\"test_parity_false\"))\n",
    "unittest.TextTestRunner().run(tests_to_run)"
   ]
  },
  {
   "cell_type": "markdown",
   "metadata": {},
   "source": [
    "<br>\n",
    "\n",
    "<a/ id='p2c'></a>\n",
    "\n",
    "### (2c)\n",
    "\n",
    "Because your instructor is such a swell guy, the `map_distances` and `map_times` graphs were nicely defined. This meant that finding the successors of a given city in the route-finding homework problems amounted to looking up the values of that key in a dictionary. For the 8-tile problem, however, we do **not** want to try to build the entire state space graph in memory! Even if we can, it's just such a pain.\n",
    "\n",
    "Instead, let's write a function `adjacent_states`:\n",
    "* take a single input argument `state`, which is a `numpy` array representing an 8-tile board arrangement\n",
    "* return as output a list of `numpy` arrays that are the states one move away from the input `state`\n",
    "\n",
    "For example, if you run `adjacent_states(goal)`, the expected output should be\n",
    "\n",
    "`[array([[3, 1, 2], [0, 4, 5], [6, 7, 8]]),\n",
    " array([[1, 0, 2], [3, 4, 5], [6, 7, 8]])]`\n",
    "\n",
    "which are the states obtained from the `goal` state by sliding the 3 tile up and by sliding the 1 tile to the left, respectively."
   ]
  },
  {
   "cell_type": "code",
   "execution_count": null,
   "metadata": {},
   "outputs": [],
   "source": [
    "def adjacent_states(state):\n",
    "    adj = []\n",
    "    temp = state\n",
    "    for i in range(len(state)):\n",
    "        for j in range(len(state)):\n",
    "            #print(state)\n",
    "            if state[i][j] == 0:\n",
    "                if i != 0:\n",
    "                    #Save Move Up\n",
    "                    temp = np.copy(state)\n",
    "                    swap = state[i-1][j]\n",
    "                    state[i-1][j] = state[i][j]\n",
    "                    state[i][j] = swap\n",
    "                    adj.append(np.array(state).reshape(3,3))\n",
    "                    state = np.copy(temp)\n",
    "                    \n",
    "                if i != len(state)-1:\n",
    "                    #Save Move Down\n",
    "                    temp = np.copy(state)\n",
    "                    swap = state[i+1][j]\n",
    "                    state[i+1][j] = state[i][j]\n",
    "                    state[i][j] = swap\n",
    "                    adj.append(np.array(state).reshape(3,3))\n",
    "                    state = np.copy(temp)\n",
    "                    \n",
    "                if j != 0:\n",
    "                    #Save Move Left\n",
    "                    temp = np.copy(state)\n",
    "                    swap = state[i][j-1]\n",
    "                    state[i][j-1] = state[i][j]\n",
    "                    state[i][j] = swap\n",
    "                    adj.append(np.array(state).reshape(3,3))\n",
    "                    state = np.copy(temp)\n",
    "                    \n",
    "                if j != len(state[i])-1:\n",
    "                    #Save Move Right\n",
    "                    temp = np.copy(state)\n",
    "                    swap = state[i][j+1]\n",
    "                    state[i][j+1] = state[i][j]\n",
    "                    state[i][j] = swap\n",
    "                    adj.append(np.array(state).reshape(3,3))\n",
    "                    state = np.copy(temp)\n",
    "    return adj\n",
    "\n",
    "goal = np.array([[1,2,3], [4,5,0], [6,7,8]])\n",
    "adjacent_states(goal)"
   ]
  },
  {
   "cell_type": "markdown",
   "metadata": {},
   "source": [
    "#### Unit tests"
   ]
  },
  {
   "cell_type": "code",
   "execution_count": null,
   "metadata": {},
   "outputs": [],
   "source": [
    "tests_to_run = unittest.TestSuite()\n",
    "tests_to_run.addTest(Tests_Problem2(\"test_adjacent\"))\n",
    "unittest.TextTestRunner().run(tests_to_run)"
   ]
  },
  {
   "cell_type": "markdown",
   "metadata": {},
   "source": [
    "<br>\n",
    "\n",
    "<a/ id='p2d'></a>\n",
    "\n",
    "### (2d)\n",
    "\n",
    "Modify your **A\\* search** from above so that instead of looking in the graphs `map_distances` or `map_times` for the successor states, it generates them on the fly using your shiny new `adjacent_states` routine from **(2c)**. \n",
    "\n",
    "Some notes:\n",
    "* You may run into some problems with using the `numpy` arrays to represent states. One potential solution is to convert these arrays to/from tuples, as needed. This is not the only solution.\n",
    "* When you start to test your code, be sure to begin with simple test cases that you know are only a few moves away from the goal state.\n",
    "* Be sure to implement a check to make sure the initial state is solvable for the given goal state!  And do not hard-code the goal state given above.\n",
    "* You may need to modify how path costs are added up and returned. The returned cost of the solution path ought to be the number of **moves** needed to solve the puzzle, which is one less than the number of states on the solution path.\n",
    "* Depending on how you implemented your Frontier Priority Queue, you may or may not need to make modifications to it. My implementation did not require any modification."
   ]
  },
  {
   "cell_type": "code",
   "execution_count": null,
   "metadata": {
    "collapsed": true
   },
   "outputs": [],
   "source": [
    "def astar_search(start, goal, state_graph, heuristic, return_cost=False, return_nexp=False, print_expansions = False):\n",
    "    #Class to implement Priority Queue-\n",
    "    #Owning the following methods: Add, Replace, Pop\n",
    "    frontier = Frontier_PQA(heuristic(start), start, 0)\n",
    "    previous = {}\n",
    "    previous[start] = None\n",
    "    \n",
    "    #Dictionary- Actual cost to node\n",
    "    cost_so_far = {}\n",
    "    cost_so_far[start] = 0\n",
    "       \n",
    "    #Number of nodes expanded thus far\n",
    "    expanded = 0\n",
    "    #List storing the expanded nodes\n",
    "    expansions = []\n",
    "    #Bool for debugging purposes\n",
    "    debug = False\n",
    "    \n",
    "    #While the queue is not empty\n",
    "    while frontier:\n",
    "        #If debug bool is true, check the state of the queue after x expanded nodes\n",
    "        if debug:\n",
    "            print(f\"State of the queue after {expanded} expanded:\")\n",
    "            for thing in frontier.q:\n",
    "                print(f\"    {thing}\")\n",
    "        \n",
    "        #Get minimum item from the frontier queue\n",
    "        heuristic_cost, city_cost, city_name = frontier.pop()\n",
    "        expanded += 1\n",
    "        expansions.append(city_name)\n",
    "        \n",
    "        if city_name == goal:\n",
    "            if return_cost == True: \n",
    "                if return_nexp == True: \n",
    "                    if print_expansions: print(\"Expansions: \", expansions)\n",
    "                    return path(previous, city_name), city_cost, expanded\n",
    "                else:\n",
    "                    if print_expansions: print(\"Expansions: \", expansions)\n",
    "                    return path(previous, city_name), city_cost\n",
    "            if return_cost == False:\n",
    "                if return_nexp == True: \n",
    "                    if print_expansions: print(\"Expansions: \", expansions)\n",
    "                    return path(previous, city_name), expanded\n",
    "                else:\n",
    "                    if print_expansions: print(\"Expansions: \", expansions)\n",
    "                    return path(previous, city_name)\n",
    "        \n",
    "        cost_so_far[city_name] = city_cost\n",
    "        \n",
    "        for neighbors in state_graph[city_name]:\n",
    "            new_cost = cost_so_far[city_name] + state_graph[city_name][neighbors]\n",
    "            \n",
    "            \n",
    "            if neighbors not in cost_so_far or new_cost < cost_so_far[neighbors]:\n",
    "                priority = new_cost + heuristic(neighbors)\n",
    "                cost_so_far[neighbors] = priority\n",
    "                \n",
    "                frontier.add(priority, neighbors, new_cost)\n",
    "                previous[neighbors] = city_name"
   ]
  },
  {
   "cell_type": "markdown",
   "metadata": {},
   "source": [
    "#### Unit tests\n",
    "\n",
    "Note that this will fail if your output path (first output slot) is not one of (1) a list of tuples, or (2) a list of `numpy` arrays."
   ]
  },
  {
   "cell_type": "code",
   "execution_count": null,
   "metadata": {},
   "outputs": [],
   "source": [
    "tests_to_run = unittest.TestSuite()\n",
    "tests_to_run.addTest(Tests_Problem2(\"test_astar_8tile\"))\n",
    "unittest.TextTestRunner().run(tests_to_run)"
   ]
  },
  {
   "cell_type": "markdown",
   "metadata": {},
   "source": [
    "<br>\n",
    "\n",
    "<a/ id='p2e'></a>\n",
    "\n",
    "### (2e)\n",
    "\n",
    "#### We need to generate some puzzles to test this out!\n",
    "\n",
    "Create a function `generate_puzzle(goal, n_moves)` to generate a solvable 8-tile puzzle by making `n_moves` random moves, starting from the `goal` state.\n",
    "* `goal` argument is a `numpy` array representing a valid 8-tile puzzle\n",
    "* `n_moves` is a positive integer argument.  For each of `n_moves` iterations, generate the set of all legal 8-tile puzzle moves (you might already have a nice function for this...) and select one at random.\n",
    "* When you generate the set of possible adjacent states to move to, remove any of the previous states from the list of possibilities.  This will avoid \"undoing\" any of the moves you've made to mix up the tiles, which is important because the point of this function is to generate tough puzzles for our codes to solve.\n",
    "* return as output a tuple:\n",
    "  * first element is the puzzle itself (as a `numpy` array)\n",
    "  * second element is the list of previous states, so you can see the list of moves made to generate this puzzle.  This will be helpful for checking if our A\\* codes are finding the correct solutions."
   ]
  },
  {
   "cell_type": "code",
   "execution_count": null,
   "metadata": {},
   "outputs": [],
   "source": [
    "def generate_puzzle(goal, n_moves):\n",
    "    \n",
    "    def pick_random(state_list):\n",
    "        #print(\"State list: \", state_list)\n",
    "        return state_list[np.random.randint(0, len(state_list))]\n",
    "    path = [goal]\n",
    "    current_state = goal\n",
    "    for i in range(n_moves):\n",
    "        current_options = adjacent_states(goal)\n",
    "        current_state = pick_random(current_options)\n",
    "        path.append(current_state)\n",
    "        #print(path, selected_move)\n",
    "    return (path[-1], path)   \n",
    "\n",
    "goal = np.array([[1,2,3],[4,0,5],[6,7,8]])\n",
    "print(generate_puzzle(goal, 2))"
   ]
  },
  {
   "cell_type": "markdown",
   "metadata": {},
   "source": [
    "**Important question:** If you generate more complex puzzles (think 20 or more moves), there's a nontrivial probability that your A\\* search routine will be able to find a solution in *fewer* moves than the `n_moves` argument you supplied to `generate_puzzle` to create that very puzzle.\n",
    "1. Verify that this is the case with at least one example.\n",
    "2. Explain why this is the case."
   ]
  },
  {
   "cell_type": "code",
   "execution_count": null,
   "metadata": {
    "collapsed": true
   },
   "outputs": [],
   "source": []
  },
  {
   "cell_type": "markdown",
   "metadata": {},
   "source": [
    "#### Unit tests\n",
    "\n",
    "Note that these won't work unless your A\\* search and heuristic functions are working."
   ]
  },
  {
   "cell_type": "code",
   "execution_count": null,
   "metadata": {},
   "outputs": [],
   "source": [
    "tests_to_run = unittest.TestSuite()\n",
    "tests_to_run.addTest(Tests_Problem2(\"test_generate1\"))\n",
    "tests_to_run.addTest(Tests_Problem2(\"test_generate2\"))\n",
    "unittest.TextTestRunner().run(tests_to_run)"
   ]
  },
  {
   "cell_type": "markdown",
   "metadata": {},
   "source": [
    "<br>\n",
    "\n",
    "<a/ id='p2f'></a>\n",
    "\n",
    "### (2f)\n",
    "\n",
    "Generate 8-tiles puzzles varying in complexity in number of moves for the optimal solution, ranging from 10 moves to at least 25 moves.  Solve each puzzle twice using A\\* search:  once using the Manhattan distance heuristic, and once using the misplaced tiles heuristic.  Keep track of:\n",
    "1. the number of moves in the optimal solution path for each puzzle,\n",
    "2. the number of states explored by A\\* search using the Manhattan distance heuristic, and\n",
    "3. the number of states explored by A\\* search using the number of misplaced tiles heuristic.\n",
    "\n",
    "In light of your answer to **(2e)**, it might be difficult to reliably generate the more complex puzzles.  As long as there are at least two puzzles that require at least 20 moves to solve, you have satisfied the problem requirements.\n",
    "\n",
    "Note that you could put some `while` loops in here (for example) to make sure you get puzzles with all of the requisite solution path lengths. I don't really care if you do or not."
   ]
  },
  {
   "cell_type": "code",
   "execution_count": null,
   "metadata": {
    "collapsed": true
   },
   "outputs": [],
   "source": []
  },
  {
   "cell_type": "markdown",
   "metadata": {},
   "source": [
    "Now generate a plot of the number of states explored by A\\* search using each heuristic, as a function of the number of moves along the optimal solution path. Be sure to label everything clearly.  Write a sentence or two to comment on what you notice, and whether or not it is consistent with what we saw in class."
   ]
  },
  {
   "cell_type": "code",
   "execution_count": null,
   "metadata": {
    "collapsed": true
   },
   "outputs": [],
   "source": []
  },
  {
   "cell_type": "markdown",
   "metadata": {
    "collapsed": true
   },
   "source": [
    "<br><br><br>\n",
    "\n",
    "<a id='helpers'></a>\n",
    "\n",
    "---\n",
    "\n",
    "[Back to top](#top)\n",
    "\n",
    "## Some things that might be useful\n",
    "\n",
    "Easiest way to start:  Click this cell, go to \"Cell\" in the toolbar above, and click \"Run All Below\""
   ]
  },
  {
   "cell_type": "code",
   "execution_count": null,
   "metadata": {
    "collapsed": true
   },
   "outputs": [],
   "source": [
    "import numpy as np\n",
    "import matplotlib.pyplot as plt\n",
    "import heapq\n",
    "import unittest"
   ]
  },
  {
   "cell_type": "markdown",
   "metadata": {},
   "source": [
    "## Potentially useful for searching"
   ]
  },
  {
   "cell_type": "code",
   "execution_count": null,
   "metadata": {
    "collapsed": true
   },
   "outputs": [],
   "source": [
    "def path(previous, s): \n",
    "    '''\n",
    "    `previous` is a dictionary chaining together the predecessor state that led to each state\n",
    "    `s` will be None for the initial state\n",
    "    otherwise, start from the last state `s` and recursively trace `previous` back to the initial state,\n",
    "    constructing a list of states visited as we go\n",
    "    '''\n",
    "    if s is None:\n",
    "        return []\n",
    "    else:\n",
    "        return path(previous, previous[s])+[s]\n",
    "\n",
    "def pathcost(path, step_costs):\n",
    "    '''\n",
    "    add up the step costs along a path, which is assumed to be a list output from the `path` function above\n",
    "    '''\n",
    "    cost = 0\n",
    "    for s in range(len(path)-1):\n",
    "        cost += step_costs[path[s]][path[s+1]]\n",
    "    return cost\n",
    "\n",
    "map_distances = dict(\n",
    "    chi=dict(det=283, cle=345, ind=182),\n",
    "    cle=dict(chi=345, det=169, col=144, pit=134, buf=189),\n",
    "    ind=dict(chi=182, col=176),\n",
    "    col=dict(ind=176, cle=144, pit=185),\n",
    "    det=dict(chi=283, cle=169, buf=256),\n",
    "    buf=dict(det=256, cle=189, pit=215, syr=150),\n",
    "    pit=dict(col=185, cle=134, buf=215, phi=305, bal=247),\n",
    "    syr=dict(buf=150, phi=253, new=254, bos=312),\n",
    "    bal=dict(phi=101, pit=247),\n",
    "    phi=dict(pit=305, bal=101, syr=253, new=97),\n",
    "    new=dict(syr=254, phi=97, bos=215, pro=181),\n",
    "    pro=dict(bos=50, new=181),\n",
    "    bos=dict(pro=50, new=215, syr=312, por=107),\n",
    "    por=dict(bos=107))\n",
    "\n",
    "sld_providence = dict(\n",
    "    chi=833,\n",
    "    cle=531,\n",
    "    ind=782,\n",
    "    col=618,\n",
    "    det=596,\n",
    "    buf=385,\n",
    "    pit=458,\n",
    "    syr=253,\n",
    "    bal=325,\n",
    "    phi=236,\n",
    "    new=157,\n",
    "    pro=0,\n",
    "    bos=38,\n",
    "    por=136)"
   ]
  },
  {
   "cell_type": "markdown",
   "metadata": {},
   "source": [
    "## Unit tests"
   ]
  },
  {
   "cell_type": "code",
   "execution_count": null,
   "metadata": {
    "collapsed": true
   },
   "outputs": [],
   "source": [
    "class Tests_Problem1(unittest.TestCase):\n",
    "    def test_ucs_route(self):\n",
    "        path = uniform_cost('chi','new',map_distances,return_cost=False,return_nexp=False)\n",
    "        self.assertEqual(path, ['chi', 'cle', 'pit', 'phi', 'new'])\n",
    "    def test_ucs_cost(self):\n",
    "        path, cost = uniform_cost('chi','new',map_distances,return_cost=True,return_nexp=False)\n",
    "        self.assertEqual(cost, 881)\n",
    "    def test_ucs_nexp(self):\n",
    "        path, cost, nexp = uniform_cost('chi','new',map_distances,return_cost=True,return_nexp=True)\n",
    "        self.assertEqual(nexp, 11)\n",
    "    def test_sld_providence(self):\n",
    "        sld = heuristic_sld_providence('chi')\n",
    "        self.assertEqual(sld, 833)\n",
    "    def test_astar_path(self):\n",
    "        path = astar_search('pit','pro', map_distances, heuristic_sld_providence, return_cost=False, return_nexp=False)\n",
    "        self.assertEqual(path, ['pit', 'phi', 'new', 'pro'])\n",
    "        print(True)\n",
    "    def test_astar_cost(self):\n",
    "        path, cost = astar_search('pit','pro', map_distances, heuristic_sld_providence, return_cost=True, return_nexp=False)\n",
    "        self.assertEqual(cost, 583)\n",
    "    def test_astar_nexp(self):\n",
    "        path, cost, nexp = astar_search('pit','pro', map_distances, heuristic_sld_providence, return_cost=True, return_nexp=True)\n",
    "        self.assertEqual(nexp, 5)\n",
    "        \n",
    "\n",
    "class Tests_Problem2(unittest.TestCase):\n",
    "    def test_manhattan(self):\n",
    "        state_test = np.array([[0,4,2],[1,3,5],[6,7,8]])\n",
    "        goal = np.array([[0,1,2],[3,4,5],[6,7,8]])\n",
    "        self.assertEqual(heuristic_manhattan(state_test, goal), 4)\n",
    "    def test_misplaced(self):\n",
    "        state_test = np.array([[0,4,2],[1,3,5],[6,7,8]])\n",
    "        goal = np.array([[0,1,2],[3,4,5],[6,7,8]])\n",
    "        self.assertEqual(heuristic_misplaced(state_test, goal), 3)\n",
    "    def test_parity_true(self):\n",
    "        state_test = np.array([[0,4,2],[1,3,5],[6,7,8]])\n",
    "        goal = np.array([[0,1,2],[3,4,5],[6,7,8]])\n",
    "        self.assertTrue(check_parity(state_test, goal))\n",
    "    def test_parity_false(self):\n",
    "        state_test = np.array([[0,2,1],[3,4,5],[6,7,8]])\n",
    "        goal = np.array([[0,1,2],[3,4,5],[6,7,8]])\n",
    "        self.assertFalse(check_parity(state_test, goal))\n",
    "    def test_adjacent(self):\n",
    "        state_test = np.array([[1,2,5],[3,0,4],[6,7,8]])\n",
    "        adjacent = adjacent_states(state_test)\n",
    "        adjacent_set = set()\n",
    "        for k in range(len(adjacent)):\n",
    "            adjacent_set.add(tuple(map(tuple,adjacent[k])))    \n",
    "        answer = {((1, 0, 5), (3, 2, 4), (6, 7, 8)),\n",
    "                  ((1, 2, 5), (0, 3, 4), (6, 7, 8)),\n",
    "                  ((1, 2, 5), (3, 4, 0), (6, 7, 8)),\n",
    "                  ((1, 2, 5), (3, 7, 4), (6, 0, 8))}\n",
    "        self.assertEqual(adjacent_set, answer)\n",
    "    def test_astar_8tile(self):\n",
    "        goal = np.array([[0,1,2],[3,4,5],[6,7,8]])\n",
    "        state_test = np.array([[1,4,2],[3,5,8],[6,7,0]])\n",
    "        moves, cost, nexp = astar_search(state_test, goal, heuristic_manhattan, return_cost=True, return_nexp=True)\n",
    "        # make sure the path is in tuples\n",
    "        moves_tuple = []\n",
    "        for k in range(len(moves)):\n",
    "            moves_tuple.append(tuple(map(tuple, moves[k])))    \n",
    "        self.assertEqual(moves_tuple, [((1, 4, 2), (3, 5, 8), (6, 7, 0)), \n",
    "                                       ((1, 4, 2), (3, 5, 0), (6, 7, 8)), \n",
    "                                       ((1, 4, 2), (3, 0, 5), (6, 7, 8)), \n",
    "                                       ((1, 0, 2), (3, 4, 5), (6, 7, 8)), \n",
    "                                       ((0, 1, 2), (3, 4, 5), (6, 7, 8))])\n",
    "        self.assertEqual(cost, 4)\n",
    "        self.assertEqual(nexp, 9)\n",
    "    def test_generate1(self):\n",
    "        goal = np.array([[0,1,2],[3,4,5],[6,7,8]])\n",
    "        n_moves=15\n",
    "        puzzle, steps = generate_puzzle(goal, n_moves)\n",
    "        solution, cost, nexp = astar_search(puzzle, goal, heuristic_manhattan, return_cost=True, return_nexp=True)\n",
    "        self.assertTrue(cost<=n_moves)\n",
    "        self.assertTrue(len(solution)<=(n_moves+1) and len(solution)>0)\n",
    "    def test_generate2(self):\n",
    "        goal = np.array([[0,1,2],[3,4,5],[6,7,8]])\n",
    "        puzzle, steps = generate_puzzle(goal, n_moves=0)\n",
    "        self.assertTrue((puzzle==goal).all())\n"
   ]
  },
  {
   "cell_type": "markdown",
   "metadata": {},
   "source": [
    "[Back to top](#top)"
   ]
  },
  {
   "cell_type": "code",
   "execution_count": null,
   "metadata": {
    "collapsed": true
   },
   "outputs": [],
   "source": []
  },
  {
   "cell_type": "code",
   "execution_count": null,
   "metadata": {
    "collapsed": true
   },
   "outputs": [],
   "source": []
  }
 ],
 "metadata": {
  "kernelspec": {
   "display_name": "Python 3",
   "language": "python",
   "name": "python3"
  },
  "language_info": {
   "codemirror_mode": {
    "name": "ipython",
    "version": 3
   },
   "file_extension": ".py",
   "mimetype": "text/x-python",
   "name": "python",
   "nbconvert_exporter": "python",
   "pygments_lexer": "ipython3",
   "version": "3.6.1"
  }
 },
 "nbformat": 4,
 "nbformat_minor": 2
}
