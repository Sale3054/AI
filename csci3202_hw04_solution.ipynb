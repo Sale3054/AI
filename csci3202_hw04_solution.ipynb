{
 "cells": [
  {
   "cell_type": "markdown",
   "metadata": {},
   "source": [
    "<a id='top'></a>\n",
    "\n",
    "# CSCI 3202, Spring 2018\n",
    "# Assignment 4\n",
    "# Due:  Wednesday 21 March 2018 by 12:00 PM\n",
    "\n",
    "<br>\n",
    "\n",
    "### Your name:\n",
    "\n",
    "<br>\n",
    "\n",
    "**Note:** Some packages to load, helper functions and unit tests are defined at [the bottom of this notebook](#helpers)\n",
    "\n",
    "Shortcuts:  [top](#top) || [1](#p1) | [1a](#p1a) | [1b](#p1b) | [1c](#p1c) | [1d](#p1d) | [1e](#p1e) | [1f](#p1f) | [1g](#p1g) || [2](#p2) | [2a](#p2a) | [2b](#p2b) | [2c](#p2c) | [2d](#p2d) | [2e](#p2e) || [3](#p3) | [3a](#p3a) | [3b](#p3b) | [3c](#p3c) | [3d](#p3d) | [3e](#p3e) || [helpers](#helpers)\n",
    "\n",
    "**Before you begin:** You will also need to download a few data sets from the Piazza page, under the Resources tab.\n",
    "1. data_sealevel.csv\n",
    "1. data_temperature.csv\n",
    "1. data_socks.csv"
   ]
  },
  {
   "cell_type": "markdown",
   "metadata": {},
   "source": [
    "---\n",
    "\n",
    "<a id='p1'></a>[Back to top](#top)\n",
    "\n",
    "## Problem 1:  Calibrating a model for global mean sea level changes\n",
    "\n",
    "<img src=\"http://www.anthropocenemagazine.org/wp-content/uploads/2017/05/future-sea-levels.jpg\" width=\"250\">\n",
    "\n",
    "<a id='p1a'></a>\n",
    "\n",
    "### (1a) Load and plot some data.\n",
    "\n",
    "Let's load a couple data sets.  One is a data set of global mean sea levels, and the other is a data set of global mean temperatures:\n",
    "* `sealevel` will be a list of global mean sea levels (millimeters)\n",
    "* `sealevel_sigma` will be a list of the *uncertainty* in global mean sea levels (millimeters), and\n",
    "* `temperature` will be a list of global mean temperatures (degrees Celsius).\n",
    "\n",
    "Check to make sure (1) temperature, year and sea level time series are all the same length and period; (2) data need to be properly *normalized* against some reference period. In climate science, often the years 1961-1990 are used as the reference period.  So conduct a check to make sure that the mean sea level and mean global mean temperature for the 1961-1990 (inclusive) period are both 0."
   ]
  },
  {
   "cell_type": "code",
   "execution_count": 18,
   "metadata": {
    "collapsed": true
   },
   "outputs": [],
   "source": [
    "year = []\n",
    "sealevel = []\n",
    "sealevel_sigma = []\n",
    "temperature = []\n",
    "\n",
    "dfSealevel = pd.read_csv(\"../../data/data_sealevel.csv\")\n",
    "dfTemperature = pd.read_csv(\"../../data/data_temperature.csv\")\n",
    "\n",
    "# We aren't doing any heavy-duty stats stuff, so let's just keep what we need as regular lists\n",
    "year = dfSealevel[\"year\"].tolist()\n",
    "sealevel = dfSealevel[\"sealevel\"].tolist()\n",
    "sealevel_sigma = dfSealevel[\"uncertainty\"].tolist()\n",
    "temperature = dfTemperature[\"temperature\"].tolist()"
   ]
  },
  {
   "cell_type": "markdown",
   "metadata": {},
   "source": [
    "Plot the data points as a scatter plots, and plot them side-by-side-by-side (one row, three columns of figures). The point here is learn how to customize your figures a bit more, and also because computer screens are (typically) wider than they are tall."
   ]
  },
  {
   "cell_type": "code",
   "execution_count": 19,
   "metadata": {},
   "outputs": [
    {
     "data": {
      "image/png": "[encoded data removed]",
      "text/plain": [
       "<matplotlib.figure.Figure at 0x1157e2a58>"
      ]
     },
     "metadata": {},
     "output_type": "display_data"
    }
   ],
   "source": [
    "# Solution:\n",
    "\n",
    "plt.subplots(1, 3, figsize=(10, 3))\n",
    "\n",
    "plt.subplot(1, 3, 1)\n",
    "plt.scatter(year, temperature)\n",
    "plt.xlabel('Year')\n",
    "plt.ylabel('Global mean surface\\n temperature [$\\degree$ C]')\n",
    "\n",
    "plt.subplot(1, 3, 2)\n",
    "plt.scatter(year, sealevel)\n",
    "plt.xlabel('Year')\n",
    "plt.ylabel('Sea level [mm]')\n",
    "\n",
    "plt.subplot(1, 3, 3)\n",
    "plt.scatter(year, sealevel_sigma)\n",
    "plt.xlabel('Year')\n",
    "plt.ylabel('Sea level uncertainty [mm]')\n",
    "\n",
    "plt.tight_layout()\n",
    "plt.show()"
   ]
  },
  {
   "cell_type": "markdown",
   "metadata": {},
   "source": [
    "**Question:** How does the uncertainty in global mean sea levels change as a function of time?  When is the uncertainty the highest?  Give one reason why you think this might be the case."
   ]
  },
  {
   "cell_type": "markdown",
   "metadata": {},
   "source": [
    "**Your answer:**"
   ]
  },
  {
   "cell_type": "markdown",
   "metadata": {
    "collapsed": true
   },
   "source": [
    "uncertainty decreases as time goes on, probably because instrument accuracy improves, and data availability"
   ]
  },
  {
   "cell_type": "markdown",
   "metadata": {},
   "source": [
    "<br>\n",
    "\n",
    "<a id='p1b'></a>\n",
    "\n",
    "### (1b)  The \"out-of-box\" sea-level model\n",
    "\n",
    "In your plot from **(1a)**, you should see quite an apparent relationship between increasing temperatures and rising sea levels.  Seeems like someone should try to model the relationship between those two, huh?\n",
    "\n",
    "In the [helper functions below](#helpers), a simple model for temperature-driven changes in global mean sea level (GMSL) is defined. This is the model of [Rahmstorf (2007)](http://science.sciencemag.org/content/315/5810/368).\n",
    "\n",
    "The `slr` model takes two parameters, $\\alpha$ and $T_{eq}$, and requires a time series of global mean temperatures: `slr(alpha, Teq, temperature)`.\n",
    "* `alpha` is the sensitivity of sea-level changes to changes in global temperature. The units for $\\alpha$ are millimeters of sea-level changes per year, or mm y$^{-1}$.\n",
    "* `Teq` is the equilibrium global mean temperature, with units of degrees Celsius.\n",
    "* `temperature` is the time series of global mean surface temperatures, assumed to be relative to the 1961-1990 mean.\n",
    "\n",
    "For now, you do not need to worry too much about how this model works.  It is very simple, and widely used, but the point here is that you can plug in a particular set of temperatures (the model **forcing**) and parameters ($\\alpha$ and $T_{eq}$), and out pops a time series of simulated global mean sea levels.\n",
    "\n",
    "**Our goal:**  pick good values for $\\alpha$ and $T_{eq}$, so that when we run the `slr` model using the observations of temperature (which we plotted above), the model output matches well the observations of global mean sea level (which we also plotted above).\n",
    "\n",
    "The whole process of figuring out what these good parameter values are is called **model calibration**, and it's awesome.  Let's have a look at why we need to do this in the first place, shall we?\n",
    "\n",
    "The default parameter choices given in the Rahmstorf (2007) paper are $\\alpha=3.4$ mm y$^{-1}$ and $T_{eq} = -0.5\\ ^{\\circ}$C.\n",
    "\n",
    "Make a plot that contains:\n",
    "* the observed sea level data as scatter points\n",
    "* the modeled sea levels as a line, using the temperature observations from above as the `temperature` input\n",
    "* an appropriate legend and axis labels\n",
    "* $x$ axis is years\n",
    "* $y$ axis is sea level\n",
    "\n",
    "Note that after you run the `slr` model, you will need to **normalize** the output relative to the 1961-1990 reference period.  That is because you are going to compare it against data that is also normalized against this reference period. The `years` that correspond to the model output should be the same as the `years` that correspond to the `temperature` input."
   ]
  },
  {
   "cell_type": "code",
   "execution_count": 20,
   "metadata": {},
   "outputs": [
    {
     "data": {
      "image/png": "[encoded data removed]",
      "text/plain": [
       "<matplotlib.figure.Figure at 0x1164742b0>"
      ]
     },
     "metadata": {},
     "output_type": "display_data"
    }
   ],
   "source": [
    "# Solution:\n",
    "\n",
    "sealevel_model = slr(alpha=3.4, Teq=-0.5, temperature=temperature)\n",
    "\n",
    "# normalize\n",
    "reference = (year.index(1961), year.index(1990))\n",
    "sealevel_model -= np.mean(sealevel_model[reference[0]:(reference[1]+1)])\n",
    "\n",
    "plt.scatter(year, sealevel, label='obs')\n",
    "plt.plot(year, sealevel_model, label='model', color='coral', lw=3)\n",
    "plt.xlabel('Year', size=14)\n",
    "plt.ylabel('Sea level [mm]', size=14)\n",
    "plt.legend(fontsize=14)\n",
    "plt.show()"
   ]
  },
  {
   "cell_type": "markdown",
   "metadata": {},
   "source": [
    "Your plot above ought to show decent match for the late 1900s, but diverge a bit further back in time.\n",
    "\n",
    "**The point:**  We can do better than this \"out-of-the-box\" version of the Rahmstorf sea level model."
   ]
  },
  {
   "cell_type": "markdown",
   "metadata": {},
   "source": [
    "<br>\n",
    "\n",
    "<a/ id='p1c'></a>\n",
    "\n",
    "### (1c)   Figuring out our objective function\n",
    "\n",
    "As our **objective function**, we will use the joint likelihood function of the observed sea level data, given the model simulation.  For a single data point in year $i$, $y_i$, with associated uncertainty $\\sigma_i$, we can assume the likelihood for our model simulation in year $i$, $\\eta_i$, follows a normal distribution centered at the data point.  The model simulation is a **deterministic** result of our parameter choices $\\alpha$ and $T_{eq}$, so we write the likelihood as:\n",
    "\n",
    "$$L(y_i \\mid \\alpha, T_{eq}) = \\dfrac{1}{\\sqrt{2 \\pi} \\sigma_i} e^{-\\dfrac{(\\eta_i(\\alpha, T_{eq}) - y_i)^2}{2\\sigma_i^2}}$$\n",
    "\n",
    "But that only uses a single data point.  Let's use all the data!  The **joint likelihood** is the product of all of the likelihoods associated with the individual data points. But that is the product of a lot of numbers that are less than 1, so it will be **tiny**.  Instead, we should try to optimize the **joint log-likelihood**, which is simply the (natural) logarithm of the joint likelihood function.\n",
    "\n",
    "**Show** (using math) that if we assume the observational data ($y_i$) are all independent, then the joint log-likelihood is:\n",
    "\n",
    "$$l(\\mathbf{y} \\mid \\alpha, T_{eq}) = -\\dfrac{N}{2} \\log{(2\\pi)} - \\sum_{i=1}^N \\log{(\\sigma_i)} - \\dfrac{1}{2}\\sum_{i=1}^N \\left( \\dfrac{\\eta_i(\\alpha, T_{eq}) - y_i}{\\sigma_i} \\right)^2$$\n",
    "\n",
    "where, $\\mathbf{y} = [y_1, y_2, \\ldots, y_N]$ is the entire vector (list) of sea level observations, $\\eta(\\alpha, T_{eq}) = [\\eta_1(\\alpha, T_{eq}), \\eta_2(\\alpha, T_{eq}), \\ldots, \\eta_N(\\alpha, T_{eq})]$ is the entire vector (list) of `slr` model output when the parameter values $\\alpha$ and $T_{eq}$ are used, and $N$ is the number of observations we have.\n",
    "\n",
    "**Note:** Yes, I'm mixing the typical indexing of $1-N$ with what you'll need to implement, which is the Pythonic $0-(N-1)$. Keep this in mind as you code."
   ]
  },
  {
   "cell_type": "code",
   "execution_count": 21,
   "metadata": {
    "collapsed": true
   },
   "outputs": [],
   "source": [
    "# Show using nice LateX/Markdown formatting..."
   ]
  },
  {
   "cell_type": "markdown",
   "metadata": {},
   "source": [
    "**Solution:**\n",
    "\n",
    "$\\begin{align*}\n",
    "L(y_i \\mid \\alpha, T_{eq}) &= \\dfrac{1}{\\sqrt{2 \\pi} \\sigma_i} e^{-\\dfrac{(\\eta_i(\\alpha, T_{eq}) - y_i)^2}{2\\sigma_i^2}} \\\\\n",
    "L(\\mathbf{y} \\mid \\alpha, T_{eq}) &= \\prod_{i=1}^N \\dfrac{1}{\\sqrt{2 \\pi} \\sigma_i} e^{-\\dfrac{(\\eta_i(\\alpha, T_{eq}) - y_i)^2}{2\\sigma_i^2}} \\\\\n",
    "l(\\mathbf{y} \\mid \\alpha, T_{eq} \\log{L(\\mathbf{y} \\mid \\alpha, T_{eq})} &= \\log{\\left(\\prod_{i=1}^N \\dfrac{1}{\\sqrt{2 \\pi} \\sigma_i} e^{-\\dfrac{(\\eta_i(\\alpha, T_{eq}) - y_i)^2}{2\\sigma_i^2}}\\right)} \\\\\n",
    "  &= \\sum_{i=1}^N \\log{\\left(\\dfrac{1}{\\sqrt{2 \\pi} \\sigma_i} e^{-\\dfrac{(\\eta_i(\\alpha, T_{eq}) - y_i)^2}{2\\sigma_i^2}}\\right)} \\\\\n",
    "  &= \\sum_{i=1}^N \\left[\\log{\\left(\\dfrac{1}{\\sqrt{2 \\pi} \\sigma_i}\\right)} + \\log{\\left( e^{-\\dfrac{(\\eta_i(\\alpha, T_{eq}) - y_i)^2}{2\\sigma_i^2}}\\right)}\\right] \\\\\n",
    "  &= \\sum_{i=1}^N \\log{\\left(\\dfrac{1}{\\sqrt{2 \\pi} \\sigma_i}\\right)} + \\sum_{i=1}^N \\log{\\left( e^{-\\dfrac{(\\eta_i(\\alpha, T_{eq}) - y_i)^2}{2\\sigma_i^2}}\\right)} \\\\\n",
    "  &= \\sum_{i=1}^N \\left(\\log{1}-\\log{\\sqrt{2 \\pi} \\sigma_i}\\right) + \\sum_{i=1}^N \\left(-\\dfrac{(\\eta_i(\\alpha, T_{eq}) - y_i)^2}{2\\sigma_i^2}\\right) \\log{e} \\\\\n",
    "  &= \\sum_{i=1}^N \\left(-\\log{\\sqrt{2 \\pi}} - \\log{\\sigma_i}\\right) - \\dfrac{1}{2} \\sum_{i=1}^N \\left(\\dfrac{\\eta_i(\\alpha, T_{eq}) - y_i}{\\sigma_i}\\right)^2 \\\\\n",
    "  &= \\sum_{i=1}^N (-\\log{(2 \\pi)^{1/2}}) - \\sum_{i=1}^N \\log{\\sigma_i} - \\dfrac{1}{2} \\sum_{i=1}^N \\left(\\dfrac{\\eta_i(\\alpha, T_{eq}) - y_i}{\\sigma_i}\\right)^2 \\\\\n",
    "  &= (-\\log{(2 \\pi)^{1/2}}) \\sum_{i=1}^N 1 - \\sum_{i=1}^N \\log{\\sigma_i} - \\dfrac{1}{2} \\sum_{i=1}^N \\left(\\dfrac{\\eta_i(\\alpha, T_{eq}) - y_i}{\\sigma_i}\\right)^2 \\\\\n",
    "  &= -\\dfrac{1}{2} \\log{(2 \\pi)}\\cdot N - \\sum_{i=1}^N \\log{\\sigma_i} - \\dfrac{1}{2} \\sum_{i=1}^N \\left(\\dfrac{\\eta_i(\\alpha, T_{eq}) - y_i}{\\sigma_i}\\right)^2 \\\\\n",
    "\\end{align*}$"
   ]
  },
  {
   "cell_type": "markdown",
   "metadata": {},
   "source": [
    "<br>\n",
    "\n",
    "<a/ id='p1d'></a>\n",
    "\n",
    "### (1d)   Defining our objective function\n",
    "\n",
    "Now define a `log_likelihood(parameters, obs_mu, obs_sigma)` function:\n",
    "* `parameters`: argument that is a list of two parameter values, $[\\alpha, T_{eq}]$\n",
    "  * within the likelihood function, you will need to generate the model simulation $\\eta(\\alpha, T_{eq})$ using the input `parameters`, for comparison against the observational data\n",
    "* `obs_temp`: argument that is a time series (list) of observed global mean temperatures, that will be used to run the `slr` model. Provide a default value of `temperature` for this, because we only have one temperature data set to use, and we don't want to keep \n",
    "* `obs_mu`: argument that is a time series (list) of observed values, that will be used for comparison against the `model` output. Provide a default value of `sealevel` here, because we won't be changing the observational data.\n",
    "* `obs_sigma`: argument that is a time series (list) of the corresponding uncertainties in the observational data. Simiarly, provide a default value of `sealevel_sigma` here, so we can avoid the tedious task of sending the data set into this function.\n",
    "* all three of these inputs should be lists, and should be the same length\n",
    "* this routine should return a **single** float number, that is the joint log-likelihood of the given `model` simulation.\n",
    "\n",
    "You may find the `scipy.stats` package to be useful here, or you can calculate this straight from the equation above."
   ]
  },
  {
   "cell_type": "code",
   "execution_count": 22,
   "metadata": {
    "collapsed": true
   },
   "outputs": [],
   "source": [
    "# Solution:\n",
    "\n",
    "def log_likelihood(parameters, obs_temp=temperature, obs_mu=sealevel, obs_sigma=sealevel_sigma):\n",
    "    model = slr(alpha=parameters[0], Teq=parameters[1], temperature=temperature)\n",
    "    \n",
    "    # normalize\n",
    "    reference = (year.index(1961), year.index(1990))\n",
    "    model -= np.mean(model[reference[0]:(reference[1]+1)])\n",
    "\n",
    "    return np.sum([np.log(stats.norm.pdf(x=model, loc=obs_mu, scale=obs_sigma))])"
   ]
  },
  {
   "cell_type": "markdown",
   "metadata": {},
   "source": [
    "<br>\n",
    "\n",
    "<a/ id='p1e'></a>\n",
    "\n",
    "### (1e)  Playing with our shiny new objective function!\n",
    "\n",
    "Armed with our **log-likelihood** objective function, let's see what it looks like for various values of $\\alpha$, while keeping $T_{eq}$ fixed at its default value ($T_{eq}=-0.5$). Try a variety of $\\alpha$ values. Use a wide enough range that you can tell what the behavior of the $\\alpha$-log-likelihood relationship is from a plot of the two (below).\n",
    "\n",
    "Then, make a plot of the resulting log-likelihood values, as a function of the values for the $\\alpha$ parameter used. Label your axes appropriately, and write a sentence or two commenting on the results.  What do you think is the best value for $\\alpha$ (so far)?"
   ]
  },
  {
   "cell_type": "code",
   "execution_count": 34,
   "metadata": {},
   "outputs": [
    {
     "data": {
      "image/png": "[encoded data removed]",
      "text/plain": [
       "<matplotlib.figure.Figure at 0x1115bafd0>"
      ]
     },
     "metadata": {},
     "output_type": "display_data"
    }
   ],
   "source": [
    "# Solution:\n",
    "\n",
    "alpha_test = np.arange(-0.5, 9,.2)\n",
    "ll_test = [log_likelihood(parameters=[ai, -0.5]) for ai in alpha_test]\n",
    "\n",
    "plt.plot(alpha_test, ll_test)\n",
    "plt.xlabel('alpha')\n",
    "plt.ylabel('Log-likelihood')\n",
    "plt.show()"
   ]
  },
  {
   "cell_type": "markdown",
   "metadata": {},
   "source": [
    "Now explore a range of values around the default of $T_{eq}= -0.5 ^{\\circ}$C, while keeping the $\\alpha$ parameter constant at its default of 3.4 mm y$^{-1}$. Generate a plot of some test values of $T_{eq}$ against the resulting log-likelihood function values.  Label your axes.\n",
    "\n",
    "Write a sentence or two interpreting the results.  If you had to pick optimal $\\alpha$ and $T_{eq}$ values based only on these plots, what values would you use?"
   ]
  },
  {
   "cell_type": "code",
   "execution_count": 31,
   "metadata": {},
   "outputs": [
    {
     "name": "stderr",
     "output_type": "stream",
     "text": [
      "/Users/tony/anaconda/lib/python3.6/site-packages/ipykernel_launcher.py:5: RuntimeWarning: divide by zero encountered in log\n",
      "  \"\"\"\n"
     ]
    },
    {
     "data": {
      "image/png": "[encoded data removed]",
      "text/plain": [
       "<matplotlib.figure.Figure at 0x111888e80>"
      ]
     },
     "metadata": {},
     "output_type": "display_data"
    }
   ],
   "source": [
    "# Solution:\n",
    "\n",
    "Teq_test = np.arange(-5, 5, .1)\n",
    "ll_test = [log_likelihood(parameters=np.array([3.4, ti])) for ti in Teq_test]\n",
    "\n",
    "plt.plot(Teq_test, ll_test)\n",
    "plt.xlabel('$T_{eq}$')\n",
    "plt.ylabel('Log-likelihood')\n",
    "plt.show()"
   ]
  },
  {
   "cell_type": "code",
   "execution_count": null,
   "metadata": {
    "collapsed": true
   },
   "outputs": [],
   "source": []
  },
  {
   "cell_type": "markdown",
   "metadata": {},
   "source": [
    "**Reflection 1:** How *likely* do values of $\\alpha < 0$  or $T_{eq} > 0$ appear to be?  If these values are implausible, what does that mean in terms of the sea level-temperature system that we are modeling?"
   ]
  },
  {
   "cell_type": "code",
   "execution_count": null,
   "metadata": {
    "collapsed": true
   },
   "outputs": [],
   "source": []
  },
  {
   "cell_type": "markdown",
   "metadata": {},
   "source": [
    "**Reflection 2:** Based on your plots above, do you think one of hill-climbing or simulated annealing will work better than the other to find the global maximum in the objective function, or does it appear that either will find the optimum?"
   ]
  },
  {
   "cell_type": "code",
   "execution_count": null,
   "metadata": {
    "collapsed": true
   },
   "outputs": [],
   "source": []
  },
  {
   "cell_type": "markdown",
   "metadata": {},
   "source": [
    "<br>\n",
    "\n",
    "<a/ id='p1f'></a>\n",
    "\n",
    "### (1f)  Defining our class structure\n",
    "\n",
    "That exploration was a nice way to get a sense of how the $\\alpha$ and $T_{eq}$ parameters affect the quality of the model output, but it was not particularly rigorous. Let's apply our **hill-climbing** algorithm to this problem.\n",
    "\n",
    "Using our in-class activity as a guide, do the following:\n",
    "\n",
    "* Define a `State` class, with attributes for the parameter values (which define the state) and the objective function value of that state.\n",
    "* Define a `Problem_hillclimb` **sub-class** of the more general class `Problem`, with:\n",
    "  * attributes for the current `State` (a `State` object), the `objective_function` (the log-likelihood defined above), and `stepsize`. You will need to play around to decide what an appropriate stepsize is. Keep in mind that you may need a different stepsize for each of $\\alpha$ and $T_{eq}$.\n",
    "  * methods for `moves` (return the list of all possible moves from the current state) and `best_move` (return the move that maximizes the objective function).\n",
    "  * the `moves` available should be in proper 2-dimensional space.  Do **not** simply optimize one parameter, keeping the other fixed, then optimize the other parameter, while keeping the first fixed.  (*That method *can* work, but there are some theoretical issues that would need to be tackled, and we are not getting into that here.*) You are allowed to restrict yourself to movements along a grid, as long as you entertain steps in both the $\\alpha$ and the $T_{eq}$ directions.\n",
    "* Define the `hill_climb` algorithm, with any necessary modifications (here, and in the above classes) for the new 2-dimensional state space.\n",
    "  * `hill_climb(problem, n_iter)`:  arguments are a `Problem_hillclimb` object and number of iterations, `n_iter`\n",
    "  * return a `State` that corresponds to the algorithm's guess at a global maximum\n",
    "\n",
    "Subject to the above constraints, you may implement these however you would like. **If you do not use a sub-class (properly), you will lose points.** "
   ]
  },
  {
   "cell_type": "code",
   "execution_count": 42,
   "metadata": {
    "collapsed": true
   },
   "outputs": [],
   "source": [
    "# Solution:\n",
    "\n",
    "class State:\n",
    "\n",
    "    def __init__(self, node, value):\n",
    "        self.node = node\n",
    "        self.value = value    \n",
    "        \n",
    "class Problem:\n",
    "    \n",
    "    def __init__(self, initial, objective_function, stepsize):\n",
    "        self.initial_state = initial\n",
    "        self.current_state = initial\n",
    "        self.objective_function = objective_function\n",
    "        self.stepsize = stepsize\n",
    "\n",
    "        \n",
    "def hill_climb(problem, n_iter):\n",
    "    \n",
    "    # iterate until we can't do any better\n",
    "    for k in range(n_iter):\n",
    "        nextMove, nextValue = problem.best_move()\n",
    "        if nextValue <= problem.current_state.value:\n",
    "            return problem.current_state\n",
    "        #print(problem.current_state, nextMove)\n",
    "        problem.current_state.node, problem.current_state.value = nextMove, nextValue\n",
    "    print('reached n_iter')\n",
    "    return False\n",
    "\n",
    "class Problem_hillclimb(Problem):\n",
    "    \n",
    "    def moves(self):\n",
    "        '''return all possible moves to make from the current_state'''\n",
    "        all_moves = []\n",
    "        # could move in +alpha direction...\n",
    "        current = np.array(self.current_state.node)\n",
    "        steps   = np.array(self.stepsize)\n",
    "        all_moves.append(current + steps*np.array([1,0]))\n",
    "        # ... or -alpha\n",
    "        all_moves.append(current - steps*np.array([1,0]))\n",
    "        # ... or +Teq\n",
    "        all_moves.append(current + steps*np.array([0,1]))\n",
    "        # ... or -Teq\n",
    "        all_moves.append(current - steps*np.array([0,1]))\n",
    "        return all_moves\n",
    "\n",
    "    def best_move(self):\n",
    "        '''return the best move possible from the current_state'''\n",
    "        # what moves are possible?\n",
    "        all_moves = self.moves()\n",
    "        # what is objective function for each of them?\n",
    "        obj_func = [self.objective_function(move) for move in all_moves]\n",
    "        best = all_moves[max(zip(obj_func, range(len(obj_func))))[1]]\n",
    "        return best, np.max(obj_func)"
   ]
  },
  {
   "cell_type": "markdown",
   "metadata": {},
   "source": [
    "Now:\n",
    "1. define an initial state object, using the default values from Rahmstorf 2007 as a starting point.\n",
    "2. define a hill-climbing problem object, using this initial state, the log-likelihood objective function, and stepsize(s) of your choosing. (The stepsize(s) may require some playing around to find something you are happy with.)\n",
    "3. ***hill-climb!!!*** Use a number of iterations that you deem appropriate. \n",
    "\n",
    "Play around until you have a simulation that you are happy with.  Then:\n",
    "1. Print to screen the parameter values and corresponding log-likelihood value.\n",
    "2. Compare this calibrated log-likelihood value to the \"out-of-box\" model (above).\n",
    "3. Make a plot of:\n",
    "  * the sea level observations as scatter points\n",
    "  * the uncalibrated model as one line\n",
    "  * the calibrated model as another line\n",
    "  * include axis labels and a legend\n",
    "  \n",
    "**\"Unit tests\":**\n",
    "* As a benchmark, make sure that your log-likelihood is *at least* -500.\n",
    "* Your calibrated (optimized) model simulation should be going straight through the data points.\n",
    "* If this isn't the case, remember to normalize your model against the 1961-1990 reference period!"
   ]
  },
  {
   "cell_type": "code",
   "execution_count": 43,
   "metadata": {},
   "outputs": [
    {
     "name": "stdout",
     "output_type": "stream",
     "text": [
      "[ 2.235  -0.8599] -467.621983589\n"
     ]
    },
    {
     "data": {
      "image/png": "[encoded data removed]",
      "text/plain": [
       "<matplotlib.figure.Figure at 0x1105ae860>"
      ]
     },
     "metadata": {},
     "output_type": "display_data"
    }
   ],
   "source": [
    "# Solution:\n",
    "\n",
    "node_init = [3.4, -0.5]\n",
    "obj_init = log_likelihood(node_init)\n",
    "initial = State(node_init, obj_init)\n",
    "\n",
    "problem = Problem_hillclimb(initial, log_likelihood, [.005,.0001])\n",
    "hc = hill_climb(problem, 5000)\n",
    "print(hc.node, hc.value)\n",
    "\n",
    "# Control \"out-of-box\" simulation:\n",
    "sealevel_control = slr(alpha=3.4, Teq=-0.5, temperature=temperature)\n",
    "sealevel_optim   = slr(alpha=hc.node[0], Teq=hc.node[1], temperature=temperature)\n",
    "\n",
    "# normalize\n",
    "reference = (year.index(1961), year.index(1990))\n",
    "sealevel_control -= np.mean(sealevel_control[reference[0]:(reference[1]+1)])\n",
    "sealevel_optim   -= np.mean(sealevel_optim[reference[0]:(reference[1]+1)])\n",
    "\n",
    "plt.scatter(year, sealevel, label='obs')\n",
    "plt.plot(year, sealevel_control, label='out-of-box', color='black', lw=3)\n",
    "plt.plot(year, sealevel_optim, label='optimized', color='coral', lw=3)\n",
    "plt.xlabel('Year', size=14)\n",
    "plt.ylabel('Sea level [mm]', size=14)\n",
    "plt.legend(fontsize=14)\n",
    "plt.show()"
   ]
  },
  {
   "cell_type": "markdown",
   "metadata": {},
   "source": [
    "<br>\n",
    "\n",
    "<a/ id='p1g'></a>\n",
    "\n",
    "### (1g)  Simulated annealing\n",
    "\n",
    "Let's re-calibrate the `slr` model. This time, we will use **simulated annealing**. Again, using our in-class activity as a guide, do the following:\n",
    "\n",
    "* Continue to use your `State` class above.\n",
    "* Define a `Problem_annealing` sub-class of the `Problem` class, with:\n",
    "  * attributes for the current `State` (a `State` object), the `objective_function` (the log-likelihood defined above), and `stepsize`. You will need to play around to decide what an appropriate stepsize is. Keep in mind that you may need a different stepsize for each of $\\alpha$ and $T_{eq}$.\n",
    "  * method for `random_move`, to pick a random move **by drawing from a multivariate normal distribution**.  You should use the `stepsize` attribute as the covariance (width) for this.\n",
    "* Define the `simulated_annealing` algorithm, with any necessary modifications (here, and in the above classes) for the new 2-dimensional state space.\n",
    "  * `simulated_annealing(problem, n_iter)`:  arguments are a `Problem_annealing` object and number of iterations, `n_iter`\n",
    "  * return a `State` that corresponds to the algorithm's guess at a global maximum\n",
    "\n",
    "Subject to the above constraints, you may implement these however you would like."
   ]
  },
  {
   "cell_type": "code",
   "execution_count": 62,
   "metadata": {
    "collapsed": true
   },
   "outputs": [],
   "source": [
    "# Solution:\n",
    "\n",
    "def schedule(time):\n",
    "    '''some sort of mapping from time to temperature, to represent how we should be \n",
    "    \"cooling off\" - that is, accepting wacky solutions with lower and lower probability'''\n",
    "    temperature = 10/(time+1)**.7\n",
    "    return temperature\n",
    "\n",
    "def simulated_annealing(problem, n_iter):\n",
    "    \n",
    "    current = problem.initial_state\n",
    "    \n",
    "    for t in range(n_iter):\n",
    "        temperature = problem.schedule_function(t)\n",
    "        nextMove, nextValue = problem.random_move()\n",
    "        delta_obj = nextValue - current.value\n",
    "        #print(t, problem.current_state.node, problem.current_state.value, nextMove, nextValue, delta_obj)\n",
    "        if delta_obj > 0:\n",
    "            # the proposed move is an improvement, so accept w.p. 1\n",
    "            problem.current_state.node, problem.current_state.value = nextMove, nextValue\n",
    "        else:\n",
    "            # the proposed move is worse; accept with probability exp[delta_obj/T]\n",
    "            p_accept = np.exp(delta_obj/temperature)\n",
    "            #print(p_accept)\n",
    "            accept = np.random.choice([True, False], p=[p_accept, 1-p_accept])\n",
    "            if accept:\n",
    "                problem.current_state.node, problem.current_state.value = nextMove, nextValue\n",
    "\n",
    "    return problem.current_state    # iterate until we can't do any better\n",
    "\n",
    "\n",
    "class Problem_annealing(Problem):\n",
    "        \n",
    "    def __init__(self, initial, objective_function, schedule_function, stepsize):\n",
    "        self.initial_state = initial\n",
    "        self.current_state = initial\n",
    "        self.objective_function = objective_function\n",
    "        self.schedule_function = schedule_function\n",
    "        self.stepsize = stepsize\n",
    "        \n",
    "    def random_move(self):\n",
    "        '''return a random move, possible from the current_state'''\n",
    "        # pick a random step\n",
    "        next_move = list(stats.multivariate_normal.rvs(self.current_state.node, self.stepsize))\n",
    "        return next_move, self.objective_function(next_move)\n"
   ]
  },
  {
   "cell_type": "markdown",
   "metadata": {},
   "source": [
    "Now:\n",
    "1. define an initial state object, using the default values from Rahmstorf 2007 as a starting point.\n",
    "2. define a simulated annealing problem object, using this initial state, the log-likelihood objective function, an appropriate temperature updating schedule and stepsize(s) of your choosing. (The stepsize(s) may require some playing around to find something you are happy with.)\n",
    "  * note that this \"temperature\" is distinct from the actual physical temperature used as input to drive the `slr` model\n",
    "3. ***anneal!!!*** Use a number of iterations that you deem appropriate. \n",
    "\n",
    "Play around until you have a simulation that you are happy with.  Then:\n",
    "1. Print to screen the parameter values and corresponding log-likelihood value.\n",
    "2. Compare this calibrated log-likelihood value to the \"out-of-box\" model (above).\n",
    "3. Make a plot of:\n",
    "  * the sea level observations as scatter points\n",
    "  * the uncalibrated model as one line\n",
    "  * the calibrated model as another line\n",
    "  * include axis labels and a legend\n",
    "  \n",
    "**\"Unit tests\":**  How does your model look when you plot it against the data? If it doesn't look good, then you failed this unit test :("
   ]
  },
  {
   "cell_type": "code",
   "execution_count": 64,
   "metadata": {},
   "outputs": [
    {
     "data": {
      "image/png": "[encoded data removed]",
      "text/plain": [
       "<matplotlib.figure.Figure at 0x107b756a0>"
      ]
     },
     "metadata": {},
     "output_type": "display_data"
    }
   ],
   "source": [
    "# Solution:\n",
    "\n",
    "node_init = [3.4, -0.5]\n",
    "obj_init = log_likelihood(node_init)\n",
    "initial = State(node_init, obj_init)\n",
    "\n",
    "problem = Problem_annealing(initial, log_likelihood, schedule, [.005,.0001])\n",
    "sa = simulated_annealing(problem, 5000)\n",
    "print(sa.node, sa.value)\n",
    "\n",
    "# Control \"out-of-box\" simulation:\n",
    "sealevel_control = slr(alpha=3.4, Teq=-0.5, temperature=temperature)\n",
    "sealevel_optim   = slr(alpha=sa.node[0], Teq=sa.node[1], temperature=temperature)\n",
    "\n",
    "# normalize\n",
    "reference = (year.index(1961), year.index(1990))\n",
    "sealevel_control -= np.mean(sealevel_control[reference[0]:(reference[1]+1)])\n",
    "sealevel_optim   -= np.mean(sealevel_optim[reference[0]:(reference[1]+1)])\n",
    "\n",
    "plt.scatter(year, sealevel, label='obs')\n",
    "plt.plot(year, sealevel_control, label='out-of-box', color='black', lw=3)\n",
    "plt.plot(year, sealevel_optim, label='optimized', color='coral', lw=3)\n",
    "plt.xlabel('Year', size=14)\n",
    "plt.ylabel('Sea level [mm]', size=14)\n",
    "plt.legend(fontsize=14)\n",
    "plt.show()"
   ]
  },
  {
   "cell_type": "markdown",
   "metadata": {},
   "source": [
    "<br>\n",
    "\n",
    "<a/ id='p1h'></a>\n",
    "\n",
    "### (1h)  Wrap-up\n",
    "\n",
    "Consider the values you would choose for $\\alpha$ and $T_{eq}$ by only considering their **marginal** effects on the log-likelihood objective function (i.e., your answer to **1e**).  How do those compare to the values for $\\alpha$ and $T_{eq}$ that you found above using simulated annealing?"
   ]
  },
  {
   "cell_type": "code",
   "execution_count": null,
   "metadata": {
    "collapsed": true
   },
   "outputs": [],
   "source": []
  },
  {
   "cell_type": "markdown",
   "metadata": {},
   "source": [
    "The difference is that simulated annealing was considering changes in both parameters simultaneously. That is, the more sophisticated approach accounted for correlations between the parameters. This led to a better fit of the model to the data. Yay!"
   ]
  },
  {
   "cell_type": "markdown",
   "metadata": {},
   "source": [
    "<br>\n",
    "\n",
    "---\n",
    "\n",
    "<br>\n",
    "\n",
    "<a id='p2'></a>[Back to top](#top)\n",
    "\n",
    "## Problem 2:  Playing \"intelligent\" Tic-Tac-Toe\n",
    "\n",
    "<img src=\"https://www.cookieshq.co.uk/images/2016/06/01/tic-tac-toe.png\" width=\"150\"/>\n",
    "\n",
    "<a id='p2a'></a>\n",
    "\n",
    "### (2a)   Defining the Tic-Tac-Toe class structure\n",
    "\n",
    "Fill in this class structure for Tic-Tac-Toe using what we did during class as a guide.\n",
    "* `moves` is a list of tuples to represent which moves are available. Recall that we are using matrix notation for this, where the upper-left corner of the board, for example, is represented at (1,1).\n",
    "* `result(self, move, state)` returns a ***hypothetical*** resulting `State` object if `move` is made when the game is in the current `state`\n",
    "* `compute_utility(self, move, state)` calculates the utility of `state` that would result if `move` is made when the game is in the current `state`. This is where you want to check to see if anyone has gotten `nwin` in a row\n",
    "* `game_over(self, state)` - this wasn't a method, but it should be - it's a piece of code we need to execute repeatedly and giving it a name makes clear what task the piece of code performs. Returns `True` if the game in the given `state` has reached a terminal state, and `False` otherwise.\n",
    "* `utility(self, state, player)` also wasn't a method earlier, but also should be.  Returns the utility of the current state if the player is X and $-1 \\cdot$ utility if the player is O.\n",
    "* `display(self)` is a method to display the current game `state`, You get it for free! because this would be super frustrating without it.\n",
    "* `play_game(self, player1, player2)` returns an integer that is the utility of the outcome of the game (+1 if X wins, 0 if draw, -1 if O wins). `player1` and `player2` are functional arguments that we will deal with in parts **2b** and **2d**.\n",
    "\n",
    "Some notes:\n",
    "* Assume X always goes first.\n",
    "* Do **not** hard-code for 3x3 boards.\n",
    "* You may add attributes and methods to these classes as needed for this problem."
   ]
  },
  {
   "cell_type": "code",
   "execution_count": 2,
   "metadata": {
    "collapsed": true
   },
   "outputs": [],
   "source": [
    "class State:\n",
    "    def __init__(self, moves):\n",
    "        self.to_move = 'X'\n",
    "        self.utility = 0\n",
    "        self.board = {}\n",
    "        self.moves = cp.copy(moves)\n",
    "\n",
    "        \n",
    "class TicTacToe:\n",
    "    \n",
    "    def __init__(self, nrow=3, ncol=3, nwin=3, nexp=0):\n",
    "        self.nrow = nrow\n",
    "        self.ncol = ncol\n",
    "        self.nwin = nwin\n",
    "#        moves = # insert your general list of nrow x ncol moves here\n",
    "        moves = [(row, col) for row in range(1, nrow + 1) for col in range(1, ncol + 1)]\n",
    "        self.state = State(moves)\n",
    "        self.nexp = nexp\n",
    "\n",
    "    def result(self, move, state):\n",
    "        '''\n",
    "        What is the hypothetical result of move `move` in state `state` ?\n",
    "        move  = (row, col) tuple where player will put their mark (X or O)\n",
    "        state = a `State` object, to represent whose turn it is and form\n",
    "                the basis for generating a **hypothetical** updated state\n",
    "                that will result from making the given `move`\n",
    "        '''\n",
    "\n",
    "        # your code goes here\n",
    "        \n",
    "        # Solution:\n",
    "        # Don't do anything if the move isn't a legal one\n",
    "        if move not in state.moves:\n",
    "            return state\n",
    "        # Return a copy of the updated state:\n",
    "        #   compute utility, update the board, remove the move, update whose turn\n",
    "        new_state = cp.deepcopy(state)\n",
    "        new_state.utility = self.compute_utility(move, state)\n",
    "        new_state.board[move] = state.to_move\n",
    "        new_state.moves.remove(move)\n",
    "        new_state.to_move = ('O' if state.to_move == 'X' else 'X')\n",
    "        return new_state\n",
    "\n",
    "        \n",
    "    def compute_utility(self, move, state):\n",
    "        '''\n",
    "        What is the utility of making move `move` in state `state`?\n",
    "        If 'X' wins with this move, return 1;\n",
    "        if 'O' wins return -1;\n",
    "        else return 0.\n",
    "        '''        \n",
    "\n",
    "        # your code goes here\n",
    "\n",
    "        # Solution:\n",
    "        row, col = move\n",
    "        player = state.to_move\n",
    "        \n",
    "        # create a hypothetical copy of the board, with 'move' executed\n",
    "        board = cp.deepcopy(state.board)\n",
    "        board[move] = player\n",
    "\n",
    "        # what are all the ways 'player' could with with 'move'?\n",
    "        \n",
    "        # check for row-wise win\n",
    "        in_a_row = 0\n",
    "        for c in range(1,self.ncol+1):\n",
    "            in_a_row += board.get((row,c))==player\n",
    "\n",
    "        # check for column-wise win\n",
    "        in_a_col = 0\n",
    "        for r in range(1,self.nrow+1):\n",
    "            in_a_col += board.get((r,col))==player\n",
    "\n",
    "        # check for NW->SE diagonal win\n",
    "        in_a_diag1 = 0\n",
    "        for r in range(row,0,-1):\n",
    "            in_a_diag1 += board.get((r,col-(row-r)))==player\n",
    "        for r in range(row+1,self.nrow+1):\n",
    "            in_a_diag1 += board.get((r,col-(row-r)))==player\n",
    "\n",
    "        # check for SW->NE diagonal win\n",
    "        in_a_diag2 = 0\n",
    "        for r in range(row,0,-1):\n",
    "            in_a_diag2 += board.get((r,col+(row-r)))==player\n",
    "        for r in range(row+1,self.nrow+1):\n",
    "            in_a_diag2 += board.get((r,col+(row-r)))==player\n",
    "        \n",
    "        if self.nwin in [in_a_row, in_a_col, in_a_diag1, in_a_diag2]:\n",
    "            return 1 if player=='X' else -1\n",
    "        else:\n",
    "            return 0\n",
    "        \n",
    "\n",
    "    def game_over(self, state):\n",
    "        '''game is over if someone has won (utility!=0) or there\n",
    "        are no more moves left'''\n",
    "\n",
    "        # your code goes here\n",
    "        \n",
    "        # Solution:\n",
    "        return state.utility!=0 or len(state.moves)==0    \n",
    "\n",
    "    \n",
    "    def utility(self, state, player):\n",
    "        '''Return the value to player; 1 for win, -1 for loss, 0 otherwise.'''\n",
    "\n",
    "        # your code goes here\n",
    "        \n",
    "        # Solution:\n",
    "        return state.utility if player=='X' else -state.utility        \n",
    "        \n",
    "        \n",
    "    def display(self):\n",
    "        for row in range(1, self.nrow+1):\n",
    "            for col in range(1, self.ncol+1):\n",
    "                print(self.state.board.get((row, col), '.'), end=' ')\n",
    "            print()\n",
    "        \n",
    "    def play_game(self, player1, player2):\n",
    "        '''Play a game of tic-tac-toe!'''\n",
    "\n",
    "        # your code goes here\n",
    "\n",
    "        # Solution:\n",
    "        turn_limit = self.nrow*self.ncol  # limit in case of buggy code\n",
    "        turn = 0\n",
    "        while turn<=turn_limit:\n",
    "            for player in [player1, player2]:\n",
    "                turn += 1\n",
    "                move = player(self)\n",
    "                self.state = self.result(move, self.state)\n",
    "                if self.game_over(self.state):\n",
    "                    #self.display()\n",
    "                    return self.state.utility                \n"
   ]
  },
  {
   "cell_type": "markdown",
   "metadata": {},
   "source": [
    "<br>\n",
    "\n",
    "<a/ id='p2b'></a>\n",
    "\n",
    "### (2b) Define a random player\n",
    "\n",
    "Define a function `random_player` that takes a single argument of the `TicTacToe` class and returns a random move out of the available legal moves in the `state` of the `TicTacToe` game.\n",
    "\n",
    "In your code for the `play_game` method above, make sure that `random_player` could be a viable input for the `player1` and/or `player2` arguments."
   ]
  },
  {
   "cell_type": "code",
   "execution_count": 3,
   "metadata": {
    "collapsed": true
   },
   "outputs": [],
   "source": [
    "def random_player(game):\n",
    "    '''A player that chooses a legal move at random out of all\n",
    "    available legal moves in Tic-Tac-Toe state argument'''\n",
    "\n",
    "    \n",
    "    # your code goes here...\n",
    "\n",
    "    # Solution:\n",
    "    possible_actions = game.state.moves\n",
    "    random_move = possible_actions[np.random.randint(low=0, high=len(possible_actions))]\n",
    "    \n",
    "    return random_move"
   ]
  },
  {
   "cell_type": "markdown",
   "metadata": {
    "collapsed": true
   },
   "source": [
    "We know from experience and/or because I'm telling you right now that if two `random_player`s play many games of Tic-Tac-Toe against one another, whoever goes first will win about 58% of the time.  Verify that this is the case by playing at least 1,000 games between two random players. Report the proportion of the games that the first player has won.\n",
    "\n",
    "**\"Unit tests\":** If you are wondering how close is close enough to 58%, I simulated 100 tournaments of 1,000 games each. The min-max range of win percentage by the first player was 54-63%."
   ]
  },
  {
   "cell_type": "code",
   "execution_count": 4,
   "metadata": {},
   "outputs": [
    {
     "name": "stdout",
     "output_type": "stream",
     "text": [
      "Player 1: %wins=61.0, %draws=12.0, %losses=27.0\n"
     ]
    }
   ],
   "source": [
    "# Solution:\n",
    "    \n",
    "wins = 0\n",
    "losses = 0\n",
    "draws = 0\n",
    "n_games = 1000\n",
    "for _ in range(n_games):\n",
    "    ttt = TicTacToe(3,3,3)\n",
    "    outcome = ttt.play_game(random_player, random_player)\n",
    "#    outcome = ttt.play_game(alphabeta_player, random_player)\n",
    "#    outcome = ttt.play_game(alphabeta_player, alphabeta_player)\n",
    "#    outcome = ttt.play_game(random_player, alphabeta_player)\n",
    "#    print(outcome)\n",
    "    if outcome==1:\n",
    "        wins += 1\n",
    "    elif outcome==0:\n",
    "        draws += 1\n",
    "    elif outcome==-1:\n",
    "        losses += 1\n",
    "\n",
    "print('Player 1: %wins={}, %draws={}, %losses={}'.format(100*wins/n_games, 100*draws/n_games, 100*losses/n_games))"
   ]
  },
  {
   "cell_type": "markdown",
   "metadata": {},
   "source": [
    "<br>\n",
    "\n",
    "<a/ id='p2c'></a>\n",
    "\n",
    "### (2c) What about playing randomly on different-sized boards?\n",
    "\n",
    "What does the long-term win percentage appear to be for the first player in a 4x4 Tic-Tac-Toe tournament, where 4 marks must be connected for a win?  Support your answer using a simulation and printed output, similar to **2b**.\n",
    "\n",
    "**Also:** The win percentage should have changed substantially. Did the decrease in wins turn into more losses for the first player or more draws? Write a few sentences explaining the behavior you observed.  *Hint: think about how the size of the state space has changed.*"
   ]
  },
  {
   "cell_type": "code",
   "execution_count": 5,
   "metadata": {},
   "outputs": [
    {
     "name": "stdout",
     "output_type": "stream",
     "text": [
      "Player 1: %wins=32.8, %draws=40.7, %losses=26.5\n"
     ]
    }
   ],
   "source": [
    "# Solution:\n",
    "    \n",
    "wins = 0\n",
    "losses = 0\n",
    "draws = 0\n",
    "n_games = 1000\n",
    "for _ in range(n_games):\n",
    "    ttt = TicTacToe(4,4,4)\n",
    "    outcome = ttt.play_game(random_player, random_player)\n",
    "#    outcome = ttt.play_game(alphabeta_player, random_player)\n",
    "#    outcome = ttt.play_game(alphabeta_player, alphabeta_player)\n",
    "#    outcome = ttt.play_game(random_player, alphabeta_player)\n",
    "#    print(outcome)\n",
    "    if outcome==1:\n",
    "        wins += 1\n",
    "    elif outcome==0:\n",
    "        draws += 1\n",
    "    elif outcome==-1:\n",
    "        losses += 1\n",
    "\n",
    "print('Player 1: %wins={}, %draws={}, %losses={}'.format(100*wins/n_games, 100*draws/n_games, 100*losses/n_games))"
   ]
  },
  {
   "cell_type": "markdown",
   "metadata": {},
   "source": [
    "<br>\n",
    "\n",
    "<a/ id='p2d'></a>\n",
    "\n",
    "### (2d) Define an alpha-beta player\n",
    "\n",
    "Alright. Let's finally get serious about our Tic-Tac-Toe game.  No more fooling around!\n",
    "\n",
    "Craft a function called `alphabeta_player` that takes a single argument of a `TicTacToe` class object and returns the minimax move in the `state` of the `TicTacToe` game. As the name implies, this player should be implementing alpha-beta pruning as described in the textbook and lecture.\n",
    "\n",
    "Note that your alpha-beta search for the minimax move should include function definitions for `max_value` and `min_value` (see the aggressively realistic pseudocode from the lecture slides).\n",
    "\n",
    "In your code for the `play_game` method above, make sure that `alphabeta_player` could be a viable input for the `player1` and/or `player2` arguments."
   ]
  },
  {
   "cell_type": "code",
   "execution_count": 6,
   "metadata": {
    "collapsed": true
   },
   "outputs": [],
   "source": [
    "# Solution:\n",
    "\n",
    "def alphabeta_player(game):\n",
    "    return alphabeta_search(game)\n",
    "\n",
    "def alphabeta_search(game):\n",
    "    '''search game approach to find best action, using alpha-beta pruning:\n",
    "    alpha = best (highest) move found so far for Max\n",
    "    beta  = best (lowest) move found so far for Min'''\n",
    "\n",
    "    player = game.state.to_move\n",
    "\n",
    "    # Functions used by alphabeta\n",
    "    def max_value(state, alpha, beta):\n",
    "        if game.game_over(state):\n",
    "            return game.utility(state, player)\n",
    "        value = -float('inf')\n",
    "        for a in state.moves:\n",
    "            game.nexp += 1\n",
    "            value = max(value, min_value(game.result(a, state), alpha, beta))\n",
    "            if value >= beta:\n",
    "                return value\n",
    "            alpha = max(alpha, value)\n",
    "        return value\n",
    "\n",
    "    def min_value(state, alpha, beta):\n",
    "        if game.game_over(state):\n",
    "            return game.utility(state, player)\n",
    "        value = float('inf')\n",
    "        for a in state.moves:\n",
    "            game.nexp += 1\n",
    "            value = min(value, max_value(game.result(a, state), alpha, beta))\n",
    "            if value <= alpha:\n",
    "                return value\n",
    "            beta = min(beta, value)\n",
    "        return value\n",
    "\n",
    "    best_score = -float('inf')\n",
    "    beta = float('inf')\n",
    "    best_action = None\n",
    "    for a in game.state.moves:\n",
    "        game.nexp += 1\n",
    "        value = min_value(game.result(a, game.state), best_score, beta)\n",
    "        if value > best_score:\n",
    "            best_score = value\n",
    "            best_action = a\n",
    "    return best_action, game.nexp\n"
   ]
  },
  {
   "cell_type": "markdown",
   "metadata": {},
   "source": [
    "Verify that your alpha-beta player code is working appropriately through the following tests, using a standard 3x3 Tic-Tac-Toe board. Run **only 30 games for each test**, and track the number of wins, draws and losses.\n",
    "\n",
    "1. An alpha-beta player who plays first should never lose to a random player who plays second.\n",
    "2. A random player who plays first should never win to an alpha-beta player who plays second.\n",
    "3. Two alpha-beta players should always draw.\n",
    "\n",
    "**Nota bene:** Test your code with fewer games between the players to start, because the alpha-beta player will require substantially more compute time than the random player.  This is why I only ask for 30 games, which still might take a minute or two. (FYI: 30 games between 2 alpha-beta players on my 2017 MacBook Pro takes about 1 minute.)"
   ]
  },
  {
   "cell_type": "code",
   "execution_count": null,
   "metadata": {},
   "outputs": [],
   "source": [
    "# Solution:\n",
    "\n",
    "tbeg = time()\n",
    "\n",
    "wins = 0\n",
    "losses = 0\n",
    "draws = 0\n",
    "n_games = 30\n",
    "for _ in range(n_games):\n",
    "    ttt = TicTacToe(3,3,3)\n",
    "#    outcome = ttt.play_game(random_player, random_player)\n",
    "#    outcome = ttt.play_game(alphabeta_player, random_player)\n",
    "    outcome = ttt.play_game(alphabeta_player, alphabeta_player)\n",
    "#    outcome = ttt.play_game(random_player, alphabeta_player)\n",
    "#    print(outcome)\n",
    "    if outcome==1:\n",
    "        wins += 1\n",
    "    elif outcome==0:\n",
    "        draws += 1\n",
    "    elif outcome==-1:\n",
    "        losses += 1\n",
    "\n",
    "tend = time()\n",
    "\n",
    "print('%wins={}, %draws={}, %losses={}'.format(100*wins/n_games, 100*draws/n_games, 100*losses/n_games))\n",
    "print('Took {} seconds'.format(tend-tbeg))"
   ]
  },
  {
   "cell_type": "markdown",
   "metadata": {},
   "source": [
    "<br>\n",
    "\n",
    "<a/ id='p2e'></a>\n",
    "\n",
    "### (2e) What has pruning ever done for us?\n",
    "\n",
    "Calculate the number of number of states expanded by the minimax algorithm, with and without pruning, to determine the minimax decision from the initial 3x3 Tic-Tac-Toe board state.  This can be done in many ways, but writing out all the states by hand is **not** one of them (as you will find out!).\n",
    "\n",
    "Write a sentence or two, commenting on the difference in number of nodes expanded by each search."
   ]
  },
  {
   "cell_type": "code",
   "execution_count": 12,
   "metadata": {},
   "outputs": [
    {
     "name": "stdout",
     "output_type": "stream",
     "text": [
      "Expanded by alpha-beta: 18296\n",
      "Expanded by minimax: 549945\n",
      "Percent savings from pruning: 0.9667312185764031\n"
     ]
    }
   ],
   "source": [
    "# Solution:\n",
    "\n",
    "def minimax_player(game):\n",
    "    return minimax_search(game)\n",
    "\n",
    "def minimax_search(game):\n",
    "    '''same as alphabeta above, but no pruning'''\n",
    "\n",
    "    player = game.state.to_move\n",
    "\n",
    "    # Functions used by alphabeta\n",
    "    def max_value(state, alpha, beta):\n",
    "        if game.game_over(state):\n",
    "            return game.utility(state, player)\n",
    "        value = -float('inf')\n",
    "        for a in state.moves:\n",
    "            game.nexp += 1\n",
    "            value = max(value, min_value(game.result(a, state), alpha, beta))\n",
    "##            if value >= beta:\n",
    "##                return value\n",
    "            alpha = max(alpha, value)\n",
    "        return value\n",
    "\n",
    "    def min_value(state, alpha, beta):\n",
    "        if game.game_over(state):\n",
    "            return game.utility(state, player)\n",
    "        value = float('inf')\n",
    "        for a in state.moves:\n",
    "            game.nexp += 1\n",
    "            value = min(value, max_value(game.result(a, state), alpha, beta))\n",
    "##            if value <= alpha:\n",
    "##                return value\n",
    "            beta = min(beta, value)\n",
    "        return value\n",
    "\n",
    "    best_score = -float('inf')\n",
    "    beta = float('inf')\n",
    "    best_action = None\n",
    "    for a in game.state.moves:\n",
    "        game.nexp += 1\n",
    "        value = min_value(game.result(a, game.state), best_score, beta)\n",
    "        if value > best_score:\n",
    "            best_score = value\n",
    "            best_action = a\n",
    "    return best_action, game.nexp\n",
    "\n",
    "ttt = TicTacToe(3,3,3)\n",
    "move, nexp_alphabeta = alphabeta_player(ttt)\n",
    "print('Expanded by alpha-beta: {}'.format(nexp_alphabeta))\n",
    "ttt = TicTacToe(3,3,3)\n",
    "move, nexp_minimax = minimax_player(ttt)\n",
    "print('Expanded by minimax: {}'.format(nexp_minimax))\n",
    "print('Percent savings from pruning: {}'.format((nexp_minimax-nexp_alphabeta)/nexp_minimax))"
   ]
  },
  {
   "cell_type": "markdown",
   "metadata": {},
   "source": [
    "<br>\n",
    "\n",
    "---\n",
    "\n",
    "<br>\n",
    "\n",
    "<a id='p3'></a>[Back to top](#top)\n",
    "\n",
    "## Problem 3:  Bayesian sock estimation, rebooted\n",
    "\n",
    "<img src=\"https://pbs.twimg.com/media/B0Lbm4TCcAAMH26.jpg\" width=\"200\"/>\n",
    "\n",
    "Let's modify what we did in class (Monday 5 March) so we can estimate the posterior distribution for the number of socks an arbitrary member of our class has, ***given*** the data of unique/paired socks that come out of the dryer.\n",
    "\n",
    "**The point:** Yes, we know how many socks **each individual** has (because you did the Quizlet, right?). But what we do *not* have is a formal framework in which we can estimate the number of socks ***an arbitrary*** person has (a person selected at random.  Furthermore, we do our laundry multiple times, so we can update our prior beliefs multiple times too!\n",
    "\n",
    "**Applications:** You know which party you will vote for in an election, but a **LOT** of money is invested in figuring out which party ***an arbitrary*** individual from a community will vote for, given some data.\n",
    "\n",
    "<br>\n",
    "\n",
    "<a id='p3a'></a>\n",
    "\n",
    "### (3a)   Read and plot our class data\n",
    "\n",
    "\n",
    "1. Read in the data set from Quizlet 8, `data_socks.csv`.  Feel free to steal liberally from the Problem 1 codes.\n",
    "1. Make a figure with two panels:\n",
    "  1. A histogram of the CSCI 3202 results for `n_socks`, superimposed with a histogram of some samples from the original negative binomial prior distribution from class using the Karl Broman/blog post parameters.\n",
    "  1. A histogram of the CSCI 3202 results for `prop_pairs`, superimposed with a histogram of samples from the original beta prior distribution from class.\n",
    "  \n",
    "Clearly label all axes and include a legend to distinguish between our class results and the previous prior distributions.\n",
    "\n",
    "How you present these distributions is up to you.  Be sure the histograms sharing axes are scaled so they both show up!"
   ]
  },
  {
   "cell_type": "code",
   "execution_count": 5,
   "metadata": {},
   "outputs": [
    {
     "data": {
      "image/png": "[encoded data removed]",
      "text/plain": [
       "<matplotlib.figure.Figure at 0x1145457b8>"
      ]
     },
     "metadata": {},
     "output_type": "display_data"
    },
    {
     "data": {
      "image/png": "[encoded data removed]",
      "text/plain": [
       "<matplotlib.figure.Figure at 0x114545780>"
      ]
     },
     "metadata": {},
     "output_type": "display_data"
    }
   ],
   "source": [
    "# Solution:\n",
    "\n",
    "dfSocks = pd.read_csv(\"../../data/data_socks.csv\")\n",
    "\n",
    "# if we are more comfortable working with lists, just use that\n",
    "n_socks_data = dfSocks[\"n_socks\"].tolist()\n",
    "prop_pairs_data = dfSocks[\"prop_pairs\"].tolist()\n",
    "\n",
    "dfSocks[\"n_socks\"].hist()\n",
    "plt.xlabel(\"Number of socks\")\n",
    "plt.show()\n",
    "\n",
    "dfSocks[\"prop_pairs\"].hist()\n",
    "plt.xlabel('Proportion in pairs')\n",
    "plt.show()"
   ]
  },
  {
   "cell_type": "markdown",
   "metadata": {},
   "source": [
    "<br>\n",
    "\n",
    "<a/ id='p3b'></a>\n",
    "\n",
    "### (3b)  Revising our prior distributions\n",
    "\n",
    "Decide on new parameters for our two prior distributions, to fit the data from our class.  You can also decide to use completely new prior distribution forms altogether if you would like.\n",
    "\n",
    "Clearly state what your new prior distribution parameters are and how you chose them.  Show any relevant calculations.\n",
    "\n",
    "Plot the same two-panel figure, but instead of the Karl Broman/blog post prior histograms, include our data along with your revised prior distributions."
   ]
  },
  {
   "cell_type": "code",
   "execution_count": 6,
   "metadata": {
    "collapsed": true
   },
   "outputs": [],
   "source": [
    "# Solution\n",
    "\n",
    "# prior for n_socks\n",
    "prior_mu = np.mean(n_socks_data)\n",
    "prior_sd = np.std(n_socks_data)\n",
    "prior_size = -prior_mu**2 / (prior_mu - prior_sd**2)\n",
    "prior_p = 1 - prior_mu**2 / (prior_size * prior_sd**2)\n",
    "\n",
    "# prior for prop_pairs\n",
    "prior_alpha = 18\n",
    "prior_beta  = 1.3  # yields mean that matches np.mean(prop_pairs_data)"
   ]
  },
  {
   "cell_type": "markdown",
   "metadata": {},
   "source": [
    "<br>\n",
    "\n",
    "<a/ id='p3c'></a>\n",
    "\n",
    "### (3c) Do your laundry!\n",
    "\n",
    "**Now:** Suppose we draw 10 socks out of the laundry and there is one pair and 8 unique socks. Update your prior distributions based on these data.  Use the same **accept/reject likelihood function** form that we used in class. Use at least 10,000 iterations.\n",
    "\n",
    "Provide a two-panel figure (two rows x one column):\n",
    "1. Top panel is a histogram of samples from your prior distribution for `n_socks`\n",
    "1. Bottom panel is a histogram of samples from the posterior distribution resulting from your accept/reject approximate Bayesian computation\n",
    "\n",
    "Make sure the limits of your horizontal `n_socks`-axis are the same for both panels, to make for an easier comparison, and that all axes are labelled appropriately.\n",
    "\n",
    "Note that the model `sock_model` from class is defined in the helper functions below.  It should not need modified, but if you want to modify it you can."
   ]
  },
  {
   "cell_type": "code",
   "execution_count": null,
   "metadata": {
    "collapsed": true
   },
   "outputs": [],
   "source": [
    "# Solution:\n",
    "\n",
    "unique_data = 8\n",
    "pairs_data = 1\n",
    "\n",
    "n_picked = 10     # The number of socks to pick out of the laundry\n",
    "n_iter = 10000    # The number of iteration to run the sock-drawing simulation\n",
    "\n",
    "results = []\n",
    "\n",
    "for k in range(n_iter):\n",
    "    \n",
    "    # how many socks do we have? <-- This is a draw from the priors!\n",
    "    n_socks = int(stats.nbinom.rvs(n=prior_size, p=prior_p, size=1))\n",
    "    prop_pairs = float(stats.beta.rvs(a=prior_alpha, b=prior_beta, size=1))\n",
    "    \n",
    "    # run our model\n",
    "    unique, pairs = sock_model(n_socks=n_socks, prop_pairs=prop_pairs, n_picked=n_picked)\n",
    "        \n",
    "    results.append([unique, pairs, n_socks, prop_pairs])"
   ]
  },
  {
   "cell_type": "code",
   "execution_count": 8,
   "metadata": {},
   "outputs": [
    {
     "data": {
      "image/png": "[encoded data removed]",
      "text/plain": [
       "<matplotlib.figure.Figure at 0x115a0d240>"
      ]
     },
     "metadata": {},
     "output_type": "display_data"
    }
   ],
   "source": [
    "# generally, more efficient to convert/append to DataFrame just one time\n",
    "# (timing test below, for the interested)\n",
    "dfSocks = pd.DataFrame(results, columns=['unique', 'pairs', 'n_socks', 'prop_pairs'])\n",
    "\n",
    "plt.subplots(nrows=2, ncols=1, figsize=(6,8))\n",
    "\n",
    "plt.subplot(2,1,1)\n",
    "ax = dfSocks[\"n_socks\"].hist(bins=range(0,105,5), edgecolor=\"white\")\n",
    "ax.set_axisbelow(True)\n",
    "plt.xlim([0, 100])\n",
    "plt.xlabel('Number of socks total')\n",
    "plt.xticks(range(0,100,10))\n",
    "plt.ylabel('Frequency')\n",
    "plt.text(70,650, 'Prior', size=20)\n",
    "\n",
    "plt.subplot(2,1,2)\n",
    "ax = dfSocks.loc[(dfSocks[\"unique\"]==unique_data) & (dfSocks[\"pairs\"]==pairs_data), \"n_socks\"].hist(\n",
    "    bins=range(0,105,5), edgecolor=\"white\")\n",
    "ax.set_axisbelow(True)\n",
    "plt.xlim([0, 100])\n",
    "plt.xlabel('Number of socks total')\n",
    "plt.xticks(range(0,100,10))\n",
    "plt.ylabel('Frequency')\n",
    "plt.text(70,250, 'Posterior', size=20)\n",
    "\n",
    "plt.show()"
   ]
  },
  {
   "cell_type": "code",
   "execution_count": null,
   "metadata": {
    "collapsed": true
   },
   "outputs": [],
   "source": []
  },
  {
   "cell_type": "markdown",
   "metadata": {},
   "source": [
    "Write a few sentences commenting on the effect of the Bayesian update of our prior distribution."
   ]
  },
  {
   "cell_type": "code",
   "execution_count": null,
   "metadata": {
    "collapsed": true
   },
   "outputs": [],
   "source": []
  },
  {
   "cell_type": "markdown",
   "metadata": {},
   "source": [
    "Save the samples from the prior distributions as lists or in a Pandas data frame. You will use them later."
   ]
  },
  {
   "cell_type": "code",
   "execution_count": null,
   "metadata": {
    "collapsed": true
   },
   "outputs": [],
   "source": []
  },
  {
   "cell_type": "markdown",
   "metadata": {},
   "source": [
    "<br>\n",
    "\n",
    "<a/ id='p3d'></a>\n",
    "\n",
    "### (3d) Do your laundry... again!\n",
    "\n",
    "Now treat your resulting *posterior distributions* as the sample data from our class to develop ***updated prior distributions***.  The easiest way to do this is to assume the same functional form, but update the parameters of the distribution.\n",
    "\n",
    "Clearly state what your updated prior distributions are and how you decided on these new distributions/parameters. Show any relevant calculations."
   ]
  },
  {
   "cell_type": "code",
   "execution_count": 9,
   "metadata": {
    "collapsed": true
   },
   "outputs": [],
   "source": [
    "# Solution\n",
    "\n",
    "# prior for n_socks\n",
    "n_socks_data2 = dfSocks.loc[(dfSocks[\"unique\"]==unique_data) & (dfSocks[\"pairs\"]==pairs_data), \"n_socks\"].tolist()\n",
    "\n",
    "prior_mu = np.mean(n_socks_data2)\n",
    "prior_sd = np.std(n_socks_data2)\n",
    "prior_size = -prior_mu**2 / (prior_mu - prior_sd**2)\n",
    "prior_p = 1 - prior_mu**2 / (prior_size * prior_sd**2)\n",
    "\n",
    "# prior for prop_pairs\n",
    "prop_pairs_data2 = dfSocks.loc[(dfSocks[\"unique\"]==unique_data) & (dfSocks[\"pairs\"]==pairs_data), \"prop_pairs\"].tolist()\n",
    "\n",
    "prior_alpha = 18\n",
    "prior_beta  = 1.4  # yields mean that matches np.mean(prop_pairs_data2) (only changed a little)"
   ]
  },
  {
   "cell_type": "markdown",
   "metadata": {},
   "source": [
    "Suppose you do your laundry a second time, again with all of your socks in there at once.  This time, you pull 12 socks out of the laundry and get 3 pairs and 6 distinct socks.\n",
    "\n",
    "**Now:** Based on our updated prior distributions, use the accept/reject likelihood function with these new data to update your priors a second time. Again, use at least 10,000 iterations.\n",
    "\n",
    "Provide a three-panel figure (three rows x one column):\n",
    "1. First two panels are the same as in **3c**\n",
    "1. Third (bottom) panel is the posterior distribution resulting from the second update\n",
    "\n",
    "So the top panel is only the prior distribution (no data), the middle panel is a posterior updated once with data and the bottom panel is a posterior distribution updated with two sets of data.\n",
    "\n",
    "Each update with data is called an **assimilation step** - we are assimilating laundry data."
   ]
  },
  {
   "cell_type": "code",
   "execution_count": 10,
   "metadata": {
    "collapsed": true
   },
   "outputs": [],
   "source": [
    "# Solution:\n",
    "\n",
    "unique_data = 6\n",
    "pairs_data = 3\n",
    "\n",
    "n_picked = 12     # The number of socks to pick out of the laundry\n",
    "n_iter = 10000    # The number of iteration to run the sock-drawing simulation\n",
    "\n",
    "results = []\n",
    "\n",
    "for k in range(n_iter):\n",
    "    \n",
    "    # how many socks do we have? <-- This is a draw from the priors!\n",
    "    n_socks = int(stats.nbinom.rvs(n=prior_size, p=prior_p, size=1))\n",
    "    prop_pairs = float(stats.beta.rvs(a=prior_alpha, b=prior_beta, size=1))\n",
    "    \n",
    "    # run our model\n",
    "    unique, pairs = sock_model(n_socks=n_socks, prop_pairs=prop_pairs, n_picked=n_picked)\n",
    "        \n",
    "    results.append([unique, pairs, n_socks, prop_pairs])    "
   ]
  },
  {
   "cell_type": "code",
   "execution_count": 23,
   "metadata": {},
   "outputs": [
    {
     "data": {
      "image/png": "[encoded data removed]",
      "text/plain": [
       "<matplotlib.figure.Figure at 0x11655d860>"
      ]
     },
     "metadata": {},
     "output_type": "display_data"
    }
   ],
   "source": [
    "    \n",
    "# generally, more efficient to convert/append to DataFrame just one time\n",
    "# (timing test below, for the interested)\n",
    "dfSocks2 = pd.DataFrame(results, columns=['unique', 'pairs', 'n_socks', 'prop_pairs'])\n",
    "\n",
    "plt.subplots(nrows=3, ncols=1, figsize=(6,10))\n",
    "\n",
    "plt.subplot(3,1,1)\n",
    "ax = dfSocks[\"n_socks\"].hist(bins=range(0,105,5), edgecolor=\"white\")\n",
    "ax.set_axisbelow(True)\n",
    "plt.xlim([0, 100])\n",
    "plt.xlabel('Number of socks total')\n",
    "plt.xticks(range(0,100,10))\n",
    "plt.ylabel('Frequency')\n",
    "plt.text(50,660, 'Prior (no update yet)', size=20)\n",
    "\n",
    "plt.subplot(3,1,2)\n",
    "ax = dfSocks2[\"n_socks\"].hist(bins=range(0,105,5), edgecolor=\"white\")\n",
    "ax.set_axisbelow(True)\n",
    "plt.xlim([0, 100])\n",
    "plt.xlabel('Number of socks total')\n",
    "plt.xticks(range(0,100,10))\n",
    "plt.ylabel('Frequency')\n",
    "plt.text(50,700, 'Posterior (updated once)', size=20)\n",
    "\n",
    "plt.subplot(3,1,3)\n",
    "ax = dfSocks2.loc[(dfSocks2[\"unique\"]==unique_data) & (dfSocks2[\"pairs\"]==pairs_data), \"n_socks\"].hist(\n",
    "    bins=range(0,105,5), edgecolor=\"white\")\n",
    "ax.set_axisbelow(True)\n",
    "plt.xlim([0, 100])\n",
    "plt.xlabel('Number of socks total')\n",
    "plt.xticks(range(0,100,10))\n",
    "plt.ylabel('Frequency')\n",
    "plt.text(50,200, 'Posterior (updated twice)', size=20)\n",
    "\n",
    "plt.show()"
   ]
  },
  {
   "cell_type": "markdown",
   "metadata": {},
   "source": [
    "<br>\n",
    "\n",
    "<a/ id='p3e'></a>\n",
    "\n",
    "### (3e) Some calculations\n",
    "\n",
    "Calculate the 5-95% quantile range for `n_socks` using each of: (1) the prior distribution, (2) the posterior distribution after one update, and (3) the posterior distribution after two updates.  These are called the 90% **credible intervals** in this Bayesian setting, in contrast to the frequentist confidence interval."
   ]
  },
  {
   "cell_type": "code",
   "execution_count": 16,
   "metadata": {},
   "outputs": [
    {
     "name": "stdout",
     "output_type": "stream",
     "text": [
      "0.05      8.0\n",
      "0.95    112.0\n",
      "Name: n_socks, dtype: float64\n",
      "0.05     21.0\n",
      "0.95    106.0\n",
      "Name: n_socks, dtype: float64\n",
      "0.05    16.0\n",
      "0.95    62.0\n",
      "Name: n_socks, dtype: float64\n"
     ]
    }
   ],
   "source": [
    "# Solution:\n",
    "\n",
    "print(dfSocks[\"n_socks\"].quantile([0.05, .95]))\n",
    "print(dfSocks.loc[(dfSocks[\"unique\"]==8) & (dfSocks[\"pairs\"]==1), \"n_socks\"].quantile([0.05, .95]))\n",
    "print(dfSocks2.loc[(dfSocks2[\"unique\"]==6) & (dfSocks2[\"pairs\"]==3), \"n_socks\"].quantile([0.05, .95]))"
   ]
  },
  {
   "cell_type": "markdown",
   "metadata": {},
   "source": [
    "Write a few sentences commenting on similarities/differences between your original prior distribution (for the class data set), and the two updated posterior distributions, as well as the differences in the estimated credible intervals. Explain why the distributions/credible intervals are changing as they are, as more data are assimilated."
   ]
  },
  {
   "cell_type": "code",
   "execution_count": null,
   "metadata": {
    "collapsed": true
   },
   "outputs": [],
   "source": []
  },
  {
   "cell_type": "markdown",
   "metadata": {},
   "source": [
    "<br>\n",
    "\n",
    "**Concluding note:** This only is technically accurate estimation if we assume that all of your socks are in the laundry at the same time. Or if we revise our prior distributions to estimate the number of socks we have in the laundry in any given load. But that's way harder to pin down."
   ]
  },
  {
   "cell_type": "markdown",
   "metadata": {
    "collapsed": true
   },
   "source": [
    "<br><br><br>\n",
    "\n",
    "<a id='helpers'></a>\n",
    "\n",
    "---\n",
    "\n",
    "[Back to top](#top)\n",
    "\n",
    "## Some things that might be useful\n",
    "\n",
    "Easiest way to start:  Click this cell, go to \"Cell\" in the toolbar above, and click \"Run All Below\""
   ]
  },
  {
   "cell_type": "code",
   "execution_count": 1,
   "metadata": {
    "collapsed": true
   },
   "outputs": [],
   "source": [
    "import pandas as pd\n",
    "import numpy as np\n",
    "import copy as cp\n",
    "from scipy import stats\n",
    "from math import floor\n",
    "import matplotlib.pyplot as plt\n",
    "import unittest\n",
    "import csv\n",
    "from time import time"
   ]
  },
  {
   "cell_type": "markdown",
   "metadata": {},
   "source": [
    "## Definitely useful"
   ]
  },
  {
   "cell_type": "code",
   "execution_count": 3,
   "metadata": {
    "collapsed": true
   },
   "outputs": [],
   "source": [
    "def slr(alpha, Teq, temperature):\n",
    "    '''sea-level emulator of Rahmstorf 2007 (DOI: 10.1126/science.1135456)\n",
    "    Takes global mean temperature as forcing, and parameters:\n",
    "    alpha = temperature sensitivity of sea level rise, and\n",
    "    Teq   = equilibrium temperature,\n",
    "    and calculates a rise/fall in sea levels, based on whether the temperature\n",
    "    is warmer/cooler than the equilibrium temperature Teq.\n",
    "    Here, we are only worrying about alpha (for now!)'''\n",
    "\n",
    "    n_time = len(temperature)\n",
    "    deltat = 1\n",
    "    sealevel = [0]*n_time\n",
    "    sealevel[0] = -134\n",
    "    for t in range(n_time-1):\n",
    "        sealevel[t+1] = sealevel[t] + deltat*alpha*(temperature[t]-Teq)\n",
    "\n",
    "    return sealevel\n",
    "\n",
    "\n",
    "def sock_model(n_socks, prop_pairs, n_picked):\n",
    "    \n",
    "    n_pairs = int( floor(n_socks/2) * prop_pairs)\n",
    "    n_odd = n_socks - 2*n_pairs\n",
    "\n",
    "    # label all our socks\n",
    "    socks = []\n",
    "    for i in range(n_pairs):\n",
    "        socks = socks + [i]*2\n",
    "    for j in range(n_pairs, n_pairs+n_odd):\n",
    "        socks = socks + [j]\n",
    "\n",
    "    if len(socks)>0:\n",
    "        # pick our socks out of the dryer\n",
    "        picked_socks = list(np.random.choice(socks, size=min(n_picked, n_socks), replace=False))\n",
    "        sock_counts = [picked_socks.count(k) for k in range(max(socks)+1)]\n",
    "\n",
    "        # how many were singleton socks?\n",
    "        unique = sock_counts.count(1)\n",
    "\n",
    "        # how many were in pairs?\n",
    "        pairs = sock_counts.count(2)\n",
    "        \n",
    "    else:\n",
    "        unique = 0\n",
    "        pairs = 0\n",
    "    \n",
    "    return unique, pairs\n"
   ]
  },
  {
   "cell_type": "markdown",
   "metadata": {},
   "source": [
    "[Back to top](#top)"
   ]
  },
  {
   "cell_type": "code",
   "execution_count": null,
   "metadata": {
    "collapsed": true
   },
   "outputs": [],
   "source": []
  }
 ],
 "metadata": {
  "kernelspec": {
   "display_name": "Python 3",
   "language": "python",
   "name": "python3"
  },
  "language_info": {
   "codemirror_mode": {
    "name": "ipython",
    "version": 3
   },
   "file_extension": ".py",
   "mimetype": "text/x-python",
   "name": "python",
   "nbconvert_exporter": "python",
   "pygments_lexer": "ipython3",
   "version": "3.6.1"
  }
 },
 "nbformat": 4,
 "nbformat_minor": 2
}
