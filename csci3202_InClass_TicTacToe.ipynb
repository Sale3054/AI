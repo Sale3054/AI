{
 "cells": [
  {
   "cell_type": "markdown",
   "metadata": {},
   "source": [
    "# CSCI 3202, Spring 2018\n",
    "\n",
    "# Friday 23 February 2018\n",
    "\n",
    "# In-class notebook:  Games\n",
    "\n",
    "<a id='top'></a>\n",
    "\n",
    "<br>\n",
    "\n",
    "### Your name(s):\n",
    "\n",
    "<br>\n",
    "\n",
    "* When you submit this to Moodle (under Quizlet 7), be sure to include all of your group members' names.\n",
    "* You may work in groups of up to 3 people,\n",
    "* but **all people** in the group must submit the assignment on their own Moodle account (because Moodle is a pain in the ass to create groups and this will still be faster than your normal quizlets).\n",
    "\n",
    "---\n",
    "\n",
    "Shortcuts:  [Top](#top) || [Board](#board) | [Players](#players) | [Utility](#ulitity) | [Playing Games](#playing) | [TTT Class](#class) || [Bottom](#bottom)\n",
    "\n",
    "---\n",
    "\n",
    "Before we begin, let's load a few packages that we might find useful."
   ]
  },
  {
   "cell_type": "code",
   "execution_count": 17,
   "metadata": {
    "collapsed": true
   },
   "outputs": [],
   "source": [
    "import numpy as np\n",
    "import copy as cp"
   ]
  },
  {
   "cell_type": "markdown",
   "metadata": {},
   "source": [
    "<br>\n",
    "\n",
    "<img src=\"https://www.cookieshq.co.uk/images/2016/06/01/tic-tac-toe.png\" width=\"150\"/>\n",
    "\n",
    "\n",
    "# Tic-Tac-Toe\n",
    "\n",
    "Today, the goal is to get an operational `TicTacToe` class, and - aspirationally - play games using `random_player`s.  We know that if many, many games are played between two random players, the one who goes first should win about 58% of the time, so that is our benchmark... once we get there.\n",
    "\n",
    "Let's start by defining a Tic-Tac-Toe board `State` class.  This class includes everything we need to know about the board:\n",
    "* whose move is it? (`to_move`)\n",
    "* has anyone won yet? (`utility`)\n",
    "* what marks are on the board? (`board`, a dictionary that we can modify so the keys are tuples representing a location on the board, and the values are the player, 'X' or 'O', occupying those locations)\n",
    "* what moves are left to be made? (`moves`, a list of tuples representing vacant board locations)"
   ]
  },
  {
   "cell_type": "code",
   "execution_count": 18,
   "metadata": {
    "collapsed": true
   },
   "outputs": [],
   "source": [
    "class State:\n",
    "    def __init__(self, moves):\n",
    "        self.to_move = 'O'\n",
    "        self.utility = 0\n",
    "        self.board = {}\n",
    "        self.moves = cp.copy(moves)"
   ]
  },
  {
   "cell_type": "markdown",
   "metadata": {},
   "source": [
    "Note that we used the `copy` method so that when we modify what moves are left, we do not tamper with the original `moves` object in memory.\n",
    "\n",
    "Have a look at the image above the \"Tic-Tac-Toe\" header.  How would we represent that state?\n",
    "\n",
    "Well, of course we need to construct a `State` first.  You'll notice that in order to do that, we need the list of initially available `moves`.  Let's use row/column (matrix-esque) notation.  So (1,1) represents the O in the upper-left, there is another O at (2,2) in the center square, and X's are in (1,3), (3,1) and (3,3).\n",
    "\n",
    "Armed with this notation, the list of initially available moves is:"
   ]
  },
  {
   "cell_type": "code",
   "execution_count": 19,
   "metadata": {
    "collapsed": true
   },
   "outputs": [],
   "source": [
    "moves_initial = [(1,1), (1,2), (1,3), (2,1), (2,2), (2,3), (3,1), (3,2), (3,3)]"
   ]
  },
  {
   "cell_type": "markdown",
   "metadata": {},
   "source": [
    "That was nice and all, but really we ought to generalize this so we are not hard-coded for the $3 \\times 3$ Tic-Tac-Toe case.  See if you can figure out a way to initialize the list of initially available `moves` for an arbitrary sized $m \\times n$ Tic-Tac-Toe board.  (If you can't, that's okay, you can just leave `moves_initial` alone and move on to the rest of this notebook.)"
   ]
  },
  {
   "cell_type": "code",
   "execution_count": 20,
   "metadata": {},
   "outputs": [
    {
     "name": "stdout",
     "output_type": "stream",
     "text": [
      "[(1, 1), (1, 2), (1, 3), (2, 1), (2, 2), (2, 3), (3, 1), (3, 2), (3, 3)]\n"
     ]
    }
   ],
   "source": [
    "nrow = 3\n",
    "ncol = 3\n",
    "moves = []\n",
    "def create_moves(nrow, ncol):\n",
    "    moves = []\n",
    "    for i in range(1, nrow+1):\n",
    "        for j in range(1, ncol+1):\n",
    "            moves.append((i,j))\n",
    "    return moves\n",
    "print(create_moves(nrow, ncol))\n",
    "# your code goes here!\n",
    "\n"
   ]
  },
  {
   "cell_type": "markdown",
   "metadata": {},
   "source": [
    "<br>\n",
    "\n",
    "[Back to top](#top)\n",
    "<a/ id='board'></a>\n",
    "\n",
    "### Board and game state\n",
    "\n",
    "Now we need to modify the board.  Each time a player makes a mark on the board, one of the potential moves has been taken and must be removed from the list, and we need to update whose move it is.  I will add the first move - you do the rest!"
   ]
  },
  {
   "cell_type": "code",
   "execution_count": 21,
   "metadata": {
    "collapsed": true
   },
   "outputs": [],
   "source": [
    "state = State(moves_initial)\n",
    "move = (1,3)\n",
    "state.board[move] = 'X'                             # player makes a move\n",
    "state.moves.remove(move)                            # that move is no longer valid\n",
    "state.to_move = 'O' if state.to_move=='X' else 'X'  # now it is the next player's turn\n",
    "\n",
    "\n",
    "# make the other moves down here!\n",
    "\n"
   ]
  },
  {
   "cell_type": "markdown",
   "metadata": {},
   "source": [
    "Since it is awfully tedious to keep re-running the same snippet of code, let's define a function to do it for us."
   ]
  },
  {
   "cell_type": "code",
   "execution_count": 22,
   "metadata": {
    "collapsed": true
   },
   "outputs": [],
   "source": [
    "def result(move, state):\n",
    "    '''\n",
    "    What is the hypothetical result of move `move` in state `state` ?\n",
    "    move  = (row, col) tuple where player will put their mark (X or O)\n",
    "    state = a `State` object, to represent whose turn it is and form\n",
    "            the basis for generating a **hypothetical** updated state\n",
    "            that will result from making the given `move`\n",
    "    '''\n",
    "    # First, create a copy of the given state. We use `deepcopy` so\n",
    "    # that we do not prematurely tamper with the actual current \n",
    "    # Tic-Tac-Toe state, since we mostly use this method\n",
    "    # to get hypothetical results as we search our game tree, not\n",
    "    # for actual moves.\n",
    "    new_state = cp.deepcopy(state)\n",
    "    # player makes a move\n",
    "    \n",
    "    new_state.moves.remove(move)                            # that move is no longer valid\n",
    "    new_state.to_move = 'O' if new_state.to_move=='X' else 'X'  # now it is the next player's turn\n",
    "    new_state.board[move] = new_state.to_move\n",
    "\n",
    "    \n",
    "    return new_state"
   ]
  },
  {
   "cell_type": "markdown",
   "metadata": {},
   "source": [
    "Let's take our new function for a test drive by re-creating the state in the above picture.  Note that as long as I alternate X and O, the order of the moves is arbitrary (since we don't know in what order that image was created)."
   ]
  },
  {
   "cell_type": "code",
   "execution_count": 23,
   "metadata": {
    "collapsed": true
   },
   "outputs": [],
   "source": [
    "state = State(moves_initial)\n",
    "state = result((1,3), state)\n",
    "state = result((1,1), state)\n",
    "state = result((3,1), state)\n",
    "state = result((2,2), state)\n",
    "state = result((3,3), state)"
   ]
  },
  {
   "cell_type": "markdown",
   "metadata": {},
   "source": [
    "Verify that we get the expected results out of the new `state`:\n",
    "* whose turn should it be?\n",
    "* what moves are left?\n",
    "* what does the board look like?"
   ]
  },
  {
   "cell_type": "code",
   "execution_count": 24,
   "metadata": {},
   "outputs": [
    {
     "name": "stdout",
     "output_type": "stream",
     "text": [
      "{(1, 3): 'X', (1, 1): 'O', (3, 1): 'X', (2, 2): 'O', (3, 3): 'X'}\n"
     ]
    }
   ],
   "source": [
    "print(state.board)"
   ]
  },
  {
   "cell_type": "markdown",
   "metadata": {},
   "source": [
    "It sure would be easier to verify that the proper state had been generated if we had an appropriate helper function to visualize the Tic-Tac-Toe board as it appears in normal life, instead of as a dictionary.  Why, here's one now!  Test it out on the `state` you just generated above.  Note also that this is hard-coded for the $3\\times 3$ case currently."
   ]
  },
  {
   "cell_type": "code",
   "execution_count": 40,
   "metadata": {
    "collapsed": true
   },
   "outputs": [],
   "source": [
    "def display(state):\n",
    "    list1 = []\n",
    "    for row in range(1, 4):\n",
    "        for col in range(1, 4):\n",
    "            #print(list(state.board.keys())[list(state.board.values()).index('X')])\n",
    "            print(state.board.get((row, col), '.'), end=' ')\n",
    "            if state.board.get((row,col)) == 'X':\n",
    "                list1.append((row,col))\n",
    "        print(list1)"
   ]
  },
  {
   "cell_type": "code",
   "execution_count": 41,
   "metadata": {},
   "outputs": [
    {
     "name": "stdout",
     "output_type": "stream",
     "text": [
      "O . X [(1, 3)]\n",
      ". O . [(1, 3)]\n",
      "X . X [(1, 3), (3, 1), (3, 3)]\n"
     ]
    }
   ],
   "source": [
    "display(state)"
   ]
  },
  {
   "cell_type": "markdown",
   "metadata": {},
   "source": [
    "<br>\n",
    "[Back to top](#top)\n",
    "<a/ id='players'></a>\n",
    "\n",
    "### Players\n",
    "\n",
    "Now let's create a player to play a random legal move in a given Tic-Tac-Toe game state."
   ]
  },
  {
   "cell_type": "code",
   "execution_count": 27,
   "metadata": {
    "collapsed": true
   },
   "outputs": [],
   "source": [
    "def random_player(state):\n",
    "    '''A player that chooses a legal move at random out of all\n",
    "    available legal moves in Tic-Tac-Toe state argument'''\n",
    "\n",
    "    \n",
    "    # your code goes here...\n",
    "\n",
    "    \n",
    "    return random_move"
   ]
  },
  {
   "cell_type": "markdown",
   "metadata": {},
   "source": [
    "<a/ id='utility'></a>\n",
    "\n",
    "### Utility\n",
    "\n",
    "Now a game between two random players can be represented as a loop until either all available moves are taken up (`length(state.moves)==0`) ***or*** one of the players gets 3-in-a-row.  So now we need a function to check whether or not someone has achieved 3-in-a-row by making `move` in `state`.  I've given you some guidelines on how to return the computed `utility`, but there will be some modifications needed depending on how you implement this routine.\n",
    "\n",
    "<img src=\"https://imgs.xkcd.com/comics/will_it_work.png\" width=\"230\"/>\n",
    "\n",
    "A couple notes:\n",
    "* For purposes of getting off the ground during class, there are only 8 possible ways in standard $3 \\times 3$ Tic-Tac-Toe in which a player can win.  So it isn't too difficult to hard-code for this situation, if you are stumped. An example portion of this hard-coding solution is given as a comment below.\n",
    "* You only need to check if the person who is making the `move` has just gotten 3-in-a-row, because the other player can't possibly have changed the utility since they have not moved.\n",
    "* Remember that `compute_utility` is a **hypothetical** calculation.  We do **not** want to actually modify `state` yet because once we start using alpha-beta pruning, we will need to make judgments on how good numerous possible outcomes are *before* we execute our move and modify the state.\n",
    "  * To do this, we can use a `deepcopy` of the state board, in which the new board object itself is essentially a new version of the old one and not attached in memory at all.  This line is given for you."
   ]
  },
  {
   "cell_type": "code",
   "execution_count": 28,
   "metadata": {},
   "outputs": [
    {
     "ename": "SyntaxError",
     "evalue": "invalid syntax (<ipython-input-28-408d17b33ccd>, line 20)",
     "output_type": "error",
     "traceback": [
      "\u001b[1;36m  File \u001b[1;32m\"<ipython-input-28-408d17b33ccd>\"\u001b[1;36m, line \u001b[1;32m20\u001b[0m\n\u001b[1;33m    if # nobody has gotten 3-in-a-row\u001b[0m\n\u001b[1;37m                                     ^\u001b[0m\n\u001b[1;31mSyntaxError\u001b[0m\u001b[1;31m:\u001b[0m invalid syntax\n"
     ]
    }
   ],
   "source": [
    "def compute_utility(move, state):\n",
    "    '''Calculate the utility of making a given move in a given state.\n",
    "    If X wins, utility is +1; if O wins, utility is -1; if it is a\n",
    "    draw or nobody has won yet, then utility is 0.'''\n",
    "    \n",
    "    # create a hypothetical copy of the board, with 'move' executed\n",
    "    board = cp.deepcopy(state.board)\n",
    "    board[move] = state.to_move\n",
    "\n",
    "    # Example hard-coding line:\n",
    "    # if (state.board.get((1,1))==state.to_move and\n",
    "    #     state.board.get((1,2))==state.to_move and\n",
    "    #     state.board.get((1,3))==state.to_move) or\n",
    "    # ... continue with the other ways in which someone could win...\n",
    "    \n",
    "   \n",
    "    # your code goes here\n",
    "    \n",
    "\n",
    "    if # nobody has gotten 3-in-a-row\n",
    "        return 0\n",
    "    else:\n",
    "        return 1 if state.to_move=='X' else -1"
   ]
  },
  {
   "cell_type": "code",
   "execution_count": 58,
   "metadata": {},
   "outputs": [
    {
     "name": "stdout",
     "output_type": "stream",
     "text": [
      "{(3, 1), (1, 1), (2, 1)}\n",
      "[(1, 1), (2, 1), (3, 1), (1, 2), (2, 2), (3, 2), (1, 3), (2, 3), (3, 3)]\n",
      "[(1, 2), (2, 2), (3, 2), (1, 3), (2, 3), (3, 3)]\n"
     ]
    }
   ],
   "source": [
    "horizontal = []\n",
    "vertical = []\n",
    "diagonal = []\n",
    "for i in range(1, 4):\n",
    "    for j in range(1, 4):\n",
    "        horizontal.append((j,i))\n",
    "        vertical.append((i,j))\n",
    "for i in range(1,4):\n",
    "    diagonal.append((i,i))\n",
    "#print(horizontal)\n",
    "#print(vertical)\n",
    "#print(diagonal)\n",
    "import itertools\n",
    "top5 = list(itertools.islice(horizontal, 5)) # grab the first five elements\n",
    "#print(top5)\n",
    "\n",
    "top3 = set(itertools.islice(horizontal, 3))\n",
    "print(top3)\n",
    "n = 3\n",
    "print(horizontal)\n",
    "del horizontal[:n]\n",
    "print(horizontal)\n"
   ]
  },
  {
   "cell_type": "code",
   "execution_count": 59,
   "metadata": {},
   "outputs": [],
   "source": [
    "temp = []\n",
    "win_condition = [(1,1), (2,2), (3,3)]\n",
    "win_condition = set(win_condition)\n",
    "horizontal = set(horizontal)\n",
    "if win_condition.issubset(horizontal):\n",
    "    print('1')\n"
   ]
  },
  {
   "cell_type": "markdown",
   "metadata": {},
   "source": [
    "We can test out our `compute_utility` method by having O make a move in the (1,2) square, and then checking if someone has won yet:"
   ]
  },
  {
   "cell_type": "code",
   "execution_count": 60,
   "metadata": {},
   "outputs": [
    {
     "ename": "NameError",
     "evalue": "name 'compute_utility' is not defined",
     "output_type": "error",
     "traceback": [
      "\u001b[1;31m---------------------------------------------------------------------------\u001b[0m",
      "\u001b[1;31mNameError\u001b[0m                                 Traceback (most recent call last)",
      "\u001b[1;32m<ipython-input-60-7d7096acd79e>\u001b[0m in \u001b[0;36m<module>\u001b[1;34m()\u001b[0m\n\u001b[0;32m      2\u001b[0m \u001b[1;33m\u001b[0m\u001b[0m\n\u001b[0;32m      3\u001b[0m \u001b[1;31m# the utility is a *hypothetical* calculation\u001b[0m\u001b[1;33m\u001b[0m\u001b[1;33m\u001b[0m\u001b[0m\n\u001b[1;32m----> 4\u001b[1;33m \u001b[0mnew_utility\u001b[0m \u001b[1;33m=\u001b[0m \u001b[0mcompute_utility\u001b[0m\u001b[1;33m(\u001b[0m\u001b[0mmove\u001b[0m\u001b[1;33m,\u001b[0m \u001b[0mstate\u001b[0m\u001b[1;33m)\u001b[0m\u001b[1;33m\u001b[0m\u001b[0m\n\u001b[0m\u001b[0;32m      5\u001b[0m \u001b[1;33m\u001b[0m\u001b[0m\n\u001b[0;32m      6\u001b[0m \u001b[1;31m# make the actual state update\u001b[0m\u001b[1;33m\u001b[0m\u001b[1;33m\u001b[0m\u001b[0m\n",
      "\u001b[1;31mNameError\u001b[0m: name 'compute_utility' is not defined"
     ]
    }
   ],
   "source": [
    "move = (1,2)\n",
    "\n",
    "# the utility is a *hypothetical* calculation\n",
    "new_utility = compute_utility(move, state)\n",
    "\n",
    "# make the actual state update\n",
    "state = result(move, state)\n",
    "state.utility = new_utility\n",
    "\n",
    "# we should stop playing our game once someone has won (i.e., utility != 0)\n",
    "print('Has someone won yet? {}'.format(state.utility!=0))"
   ]
  },
  {
   "cell_type": "markdown",
   "metadata": {},
   "source": [
    "It seems like updating the utility via `compute_utility` really ought to be a part of the `result` function, since the new utility is a direct result of the move.  Go back to add this to your `result` routine.\n",
    "\n",
    "Now then.  What is the utility if we have X place its next mark at (2,3)?"
   ]
  },
  {
   "cell_type": "code",
   "execution_count": 61,
   "metadata": {},
   "outputs": [
    {
     "name": "stdout",
     "output_type": "stream",
     "text": [
      "Has someone won yet? False\n"
     ]
    }
   ],
   "source": [
    "move = (2,3)\n",
    "state = result(move, state)\n",
    "\n",
    "# we should stop playing our game once someone has won (i.e., utility != 0)\n",
    "print('Has someone won yet? {}'.format(state.utility!=0))"
   ]
  },
  {
   "cell_type": "markdown",
   "metadata": {},
   "source": [
    "You should have just found out that X has emerged from this heated battle triumphant!  Glorious victory for X!\n",
    "\n",
    "Now it's time to define a function to play a game between two players. The function should take as arguments the function names for two players (so far, all we have are `random_player`s), and return the final state of the game.\n",
    "* Start by initializing a new game `State`\n",
    "* Alternate between players selecting a move and then applying that move to modify the game `state`\n",
    "* After each player's move, you should have a check to see if the game is over.\n",
    "* If the game is over, print to the screen the `state.board` and `state.utility`."
   ]
  },
  {
   "cell_type": "code",
   "execution_count": 62,
   "metadata": {},
   "outputs": [
    {
     "ename": "SyntaxError",
     "evalue": "unexpected EOF while parsing (<ipython-input-62-c7368c4de038>, line 1)",
     "output_type": "error",
     "traceback": [
      "\u001b[1;36m  File \u001b[1;32m\"<ipython-input-62-c7368c4de038>\"\u001b[1;36m, line \u001b[1;32m1\u001b[0m\n\u001b[1;33m    def play_game(player1, player2):\u001b[0m\n\u001b[1;37m                                    ^\u001b[0m\n\u001b[1;31mSyntaxError\u001b[0m\u001b[1;31m:\u001b[0m unexpected EOF while parsing\n"
     ]
    }
   ],
   "source": [
    "def play_game(player1, player2):\n"
   ]
  },
  {
   "cell_type": "markdown",
   "metadata": {},
   "source": [
    "<br>\n",
    "\n",
    "<a/ id='playing'></a>\n",
    "[Back to top](#top)\n",
    "\n",
    "### Let's play a game!\n",
    "\n",
    "Play a game of Tic-Tac-Toe between two random players. Let's see what happens..."
   ]
  },
  {
   "cell_type": "code",
   "execution_count": 63,
   "metadata": {},
   "outputs": [
    {
     "ename": "NameError",
     "evalue": "name 'play_game' is not defined",
     "output_type": "error",
     "traceback": [
      "\u001b[1;31m---------------------------------------------------------------------------\u001b[0m",
      "\u001b[1;31mNameError\u001b[0m                                 Traceback (most recent call last)",
      "\u001b[1;32m<ipython-input-63-f4303fede685>\u001b[0m in \u001b[0;36m<module>\u001b[1;34m()\u001b[0m\n\u001b[1;32m----> 1\u001b[1;33m \u001b[0mstate\u001b[0m \u001b[1;33m=\u001b[0m \u001b[0mplay_game\u001b[0m\u001b[1;33m(\u001b[0m\u001b[0mrandom_player\u001b[0m\u001b[1;33m,\u001b[0m \u001b[0mrandom_player\u001b[0m\u001b[1;33m)\u001b[0m\u001b[1;33m\u001b[0m\u001b[0m\n\u001b[0m\u001b[0;32m      2\u001b[0m \u001b[0mdisplay\u001b[0m\u001b[1;33m(\u001b[0m\u001b[0mstate\u001b[0m\u001b[1;33m)\u001b[0m\u001b[1;33m\u001b[0m\u001b[0m\n",
      "\u001b[1;31mNameError\u001b[0m: name 'play_game' is not defined"
     ]
    }
   ],
   "source": [
    "state = play_game(random_player, random_player)\n",
    "display(state)"
   ]
  },
  {
   "cell_type": "markdown",
   "metadata": {},
   "source": [
    "### Okay... let's play LOTS OF GAMES!\n",
    "\n",
    "Now create a loop to play 1000 games of random vs random Tic-Tac-Toe.  Store the resulting utility of each match.  Remember, we are keeping track of the wins/losses of the player who goes first.  Check to making sure that this player's winning percentage is around 58%."
   ]
  },
  {
   "cell_type": "code",
   "execution_count": null,
   "metadata": {
    "collapsed": true
   },
   "outputs": [],
   "source": []
  },
  {
   "cell_type": "markdown",
   "metadata": {},
   "source": [
    "<br>\n",
    "\n",
    "<a/ id='class'></a>\n",
    "[Back to top](#top)\n",
    "\n",
    "### A Tic-Tac-Toe class - where we're going with all this\n",
    "\n",
    "When we apply alpha-beta pruning to Tic-Tac-Toe, we will want to have a nice compact class description for a game of Tic-Tac-Toe.  We already have the game `State` defined above.  But now we should define a class with methods.  This will avoid hard-coding things like the size of the board, how many marks in a row a player needs to win, and even internalizes the game state within a game class object.\n",
    "\n",
    "Luckily, you already have defined most of the methods we need:\n",
    "* `result(self, move, state)`\n",
    "* `compute_utility(self, move, state)`\n",
    "* `game_over(self, state)` -- this wasn't a method, but it should be - it's a piece of code we need to execute repeatedly and giving it a name makes clear what task the piece of code performs\n",
    "* `utility(self, state, player)` -- this one also wasn't a method earlier, but also should be.  Returns the utility of the current state if the player is X and $-1 \\times$ utility if the player is O.\n",
    "* `display(self)`\n",
    "* `play_game(self, player1, player2)`\n",
    "\n",
    "If you have time, you will be well-served on your homework to start filling in the class definition.  Then, use it to re-create the 58% benchmark test for the long-run frequency of first-player wins."
   ]
  },
  {
   "cell_type": "code",
   "execution_count": 64,
   "metadata": {},
   "outputs": [
    {
     "ename": "SyntaxError",
     "evalue": "invalid syntax (<ipython-input-64-5d52bd661d90>, line 6)",
     "output_type": "error",
     "traceback": [
      "\u001b[1;36m  File \u001b[1;32m\"<ipython-input-64-5d52bd661d90>\"\u001b[1;36m, line \u001b[1;32m6\u001b[0m\n\u001b[1;33m    moves = # insert your general list of nrow x ncol moves here\u001b[0m\n\u001b[1;37m                                                                ^\u001b[0m\n\u001b[1;31mSyntaxError\u001b[0m\u001b[1;31m:\u001b[0m invalid syntax\n"
     ]
    }
   ],
   "source": [
    "class TicTacToe:\n",
    "    def __init__(self, nrow=3, ncol=3, nwin=3):\n",
    "        self.nrow = nrow\n",
    "        self.ncol = ncol\n",
    "        self.nwin = nwin\n",
    "        moves = # insert your general list of nrow x ncol moves here\n",
    "        self.state = State(moves)\n",
    "\n",
    "    def result(self, move, state):\n",
    "\n",
    "    def compute_utility(self, move, state):\n",
    "\n",
    "    def game_over(self, state):\n",
    "\n",
    "    def utility(self, state, player):\n",
    "\n",
    "    def display(self):\n",
    "\n",
    "    def play_game(self, player1, player2):\n"
   ]
  },
  {
   "cell_type": "markdown",
   "metadata": {},
   "source": [
    "<a/ id='bottom'></a>\n",
    "[Back to top](#top)"
   ]
  },
  {
   "cell_type": "code",
   "execution_count": null,
   "metadata": {
    "collapsed": true
   },
   "outputs": [],
   "source": []
  },
  {
   "cell_type": "code",
   "execution_count": null,
   "metadata": {
    "collapsed": true
   },
   "outputs": [],
   "source": []
  }
 ],
 "metadata": {
  "kernelspec": {
   "display_name": "Python 3",
   "language": "python",
   "name": "python3"
  },
  "language_info": {
   "codemirror_mode": {
    "name": "ipython",
    "version": 3
   },
   "file_extension": ".py",
   "mimetype": "text/x-python",
   "name": "python",
   "nbconvert_exporter": "python",
   "pygments_lexer": "ipython3",
   "version": "3.6.1"
  }
 },
 "nbformat": 4,
 "nbformat_minor": 2
}
