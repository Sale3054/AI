{
 "cells": [
  {
   "cell_type": "markdown",
   "metadata": {},
   "source": [
    "# CSCI 3202, Spring 2018\n",
    "\n",
    "# Friday 16 March 2018\n",
    "\n",
    "# In-class notebook:  Bayesian networks\n",
    "\n",
    "<a id='top'></a>\n",
    "\n",
    "<br>\n",
    "\n",
    "### Your name(s):\n",
    "\n",
    "<br>\n",
    "\n",
    "You **are not** submitting this to Moodle as a Quizlet.\n",
    "\n",
    "---\n",
    "\n",
    "Shortcuts:  [Top](#top) || [BayesNode](#node) | [Probabilities](#probs) | [Sidewalk](#sidewalk) | [Approx. Inference](#approx) | [Cond. Probs.](#conditional) || [Conclusions](#conclusions)\n",
    "\n",
    "---\n",
    "\n",
    "Before we begin, let's load a few packages that we might find useful."
   ]
  },
  {
   "cell_type": "code",
   "execution_count": 1,
   "metadata": {
    "collapsed": true
   },
   "outputs": [],
   "source": [
    "from scipy import stats\n",
    "import numpy as np\n",
    "import pandas as pd\n",
    "import matplotlib.pyplot as plt"
   ]
  },
  {
   "cell_type": "markdown",
   "metadata": {},
   "source": [
    "---\n",
    "### Class for nodes in a Bayesian network\n",
    "\n",
    "Below defines a class `BayesNode`, which will store everything we need for a discrete node state in a Bayesian network (Bayes net).\n",
    "\n",
    "The constructor requires 3 arguments:\n",
    "* `name` is a string for the variable name\n",
    "* `parents` is a list of strings representing the names of the parent variables\n",
    "* `cpt` is a dictionary where the keys are tuples representing parent state values and the dict values are the resulting probabilities of this variable.\n",
    "  * If this variable has no parents, then the key should be an empty tuple.\n",
    "  * And recall that it is only necessary to store the probability of `True` for a Boolean variable. In general, we must store the number of possible values minus 1 for any discrete variable state.\n",
    "  \n",
    "And if you are curious, that `__repr__` method is defined so that Python returns some reasonable-looking output when we print a `BayesNode` object to screen. (more on this later)"
   ]
  },
  {
   "cell_type": "code",
   "execution_count": 2,
   "metadata": {
    "collapsed": true
   },
   "outputs": [],
   "source": [
    "class BayesNode:\n",
    "    \n",
    "    def __init__(self, name, parents, cpt):\n",
    "        if isinstance(parents, str):\n",
    "            parents = parents.split()\n",
    "            \n",
    "        if len(parents)==0:\n",
    "            # if no parents, empty tuple dict key for cpt\n",
    "            cpt = {(): cpt}\n",
    "        elif isinstance(cpt, dict):\n",
    "            # if there is only one parent, only one tuple argument\n",
    "            if cpt and isinstance(list(cpt.keys())[0], bool):\n",
    "                cpt = {(v): p for v, p in cpt.items()}\n",
    "\n",
    "        self.variable = name\n",
    "        self.parents = parents\n",
    "        self.cpt = cpt\n",
    "        self.children = []\n",
    "        \n",
    "    def __repr__(self):\n",
    "        return repr((self.variable, ' '.join(self.parents)))"
   ]
  },
  {
   "cell_type": "markdown",
   "metadata": {},
   "source": [
    "Since we are only dealing with Boolean variables in this exercise, for brevity's sake we can define `T` and `F` to represent our typical truth values.  But note that here and in other Boolean Bayes net applications, we will frequently use $+x$ to denote the event $X=\\text{True}$ and $-x$ for the event $X=\\text{False}$."
   ]
  },
  {
   "cell_type": "code",
   "execution_count": 3,
   "metadata": {
    "collapsed": true
   },
   "outputs": [],
   "source": [
    "T = True\n",
    "F = False"
   ]
  },
  {
   "cell_type": "markdown",
   "metadata": {},
   "source": [
    "---\n",
    "### Calculating probabilities from the `BayesNode` objects\n",
    "\n",
    "Here is a helpful function to calculate the probability of seeing Boolean `BayesNode` variable `var==value`, when the parents' values are given in `evidence`."
   ]
  },
  {
   "cell_type": "code",
   "execution_count": 4,
   "metadata": {
    "collapsed": true
   },
   "outputs": [],
   "source": [
    "def P(var, value, evidence={}):\n",
    "    '''The probability distribution for P(var | evidence), \n",
    "    when all parent variables are known (in evidence) and\n",
    "    we have Boolean variables'''\n",
    "    if len(var.parents)==1:\n",
    "        # only one parent\n",
    "        row = evidence[var.parents[0]]\n",
    "    else:\n",
    "        # multiple parents\n",
    "        row = tuple(evidence[parent] for parent in var.parents)\n",
    "    return var.cpt[row] if value else 1-var.cpt[row]"
   ]
  },
  {
   "cell_type": "markdown",
   "metadata": {},
   "source": [
    "Let's use this machinery to calculate a probability from a hopefully familiar Bayesian network. Consider the Bayes net for falling on the sidewalk outside your house, from the Quizlet 9:\n",
    "\n",
    "# todo - insert image here\n",
    "\n",
    "\n",
    "Use the `BayesNode` class to create node objects for each of `Shoes`, `Icy` and `Fall`. The first one is done for you. "
   ]
  },
  {
   "cell_type": "code",
   "execution_count": 5,
   "metadata": {
    "collapsed": true
   },
   "outputs": [],
   "source": [
    "Shoes = BayesNode('Shoes', '', 0.5)\n",
    "\n",
    "# Solution:\n",
    "Icy = BayesNode('Icy', '', 0.1)\n",
    "Fall = BayesNode('Fall', ['Shoes', 'Icy'], {(T,T) : 0.4, (T,F) : 0.7, (F,T) : 0.1, (F,F) : 0.01})"
   ]
  },
  {
   "cell_type": "markdown",
   "metadata": {},
   "source": [
    "---\n",
    "### A short detour:  printable representations in Python\n",
    "\n",
    "If you are not sure what exactly that `__repr__` method is doing, let's find out!  Try printing to the screen the `Shoes` object."
   ]
  },
  {
   "cell_type": "code",
   "execution_count": 6,
   "metadata": {},
   "outputs": [
    {
     "name": "stdout",
     "output_type": "stream",
     "text": [
      "('Shoes', '')\n"
     ]
    }
   ],
   "source": [
    "print(Shoes)"
   ]
  },
  {
   "cell_type": "markdown",
   "metadata": {},
   "source": [
    "Now, go back to the `BayesNode` class and comment out the `__repr__` method.  Then, redefine your `Shoes` object using the slightly revised `BayesNode` class.  Finally, let's see how this affects the output when we print `Shoes`:"
   ]
  },
  {
   "cell_type": "code",
   "execution_count": 7,
   "metadata": {},
   "outputs": [
    {
     "name": "stdout",
     "output_type": "stream",
     "text": [
      "('Shoes', '')\n"
     ]
    }
   ],
   "source": [
    "print(Shoes)"
   ]
  },
  {
   "cell_type": "markdown",
   "metadata": {},
   "source": [
    "**BLECH!** That's what we like the modifiable representation of our objects. Go change it back and redefine the `BayesNode` class and the `Shoes` node!\n",
    "\n",
    "**The point:**  You can add and/or modify that `__repr__` method for any class you define, which gives some nice flexibility in interpreting output, and potentially for debugging.\n",
    "\n",
    "---"
   ]
  },
  {
   "cell_type": "markdown",
   "metadata": {},
   "source": [
    "### Back to our jokester roommate and icy sidewalk\n",
    "\n",
    "Check a few probabilities to make sure you know how the `P` function works.  One example is given as an `assert` statement below, but it's worthwhile to check some of the other ones, including checking if a variable is `False`."
   ]
  },
  {
   "cell_type": "code",
   "execution_count": 8,
   "metadata": {
    "collapsed": true
   },
   "outputs": [],
   "source": [
    "assert P(Fall, T, {'Shoes' : F, 'Icy' : T})==0.1, \"Something has gone wrong!\""
   ]
  },
  {
   "cell_type": "code",
   "execution_count": null,
   "metadata": {
    "collapsed": true
   },
   "outputs": [],
   "source": []
  },
  {
   "cell_type": "markdown",
   "metadata": {},
   "source": [
    "Now let's use the function `P` to calculate the probability of falling down on any given day as you leave your house.\n",
    "\n",
    "As you saw on the Quizlet,\n",
    "\n",
    "$$\\begin{align*}\n",
    "  P(F) &= \\sum_{s,c} P(F \\mid s, c) P(s,c) \\\\\n",
    "       &= \\sum_s \\sum_c P(F \\mid s,c) P(s) P(c) \\\\\n",
    "       &= \\sum_s P(s) \\sum_c P(F \\mid s,c) P(c) \\\\\n",
    "  \\end{align*}$$\n",
    "  \n",
    "Check this calculation using the nodes you defined above and the `P` function. Recall that $P(+f) = 0.3445$."
   ]
  },
  {
   "cell_type": "code",
   "execution_count": 9,
   "metadata": {},
   "outputs": [
    {
     "name": "stdout",
     "output_type": "stream",
     "text": [
      "P(+f) = 0.3445\n"
     ]
    }
   ],
   "source": [
    "p_true = (P(Shoes, T)*(P(Fall, T, {'Shoes' : T, 'Icy' : T})*P(Icy, T) +\n",
    "                       P(Fall, T, {'Shoes' : T, 'Icy' : F})*P(Icy, F)) +\n",
    "          P(Shoes, F)*(P(Fall, T, {'Shoes' : F, 'Icy' : T})*P(Icy, T) + \n",
    "                       P(Fall, T, {'Shoes' : F, 'Icy' : F})*P(Icy, F)))\n",
    "\n",
    "p_false = (P(Shoes, T)*(P(Fall, F, {'Shoes' : T, 'Icy' : T})*P(Icy, T) +\n",
    "                        P(Fall, F, {'Shoes' : T, 'Icy' : F})*P(Icy, F)) + \n",
    "           P(Shoes, F)*(P(Fall, F, {'Shoes' : F, 'Icy' : T})*P(Icy, T) + \n",
    "                        P(Fall, F, {'Shoes' : F, 'Icy' : F})*P(Icy, F)))\n",
    "\n",
    "print('P(+f) = {:0.4f}'.format(p_true))"
   ]
  },
  {
   "cell_type": "markdown",
   "metadata": {},
   "source": [
    "---\n",
    "# Approximate inference\n",
    "\n",
    "The algorithm:\n",
    "\n",
    "1. For each $X_i$ in $X_1, X_2, \\ldots , X_{n-1}, X_n$:\n",
    "  1. Draw a sample from $P(X_i \\mid \\text{parents}(X_i))$ (it's nice to be vectorized, if possible)\n",
    "  1. If $X_i$ has no parents, then draw from the **prior** distribution, $P(X_i)$\n",
    "1. Draw large samples for each variable all at once, or do this many, many times.\n",
    "  \n",
    "Let's suppose we have a node ordering of `Shoes`, `Icy`, `Fall`.\n",
    "\n",
    "The first step is then to draw a sample from $P(\\text{Shoes})$.  Let's make a sample of size 10000."
   ]
  },
  {
   "cell_type": "code",
   "execution_count": 10,
   "metadata": {
    "collapsed": true
   },
   "outputs": [],
   "source": [
    "n_sample = 10000\n",
    "sample_shoes = np.random.choice([T,F], size=n_sample, p=[P(Shoes, T), 1-P(Shoes, T)])"
   ]
  },
  {
   "cell_type": "markdown",
   "metadata": {},
   "source": [
    "Now with a bit of foresight, we realize that we will quickly have a lot of arrays and lists flying around with variable-specific names!  Especially when both `sample_icy` and `sample_shoes` are going to be pretty much the same thing, which is `n_sample` random draws from some distribution.\n",
    "\n",
    "So instead of having a bunch of separate arrays, we can store all these samples for our approximate Bayesian computation in a Pandas DataFrame.  We can convert our `sample_shoes` array into a DataFrame using the following command.  It will place our array `sample_shoes` as a column in the DataFrame with the title we give it.  \"Shoes\" seems like a reasonable title."
   ]
  },
  {
   "cell_type": "code",
   "execution_count": 11,
   "metadata": {
    "collapsed": true
   },
   "outputs": [],
   "source": [
    "dfSample = pd.DataFrame({'Shoes' : sample_shoes})"
   ]
  },
  {
   "cell_type": "markdown",
   "metadata": {},
   "source": [
    "The second step: we move on to the next varable, `Icy`.  We draw a sample of `n_sample` realizations from this variable's distribution too, conditioned on the previous variables.  But the two are independent, so we are sampling from the prior $P(\\text{Icy})$, similar to our sample for `Shoes`.  We can store this straightaway as a new column of our DataFrame:"
   ]
  },
  {
   "cell_type": "code",
   "execution_count": 12,
   "metadata": {
    "collapsed": true
   },
   "outputs": [],
   "source": [
    "dfSample['Icy'] = np.random.choice([T,F], size=n_sample, p=[P(Icy, T), 1-P(Icy, T)])"
   ]
  },
  {
   "cell_type": "markdown",
   "metadata": {},
   "source": [
    "If you haven't used Pandas DataFrames before, you might be wondering why the heck we're going through this trouble. Turns out they have some nice features. For example, you can calculate the mean of each column quickly:"
   ]
  },
  {
   "cell_type": "code",
   "execution_count": 13,
   "metadata": {},
   "outputs": [
    {
     "data": {
      "text/plain": [
       "Shoes    0.5011\n",
       "Icy      0.0945\n",
       "dtype: float64"
      ]
     },
     "execution_count": 13,
     "metadata": {},
     "output_type": "execute_result"
    }
   ],
   "source": [
    "dfSample.mean()"
   ]
  },
  {
   "cell_type": "markdown",
   "metadata": {},
   "source": [
    "Or plot histograms of the columns:"
   ]
  },
  {
   "cell_type": "code",
   "execution_count": 14,
   "metadata": {},
   "outputs": [
    {
     "data": {
      "image/png": "[encoded data removed]",
      "text/plain": [
       "<matplotlib.figure.Figure at 0x18416744208>"
      ]
     },
     "metadata": {},
     "output_type": "display_data"
    }
   ],
   "source": [
    "dfSample.hist()\n",
    "plt.show()"
   ]
  },
  {
   "cell_type": "markdown",
   "metadata": {},
   "source": [
    "**Question:** Do the results for the mean and histograms of our `Shoes` and `Icy` samples match what we expect from their prior distributions?"
   ]
  },
  {
   "cell_type": "code",
   "execution_count": null,
   "metadata": {
    "collapsed": true
   },
   "outputs": [],
   "source": []
  },
  {
   "cell_type": "markdown",
   "metadata": {},
   "source": [
    "Okay, now we need to sample from the conditional distribution of `Fall`, given the values of `Shoes` and `Icy` that we sampled. We put our previous samples into a DataFrame to make it easier to keep track of which samples from the priors (causes) lead to which samples from the effects variables (like `Fall`).\n",
    "\n",
    "Each row in `dfSample` corresponds to a different sample from the prior distributions of `Shoes` and `Icy`. So we need to `apply` to each row of `dfSample` a function to draw a sample for `Fall` from the conditional distribution $P(\\text{Fall} \\mid \\text{Shoes, Icy})$, where the values for `Shoes` and `Icy` are brought in from the first two columns of `dfSample`.\n",
    "\n",
    "Define a function `sample_2parent(row, variable, parents)` that takes three arguments\n",
    "* `row`, a given row of the DataFrame `dfSample`\n",
    "* `variable`, a `BayesNode` object whose conditional probability we want to sample from\n",
    "* `parents`, a list of variable names (strings) that give the parents of the variable we want to sample. As the name suggests, you may assume there are two parents.\n",
    "\n",
    "`sample_2parent` should return a random sample from the conditional probability distribution of `variable`, given the values in the given `row` of its `parents`."
   ]
  },
  {
   "cell_type": "code",
   "execution_count": 15,
   "metadata": {
    "collapsed": true
   },
   "outputs": [],
   "source": [
    "# Solution:\n",
    "\n",
    "def sample_2parent(row, variable, parents):\n",
    "    return np.random.choice([T,F], p=[P(variable, T, {parents[0]: row[parents[0]], parents[1]: row[parents[1]]}), \n",
    "                                      P(variable, F, {parents[0]: row[parents[0]], parents[1] : row[parents[1]]})])"
   ]
  },
  {
   "cell_type": "markdown",
   "metadata": {},
   "source": [
    "Now we can use the Pandas `apply` method to apply this function to each row of our sample DataFrame:"
   ]
  },
  {
   "cell_type": "code",
   "execution_count": 16,
   "metadata": {
    "collapsed": true
   },
   "outputs": [],
   "source": [
    "dfSample['Fall'] = dfSample.apply(sample_2parent, axis=1, variable=Fall, parents=Fall.parents)"
   ]
  },
  {
   "cell_type": "markdown",
   "metadata": {},
   "source": [
    "Let's check what is the marginal probability of falling outside our house, $P(\\text{Fall})$:"
   ]
  },
  {
   "cell_type": "code",
   "execution_count": 17,
   "metadata": {},
   "outputs": [
    {
     "data": {
      "text/plain": [
       "0.34699999999999998"
      ]
     },
     "execution_count": 17,
     "metadata": {},
     "output_type": "execute_result"
    }
   ],
   "source": [
    "dfSample['Fall'].sum()/n_sample"
   ]
  },
  {
   "cell_type": "markdown",
   "metadata": {},
   "source": [
    "**Question:** Does that match what you expect based on the Quizlet calculation?"
   ]
  },
  {
   "cell_type": "code",
   "execution_count": null,
   "metadata": {
    "collapsed": true
   },
   "outputs": [],
   "source": []
  },
  {
   "cell_type": "markdown",
   "metadata": {},
   "source": [
    "The above is what we call **prior sampling**.  That is, we draw from the variables' prior distributions, and use that information to \"trickle down\" our sampling through the Bayes net. These probabilities (samples) propagate by using the conditional probabilities that link from causes to effects, the way the samples for `Fall` were conditioned on our previous samples for `Shoes` and `Icy`.\n",
    "\n",
    "We can evaluate **joint probabilities** of events by looking at how many samples satisfy those events, out of the total number of samples.\n",
    "\n",
    "**Question:** For example, what is the joint probability of your shoes were tied together, your sidewalk was not icy, and you did not fall down?  That is, what is our estimate of $P(+s, -i, -f)$?\n",
    "\n",
    "Below is a snippet of code to extract only the rows of `dfSample` that match these criteria.  You will need to modify this in order to estimate $P(+s, -i, -f)$. You should get about 0.1343."
   ]
  },
  {
   "cell_type": "code",
   "execution_count": 18,
   "metadata": {},
   "outputs": [
    {
     "data": {
      "text/html": [
       "<div>\n",
       "<style>\n",
       "    .dataframe thead tr:only-child th {\n",
       "        text-align: right;\n",
       "    }\n",
       "\n",
       "    .dataframe thead th {\n",
       "        text-align: left;\n",
       "    }\n",
       "\n",
       "    .dataframe tbody tr th {\n",
       "        vertical-align: top;\n",
       "    }\n",
       "</style>\n",
       "<table border=\"1\" class=\"dataframe\">\n",
       "  <thead>\n",
       "    <tr style=\"text-align: right;\">\n",
       "      <th></th>\n",
       "      <th>Shoes</th>\n",
       "      <th>Icy</th>\n",
       "      <th>Fall</th>\n",
       "    </tr>\n",
       "  </thead>\n",
       "  <tbody>\n",
       "    <tr>\n",
       "      <th>6</th>\n",
       "      <td>True</td>\n",
       "      <td>False</td>\n",
       "      <td>False</td>\n",
       "    </tr>\n",
       "    <tr>\n",
       "      <th>11</th>\n",
       "      <td>True</td>\n",
       "      <td>False</td>\n",
       "      <td>False</td>\n",
       "    </tr>\n",
       "    <tr>\n",
       "      <th>17</th>\n",
       "      <td>True</td>\n",
       "      <td>False</td>\n",
       "      <td>False</td>\n",
       "    </tr>\n",
       "    <tr>\n",
       "      <th>18</th>\n",
       "      <td>True</td>\n",
       "      <td>False</td>\n",
       "      <td>False</td>\n",
       "    </tr>\n",
       "    <tr>\n",
       "      <th>20</th>\n",
       "      <td>True</td>\n",
       "      <td>False</td>\n",
       "      <td>False</td>\n",
       "    </tr>\n",
       "    <tr>\n",
       "      <th>28</th>\n",
       "      <td>True</td>\n",
       "      <td>False</td>\n",
       "      <td>False</td>\n",
       "    </tr>\n",
       "    <tr>\n",
       "      <th>33</th>\n",
       "      <td>True</td>\n",
       "      <td>False</td>\n",
       "      <td>False</td>\n",
       "    </tr>\n",
       "    <tr>\n",
       "      <th>39</th>\n",
       "      <td>True</td>\n",
       "      <td>False</td>\n",
       "      <td>False</td>\n",
       "    </tr>\n",
       "    <tr>\n",
       "      <th>40</th>\n",
       "      <td>True</td>\n",
       "      <td>False</td>\n",
       "      <td>False</td>\n",
       "    </tr>\n",
       "    <tr>\n",
       "      <th>41</th>\n",
       "      <td>True</td>\n",
       "      <td>False</td>\n",
       "      <td>False</td>\n",
       "    </tr>\n",
       "    <tr>\n",
       "      <th>51</th>\n",
       "      <td>True</td>\n",
       "      <td>False</td>\n",
       "      <td>False</td>\n",
       "    </tr>\n",
       "    <tr>\n",
       "      <th>59</th>\n",
       "      <td>True</td>\n",
       "      <td>False</td>\n",
       "      <td>False</td>\n",
       "    </tr>\n",
       "    <tr>\n",
       "      <th>73</th>\n",
       "      <td>True</td>\n",
       "      <td>False</td>\n",
       "      <td>False</td>\n",
       "    </tr>\n",
       "    <tr>\n",
       "      <th>78</th>\n",
       "      <td>True</td>\n",
       "      <td>False</td>\n",
       "      <td>False</td>\n",
       "    </tr>\n",
       "    <tr>\n",
       "      <th>86</th>\n",
       "      <td>True</td>\n",
       "      <td>False</td>\n",
       "      <td>False</td>\n",
       "    </tr>\n",
       "    <tr>\n",
       "      <th>98</th>\n",
       "      <td>True</td>\n",
       "      <td>False</td>\n",
       "      <td>False</td>\n",
       "    </tr>\n",
       "    <tr>\n",
       "      <th>113</th>\n",
       "      <td>True</td>\n",
       "      <td>False</td>\n",
       "      <td>False</td>\n",
       "    </tr>\n",
       "    <tr>\n",
       "      <th>125</th>\n",
       "      <td>True</td>\n",
       "      <td>False</td>\n",
       "      <td>False</td>\n",
       "    </tr>\n",
       "    <tr>\n",
       "      <th>135</th>\n",
       "      <td>True</td>\n",
       "      <td>False</td>\n",
       "      <td>False</td>\n",
       "    </tr>\n",
       "    <tr>\n",
       "      <th>152</th>\n",
       "      <td>True</td>\n",
       "      <td>False</td>\n",
       "      <td>False</td>\n",
       "    </tr>\n",
       "    <tr>\n",
       "      <th>158</th>\n",
       "      <td>True</td>\n",
       "      <td>False</td>\n",
       "      <td>False</td>\n",
       "    </tr>\n",
       "    <tr>\n",
       "      <th>161</th>\n",
       "      <td>True</td>\n",
       "      <td>False</td>\n",
       "      <td>False</td>\n",
       "    </tr>\n",
       "    <tr>\n",
       "      <th>166</th>\n",
       "      <td>True</td>\n",
       "      <td>False</td>\n",
       "      <td>False</td>\n",
       "    </tr>\n",
       "    <tr>\n",
       "      <th>169</th>\n",
       "      <td>True</td>\n",
       "      <td>False</td>\n",
       "      <td>False</td>\n",
       "    </tr>\n",
       "    <tr>\n",
       "      <th>181</th>\n",
       "      <td>True</td>\n",
       "      <td>False</td>\n",
       "      <td>False</td>\n",
       "    </tr>\n",
       "    <tr>\n",
       "      <th>196</th>\n",
       "      <td>True</td>\n",
       "      <td>False</td>\n",
       "      <td>False</td>\n",
       "    </tr>\n",
       "    <tr>\n",
       "      <th>197</th>\n",
       "      <td>True</td>\n",
       "      <td>False</td>\n",
       "      <td>False</td>\n",
       "    </tr>\n",
       "    <tr>\n",
       "      <th>204</th>\n",
       "      <td>True</td>\n",
       "      <td>False</td>\n",
       "      <td>False</td>\n",
       "    </tr>\n",
       "    <tr>\n",
       "      <th>206</th>\n",
       "      <td>True</td>\n",
       "      <td>False</td>\n",
       "      <td>False</td>\n",
       "    </tr>\n",
       "    <tr>\n",
       "      <th>208</th>\n",
       "      <td>True</td>\n",
       "      <td>False</td>\n",
       "      <td>False</td>\n",
       "    </tr>\n",
       "    <tr>\n",
       "      <th>...</th>\n",
       "      <td>...</td>\n",
       "      <td>...</td>\n",
       "      <td>...</td>\n",
       "    </tr>\n",
       "    <tr>\n",
       "      <th>9787</th>\n",
       "      <td>True</td>\n",
       "      <td>False</td>\n",
       "      <td>False</td>\n",
       "    </tr>\n",
       "    <tr>\n",
       "      <th>9812</th>\n",
       "      <td>True</td>\n",
       "      <td>False</td>\n",
       "      <td>False</td>\n",
       "    </tr>\n",
       "    <tr>\n",
       "      <th>9817</th>\n",
       "      <td>True</td>\n",
       "      <td>False</td>\n",
       "      <td>False</td>\n",
       "    </tr>\n",
       "    <tr>\n",
       "      <th>9821</th>\n",
       "      <td>True</td>\n",
       "      <td>False</td>\n",
       "      <td>False</td>\n",
       "    </tr>\n",
       "    <tr>\n",
       "      <th>9826</th>\n",
       "      <td>True</td>\n",
       "      <td>False</td>\n",
       "      <td>False</td>\n",
       "    </tr>\n",
       "    <tr>\n",
       "      <th>9838</th>\n",
       "      <td>True</td>\n",
       "      <td>False</td>\n",
       "      <td>False</td>\n",
       "    </tr>\n",
       "    <tr>\n",
       "      <th>9840</th>\n",
       "      <td>True</td>\n",
       "      <td>False</td>\n",
       "      <td>False</td>\n",
       "    </tr>\n",
       "    <tr>\n",
       "      <th>9853</th>\n",
       "      <td>True</td>\n",
       "      <td>False</td>\n",
       "      <td>False</td>\n",
       "    </tr>\n",
       "    <tr>\n",
       "      <th>9869</th>\n",
       "      <td>True</td>\n",
       "      <td>False</td>\n",
       "      <td>False</td>\n",
       "    </tr>\n",
       "    <tr>\n",
       "      <th>9875</th>\n",
       "      <td>True</td>\n",
       "      <td>False</td>\n",
       "      <td>False</td>\n",
       "    </tr>\n",
       "    <tr>\n",
       "      <th>9884</th>\n",
       "      <td>True</td>\n",
       "      <td>False</td>\n",
       "      <td>False</td>\n",
       "    </tr>\n",
       "    <tr>\n",
       "      <th>9890</th>\n",
       "      <td>True</td>\n",
       "      <td>False</td>\n",
       "      <td>False</td>\n",
       "    </tr>\n",
       "    <tr>\n",
       "      <th>9894</th>\n",
       "      <td>True</td>\n",
       "      <td>False</td>\n",
       "      <td>False</td>\n",
       "    </tr>\n",
       "    <tr>\n",
       "      <th>9897</th>\n",
       "      <td>True</td>\n",
       "      <td>False</td>\n",
       "      <td>False</td>\n",
       "    </tr>\n",
       "    <tr>\n",
       "      <th>9898</th>\n",
       "      <td>True</td>\n",
       "      <td>False</td>\n",
       "      <td>False</td>\n",
       "    </tr>\n",
       "    <tr>\n",
       "      <th>9907</th>\n",
       "      <td>True</td>\n",
       "      <td>False</td>\n",
       "      <td>False</td>\n",
       "    </tr>\n",
       "    <tr>\n",
       "      <th>9914</th>\n",
       "      <td>True</td>\n",
       "      <td>False</td>\n",
       "      <td>False</td>\n",
       "    </tr>\n",
       "    <tr>\n",
       "      <th>9915</th>\n",
       "      <td>True</td>\n",
       "      <td>False</td>\n",
       "      <td>False</td>\n",
       "    </tr>\n",
       "    <tr>\n",
       "      <th>9923</th>\n",
       "      <td>True</td>\n",
       "      <td>False</td>\n",
       "      <td>False</td>\n",
       "    </tr>\n",
       "    <tr>\n",
       "      <th>9924</th>\n",
       "      <td>True</td>\n",
       "      <td>False</td>\n",
       "      <td>False</td>\n",
       "    </tr>\n",
       "    <tr>\n",
       "      <th>9931</th>\n",
       "      <td>True</td>\n",
       "      <td>False</td>\n",
       "      <td>False</td>\n",
       "    </tr>\n",
       "    <tr>\n",
       "      <th>9932</th>\n",
       "      <td>True</td>\n",
       "      <td>False</td>\n",
       "      <td>False</td>\n",
       "    </tr>\n",
       "    <tr>\n",
       "      <th>9957</th>\n",
       "      <td>True</td>\n",
       "      <td>False</td>\n",
       "      <td>False</td>\n",
       "    </tr>\n",
       "    <tr>\n",
       "      <th>9958</th>\n",
       "      <td>True</td>\n",
       "      <td>False</td>\n",
       "      <td>False</td>\n",
       "    </tr>\n",
       "    <tr>\n",
       "      <th>9959</th>\n",
       "      <td>True</td>\n",
       "      <td>False</td>\n",
       "      <td>False</td>\n",
       "    </tr>\n",
       "    <tr>\n",
       "      <th>9963</th>\n",
       "      <td>True</td>\n",
       "      <td>False</td>\n",
       "      <td>False</td>\n",
       "    </tr>\n",
       "    <tr>\n",
       "      <th>9977</th>\n",
       "      <td>True</td>\n",
       "      <td>False</td>\n",
       "      <td>False</td>\n",
       "    </tr>\n",
       "    <tr>\n",
       "      <th>9981</th>\n",
       "      <td>True</td>\n",
       "      <td>False</td>\n",
       "      <td>False</td>\n",
       "    </tr>\n",
       "    <tr>\n",
       "      <th>9987</th>\n",
       "      <td>True</td>\n",
       "      <td>False</td>\n",
       "      <td>False</td>\n",
       "    </tr>\n",
       "    <tr>\n",
       "      <th>9990</th>\n",
       "      <td>True</td>\n",
       "      <td>False</td>\n",
       "      <td>False</td>\n",
       "    </tr>\n",
       "  </tbody>\n",
       "</table>\n",
       "<p>1349 rows × 3 columns</p>\n",
       "</div>"
      ],
      "text/plain": [
       "      Shoes    Icy   Fall\n",
       "6      True  False  False\n",
       "11     True  False  False\n",
       "17     True  False  False\n",
       "18     True  False  False\n",
       "20     True  False  False\n",
       "28     True  False  False\n",
       "33     True  False  False\n",
       "39     True  False  False\n",
       "40     True  False  False\n",
       "41     True  False  False\n",
       "51     True  False  False\n",
       "59     True  False  False\n",
       "73     True  False  False\n",
       "78     True  False  False\n",
       "86     True  False  False\n",
       "98     True  False  False\n",
       "113    True  False  False\n",
       "125    True  False  False\n",
       "135    True  False  False\n",
       "152    True  False  False\n",
       "158    True  False  False\n",
       "161    True  False  False\n",
       "166    True  False  False\n",
       "169    True  False  False\n",
       "181    True  False  False\n",
       "196    True  False  False\n",
       "197    True  False  False\n",
       "204    True  False  False\n",
       "206    True  False  False\n",
       "208    True  False  False\n",
       "...     ...    ...    ...\n",
       "9787   True  False  False\n",
       "9812   True  False  False\n",
       "9817   True  False  False\n",
       "9821   True  False  False\n",
       "9826   True  False  False\n",
       "9838   True  False  False\n",
       "9840   True  False  False\n",
       "9853   True  False  False\n",
       "9869   True  False  False\n",
       "9875   True  False  False\n",
       "9884   True  False  False\n",
       "9890   True  False  False\n",
       "9894   True  False  False\n",
       "9897   True  False  False\n",
       "9898   True  False  False\n",
       "9907   True  False  False\n",
       "9914   True  False  False\n",
       "9915   True  False  False\n",
       "9923   True  False  False\n",
       "9924   True  False  False\n",
       "9931   True  False  False\n",
       "9932   True  False  False\n",
       "9957   True  False  False\n",
       "9958   True  False  False\n",
       "9959   True  False  False\n",
       "9963   True  False  False\n",
       "9977   True  False  False\n",
       "9981   True  False  False\n",
       "9987   True  False  False\n",
       "9990   True  False  False\n",
       "\n",
       "[1349 rows x 3 columns]"
      ]
     },
     "execution_count": 18,
     "metadata": {},
     "output_type": "execute_result"
    }
   ],
   "source": [
    "dfSample.loc[(dfSample['Shoes']==True) & \n",
    "             (dfSample['Icy']==False)  & \n",
    "             (dfSample['Fall']==False)]"
   ]
  },
  {
   "cell_type": "code",
   "execution_count": null,
   "metadata": {},
   "outputs": [],
   "source": []
  },
  {
   "cell_type": "markdown",
   "metadata": {},
   "source": [
    "### Estimating conditional probabilities\n",
    "\n",
    "Now the whole point was to sample from conditional distributions of things we didn't observe, *given* the values of evidence that we can observe.\n",
    "\n",
    "So let's estimate: what is the probability that our roommate tied our shoes together, given that our walkway was not icy and we did not fall down? That is, what is our estimate of $P(+s \\mid -f, -i)$?\n",
    "\n",
    "We can estimate this using what the book calls **rejection sampling** (see my editorial comments below). It is precisely what we did in the Socks example!  We have a large sample from the prior distribution, and we want to ***reject*** any samples that do not agree with our data.  In this case, our data is `Fall=False` and `Icy=False`.\n",
    "\n",
    "We have two options:\n",
    "\n",
    "**One way** that we could estimate $P(+s \\mid -f, -i)$ is to use the definition of conditional probability to rewrite this as:\n",
    "$$P(+s \\mid -f, -i) = \\dfrac{P(+s, -f, -i)}{P(-f, -i)}$$\n",
    "Then we can estimate $P(+s \\mid -f, -i)$ as the ratio of the number of rows satisfying all three conditions from the numerator simultaneously (`+s`, `-f`, and `-i`), and the number of rows satisfying both conditions of the denominator simulataneously (`-f` and `-i`, with no regard for the value of `S`).\n",
    "\n",
    "**Another way** that we could estimate $P(+s \\mid -f, -i)$ is to look at only the rows where our conditions (`-f` and `-i`) are satisfied, and report the proportion of those rows in which our query (`+s`) is `True`.\n",
    "\n",
    "Calculate an estimate for $P(+s \\mid -f, -i)$ using one (or better yet, both!) of these methods.  On Monday, we will finish off exact inference for Bayesian networks, and will work out this probability by hand."
   ]
  },
  {
   "cell_type": "code",
   "execution_count": null,
   "metadata": {},
   "outputs": [],
   "source": []
  },
  {
   "cell_type": "code",
   "execution_count": null,
   "metadata": {},
   "outputs": [],
   "source": []
  },
  {
   "cell_type": "markdown",
   "metadata": {},
   "source": [
    "**Question:** Consider our sample size.  How accurately can we reasonably expect to estimate these posterior probabilities with a sample of size $N$?  Argue with your friends starting... *now*."
   ]
  },
  {
   "cell_type": "code",
   "execution_count": null,
   "metadata": {
    "collapsed": true
   },
   "outputs": [],
   "source": []
  },
  {
   "cell_type": "markdown",
   "metadata": {},
   "source": [
    "---\n",
    "### Conclusions\n",
    "\n",
    "The process of generating all those samples is what the book refers to as **prior sampling**.\n",
    "\n",
    "Once we rejected all of the samples that did not match our data (`Fall` and `Icy` both `False`), *that* was what the books refers to as \"rejection sampling\".  It is the same as what we did in the Sock Example!  Technically, this is rejection sampling... but I would much rather call it **approximate inference**.  Rejection sampling refers to a wider class of sampling methods, much more powerful than this simple method.\n",
    "\n",
    "**Coding practices:**  Was it bad practice to take up several single-letter variable names with silly stuff like `T=True` and a function for probabilities hogging up the `P` variable?  Maybe.  But we probably want to have longer names for the variables that actually mean something. Plus it would have been super annoying to keep typing out `True` or `Probability`.  I don't have the answer, but it is something to keep in mind (especially as you debug)."
   ]
  },
  {
   "cell_type": "code",
   "execution_count": null,
   "metadata": {
    "collapsed": true
   },
   "outputs": [],
   "source": []
  },
  {
   "cell_type": "code",
   "execution_count": null,
   "metadata": {
    "collapsed": true
   },
   "outputs": [],
   "source": []
  }
 ],
 "metadata": {
  "kernelspec": {
   "display_name": "Python 3",
   "language": "python",
   "name": "python3"
  },
  "language_info": {
   "codemirror_mode": {
    "name": "ipython",
    "version": 3
   },
   "file_extension": ".py",
   "mimetype": "text/x-python",
   "name": "python",
   "nbconvert_exporter": "python",
   "pygments_lexer": "ipython3",
   "version": "3.6.1"
  }
 },
 "nbformat": 4,
 "nbformat_minor": 2
}
