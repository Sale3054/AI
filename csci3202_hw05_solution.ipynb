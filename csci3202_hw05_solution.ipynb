{
 "cells": [
  {
   "cell_type": "markdown",
   "metadata": {},
   "source": [
    "<a id='top'></a>\n",
    "\n",
    "# CSCI 3202, Spring 2018\n",
    "# Assignment 5\n",
    "# Due:  Wednesday 11 April 2018 by 12:00 PM\n",
    "\n",
    "<br>\n",
    "\n",
    "### Your name:\n",
    "\n",
    "<br>\n",
    "\n",
    "**Note:** Some packages to load, helper functions and unit tests are defined at [the bottom of this notebook](#helpers). They're also defined up here, because I care.\n",
    "\n",
    "Shortcuts:  [top](#top) || [1](#p1) | [1a](#p1a) | [1b](#p1b) | [1c](#p1c) | [1d](#p1d) | [1e](#p1e) | [1f](#p1f) | [1g](#p1g) || [2](#p2) | [2a](#p2a) | [2b](#p2b) | [2c](#p2c) | [2d](#p2d) | [2e](#p2e) || [3](#p3) | [3a](#p3a) | [3b](#p3b) | [3c](#p3c) | [3d](#p3d) | [3e](#p3e) | [3f](#p3f) | [3g](#p3g) || [helpers](#helpers)"
   ]
  },
  {
   "cell_type": "code",
   "execution_count": 121,
   "metadata": {
    "collapsed": true
   },
   "outputs": [],
   "source": [
    "from scipy import stats\n",
    "import unittest\n",
    "import numpy as np\n",
    "import pandas as pd\n",
    "import matplotlib.pyplot as plt"
   ]
  },
  {
   "cell_type": "markdown",
   "metadata": {},
   "source": [
    "---\n",
    "\n",
    "<a id='p1'></a>[Back to top](#top)\n",
    "\n",
    "## Problem 1:  Bayesian network to model heart disease\n",
    "\n",
    "The following Bayesian network is based loosely on a study that examined heart disease risk factors in 167 elderly individuals in South Carolina.  This study is [linked here](https://piazza.com/class_profile/get_resource/jc4v74a5uu5wa/jeyiv7kvs7r7ck) and posted to Piazza under the Resources tab.  Note that this figure uses Y and N to represent Yes and No, whereas in class we used the equivalent T and F to represent True and False Boolean values.\n",
    "\n",
    "<img src=\"http://www.cs.colorado.edu/~tonyewong/home/resources/hw05_bayesnet_heartdisease.png\" style=\"width: 650px;\"/>"
   ]
  },
  {
   "cell_type": "code",
   "execution_count": null,
   "metadata": {
    "collapsed": true
   },
   "outputs": [],
   "source": []
  },
  {
   "cell_type": "markdown",
   "metadata": {},
   "source": [
    "<a id='p1a'></a>\n",
    "\n",
    "### (1a) \n",
    "\n",
    "Create a `BayesNet` object to model this.  Below are the codes for the (conditional) probability `P` function and `BayesNode` class as well, that we used in class on Friday (16 March) to represent the variable nodes and calculate probabilities. You can code this however you want, subject to the following constraints:\n",
    "1. the nodes are represented using the `BayesNode` class and can work with the `P` function for probabilities,\n",
    "1. your `BayesNet` structure keeps track of which nodes are in the Bayes net, as well as\n",
    "1. which nodes are the parents/children of which other nodes.\n",
    "\n",
    "Some *suggested* skeleton codes for a class structure are given. The suggestions for methods to implement are in view of the fact that we will need to calculate some probabilities, which is going to require us to `find_node`s and `find_values` that nodes can take on."
   ]
  },
  {
   "cell_type": "code",
   "execution_count": 122,
   "metadata": {
    "collapsed": true
   },
   "outputs": [],
   "source": [
    "## For the sake of brevity...\n",
    "T, F = True, False\n",
    "\n",
    "## From class:\n",
    "def P(var, value, evidence={}):\n",
    "    '''The probability distribution for P(var | evidence), \n",
    "    when all parent variables are known (in evidence)'''\n",
    "    if len(var.parents)==1:\n",
    "        # only one parent\n",
    "        row = evidence[var.parents[0]]\n",
    "    else:\n",
    "        # multiple parents\n",
    "        row = tuple(evidence[parent] for parent in var.parents)\n",
    "    return var.cpt[row] if value else 1-var.cpt[row]\n",
    "\n",
    "## Also from class:\n",
    "class BayesNode:\n",
    "    \n",
    "    def __init__(self, name, parents, values, cpt):\n",
    "        if isinstance(parents, str):\n",
    "            parents = parents.split()\n",
    "            \n",
    "        if len(parents)==0:\n",
    "            # if no parents, empty dict key for cpt\n",
    "            cpt = {(): cpt}\n",
    "        elif isinstance(cpt, dict):\n",
    "            # if there is only one parent, only one tuple argument\n",
    "            if cpt and isinstance(list(cpt.keys())[0], bool):\n",
    "                cpt = {(v): p for v, p in cpt.items()}\n",
    "\n",
    "        self.variable = name\n",
    "        self.parents = parents\n",
    "        self.cpt = cpt\n",
    "        self.values = values\n",
    "        self.children = []\n",
    "        \n",
    "    def __repr__(self):\n",
    "        return repr((self.variable, ' '.join(self.parents)))    \n",
    "\n",
    "    \n",
    "##===============================================##\n",
    "## Suggested skeleton codes for a BayesNet class ##\n",
    "##===============================================##\n",
    "\n",
    "class BayesNet:\n",
    "    '''Bayesian network containing only boolean-variable nodes.'''\n",
    "\n",
    "    def __init__(self, nodes):\n",
    "        '''Initialize the Bayes net by adding each of the nodes,\n",
    "        which should be a list BayesNode class objects ordered\n",
    "        from parents to children (`top` to `bottom`, from causes\n",
    "        to effects)'''\n",
    "        \n",
    "        # your code goes here...\n",
    "        \n",
    "        # Solution:\n",
    "        self.nodes = []\n",
    "        self.variables = []\n",
    "        if nodes:\n",
    "            for node in nodes:\n",
    "                self.add(node)\n",
    "\n",
    "                \n",
    "    def add(self, node):\n",
    "        '''Add a new BayesNode to the BayesNet. The parents should all\n",
    "        already be in the net, and the variable itself should not be'''\n",
    "        assert node.variable not in self.variables\n",
    "        assert all((parent in self.variables) for parent in node.parents)\n",
    "        \n",
    "        # your code goes here...\n",
    "        \n",
    "        # Solution:\n",
    "        self.nodes.append(node)\n",
    "        self.variables.append(node.variable)\n",
    "        for parent in node.parents:\n",
    "            self.find_node(parent).children.append(node)\n",
    "\n",
    "            \n",
    "    def find_node(self, var):\n",
    "        '''Find and return the BayesNode in the net with name `var`'''\n",
    "        \n",
    "        # your code goes here...\n",
    "        \n",
    "        # Solution:\n",
    "        for n in self.nodes:\n",
    "            if n.variable == var:\n",
    "                return n\n",
    "        raise Exception(\"No such variable: {}\".format(var))\n",
    "\n",
    "        \n",
    "    def find_values(self, var):\n",
    "        '''Return the set of possible values for variable `var`'''\n",
    "        \n",
    "        # your code goes here...\n",
    "        \n",
    "        # Solution:\n",
    "        varnode = self.find_node(var)\n",
    "        return varnode.values\n",
    "\n",
    "    \n",
    "    def __repr__(self):\n",
    "        return 'BayesNet({})'.format(self.nodes)"
   ]
  },
  {
   "cell_type": "code",
   "execution_count": 123,
   "metadata": {
    "collapsed": true
   },
   "outputs": [],
   "source": [
    "# Solution:\n",
    "\n",
    "# Define the nodes\n",
    "Sm = BayesNode('Sm', '', [T,F], 0.2)\n",
    "ME = BayesNode('ME', '', [T,F], 0.5)\n",
    "HBP = BayesNode('HBP', ['Sm', 'ME'], [T,F], {(T, T): 0.6, (T, F): 0.72, (F, T): 0.33, (F, F): 0.51})\n",
    "Ath = BayesNode('Ath', '', [T,F], 0.53)\n",
    "FH = BayesNode('FH', '', [T,F], 0.15)\n",
    "HD = BayesNode('HD', ['Ath', 'HBP', 'FH'], [T,F], \n",
    "               {(T, T, T): 0.92, (T, T, F): 0.91, (T, F, T): 0.81, (T, F, F): 0.77,\n",
    "                (F, T, T): 0.75, (F, T, F): 0.69, (F, F, T): 0.38, (F, F, F): 0.23})\n",
    "Ang = BayesNode('Ang', 'HD', [T,F], {T: 0.85, F: 0.4})\n",
    "Rapid = BayesNode('Rapid', 'HD', [T,F], {T: 0.99, F: 0.3})\n",
    "\n",
    "# Create a Bayes net with those nodes and connections\n",
    "bnHeart = BayesNet([Sm, ME, HBP, Ath, FH, HD, Ang, Rapid])"
   ]
  },
  {
   "cell_type": "markdown",
   "metadata": {},
   "source": [
    "#### Unit tests"
   ]
  },
  {
   "cell_type": "code",
   "execution_count": 124,
   "metadata": {},
   "outputs": [
    {
     "name": "stderr",
     "output_type": "stream",
     "text": [
      "..\n",
      "----------------------------------------------------------------------\n",
      "Ran 2 tests in 0.016s\n",
      "\n",
      "OK\n"
     ]
    },
    {
     "data": {
      "text/plain": [
       "<unittest.runner.TextTestResult run=2 errors=0 failures=0>"
      ]
     },
     "execution_count": 124,
     "metadata": {},
     "output_type": "execute_result"
    }
   ],
   "source": [
    "tests_to_run = unittest.TestSuite()\n",
    "tests_to_run.addTest(Tests_Problem1(\"test_onenode\"))\n",
    "tests_to_run.addTest(Tests_Problem1(\"test_twonode\"))\n",
    "unittest.TextTestRunner().run(tests_to_run)"
   ]
  },
  {
   "cell_type": "markdown",
   "metadata": {},
   "source": [
    "<a/ id='p1b'></a>\n",
    "\n",
    "### (1b)\n",
    "\n",
    "Craft a function `get_prob(X, e, bn)` to return the **normalized** probability distribution of variable `X` in Bayes net `bn`, given the evidence `e`.  That is, return $P(X \\mid e)$. The arguments are:\n",
    "* `X` is some representation of the variable you are querying the probability distribution of. Either a string (the variable name from the `BayesNode` or a `BayesNode` object itself are good options.\n",
    "* `e` is some representation of the evidence your probability is conditioned on. When given an empty argument (or `None`) for `e`, `get_prob` should return the marginal distribution $P(X)$.\n",
    "* `bn` is your `BayesNet` object.\n",
    "\n",
    "You may do this using the `enumeration` algorithm from class (pseudocode is in the book), or by brute force (i.e., use a few `for` loops). Either way, you should be using your `BayesNet` object to keep track of all the nodes and relationships between nodes so your `get_prob` function knows these things."
   ]
  },
  {
   "cell_type": "code",
   "execution_count": 125,
   "metadata": {
    "collapsed": true
   },
   "outputs": [],
   "source": [
    "# Solution:\n",
    "\n",
    "class PDF_discrete:\n",
    "    '''Define a discrete probability distribution function.'''\n",
    "\n",
    "    def __init__(self, varname='?', freqs=None):\n",
    "        '''Create a dictionary of values - frequency pairs,\n",
    "        then normalize the distribution to sum to 1.'''\n",
    "        self.prob = {}\n",
    "        self.varname = varname\n",
    "        self.values = []\n",
    "        if freqs:\n",
    "            for (v, p) in freqs.items():\n",
    "                self[v] = p\n",
    "        self.normalize()\n",
    "\n",
    "    def __getitem__(self, value):\n",
    "        '''Given a value, return P[value]'''\n",
    "        try:\n",
    "            return self.prob[value]\n",
    "        except KeyError:\n",
    "            return 0\n",
    "\n",
    "    def __setitem__(self, value, p):\n",
    "        '''Set P[value] = p, input argument if '''\n",
    "        if value not in self.values:\n",
    "            self.values.append(value)\n",
    "        self.prob[value] = p\n",
    "\n",
    "    def normalize(self):\n",
    "        '''Normalize the probability distribution and return it.\n",
    "        If the sum of PDF values is 0, then return a 0'''\n",
    "        total = sum(self.prob.values())\n",
    "        if not isclose(total, 1.0):\n",
    "            for value in self.prob:\n",
    "                self.prob[value] /= total\n",
    "        return self\n",
    "    \n",
    "def extend(s, var, val):\n",
    "    \"\"\"Copy the substitution s and extend it by setting var to val; return copy.\"\"\"\n",
    "    s2 = s.copy()\n",
    "    s2[var] = val\n",
    "    return s2\n",
    "\n",
    "def get_prob(X, e, bn):\n",
    "    '''Return the conditional probability distribution of variable X\n",
    "    given evidence e, from BayesNet bn. [Figure 14.9]'''\n",
    "    Q = PDF_discrete(X)\n",
    "    for xi in bn.find_values(X):\n",
    "        Q[xi] = enumerate_all(bn.variables, extend(e, X, xi), bn)\n",
    "    return Q.normalize()\n",
    "\n",
    "\n",
    "def enumerate_all(variables, e, bn):\n",
    "    '''Return the sum of those entries in P(variables | e{others})\n",
    "    consistent with e, where P is the joint distribution represented\n",
    "    by bn, and e{others} means e restricted to bn's other variables\n",
    "    (the ones other than variables). Parents must precede children in variables.'''\n",
    "    if not variables:\n",
    "        return 1.0\n",
    "    Y, rest = variables[0], variables[1:]\n",
    "    Ynode = bn.find_node(Y)\n",
    "    if Y in e:\n",
    "        # Y in evidence, so we know its value and just multiply\n",
    "        return P(Ynode, e[Y], e) * enumerate_all(rest, e, bn)\n",
    "    else:\n",
    "        # Y not in evidence so we have to sum (Law of Total Prob.)    \n",
    "        return sum(P(Ynode, y, e) * enumerate_all(rest, extend(e, Y, y), bn)\n",
    "                   for y in bn.find_values(Y))"
   ]
  },
  {
   "cell_type": "markdown",
   "metadata": {},
   "source": [
    "Use your `get_prob` function to calculate the following probabilities. Print them to the screen and compare to the original Bayes net figure given to make sure the output passes these \"unit tests\".\n",
    "\n",
    "1. The marginal probability of `Family History` is $P(FH=T)=0.15$\n",
    "2. The probability of *not* experiencing `Angina Pectoris`, given `Heart Disease` is observed, is $P(Ang=F \\mid HD=T)=1-0.85=0.15$\n",
    "3. The probability of `High Blood Pressure`, given a person does `Smoke and/or use Alcohol` but does not get `Moderate Exercise`, is $P(HBP=T \\mid Sm=T, ME=F)=0.72$"
   ]
  },
  {
   "cell_type": "code",
   "execution_count": 126,
   "metadata": {},
   "outputs": [
    {
     "name": "stdout",
     "output_type": "stream",
     "text": [
      "P(FH)= {True: 0.15, False: 0.85}\n",
      "\n",
      "P(Ang | HD=T)= {True: 0.85, False: 0.15000000000000002}\n",
      "\n",
      "P(HBP | Sm=T, ME=T)= {True: 0.7199999999999999, False: 0.28}\n"
     ]
    }
   ],
   "source": [
    "# Solution:\n",
    "\n",
    "p1 = get_prob(X='FH', e={}, bn=bnHeart)\n",
    "print('P(FH)=',p1.prob)\n",
    "print('')\n",
    "\n",
    "p1 = get_prob(X='Ang', e={'HD' : T}, bn=bnHeart)\n",
    "print('P(Ang | HD=T)=',p1.prob)\n",
    "print('')\n",
    "\n",
    "p1 = get_prob(X='HBP', e={'Sm' : T, 'ME' : F}, bn=bnHeart)\n",
    "print('P(HBP | Sm=T, ME=T)=',p1.prob)"
   ]
  },
  {
   "cell_type": "markdown",
   "metadata": {},
   "source": [
    "<a/ id='p1c'></a>\n",
    "\n",
    "### (1c)\n",
    "\n",
    "Calculate the probability of observing someone with `High Blood Pressure`, $P(HBP=T)$, *by hand*, showing all work in Markdown/LateX below."
   ]
  },
  {
   "cell_type": "code",
   "execution_count": null,
   "metadata": {
    "collapsed": true
   },
   "outputs": [],
   "source": []
  },
  {
   "cell_type": "markdown",
   "metadata": {},
   "source": [
    "**Solution:**\n",
    "\n",
    "We use the Law of Total Probability to expand $P(HBP)$ in terms of the factors that affect it.  Namely, Smoking/Alcohol and Moderate Exercise, $Sm$ and $ME$.\n",
    "\n",
    "$\\begin{align*}\n",
    "P(+hbp) &= \\sum_{sm, me} P(+hbp \\mid sm, me) P(sm, me) \\\\\n",
    "        &= \\sum_{sm} \\sum_{me} P(+hbp \\mid sm, me) P(sm) P(me) \\\\\n",
    "        &= \\sum_{sm} P(sm) \\sum_{me} P(+hbp \\mid sm, me) P(me) \\\\\n",
    "        &= P(+sm)\\left[P(+hbp \\mid +sm, +me)P(+me) + P(+hbp \\mid +sm, -me)P(-me)\\right] + P(-sm)\\left[P(+hbp \\mid -sm, +me)P(+me) + P(+hbp \\mid -sm, -me)P(-me)\\right] \\\\\n",
    "        &= 0.2\\left[0.6\\cdot 0.5 + 0.72\\cdot (1-0.5)\\right] + (1-0.2)\\left[0.33\\cdot 0.5 + 0.51\\cdot (1-0.5)\\right] \\\\\n",
    "        &= \\fbox{0.468}\n",
    "\\end{align*}$"
   ]
  },
  {
   "cell_type": "markdown",
   "metadata": {},
   "source": [
    "**Verify** your calculation using your `get_prob` function."
   ]
  },
  {
   "cell_type": "code",
   "execution_count": 127,
   "metadata": {},
   "outputs": [
    {
     "name": "stdout",
     "output_type": "stream",
     "text": [
      "P(HBP)= {True: 0.4680000000000001, False: 0.532}\n"
     ]
    }
   ],
   "source": [
    "# Solution:\n",
    "\n",
    "p1 = get_prob(X='HBP', e={}, bn=bnHeart)\n",
    "print('P(HBP)=',p1.prob)"
   ]
  },
  {
   "cell_type": "markdown",
   "metadata": {},
   "source": [
    "<a/ id='p1d'></a>\n",
    "\n",
    "### (1d)\n",
    "\n",
    "Now calculate the following probabilities using your `get_prob` function.\n",
    "\n",
    "[i] The probability of an arbitrary individual having `Heart Disease`, $P(HD=T)$"
   ]
  },
  {
   "cell_type": "code",
   "execution_count": 128,
   "metadata": {},
   "outputs": [
    {
     "name": "stdout",
     "output_type": "stream",
     "text": [
      "P(HD)={True: 0.6617765600000001, False: 0.33822343999999993}\n"
     ]
    }
   ],
   "source": [
    "# Solution:\n",
    "\n",
    "p1 = get_prob(X='HD', e={}, bn=bnHeart)\n",
    "print('P(HD)={}'.format(p1.prob))"
   ]
  },
  {
   "cell_type": "markdown",
   "metadata": {},
   "source": [
    "[ii] The probability that an individual does *not* have `Heart Disease`, given that `Rapid Heartbeat` was observed, $P(HD=F \\mid Rapid=T)$"
   ]
  },
  {
   "cell_type": "code",
   "execution_count": 129,
   "metadata": {},
   "outputs": [
    {
     "name": "stdout",
     "output_type": "stream",
     "text": [
      "P(HD | Rapid=T)={True: 0.865895362727999, False: 0.13410463727200098}\n"
     ]
    }
   ],
   "source": [
    "# Solution:\n",
    "\n",
    "p1 = get_prob(X='HD', e={'Rapid' : T}, bn=bnHeart)\n",
    "print('P(HD | Rapid=T)={}'.format(p1.prob))"
   ]
  },
  {
   "cell_type": "markdown",
   "metadata": {},
   "source": [
    "[iii] The probability of an individual having `High Blood Pressure` if they have `Heart Disease` and a `Family History`, $P(HBP=T \\mid HD=T, FH=T)$"
   ]
  },
  {
   "cell_type": "code",
   "execution_count": 130,
   "metadata": {},
   "outputs": [
    {
     "name": "stdout",
     "output_type": "stream",
     "text": [
      "P(HBP | HD=T, FH=T)={True: 0.5486791513343575, False: 0.4513208486656426}\n"
     ]
    }
   ],
   "source": [
    "# Solution:\n",
    "\n",
    "p1 = get_prob(X='HBP', e={'HD' : T, 'FH' : T}, bn=bnHeart)\n",
    "print('P(HBP | HD=T, FH=T)={}'.format(p1.prob))"
   ]
  },
  {
   "cell_type": "markdown",
   "metadata": {},
   "source": [
    "[iv] The probability that an individual is a `Smoker/Alcohol User` if they have `Heart Disease`, $P(Sm=T \\mid HD=T)$"
   ]
  },
  {
   "cell_type": "code",
   "execution_count": 131,
   "metadata": {},
   "outputs": [
    {
     "name": "stdout",
     "output_type": "stream",
     "text": [
      "P(Sm | HD=T)={True: 0.2163440784303391, False: 0.7836559215696609}\n"
     ]
    }
   ],
   "source": [
    "# Solution:\n",
    "\n",
    "p1 = get_prob(X='Sm', e={'HD' : T}, bn=bnHeart)\n",
    "print('P(Sm | HD=T)={}'.format(p1.prob))"
   ]
  },
  {
   "cell_type": "markdown",
   "metadata": {},
   "source": [
    "[v] How would you expect the probability in [iv] to change if you also know the individual has `High Blood Pressure`?  Verify your hypothesis by calculating the relevant probability."
   ]
  },
  {
   "cell_type": "markdown",
   "metadata": {},
   "source": [
    "**Solution:** expect the probability that an individual is a smoker/alcohol user to go **up**, if we also know that this person has high blood pressure.  That's because smoking/alcohol use can **explain** the observation of high blood pressure."
   ]
  },
  {
   "cell_type": "code",
   "execution_count": 132,
   "metadata": {},
   "outputs": [
    {
     "name": "stdout",
     "output_type": "stream",
     "text": [
      "P(Sm | HD=T, HBP=T)={True: 0.28205128205128205, False: 0.717948717948718}\n"
     ]
    }
   ],
   "source": [
    "# Solution:\n",
    "\n",
    "p1 = get_prob(X='Sm', e={'HD' : T, 'HBP' : T}, bn=bnHeart)\n",
    "print('P(Sm | HD=T, HBP=T)={}'.format(p1.prob))"
   ]
  },
  {
   "cell_type": "markdown",
   "metadata": {},
   "source": [
    "[vi] How would you expect the probability in [v] to change if you also know that the individual does *not* get `Moderate Exercise` (in addition to having `Heart Disease` and `High Blood Pressure`)?  Explain your answer using concepts from class.  Verify your answer by calculating the relevant probability."
   ]
  },
  {
   "cell_type": "code",
   "execution_count": null,
   "metadata": {
    "collapsed": true
   },
   "outputs": [],
   "source": []
  },
  {
   "cell_type": "markdown",
   "metadata": {},
   "source": [
    "**Solution:** expect the probability that an individual is a smoker/alcohol user to go **down** because the fact that this individual does not get exercise can **explain away** the observation of high blood pressure, making the possible explanation of smoking/alcohol use relatively less likely."
   ]
  },
  {
   "cell_type": "code",
   "execution_count": 133,
   "metadata": {},
   "outputs": [
    {
     "name": "stdout",
     "output_type": "stream",
     "text": [
      "P(Sm | HD=T, HBP=T, ME=F)={True: 0.2608695652173913, False: 0.7391304347826088}\n"
     ]
    }
   ],
   "source": [
    "# Solution:\n",
    "\n",
    "p1 = get_prob(X='Sm', e={'HD' : T, 'HBP' : T, 'ME' : F}, bn=bnHeart)\n",
    "print('P(Sm | HD=T, HBP=T, ME=F)={}'.format(p1.prob))"
   ]
  },
  {
   "cell_type": "markdown",
   "metadata": {},
   "source": [
    "---\n",
    "\n",
    "<a id='p2'></a>[Back to top](#top)\n",
    "\n",
    "<img src=\"https://inhabitat.com/wp-content/blogs.dir/1/files/2014/02/norman-bike-riding-dog.png\" style=\"width: 350px;\"/>\n",
    "\n",
    "## Problem 2:  Bayesian network to model decision-making\n",
    "\n",
    "Let's consider using a Bayesian network to model our decision about whether or not to ride our bike to work today.  This decision depends heavily on the weather, so let's focus on that.\n",
    "\n",
    "In class, we focused on Boolean variables.  For example, we might base our biking decision on whether or not it is raining.  But in reality, it probably matters *how hard* it is raining.  So suppose we break the variable `Rain` up into three discrete bins: `none`, `light` and `heavy`.\n",
    "\n",
    "The temperature also factors into our decision.  There is definitely a sweet spot, where temperatures are neither too warm nor too cold, so it is very likely we would enjoy riding our bike.  So we can model the variable `Temperature` also using three discrete bins: `cold`, `moderate` and `warm`.\n",
    "\n",
    "So a Bayesian network to model our decision for whether or not to bike to work could be as follows, where the first letter of each discrete bin is used to denote that variable value (i.e., `R=h` stands for heavy rain conditions).\n",
    "\n",
    "<img src=\"http://www.cs.colorado.edu/~tonyewong/home/resources/bayesnet_biking2.png\" style=\"width: 650px;\"/>"
   ]
  },
  {
   "cell_type": "markdown",
   "metadata": {},
   "source": [
    "<a/ id='p2a'></a>\n",
    "\n",
    "### (2a)\n",
    "\n",
    "Modify the `P` probability function to be able to handle these ternary parent nodes."
   ]
  },
  {
   "cell_type": "code",
   "execution_count": 134,
   "metadata": {
    "collapsed": true
   },
   "outputs": [],
   "source": [
    "# modified function for conditional probabilities,\n",
    "# to handle ternary (or more) case\n",
    "def P(var, value, evidence={}):\n",
    "    '''The probability distribution for P(var | evidence), \n",
    "    when all parent variables are known (in evidence)'''\n",
    "    if len(var.parents)==1:\n",
    "        # only one parent\n",
    "        row = evidence[var.parents[0]]\n",
    "    else:\n",
    "        # multiple parents\n",
    "        row = tuple(evidence[parent] for parent in var.parents)\n",
    "    if len(var.parents)==0:\n",
    "        return var.cpt[row][value] if value in var.cpt[row].keys() else 1-sum(var.cpt[row].values())\n",
    "    return var.cpt[row] if value else 1-var.cpt[row]"
   ]
  },
  {
   "cell_type": "markdown",
   "metadata": {},
   "source": [
    "Set up `BayesNode` objects for each of `Rain`, `Temp` and `Bike`, and create a `BayesNet` object to model the Bayesian network for this decision.  Again, you can use whatever structure you wish for your `BayesNet`, but please use the `BayesNode` class.  You may need to make minor modifications to the `BayesNode` class (e.g., changing/adding attributes), although none are strictly necessary."
   ]
  },
  {
   "cell_type": "code",
   "execution_count": 135,
   "metadata": {
    "collapsed": true
   },
   "outputs": [],
   "source": [
    "# Set up the Bayes net\n",
    "n,l,h,c,m,w,T,F = 'None','Light','Heavy','Cold','Moderate','Warm',True,False\n",
    "\n",
    "rain = BayesNode('Rain', '', [n,l,h], {n : 0.8, l : 0.15})\n",
    "temp = BayesNode('Temp', '', [c,m,w], {c : 0.3, m : 0.6 })\n",
    "bike = BayesNode('Bike', ['Rain', 'Temp'], [T, F], {(n,c) : 0.7, (n,m) : 0.99, (n,w) : 0.9,\n",
    "                                                    (l,c) : 0.4, (l,m) : 0.6 , (l,w) : 0.5,\n",
    "                                                    (h,c) : 0.2, (h,m) : 0.4 , (h,w) : 0.3})\n",
    "bnRide = BayesNet([rain, temp, bike])"
   ]
  },
  {
   "cell_type": "markdown",
   "metadata": {},
   "source": [
    "**Verify** that your modified probability function `P` is working by checking the following \"unit tests\". Print the output to screen and compare to what you expect from the figure above.\n",
    "\n",
    "1. The marginal probability of no rain is $P(Rain=n)=0.8$\n",
    "1. The marginal probability of light rain is $P(Rain=l)=0.15$\n",
    "1. The marginal probability of heavy rain is $P(Rain=h)=0.05$\n",
    "1. The probability of biking given that it is raining heavily and the temperature is cold, is $P(Bike=T \\mid Rain=h, Temp=c)=0.2$"
   ]
  },
  {
   "cell_type": "code",
   "execution_count": 136,
   "metadata": {},
   "outputs": [
    {
     "name": "stdout",
     "output_type": "stream",
     "text": [
      "P(R=n)=0.8\n",
      "P(R=l)=0.15\n",
      "P(R=h)=0.04999999999999993\n",
      "P(B=T | R=h, T=c)=0.2\n"
     ]
    }
   ],
   "source": [
    "## Solution:\n",
    "\n",
    "print('P(R=n)={}'.format(P(rain, n)))\n",
    "print('P(R=l)={}'.format(P(rain, l)))\n",
    "print('P(R=h)={}'.format(P(rain, h)))\n",
    "print('P(B=T | R=h, T=c)={}'.format(P(bike, T, {'Rain' : h, 'Temp' : c})))"
   ]
  },
  {
   "cell_type": "markdown",
   "metadata": {},
   "source": [
    "<a/ id='p2b'></a>\n",
    "\n",
    "### (2b)\n",
    "\n",
    "Make any necessary modifications to your `get_prob` function from Problem 1, so that you can use it to calculate marginal probabilities and conditional probabilities for this problem. It is possible that your function does not require any modifications."
   ]
  },
  {
   "cell_type": "code",
   "execution_count": null,
   "metadata": {
    "collapsed": true
   },
   "outputs": [],
   "source": []
  },
  {
   "cell_type": "markdown",
   "metadata": {},
   "source": [
    "Use `get_prob` to calculate $P(Bike)$, the probability distribution for whether or not you will ride your bike on any given day."
   ]
  },
  {
   "cell_type": "code",
   "execution_count": 140,
   "metadata": {},
   "outputs": [
    {
     "name": "stdout",
     "output_type": "stream",
     "text": [
      "{True: 0.8112, False: 0.18880000000000002}\n"
     ]
    }
   ],
   "source": [
    "# Solution:\n",
    "\n",
    "p1 = get_prob(X='Bike', e={}, bn=bnRide)\n",
    "print(p1.prob)"
   ]
  },
  {
   "cell_type": "markdown",
   "metadata": {},
   "source": [
    "Use `get_prob` to calculate the probability that you will ride your bike, given that it is lightly raining."
   ]
  },
  {
   "cell_type": "code",
   "execution_count": 141,
   "metadata": {},
   "outputs": [
    {
     "name": "stdout",
     "output_type": "stream",
     "text": [
      "{True: 0.5299999999999999, False: 0.47}\n"
     ]
    }
   ],
   "source": [
    "# Solution:\n",
    "\n",
    "p1 = get_prob(X='Bike', e={'Rain' : l}, bn=bnRide)\n",
    "print(p1.prob)"
   ]
  },
  {
   "cell_type": "markdown",
   "metadata": {},
   "source": [
    "<a/ id='p2c'></a>\n",
    "\n",
    "### (2c)\n",
    "\n",
    "We are trapped indoors because some jerk gave us a ton of Intro to Artificial Intelligence homework to do.  Suppose we look out the window and see people biking. They sure do look like they're having fun! *Given* this information, we can actually make inferences regarding the temperature outside!  What is the probability distribution for temperature, given that we observe people biking?\n",
    "\n",
    "First, compute this using your `get_prob` function."
   ]
  },
  {
   "cell_type": "code",
   "execution_count": 145,
   "metadata": {},
   "outputs": [
    {
     "name": "stdout",
     "output_type": "stream",
     "text": [
      "{'Cold': 0.23298816568047337, 'Moderate': 0.6671597633136095, 'Warm': 0.09985207100591724}\n"
     ]
    }
   ],
   "source": [
    "# Solution:\n",
    "\n",
    "p1 = get_prob(X='Temp', e={'Bike' : T}, bn=bnRide)\n",
    "print(p1.prob)"
   ]
  },
  {
   "cell_type": "markdown",
   "metadata": {},
   "source": [
    "<a/ id='p2d'></a>\n",
    "\n",
    "### (2d)\n",
    "\n",
    "Confirm your answer to **2c** by hand, showing *all* relevant work below in a LateX/Markdown cell."
   ]
  },
  {
   "cell_type": "code",
   "execution_count": null,
   "metadata": {
    "collapsed": true
   },
   "outputs": [],
   "source": []
  },
  {
   "cell_type": "markdown",
   "metadata": {},
   "source": [
    "**Solution:**\n",
    "\n",
    "Hidden variable(s) is just Rain, so we need a sum over all the possible values of Rain. $\\alpha$ is a normalization constant that we'll figure out in order to make $\\sum_t P(t \\mid +b) = 1$, like a good wholesome probability distribution (since *one* of the possible values of Temperature, $t$, must be the case).\n",
    "\n",
    "$\\begin{align*}\n",
    "P(t \\mid +b) &= \\alpha \\sum_r \\prod_i P(x_i \\mid \\text{parents}(X_i)) \\\\\n",
    "             &= \\alpha \\sum_r P(r)P(t)P(+b \\mid r,t) \\\\\n",
    "             &= \\alpha P(t) \\left[P(r=n) P(+b \\mid r=n, t) + P(r=l) P(+b \\mid r=l, t) + P(r=h) P(+b \\mid r=h, t)\\right] \\\\\n",
    "\\end{align*}$\n",
    "\n",
    "This equation holds for each of $P(t=c \\mid +b)$, $P(t=m \\mid +b)$ and $P(t=h \\mid +b)$.  **The plan:** calculate each of these, then figure out $\\alpha$ so the three of these conditional probabilities sum to 1, then calculate (using $\\alpha$ exactly what each is.\n",
    "\n",
    "$\\begin{align*}\n",
    "P(t=c \\mid +b) &= \\alpha P(t=c) \\left[P(r=n) P(+b \\mid r=n, t=c) + P(r=l) P(+b \\mid r=l, t=c) + P(r=h) P(+b \\mid r=h, t=c)\\right] \\\\\n",
    "               &= \\alpha \\cdot 0.3 [0.8\\cdot 0.7 + 0.15\\cdot 0.4 + 0.05\\cdot 0.2] \\\\\n",
    "               &= 0.189\\alpha\n",
    "\\end{align*}$\n",
    "\n",
    "$\\begin{align*}\n",
    "P(t=m \\mid +b) &= \\alpha P(t=m) \\left[P(r=n) P(+b \\mid r=n, t=m) + P(r=l) P(+b \\mid r=l, t=m) + P(r=h) P(+b \\mid r=h, t=m)\\right] \\\\\n",
    "               &= \\alpha \\cdot 0.6 [0.8\\cdot 0.99 + 0.15\\cdot 0.6 + 0.05\\cdot 0.4] \\\\\n",
    "               &= 0.5412\\alpha\n",
    "\\end{align*}$\n",
    "\n",
    "$\\begin{align*}\n",
    "P(t=w \\mid +b) &= \\alpha P(t=w) \\left[P(r=n) P(+b \\mid r=n, t=w) + P(r=l) P(+b \\mid r=l, t=w) + P(r=h) P(+b \\mid r=h, t=w)\\right] \\\\\n",
    "               &= \\alpha \\cdot 0.1 [0.8\\cdot 0.9 + 0.15\\cdot 0.5 + 0.05\\cdot 0.3] \\\\\n",
    "               &= 0.081\\alpha\n",
    "\\end{align*}$\n",
    "\n",
    "Now we calculate the normalization constant, $\\alpha$:\n",
    "\n",
    "$\\begin{align*}\n",
    "1 &\\stackrel{\\heartsuit}{=} P(t=c \\mid +b) + P(t=m \\mid +b) + P(t=w \\mid +b) \\\\\n",
    "  &= 0.189\\alpha + 0.5412\\alpha + 0.081\\alpha \\\\\n",
    "\\end{align*}$\n",
    "\n",
    "So $\\alpha = 1.23274$, and we get:\n",
    "\n",
    "$$P(t=c \\mid +b) = 0.233$$\n",
    "$$P(t=m \\mid +b) = 0.667$$\n",
    "$$P(t=w \\mid +b) = 0.100$$\n",
    "\n",
    "which is consistent with **2c**.  Horray!"
   ]
  },
  {
   "cell_type": "markdown",
   "metadata": {},
   "source": [
    "<a/ id='p2e'></a>\n",
    "\n",
    "### (2e)\n",
    "\n",
    "Finally, confirm your confirmation of the probability distribution for `Temp` by using approximate Bayesian computation and 10,000 samples.  That is, use the **prior sampling** and **\"rejection sampling\"** techniques from class to estimate the probabilities associated with each possible value for `Temp`, given that there are people biking outside."
   ]
  },
  {
   "cell_type": "code",
   "execution_count": 173,
   "metadata": {},
   "outputs": [
    {
     "name": "stdout",
     "output_type": "stream",
     "text": [
      "P(T=c | +b) = 0.2375 // P(T=m | +b) = 0.6597 // P(T=w | +b) = 0.1028\n"
     ]
    }
   ],
   "source": [
    "# Solution:\n",
    "\n",
    "n_sample = 10000\n",
    "\n",
    "# sample from the priors\n",
    "dfSample = pd.DataFrame({'Rain' : np.random.choice([n,l,h], size=n_sample, p=[0.8, 0.15, 0.05]),\n",
    "                         'Temp' : np.random.choice([c,m,w], size=n_sample, p=[0.3, 0.6, 0.1])})\n",
    "\n",
    "# get that handy-dandy sample_2parent function from our in-class notebook\n",
    "def sample_2parent(row, variable, parents):\n",
    "    return np.random.choice([T,F], p=[P(variable, T, {parents[0]: row[parents[0]], parents[1]: row[parents[1]]}), \n",
    "                                      P(variable, F, {parents[0]: row[parents[0]], parents[1] : row[parents[1]]})])\n",
    "\n",
    "# sample from distribution of bike, given the parents\n",
    "dfSample['Bike'] = dfSample.apply(sample_2parent, axis=1, variable=bike, parents=bike.parents)\n",
    "\n",
    "# estimate of P(t=c | +b) is [# rows with t=c and +b]/[# rows with +b]\n",
    "p_cold = dfSample.loc[(dfSample['Temp']==c) & (dfSample['Bike']==T)].count()[0]/dfSample.loc[(dfSample['Bike']==T)].count()[0]\n",
    "\n",
    "# similarly, estimate of P(t=m | +b) is [# rows with t=m and +b]/[# rows with +b]\n",
    "p_mod = dfSample.loc[(dfSample['Temp']==m) & (dfSample['Bike']==T)].count()[0]/dfSample.loc[(dfSample['Bike']==T)].count()[0]\n",
    "\n",
    "# and estimate of P(t=w | +b) is [# rows with t=w and +b]/[# rows with +b]\n",
    "p_warm = dfSample.loc[(dfSample['Temp']==w) & (dfSample['Bike']==T)].count()[0]/dfSample.loc[(dfSample['Bike']==T)].count()[0]\n",
    "\n",
    "print('P(T=c | +b) = {:0.4f} // P(T=m | +b) = {:0.4f} // P(T=w | +b) = {:0.4f}'.format(p_cold, p_mod, p_warm))"
   ]
  },
  {
   "cell_type": "markdown",
   "metadata": {},
   "source": [
    "As a \"Unit Test\", check what the probability of riding your bike is, given no other information.  Make sure this approximately matches your answer to **2b**."
   ]
  },
  {
   "cell_type": "code",
   "execution_count": 174,
   "metadata": {},
   "outputs": [
    {
     "name": "stdout",
     "output_type": "stream",
     "text": [
      "Estimate P(Bike) = 0.8090\n"
     ]
    }
   ],
   "source": [
    "# Solution:\n",
    "\n",
    "p_bike = dfSample[\"Bike\"].sum()/n_sample\n",
    "print('Estimate P(Bike) = {:0.4f}'.format(p_bike))"
   ]
  },
  {
   "cell_type": "markdown",
   "metadata": {},
   "source": [
    "\n"
   ]
  },
  {
   "cell_type": "markdown",
   "metadata": {},
   "source": [
    "---\n",
    "\n",
    "<a id='p3'></a>\n",
    "\n",
    "## Problem 3:  Markov models - random walk to Taco Bell\n",
    "\n",
    "Your friend Chris went to a party last night and drank way too much Fun Juice.  Chris is feeling a bit hungry, so he leaves the party, which is at the corner of 6th Street East and 3rd Street North, and heads for Taco Bell, which is located at the corner of 2nd Street East and 1st Street North.  A figure depicting this neighborhood is given below.\n",
    "\n",
    "<img src=\"http://www.cs.colorado.edu/~tonyewong/home/resources/random_walk_to_taco_bell.png\" style=\"width: 650px;\"/>\n",
    "\n",
    "Fun Juice makes Chris' sense of direction quite poor, so at each intersection along his way, he picks any one of the available directions with equal probability.  Chris at least knows not to go north of 4th Street North, south of 0th Street North, east of 7th Street East, or west of 0th Street East, and has the common decency not to cut through anyone's yard (i.e., he only walks along streets).\n",
    "\n",
    "Suppose Chris only cares about traveling between from one intersection to another, and considers one *move* to be walking one block, from one intersection to an adjacent intersection.\n",
    "\n",
    "Since this grid is precisely a Cartesian coordinate grid, let the bottom-left corner of the neighborhood be represented by $(0,0)$.  Then the available moves from that location are to walk East (right, in the $+x$ direction) to $(1,0)$ or North to $(0,1)$.\n",
    "\n",
    "<a id='p3a'></a>\n",
    "\n",
    "### (3a)\n",
    "\n",
    "Create a class for `Neighborhood` and for `Agent`, to represent the neighborhood and the agent trying to get to Taco Bell:\n",
    "\n",
    "`Neighborhood(n_northsouth, n_eastwest, taco_bell)`:\n",
    "* `n_northsouth` and `n_eastwest` provide the number of streets running north-south and the number of streets running east-west, respectively.  In the given figure, there are 5 streets running east-west, for example.\n",
    "* `taco_bell` is a tuple providing the coordinates of Taco Bell in this neighborhood.\n",
    "* has attributes for:\n",
    "  * number of streets running north-south\n",
    "  * number of streets running east-west\n",
    "  * all of the intersections in the neighborhood\n",
    "  * the location of the Taco Bell in the neighborhood\n",
    "* Implement in your code a check to make sure the location of the Taco Bell is within the neighborhood's coordinates.  Assume that the south-west corner of the neighborhood is always $(0,0)$.\n",
    "\n",
    "`Agent(name, loc, neighborhood)`:\n",
    "* In the constructor, provide the agent with a `name` (string), initial location as a tuple (`loc`), and a `Neighborhood` to live in. Store these as attributes.\n",
    "* Fill in the rest of the needed methods for the agent:\n",
    "  * `available_moves()` returns a list of tuples, representing the locations the agent can walk to from its current location\n",
    "  * `random_move()` returns one of the possible moves\n",
    "  * `walk(move)` updates the agent's location, if they make the given argument `move`\n",
    "  * `at_taco_bell()` returns True if the agent is at the same intersection as the neighborhood Taco Bell, and False otherwise"
   ]
  },
  {
   "cell_type": "code",
   "execution_count": 425,
   "metadata": {
    "collapsed": true
   },
   "outputs": [],
   "source": [
    "class Neighborhood:\n",
    "    def __init__(self, n_northsouth, n_eastwest, taco_bell):\n",
    "        '''Set up the layout of the neighborhood by giving the # streets\n",
    "        running North/South (n_northsouth) and the # streets running \n",
    "        East/West). Based on these, store all the available locations \n",
    "        (intersections) in the neighborhood, and make sure the given\n",
    "        coordinates for Taco Bell are valid'''\n",
    "        \n",
    "        # your code goes here...\n",
    "        \n",
    "        # Solution:\n",
    "        self.n_ns = n_northsouth\n",
    "        self.n_ew = n_eastwest\n",
    "        self.locations = [(col, row) for col in range(n_northsouth) for row in range(n_eastwest)]\n",
    "        self.tb = taco_bell\n",
    "        assert taco_bell in self.locations, 'Taco Bell must be within the neighborhood domain'\n",
    "        \n",
    "class Agent:\n",
    "    def __init__(self, name, loc, neighborhood):\n",
    "        \n",
    "        # your code goes here...\n",
    "        \n",
    "        # Solution:\n",
    "        self.name = name\n",
    "        self.loc = loc\n",
    "        self.nh = neighborhood\n",
    "        \n",
    "    def available_moves(self):\n",
    "        '''Return a list of available intersections the agent can move to,\n",
    "        based on the layout of the agent's neighborhood'''\n",
    "        \n",
    "        # your code goes here...\n",
    "        \n",
    "        # Solution:\n",
    "        moves = []\n",
    "        if self.loc[0] > 0:\n",
    "            # can move West\n",
    "            moves.append((self.loc[0]-1, self.loc[1]))\n",
    "        if self.loc[0] < self.nh.n_ns-1:\n",
    "            # can move East\n",
    "            moves.append((self.loc[0]+1, self.loc[1]))\n",
    "        if self.loc[1] > 0:\n",
    "            # can move South\n",
    "            moves.append((self.loc[0], self.loc[1]-1))\n",
    "        if self.loc[1] < self.nh.n_ew-1:\n",
    "            # can move North\n",
    "            moves.append((self.loc[0], self.loc[1]+1))\n",
    "        return moves\n",
    "\n",
    "    def random_move(self):\n",
    "        '''Return a random move out of the available moves\n",
    "        from the agent`s current location'''\n",
    "        \n",
    "        # your code goes here...\n",
    "        \n",
    "        # Solution:\n",
    "        moves = self.available_moves()\n",
    "        n_moves = len(self.available_moves())\n",
    "        return moves[np.random.randint(n_moves)]\n",
    "    \n",
    "    def walk(self, move):\n",
    "        '''Update the agent to a new location'''\n",
    "        \n",
    "        # your code goes here...\n",
    "        \n",
    "        # Solution:\n",
    "        self.loc = move\n",
    "        \n",
    "    def at_taco_bell(self):\n",
    "        '''Return True if the agent is at Taco Bell, and False otherwise'''\n",
    "        \n",
    "        # your code goes here...\n",
    "        \n",
    "        # Solution:\n",
    "        return self.loc==self.nh.tb\n",
    "    \n",
    "    def __repr__(self):\n",
    "        return '{} at {}'.format(self.name, self.loc)"
   ]
  },
  {
   "cell_type": "markdown",
   "metadata": {},
   "source": [
    "#### Unit tests"
   ]
  },
  {
   "cell_type": "code",
   "execution_count": 426,
   "metadata": {},
   "outputs": [
    {
     "name": "stderr",
     "output_type": "stream",
     "text": [
      "...\n",
      "----------------------------------------------------------------------\n",
      "Ran 3 tests in 0.005s\n",
      "\n",
      "OK\n"
     ]
    },
    {
     "data": {
      "text/plain": [
       "<unittest.runner.TextTestResult run=3 errors=0 failures=0>"
      ]
     },
     "execution_count": 426,
     "metadata": {},
     "output_type": "execute_result"
    }
   ],
   "source": [
    "tests_to_run = unittest.TestSuite()\n",
    "tests_to_run.addTest(Tests_Problem3('test_moves_corner'))\n",
    "tests_to_run.addTest(Tests_Problem3('test_moves_center'))\n",
    "tests_to_run.addTest(Tests_Problem3('test_tacos'))\n",
    "unittest.TextTestRunner().run(tests_to_run)"
   ]
  },
  {
   "cell_type": "markdown",
   "metadata": {},
   "source": [
    "<a/ id='p3b'></a>\n",
    "\n",
    "### (3b)\n",
    "\n",
    "Create a neighborhood and Chris agent to represent the situation above.\n",
    "\n",
    "Then, run an ensemble of 1,000 simulations to obtain a sample for the number of blocks Chris must travel in order to arrive at Taco Bell at (2,1), starting from the party at (6,3).  Report the expected number of blocks traveled."
   ]
  },
  {
   "cell_type": "code",
   "execution_count": 427,
   "metadata": {},
   "outputs": [
    {
     "name": "stdout",
     "output_type": "stream",
     "text": [
      "81.622\n"
     ]
    }
   ],
   "source": [
    "# Solution:\n",
    "\n",
    "taco_bell = (2,1)\n",
    "nh = Neighborhood(n_eastwest=5, n_northsouth=8, taco_bell=taco_bell)\n",
    "n_sample = 1000\n",
    "sample_blocks = []\n",
    "for n in range(n_sample):\n",
    "    chris = Agent('Chris', (6,3), nh)\n",
    "    arrived = False\n",
    "    blocks = 0\n",
    "    while not arrived:\n",
    "        chris.walk(chris.random_move())\n",
    "        blocks += 1\n",
    "        arrived = chris.at_taco_bell()\n",
    "    sample_blocks.append(blocks)\n",
    "    \n",
    "print(np.mean(sample_blocks))"
   ]
  },
  {
   "cell_type": "markdown",
   "metadata": {},
   "source": [
    "**Reflection:**  The sequence of states (coordinates) that Chris passed through in his travels is a **Markov chain** - each new state depended only on the previous one.  This process, called a **random walk**, can be a useful way to explore a state space.\n",
    "\n",
    "\n",
    "<a/ id='p3c'></a>\n",
    "\n",
    "### (3c)\n",
    "\n",
    "Let us explore one of the characteristics of a Markov chain that we often find ourselves interested in:  the **expected time of first return** to a state.  In particular, let's examine Chris' **expected time of first return to Taco Bell**.\n",
    "\n",
    "Build an ensemble of 1,000 simulations of how many blocks Chris must travel to return to Taco Bell, given that he starts at Taco Bell in the neighborhood depicted in the figure above.\n",
    "\n",
    "We can estimate the expected time of first return to Taco Bell using the **mean** number of blocks Chris must travel in order to make it back to those tasty tacos. Report this estimate based on your simulation results."
   ]
  },
  {
   "cell_type": "code",
   "execution_count": 428,
   "metadata": {},
   "outputs": [
    {
     "name": "stdout",
     "output_type": "stream",
     "text": [
      "31.638\n"
     ]
    }
   ],
   "source": [
    "# Solution:\n",
    "\n",
    "taco_bell = (2,1)\n",
    "nh = Neighborhood(n_eastwest=5, n_northsouth=8, taco_bell=taco_bell)\n",
    "n_sample = 1000\n",
    "sample_blocks = []\n",
    "for n in range(n_sample):\n",
    "    chris = Agent('Chris', taco_bell, nh)\n",
    "    arrived = False\n",
    "    blocks = 0\n",
    "    while not arrived:\n",
    "        chris.walk(chris.random_move())\n",
    "        blocks += 1\n",
    "        arrived = chris.at_taco_bell()\n",
    "    sample_blocks.append(blocks)\n",
    "\n",
    "print(np.mean(sample_blocks))"
   ]
  },
  {
   "cell_type": "markdown",
   "metadata": {},
   "source": [
    "<a id='p3d'></a>\n",
    "\n",
    "### (3d)\n",
    "\n",
    "Your friend Dan also is leaving the party.  Dan leaves just after Chris.  Dan, however, has a preference for heading west (left, in the $-x$ direction) when he can, for that is where Ralphie roams.  In fact, his preference for being nearer to Ralphie is so strong that if it is possible for him to move west, then he does so 60% of the time, with the other 40% of the probability distributed equally among his other options.\n",
    "\n",
    "Revise the `Agent` class - or better yet, *sub-class it*, to represent Dan's strange yet endearing decision-making for which random direction to move in."
   ]
  },
  {
   "cell_type": "code",
   "execution_count": 429,
   "metadata": {
    "collapsed": true
   },
   "outputs": [],
   "source": [
    "# Solution:\n",
    "\n",
    "class AgentDan(Agent):\n",
    "    \n",
    "    def sortof_random_move(self):\n",
    "        \n",
    "        moves = self.available_moves()\n",
    "        n_moves = len(self.available_moves())\n",
    "        \n",
    "        # check if a west-ward move is in there\n",
    "        west = [move[0]-self.loc[0]==-1 for move in moves]\n",
    "        if not any(west):\n",
    "            return moves[np.random.randint(n_moves)]            \n",
    "        else:\n",
    "            p_west = 0.6\n",
    "            p_notwest = (1-p_west)/(n_moves-1)\n",
    "            probs = []\n",
    "            for i in range(n_moves):\n",
    "                if west[i]:\n",
    "                    probs.append(p_west)\n",
    "                else:\n",
    "                    probs.append(p_notwest)\n",
    "            return moves[np.random.choice(list(range(n_moves)), p=probs)]"
   ]
  },
  {
   "cell_type": "markdown",
   "metadata": {},
   "source": [
    "Now simulate 1,000 samples for how many blocks Dan will need to travel in order to make it to Taco Bell from the party.  Report the expected number of blocks Dan must travel to get some delicious chalupas."
   ]
  },
  {
   "cell_type": "code",
   "execution_count": 430,
   "metadata": {},
   "outputs": [
    {
     "name": "stdout",
     "output_type": "stream",
     "text": [
      "74.764\n"
     ]
    }
   ],
   "source": [
    "# Solution:\n",
    "\n",
    "taco_bell = (2,1)\n",
    "nh = Neighborhood(n_eastwest=5, n_northsouth=8, taco_bell=taco_bell)\n",
    "n_sample = 1000\n",
    "sample_blocks = []\n",
    "for n in range(n_sample):\n",
    "    dan = AgentDan('Dan', (6,3), nh)\n",
    "    arrived = False\n",
    "    blocks = 0\n",
    "    while not arrived:\n",
    "        dan.walk(dan.sortof_random_move())\n",
    "        blocks += 1\n",
    "        arrived = dan.at_taco_bell()\n",
    "    sample_blocks.append(blocks)\n",
    "    \n",
    "print(np.mean(sample_blocks))"
   ]
  },
  {
   "cell_type": "markdown",
   "metadata": {},
   "source": [
    "<a/ id='p3e'></a>\n",
    "\n",
    "### (3e)\n",
    "\n",
    "What is Dan's expected time of first return to Taco Bell, as measured by the number of blocks traveled?"
   ]
  },
  {
   "cell_type": "code",
   "execution_count": 431,
   "metadata": {},
   "outputs": [
    {
     "name": "stdout",
     "output_type": "stream",
     "text": [
      "53.502\n"
     ]
    }
   ],
   "source": [
    "# Solution:\n",
    "\n",
    "taco_bell = (2,1)\n",
    "nh = Neighborhood(n_eastwest=5, n_northsouth=8, taco_bell=taco_bell)\n",
    "n_sample = 1000\n",
    "sample_blocks = []\n",
    "for n in range(n_sample):\n",
    "    dan = AgentDan('Dan', taco_bell, nh)\n",
    "    arrived = False\n",
    "    blocks = 0\n",
    "    while not arrived:\n",
    "        dan.walk(dan.sortof_random_move())\n",
    "        blocks += 1\n",
    "        arrived = dan.at_taco_bell()\n",
    "    sample_blocks.append(blocks)\n",
    "\n",
    "print(np.mean(sample_blocks))"
   ]
  },
  {
   "cell_type": "markdown",
   "metadata": {},
   "source": [
    "### (3f)\n",
    "\n",
    "Consider the smaller neighborhood depicted below, with only 3 north-south streets, 2 east-west streets, and a Taco Bell located at $(1,1)$.\n",
    "\n",
    "<img src=\"http://www.cs.colorado.edu/~tonyewong/home/resources/random_walk_to_taco_bell_small.png\" style=\"width: 250px;\"/>\n",
    "\n",
    "There are 6 distinct states in the state space, one for each of the 6 intersections.  Recall that the transition probability matrix denotes the probability of moving from the state given by the row of the matrix to the state given by the column.\n",
    "\n",
    "Recall that the transition probability matrix is given by\n",
    "\n",
    "$$T = \\left[\\begin{array}{cccccc} \n",
    "  q((0,0),(0,0)) & q((0,0),(1,0)) & q((0,0),(2,0)) & q((0,0),(0,1)) & q((0,0),(1,1)) & q((0,0),(2,1)) \\\\\n",
    "  q((1,0),(0,0)) & q((1,0),(1,0)) & q((1,0),(2,0)) & q((1,0),(0,1)) & q((1,0),(1,1)) & q((1,0),(2,1)) \\\\\n",
    "  q((2,0),(0,0)) & q((2,0),(1,0)) & q((2,0),(2,0)) & q((2,0),(0,1)) & q((2,0),(1,1)) & q((2,0),(2,1)) \\\\\n",
    "  q((0,1),(0,0)) & q((0,1),(1,0)) & q((0,1),(2,0)) & q((0,1),(0,1)) & q((0,1),(1,1)) & q((0,1),(2,1)) \\\\\n",
    "  q((1,1),(0,0)) & q((1,1),(1,0)) & q((1,1),(2,0)) & q((1,1),(0,1)) & q((1,1),(1,1)) & q((1,1),(2,1)) \\\\\n",
    "  q((2,1),(0,0)) & q((2,1),(1,0)) & q((2,1),(2,0)) & q((2,1),(0,1)) & q((2,1),(1,1)) & q((2,1),(2,1)) \\\\  \n",
    "\\end{array} \\right]$$\n",
    "\n",
    "where $q(s_1, s_2)$ is the probability of moving from state $s_1$ to state $s_2$ in one step.\n",
    "\n",
    "**For example:**  If Dan is currently at $(1,0)$, then:\n",
    "* $q((1,0),(0,0))=0.6$\n",
    "* $q((1,0),(2,0))=0.2$\n",
    "* $q((1,0),(1,1))=0.2$\n",
    "* $q((1,0),(0,1))=q((1,0),(2,1))=0$\n",
    "* $q((1,0),(1,0))=0$ because Dan must move somewhere.\n",
    "\n",
    "This row is already filled in for you.\n",
    "\n",
    "Finish filling in the rest of the transition probability matrices below for each of Chris and Dan."
   ]
  },
  {
   "cell_type": "code",
   "execution_count": null,
   "metadata": {
    "collapsed": true
   },
   "outputs": [],
   "source": [
    "T_dan = np.array([[   ,    ,    ,    ,    ,    ],\n",
    "                  [0.6, 0  , 0.2, 0  , 0.2, 0  ],\n",
    "                  [   ,    ,    ,    ,    ,    ],\n",
    "                  [   ,    ,    ,    ,    ,    ],\n",
    "                  [   ,    ,    ,    ,    ,    ],\n",
    "                  [   ,    ,    ,    ,    ,    ]])\n",
    "\n",
    "T_chris = np.array([[   ,    ,    ,    ,    ,    ],\n",
    "                    [   ,    ,    ,    ,    ,    ],\n",
    "                    [   ,    ,    ,    ,    ,    ],\n",
    "                    [   ,    ,    ,    ,    ,    ],\n",
    "                    [   ,    ,    ,    ,    ,    ],\n",
    "                    [   ,    ,    ,    ,    ,    ]])"
   ]
  },
  {
   "cell_type": "code",
   "execution_count": 388,
   "metadata": {
    "collapsed": true
   },
   "outputs": [],
   "source": [
    "# Solution:\n",
    "\n",
    "T_dan = np.array([[0  , 0.5, 0  , 0.5, 0  , 0  ],\n",
    "                  [0.6, 0  , 0.2, 0  , 0.2, 0  ],\n",
    "                  [0  , 0.6, 0  , 0  , 0  , 0.4],\n",
    "                  [0.5, 0  , 0  , 0  , 0.5, 0  ],\n",
    "                  [0  , 0.2, 0  , 0.6, 0  , 0.2],\n",
    "                  [0  , 0  , 0.4, 0  , 0.6, 0  ]])\n",
    "\n",
    "\n",
    "T_chris = np.array([[0  , 0.5, 0  , 0.5, 0  , 0  ],\n",
    "                    [1/3, 0  , 1/3, 0  , 1/3, 0  ],\n",
    "                    [0  , 0.5, 0  , 0  , 0  , 0.5],\n",
    "                    [0.5, 0  , 0  , 0  , 0.5, 0  ],\n",
    "                    [0  , 1/3, 0  , 1/3, 0  , 1/3],\n",
    "                    [0  , 0  , 0.5, 0  , 0.5, 0  ]])"
   ]
  },
  {
   "cell_type": "markdown",
   "metadata": {},
   "source": [
    "Use your transition probability matrices to estimate the probabilities (independently) that each of Chris and Dan will be at Taco Bell in 2 moves, given that they starts at $(0,0)$."
   ]
  },
  {
   "cell_type": "code",
   "execution_count": 411,
   "metadata": {},
   "outputs": [
    {
     "name": "stdout",
     "output_type": "stream",
     "text": [
      "Dan probability = 0.3500\n",
      "Chris probability = 0.4167\n"
     ]
    }
   ],
   "source": [
    "# Solution:\n",
    "\n",
    "print('Dan probability = {:0.4f}'.format(np.linalg.matrix_power(T_dan, 2)[0][4]))\n",
    "print('Chris probability = {:0.4f}'.format(np.linalg.matrix_power(T_chris, 2)[0][4]))"
   ]
  },
  {
   "cell_type": "markdown",
   "metadata": {},
   "source": [
    "What is the probability that either are at Taco Bell after 3 moves, if they start from $(0,0)$?  Why is this?"
   ]
  },
  {
   "cell_type": "markdown",
   "metadata": {},
   "source": [
    "**Solution:**\n",
    "\n",
    "Say anything about parity, and/or that Chris and Dan must keep moving and can only be at Taco Bell after an **even** number of moves."
   ]
  },
  {
   "cell_type": "markdown",
   "metadata": {},
   "source": [
    "<a/ id='p3g'></a>\n",
    "\n",
    "### (3g)\n",
    "\n",
    "If Chris and Dan both spend all of their time walking around and eating at Taco Bell, what is the long-run proportion of Chris and Dan's time that each will spend at Taco Bell?  That is, if you run the random walk simulation for a very, very long time, what is your estimate for the proportion of states in the Markov chain that are at Taco Bell?\n",
    "\n",
    "First, estimate these probabilities using long Markov chain random walk simulations for each of Chris and Dan. About 100,000 moves should be enough to stabilize your estimates."
   ]
  },
  {
   "cell_type": "code",
   "execution_count": 433,
   "metadata": {},
   "outputs": [
    {
     "name": "stdout",
     "output_type": "stream",
     "text": [
      "Dan probability of being at Taco Bell = 0.1987\n",
      "Chris probability of being at Taco Bell = 0.2150\n"
     ]
    }
   ],
   "source": [
    "# Solution:\n",
    "\n",
    "taco_bell = (1,1)\n",
    "nh = Neighborhood(n_eastwest=2, n_northsouth=3, taco_bell=taco_bell)\n",
    "n_step = 100000\n",
    "tacos = 0\n",
    "dan = AgentDan('Dan', (0,0), nh)\n",
    "for n in range(n_step):\n",
    "    dan.walk(dan.sortof_random_move())\n",
    "    if dan.at_taco_bell():\n",
    "        tacos += 1\n",
    "\n",
    "print('Dan probability of being at Taco Bell = {:0.4f}'.format(tacos/n_step))\n",
    "\n",
    "\n",
    "tacos = 0\n",
    "chris = Agent('Chris', (0,0), nh)\n",
    "for n in range(n_step):\n",
    "    chris.walk(chris.random_move())\n",
    "    if chris.at_taco_bell():\n",
    "        tacos += 1\n",
    "\n",
    "print('Chris probability of being at Taco Bell = {:0.4f}'.format(tacos/n_step))"
   ]
  },
  {
   "cell_type": "markdown",
   "metadata": {},
   "source": [
    "Now estimate these probabilities using your transition probability matrices.  You should notice something a little bit strange when you compare these results against those from the simulations above.  Provide a couple sentences interpreting these results."
   ]
  },
  {
   "cell_type": "code",
   "execution_count": 424,
   "metadata": {},
   "outputs": [
    {
     "name": "stdout",
     "output_type": "stream",
     "text": [
      "Dan transitions after 1000 steps:\n",
      "[[ 0.47368421  0.          0.13157895  0.          0.39473684  0.        ]\n",
      " [ 0.          0.39473684  0.          0.47368421  0.          0.13157895]\n",
      " [ 0.47368421  0.          0.13157895  0.          0.39473684  0.        ]\n",
      " [ 0.          0.39473684  0.          0.47368421  0.          0.13157895]\n",
      " [ 0.47368421  0.          0.13157895  0.          0.39473684  0.        ]\n",
      " [ 0.          0.39473684  0.          0.47368421  0.          0.13157895]]\n",
      "\n",
      "Dan transitions after 1001 steps:\n",
      "[[ 0.          0.39473684  0.          0.47368421  0.          0.13157895]\n",
      " [ 0.47368421  0.          0.13157895  0.          0.39473684  0.        ]\n",
      " [ 0.          0.39473684  0.          0.47368421  0.          0.13157895]\n",
      " [ 0.47368421  0.          0.13157895  0.          0.39473684  0.        ]\n",
      " [ 0.          0.39473684  0.          0.47368421  0.          0.13157895]\n",
      " [ 0.47368421  0.          0.13157895  0.          0.39473684  0.        ]]\n"
     ]
    }
   ],
   "source": [
    "# Solution:\n",
    "\n",
    "print('Dan transitions after 1000 steps:')\n",
    "print(np.linalg.matrix_power(T_dan, 1000))\n",
    "print('')\n",
    "print('Dan transitions after 1001 steps:')\n",
    "print(np.linalg.matrix_power(T_dan, 1001))"
   ]
  },
  {
   "cell_type": "markdown",
   "metadata": {},
   "source": [
    "**Solution:** Dan and Chris can only get to Taco Bell with an ***even*** number of moves.  Thus, half of the transition probabilities from somewhere to Taco Bell are 0, and the result from the simulations is the ***mean*** of the column of the transition probability matrices (raised to a power large enough to have reached the stationary distribution), which is the 5th column.\n",
    "\n",
    "I'm happy if you say anything consistent with the proper interpretation of the $n^{th}$ power of a transition probability matrix.  That is, **IF** Dan starts in a state \"with the same parity as Taco Bell\" (one where Taco Bell is accessible in $n$ moves), then probability he is at Taco Bell after $n$ moves is about 39%. Since you do not have a prior distribution for the initial states for Chris and Dan, you cannot say for sure what the exact long-run probability is. But if all states were equally likely, then it would be these entires/2, or **exactly what we got above from sampling!**\n",
    "\n",
    "Really, we should be using the law of total probability to estimate $P(TB)$, conditioned on our starting state, $s_0$:\n",
    "\n",
    "$\\begin{align*} P(TB) &= P(TB \\mid s_0=(0,0)) P(s_0 = (0,0)) + P(TB \\mid s_0=(0,1)) P(s_0 = (0,1)) + P(TB \\mid s_0=(1,0)) P(s_0 = (1,0)) + P(TB \\mid s_0=(1,1)) P(s_0 = (1,1)) + P(TB \\mid s_0=(2,0)) P(s_0 = (2,0)) + P(TB \\mid s_0=(2,1)) P(s_0 = (2,1)) \\\\\n",
    "\\end{align*}$"
   ]
  },
  {
   "cell_type": "markdown",
   "metadata": {
    "collapsed": true
   },
   "source": [
    "<br><br><br>\n",
    "\n",
    "<a id='helpers'></a>\n",
    "\n",
    "---\n",
    "\n",
    "[Back to top](#top)\n",
    "\n",
    "## Some things that might be useful\n",
    "\n",
    "Easiest way to start:  Click this cell, go to \"Cell\" in the toolbar above, and click \"Run All Below\""
   ]
  },
  {
   "cell_type": "code",
   "execution_count": 49,
   "metadata": {
    "collapsed": true
   },
   "outputs": [],
   "source": [
    "from scipy import stats\n",
    "import unittest\n",
    "import numpy as np\n",
    "import pandas as pd\n",
    "import matplotlib.pyplot as plt"
   ]
  },
  {
   "cell_type": "markdown",
   "metadata": {},
   "source": [
    "## Unit tests"
   ]
  },
  {
   "cell_type": "code",
   "execution_count": 394,
   "metadata": {
    "collapsed": true
   },
   "outputs": [],
   "source": [
    "class Tests_Problem1(unittest.TestCase):\n",
    "    def setUp(self):\n",
    "        self.p1 = BayesNode('p1', '', [T,F], 0.3)\n",
    "        self.p2 = BayesNode('p2', '', [T,F], 0.6)\n",
    "        self.c  = BayesNode('c', ['p1', 'p2'], [T,F], {(T,T):0.1, (T,F):0.2, (F,T):0.3, (F,F):0.4})\n",
    "    def test_onenode(self):\n",
    "        self.assertEqual(P(self.p1, T), 0.3)\n",
    "    def test_twonode(self):\n",
    "        self.assertEqual(P(self.c, F, {'p1':T, 'p2':F}), 0.8)\n",
    "        \n",
    "class Tests_Problem3(unittest.TestCase):\n",
    "    def test_moves_corner(self):\n",
    "        nh = Neighborhood(2,2, (1,1))\n",
    "        chris = Agent('Chris', (0,0), nh)\n",
    "        self.assertTrue(((1,0) in chris.available_moves()) and ((0,1) in chris.available_moves()))\n",
    "    def test_moves_center(self):\n",
    "        nh = Neighborhood(3,3, (1,1))\n",
    "        chris = Agent('Chris', (1,1), nh)\n",
    "        self.assertTrue(((1,0) in chris.available_moves()) and ((0,1) in chris.available_moves()) and\n",
    "                        ((1,2) in chris.available_moves()) and ((2,1) in chris.available_moves()))\n",
    "    def test_tacos(self):\n",
    "        nh = Neighborhood(3,3, (1,1))\n",
    "        chris = Agent('Chris', (1,1), nh)\n",
    "        self.assertTrue(chris.at_taco_bell())"
   ]
  },
  {
   "cell_type": "markdown",
   "metadata": {},
   "source": [
    "[Back to top](#top)"
   ]
  }
 ],
 "metadata": {
  "kernelspec": {
   "display_name": "Python 3",
   "language": "python",
   "name": "python3"
  },
  "language_info": {
   "codemirror_mode": {
    "name": "ipython",
    "version": 3
   },
   "file_extension": ".py",
   "mimetype": "text/x-python",
   "name": "python",
   "nbconvert_exporter": "python",
   "pygments_lexer": "ipython3",
   "version": "3.6.1"
  }
 },
 "nbformat": 4,
 "nbformat_minor": 2
}
