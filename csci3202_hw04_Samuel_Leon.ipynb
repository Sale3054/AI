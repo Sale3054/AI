{
 "cells": [
  {
   "cell_type": "markdown",
   "metadata": {},
   "source": [
    "<a id='top'></a>\n",
    "\n",
    "# CSCI 3202, Spring 2018\n",
    "# Assignment 4\n",
    "# Due:  Friday 23 March 2018 by 12:00 PM\n",
    "\n",
    "<br>\n",
    "\n",
    "### Your name:\n",
    "\n",
    "<br>\n",
    "\n",
    "**Note:** Some packages to load, helper functions and unit tests are defined at [the bottom of this notebook](#helpers)\n",
    "\n",
    "Shortcuts:  [top](#top) || [1](#p1) | [1a](#p1a) | [1b](#p1b) | [1c](#p1c) | [1d](#p1d) | [1e](#p1e) | [1f](#p1f) | [1g](#p1g) | [1h](#p1h) || [2](#p2) | [2a](#p2a) | [2b](#p2b) | [2c](#p2c) | [2d](#p2d) | [2e](#p2e) || [3](#p3) | [3a](#p3a) | [3b](#p3b) | [3c](#p3c) | [3d](#p3d) | [3e](#p3e) || [helpers](#helpers)\n",
    "\n",
    "**Before you begin:** You will also need to download a few data sets from the Piazza page, under the Resources tab.\n",
    "1. data_sealevel.csv\n",
    "1. data_temperature.csv\n",
    "1. data_socks.csv"
   ]
  },
  {
   "cell_type": "markdown",
   "metadata": {},
   "source": [
    "---\n",
    "\n",
    "<a id='p1'></a>[Back to top](#top)\n",
    "\n",
    "## Problem 1:  Calibrating a model for global mean sea level changes\n",
    "\n",
    "<img src=\"http://www.anthropocenemagazine.org/wp-content/uploads/2017/05/future-sea-levels.jpg\" width=\"250\">\n",
    "\n",
    "<a id='p1a'></a>\n",
    "\n",
    "### (1a) Load and plot some data.\n",
    "\n",
    "Let's load a couple data sets.  One is a data set of global mean sea levels, and the other is a data set of global mean temperatures:\n",
    "* `sealevel` will be a list of global mean sea levels (millimeters)\n",
    "* `sealevel_sigma` will be a list of the *uncertainty* in global mean sea levels (millimeters), and\n",
    "* `temperature` will be a list of global mean temperatures (degrees Celsius).\n",
    "\n",
    "Note that depending on where you save these CSV data files, you may need to change the file names below in the `pd.read_csv` function calls to reflect the proper paths."
   ]
  },
  {
   "cell_type": "code",
   "execution_count": 219,
   "metadata": {},
   "outputs": [],
   "source": [
    "year = []\n",
    "sealevel = []\n",
    "sealevel_sigma = []\n",
    "temperature = []\n",
    "\n",
    "dfSealevel = pd.read_csv(\"data_sealevel.csv\")\n",
    "dfTemperature = pd.read_csv(\"data_temperature.csv\")\n",
    "\n",
    "# We aren't doing any heavy-duty stats stuff, so let's just keep what we need as regular lists\n",
    "year = dfSealevel[\"year\"].tolist()\n",
    "sealevel = dfSealevel[\"sealevel\"].tolist()\n",
    "sealevel_sigma = dfSealevel[\"uncertainty\"].tolist()\n",
    "temperature = dfTemperature[\"temperature\"].tolist()"
   ]
  },
  {
   "cell_type": "markdown",
   "metadata": {},
   "source": [
    "**Check** to make sure (1) temperature, year and sea level time series are all the same length and period; (2) data need to be properly *normalized* against some reference period. In climate science, often the years 1961-1990 are used as the reference period.  So conduct a check to make sure that the mean sea level and mean global mean temperature for the 1961-1990 (inclusive) period are both 0."
   ]
  },
  {
   "cell_type": "code",
   "execution_count": 220,
   "metadata": {},
   "outputs": [
    {
     "name": "stdout",
     "output_type": "stream",
     "text": [
      "True\n",
      "Sealevel mean:  0\n",
      "Temperature mean:  0\n",
      "True\n"
     ]
    }
   ],
   "source": [
    "#Check length\n",
    "print(len(temperature) == len(year) == len(sealevel))\n",
    "\n",
    "dfSealevel_qualified = dfSealevel[(dfSealevel[\"year\"] >= 1961) & (dfSealevel[\"year\"] <= 1990)]\n",
    "dfTemperature_qualified = dfTemperature[(dfTemperature[\"year\"] >= 1961) & (dfTemperature[\"year\"] <= 1990)]\n",
    "print(\"Sealevel mean: \", round(dfSealevel_qualified[\"sealevel\"].mean()))\n",
    "print(\"Temperature mean: \", round(dfTemperature_qualified[\"temperature\"].mean()))\n",
    "                                  \n",
    "print(len(temperature) == len(year))\n",
    "\n"
   ]
  },
  {
   "cell_type": "markdown",
   "metadata": {},
   "source": [
    "Plot the data points as a scatter plots, and plot them side-by-side-by-side (one row, three columns of figures). The point here is learn how to customize your figures a bit more, and also because computer screens are (typically) wider than they are tall."
   ]
  },
  {
   "cell_type": "code",
   "execution_count": 221,
   "metadata": {
    "scrolled": false
   },
   "outputs": [
    {
     "data": {
      "image/png": "[encoded data removed]",
      "text/plain": [
       "<matplotlib.figure.Figure at 0x18e61fd2dd8>"
      ]
     },
     "metadata": {},
     "output_type": "display_data"
    }
   ],
   "source": [
    "plt.subplots(1, 3, figsize = (18,4))\n",
    "ax1 = plt.subplot(131)\n",
    "ax2 = plt.subplot(132)\n",
    "ax3 = plt.subplot(133)\n",
    "\n",
    "plt1 = plt.subplot(1,3,1)\n",
    "\n",
    "plt.title(\"Year vs. Temperature\")\n",
    "ax1.set_xlabel(\"Year\")\n",
    "ax1.set_ylabel(\"Temperature\")\n",
    "plt.scatter(dfTemperature_qualified['year'], dfTemperature_qualified['temperature'])\n",
    "\n",
    "plt.subplot(1,3,2)\n",
    "plt.title(\"Year vs. Sealevel\")\n",
    "ax2.set_xlabel(\"Year\")\n",
    "ax2.set_ylabel(\"Sealevel\")\n",
    "plt.scatter(dfSealevel_qualified['year'], dfSealevel_qualified['sealevel'])\n",
    "\n",
    "plt.subplot(1,3,3)\n",
    "plt.title(\"Year vs. Uncertainty\")\n",
    "ax3.set_xlabel(\"Year\")\n",
    "ax3.set_ylabel(\"Uncertainty\")\n",
    "plt.scatter(dfSealevel_qualified['year'], dfSealevel_qualified['uncertainty'])\n",
    "\n",
    "plt.tight_layout()\n",
    "plt.show()"
   ]
  },
  {
   "cell_type": "markdown",
   "metadata": {},
   "source": [
    "**Question:** How does the uncertainty in global mean sea levels change as a function of time?  When is the uncertainty the highest?  Give one reason why you think this might be the case."
   ]
  },
  {
   "cell_type": "markdown",
   "metadata": {},
   "source": [
    "**Your answer:**"
   ]
  },
  {
   "cell_type": "markdown",
   "metadata": {
    "collapsed": true
   },
   "source": [
    "The methods of taking measurements has probably improved over time, and they've taken more readings over time, so it's easier to ascertain the accuracy of a measurement as there is a wide base of measurements to make comparisons against. As expected, observing the graph, there is a general downward curve towards a lower level uncertainty."
   ]
  },
  {
   "cell_type": "markdown",
   "metadata": {},
   "source": [
    "Likewise, it is possible that larger changes in overall global norms lead to some uncertainty in our answers and measurements during the associated time frame (around 1970) wherein the data was most askew."
   ]
  },
  {
   "cell_type": "markdown",
   "metadata": {},
   "source": [
    "<br>\n",
    "\n",
    "<a id='p1b'></a>\n",
    "\n",
    "### (1b)  The \"out-of-box\" sea-level model\n",
    "\n",
    "In your plot from **(1a)**, you should see quite an apparent relationship between increasing temperatures and rising sea levels.  Seeems like someone should try to model the relationship between those two, huh?\n",
    "\n",
    "In the [helper functions below](#helpers), a simple model for temperature-driven changes in global mean sea level (GMSL) is defined. This is the model of [Rahmstorf (2007)](http://science.sciencemag.org/content/315/5810/368).\n",
    "\n",
    "The `slr` model takes two parameters, $\\alpha$ and $T_{eq}$, and requires a time series of global mean temperatures: `slr(alpha, Teq, temperature)`.\n",
    "* `alpha` is the sensitivity of sea-level changes to changes in global temperature. The units for $\\alpha$ are millimeters of sea-level changes per year, or mm y$^{-1}$.\n",
    "* `Teq` is the equilibrium global mean temperature, with units of degrees Celsius.\n",
    "* `temperature` is the time series of global mean surface temperatures, assumed to be relative to the 1961-1990 mean. We read a temperature data set above, which we will use for this input.\n",
    "\n",
    "For now, you do not need to worry too much about how this model works.  It is very simple, and widely used, but the point here is that you can plug in a particular set of temperatures (the model **forcing**) and parameters ($\\alpha$ and $T_{eq}$), and out pops a time series of simulated global mean sea levels.\n",
    "\n",
    "**Our goal:**  pick good values for $\\alpha$ and $T_{eq}$, so that when we run the `slr` model using the observations of temperature (which we plotted above), the model output matches well the observations of global mean sea level (which we also plotted above).\n",
    "\n",
    "The whole process of figuring out what these good parameter values are is called **model calibration**, and it's awesome.  Let's have a look at why we need to do any calibration in the first place, shall we?\n",
    "\n",
    "The default parameter choices given in the Rahmstorf (2007) paper are $\\alpha=3.4$ mm y$^{-1}$ and $T_{eq} = -0.5\\ ^{\\circ}$C.\n",
    "\n",
    "Make a plot that contains:\n",
    "* the observed sea level data as scatter points\n",
    "* the modeled sea levels as a line, using the temperature observations from above as the `temperature` input\n",
    "* an appropriate legend and axis labels\n",
    "* $x$ axis is years\n",
    "* $y$ axis is sea level\n",
    "\n",
    "Note that after you run the `slr` model, you will need to **normalize** the output relative to the 1961-1990 reference period.  That is because you are going to compare it against data that is also normalized against this reference period. The `years` that correspond to the model output should be the same as the `years` that correspond to the `temperature` input."
   ]
  },
  {
   "cell_type": "code",
   "execution_count": 229,
   "metadata": {},
   "outputs": [
    {
     "name": "stdout",
     "output_type": "stream",
     "text": [
      "-3.34059298742e-11\n"
     ]
    },
    {
     "data": {
      "image/png": "[encoded data removed]",
      "text/plain": [
       "<matplotlib.figure.Figure at 0x18e00add7f0>"
      ]
     },
     "metadata": {},
     "output_type": "display_data"
    }
   ],
   "source": [
    "pd.options.mode.chained_assignment = None\n",
    "\n",
    "adjusted_levels = slr(3.4, -0.5, temperature)\n",
    "year_norm = []\n",
    "adjusted_norm = []\n",
    "sea_level_norm = []\n",
    "\n",
    "for i in range(len(year)):\n",
    "    if year[i] <= 1990 and year[i] >= 1961:\n",
    "        year_norm.append(year[i])\n",
    "        adjusted_norm.append(adjusted_levels[i])\n",
    "        sea_level_norm.append(sealevel[i])\n",
    "for i in range(len(adjusted_norm)):\n",
    "    adjusted_norm[i] += 49.4698233333\n",
    "    \n",
    "plt.subplots(figsize = (14, 8))\n",
    "plt.title(\"Year vs. Sea level\")\n",
    "plt.xlabel(\"Year\")\n",
    "plt.ylabel(\"Sea level\")\n",
    "plt.scatter(year_norm, sea_level_norm)\n",
    "plt.scatter(year_norm, adjusted_norm)\n",
    "\n",
    "adjusted_mean = np.mean(adjusted_levels)\n",
    "\n",
    "\n",
    "print(np.mean(adjusted_norm))\n",
    "plt.show()"
   ]
  },
  {
   "cell_type": "markdown",
   "metadata": {},
   "source": [
    "Your plot above ought to show decent match for the late 1900s, but diverge a bit further back in time.\n",
    "\n",
    "**The point:**  We can do better than this \"out-of-the-box\" version of the Rahmstorf sea level model."
   ]
  },
  {
   "cell_type": "markdown",
   "metadata": {},
   "source": [
    "The lines roughly overlap and they are as close to zero as I can reach, and thus have been normalized."
   ]
  },
  {
   "cell_type": "markdown",
   "metadata": {},
   "source": [
    "<br>\n",
    "\n",
    "<a/ id='p1c'></a>\n",
    "\n",
    "### (1c)   Figuring out our objective function\n",
    "\n",
    "As our **objective function**, we will use the joint likelihood function of the observed sea level data, given the model simulation.  For a single data point $y_i$ in year $i$, with associated uncertainty $\\sigma_i$, we can assume the likelihood for our model simulation in year $i$, $\\eta_i$, follows a normal distribution centered at the data point ($y_i$) and with standard deviation given by the associated uncertainty ($\\sigma_i$).  The model simulation is a **deterministic** result of our parameter choices $\\alpha$ and $T_{eq}$, so we write the likelihood as:\n",
    "\n",
    "$$L(y_i \\mid \\alpha, T_{eq}) = \\dfrac{1}{\\sqrt{2 \\pi} \\sigma_i} e^{-\\dfrac{(\\eta_i(\\alpha, T_{eq}) - y_i)^2}{2\\sigma_i^2}}$$\n",
    "\n",
    "But that only uses a single data point.  Let's use all the data!  The **joint likelihood** is the product of all of the likelihoods associated with the individual data points.\n",
    "\n",
    "$$L(\\mathbf{y} \\mid \\alpha, T_{eq}) = \\prod_{i=1}^N L(y_i \\mid \\alpha, T_{eq})$$\n",
    "\n",
    "However, this joint likelihood is the product of a lot of numbers that are less than 1, so it will be **tiny**.  Instead, we should try to optimize the **joint log-likelihood**, which is simply the (natural) logarithm of the joint likelihood function.\n",
    "\n",
    "$$l(\\mathbf{y} \\mid \\alpha, T_{eq}) = \\log{(L(y \\mid \\alpha, T_{eq}))}$$\n",
    "\n",
    "**Show** (using math) that if we assume the observational data ($y_i$) are all independent, then the joint log-likelihood is:\n",
    "\n",
    "$$l(\\mathbf{y} \\mid \\alpha, T_{eq}) =  -\\dfrac{N}{2} \\log{(2\\pi)} - \\sum_{i=1}^N \\log{(\\sigma_i)} - \\dfrac{1}{2}\\sum_{i=1}^N \\left( \\dfrac{\\eta_i(\\alpha, T_{eq}) - y_i}{\\sigma_i} \\right)^2$$\n",
    "\n",
    "where, $\\mathbf{y} = [y_1, y_2, \\ldots, y_N]$ is the entire vector (list) of sea level observations, $\\eta(\\alpha, T_{eq}) = [\\eta_1(\\alpha, T_{eq}), \\eta_2(\\alpha, T_{eq}), \\ldots, \\eta_N(\\alpha, T_{eq})]$ is the entire vector (list) of `slr` model output when the parameter values $\\alpha$ and $T_{eq}$ are used, and $N$ is the number of observations we have.\n",
    "\n",
    "**Note:** Yes, I'm mixing the typical indexing of $1-N$ with what you'll need to implement, which is the Pythonic $0-(N-1)$. Keep this in mind as you code."
   ]
  },
  {
   "cell_type": "markdown",
   "metadata": {
    "collapsed": true
   },
   "source": [
    "# Show using nice LateX/Markdown formatting...\n",
    "\n",
    "$$L(\\mathbf{y} \\mid \\alpha, T_{eq}) = \\prod_{i=1}^N L(y_i \\mid \\alpha, T_{eq}) = \\dfrac{1}{\\sqrt{2 \\pi} \\sigma_1} e^{-\\dfrac{(\\eta_1(\\alpha, T_{eq}) - y_1)^2}{2\\sigma_1^2}} * \\dfrac{1}{\\sqrt{2 \\pi} \\sigma_2} e^{-\\dfrac{(\\eta_2(\\alpha, T_{eq}) - y_2)^2}{2\\sigma_2^2}} * ... \\dfrac{1}{\\sqrt{2 \\pi} \\sigma_i} e^{-\\dfrac{(\\eta_i(\\alpha, T_{eq}) - y_i)^2}{2\\sigma_i^2}}  $$\n",
    "\n",
    "\n",
    "$$l(\\mathbf{y} \\mid \\alpha, T_{eq}) = \\log{(L(y \\mid \\alpha, T_{eq}))}$$\n",
    "\n",
    "$$ \\log{(L(y \\mid \\alpha, T_{eq}))} = log(\\prod_{i=1}^N L(y_i \\mid \\alpha, T_{eq})) = log(\\dfrac{1}{\\sqrt{2 \\pi} \\sigma_1} e^{-\\dfrac{(\\eta_1(\\alpha, T_{eq}) - y_1)^2}{2\\sigma_1^2}} * \\dfrac{1}{\\sqrt{2 \\pi} \\sigma_2} e^{-\\dfrac{(\\eta_2(\\alpha, T_{eq}) - y_2)^2}{2\\sigma_2^2}} * ... \\dfrac{1}{\\sqrt{2 \\pi} \\sigma_i} e^{-\\dfrac{(\\eta_i(\\alpha, T_{eq}) - y_i)^2}{2\\sigma_i^2}}) $$\n",
    "\n",
    "\n",
    "$$l(\\mathbf{y} \\mid \\alpha, T_{eq}) =  -\\dfrac{N}{2} \\log{(2\\pi)} - \\log{(\\sigma_1)} - \\left( \\dfrac{\\eta_1(\\alpha, T_{eq}) - y_1}{\\sigma_1} \\right)^2 -\\dfrac{N}{2} \\log{(2\\pi)} - \\log{(\\sigma_2)} - \\dfrac{1}{2}\\left( \\dfrac{\\eta_2(\\alpha, T_{eq}) - y_2}{\\sigma_2} \\right)^2 + ... + -\\dfrac{N}{2} \\log{(2\\pi)} - \\log{(\\sigma_i)} - \\dfrac{1}{2}\\left( \\dfrac{\\eta_i(\\alpha, T_{eq}) - y_i}{\\sigma_i} \\right)^2$$\n",
    "\n",
    "\n",
    "$$ l(\\mathbf{y} \\mid \\alpha, T_{eq}) = -\\dfrac{N}{2} \\log{(2\\pi)} - \\sum_{i=1}^N \\log{(\\sigma_i)} - \\dfrac{1}{2}\\sum_{i=1}^N \\left( \\dfrac{\\eta_i(\\alpha, T_{eq}) - y_i}{\\sigma_i} \\right)^2$$"
   ]
  },
  {
   "cell_type": "markdown",
   "metadata": {},
   "source": [
    "<br>\n",
    "\n",
    "<a/ id='p1d'></a>\n",
    "\n",
    "### (1d)   Defining our objective function\n",
    "\n",
    "Now define a `log_likelihood(parameters, obs_temp, obs_mu, obs_sigma)` function:\n",
    "* `parameters`: argument that is a list of two parameter values, $[\\alpha, T_{eq}]$\n",
    "  * within the likelihood function, you will need to generate the model simulation $\\eta(\\alpha, T_{eq})$ using the input `parameters`, for comparison against the observational data\n",
    "* `obs_temp`: argument that is a time series (list) of observed global mean temperatures, that will be used to run the `slr` model. Provide a default value of `temperature` for this, because we only have one temperature data set to use, and we don't want to keep typing out inputs for this.\n",
    "* `obs_mu`: argument that is a time series (list) of observed values, that will be used for comparison against the `model` output. Provide a default value of `sealevel` here, again because we won't be changing the observational data.\n",
    "* `obs_sigma`: argument that is a time series (list) of the corresponding uncertainties in the observational data. Simiarly, provide a default value of `sealevel_sigma` here.\n",
    "* all three of these `obs_*` inputs should be lists, and should be the same length\n",
    "* this routine should return a **single** float number, that is the joint log-likelihood of the given `model` simulation.\n",
    "\n",
    "You may find the `scipy.stats` package to be useful here, or you can calculate this straight from the equation above."
   ]
  },
  {
   "cell_type": "code",
   "execution_count": 230,
   "metadata": {},
   "outputs": [],
   "source": [
    "def log_likelihood(parameters, obs_temp=temperature, obs_mu=sealevel, obs_sigma=sealevel_sigma):\n",
    "    v1, v2, v3 = 0, 0, 0\n",
    "    \n",
    "    v1 = len(obs_temp) / 2 * np.log(2*np.pi)\n",
    "    n_i = slr(parameters[0], parameters[1], obs_temp)\n",
    "    \n",
    "    for i in range(0, len(obs_temp)):\n",
    "        v2 = v2 + np.log(obs_sigma[i])\n",
    "        v3 = v3 + ((n_i[i] - obs_mu[i])/obs_sigma[i])**2\n",
    "        \n",
    "    v3 *= 0.5\n",
    "    \n",
    "    joint_log = -1 * (v1 + v2 + v3)\n",
    "    \n",
    "    return joint_log"
   ]
  },
  {
   "cell_type": "markdown",
   "metadata": {},
   "source": [
    "<br>\n",
    "\n",
    "<a/ id='p1e'></a>\n",
    "\n",
    "### (1e)  Playing with our shiny new objective function!\n",
    "\n",
    "Armed with our **log-likelihood** objective function, let's see what it looks like for various values of $\\alpha$, while keeping $T_{eq}$ fixed at its default value ($T_{eq}=-0.5$). Try a variety of $\\alpha$ values. Use a wide enough range that you can tell what the behavior of the $\\alpha$-log-likelihood relationship is from a plot of the two (below).\n",
    "\n",
    "Then, make a plot of the resulting log-likelihood values, as a function of the values for the $\\alpha$ parameter used. Label your axes appropriately."
   ]
  },
  {
   "cell_type": "code",
   "execution_count": 233,
   "metadata": {},
   "outputs": [
    {
     "data": {
      "image/png": "[encoded data removed]",
      "text/plain": [
       "<matplotlib.figure.Figure at 0x18e6270d5f8>"
      ]
     },
     "metadata": {},
     "output_type": "display_data"
    }
   ],
   "source": [
    "params = [0, -0.5]\n",
    "y_vals = []\n",
    "alpha = []\n",
    "\n",
    "for i in range(-1500, 2000):\n",
    "    val = i/50\n",
    "    params[0] = val\n",
    "    y_vals.append(val)\n",
    "    alpha.append(log_likelihood(params))\n",
    "\n",
    "plt.plot(y_vals, alpha)\n",
    "plt.title(\"Alpha vs. Log Likelihood\")\n",
    "plt.xlabel(\"Alpha\")\n",
    "plt.ylabel(\"Log Likelihood\")\n",
    "plt.show()"
   ]
  },
  {
   "cell_type": "markdown",
   "metadata": {},
   "source": [
    "Now explore a range of values around the default of $T_{eq}= -0.5 ^{\\circ}$C, while keeping the $\\alpha$ parameter constant at its default of 3.4 mm y$^{-1}$. Generate a plot of some test values of $T_{eq}$ against the resulting log-likelihood function values.  Label your axes."
   ]
  },
  {
   "cell_type": "code",
   "execution_count": 238,
   "metadata": {},
   "outputs": [
    {
     "data": {
      "image/png": "[encoded data removed]",
      "text/plain": [
       "<matplotlib.figure.Figure at 0x18e00aecfd0>"
      ]
     },
     "metadata": {},
     "output_type": "display_data"
    }
   ],
   "source": [
    "params = [3.4, 0]\n",
    "y_vals = []\n",
    "t_eq = []\n",
    "\n",
    "for i in range(-940, 1000):\n",
    "    params[1] = (-1 * i/50)\n",
    "    y_vals.append(-1*i/50)\n",
    "    t_eq.append(log_likelihood(params))\n",
    "    \n",
    "plt.plot(y_vals, t_eq)\n",
    "plt.title(\"T_eq vs. Log Likelihood\")\n",
    "plt.xlabel(\"T_eq\")\n",
    "plt.ylabel(\"Log Likelihood\")\n",
    "plt.show()"
   ]
  },
  {
   "cell_type": "markdown",
   "metadata": {},
   "source": [
    "**Reflection 1:** Write a sentence or two commenting on these two plots.  What do you think are the best values for $\\alpha$ and $T_{eq}$ (so far)?"
   ]
  },
  {
   "cell_type": "markdown",
   "metadata": {
    "collapsed": true
   },
   "source": [
    "Our overall objective, in a perfect world, is to get our Log Likelihood value to be equal to 0, as that would indicate a perfect model of our data. As a result, we are trying to minimize the value of Log Likelihood as we do not have a perfect model.\n",
    "\n",
    "In this case the best value for $\\alpha$ is in the band of 0 to 5, estimated at ~2.5\n",
    "Whereas, for $T_eq$, the best value would be between -5, and 5, estimated to be at ~ 0"
   ]
  },
  {
   "cell_type": "markdown",
   "metadata": {},
   "source": [
    "**Reflection 2:** How *likely* do values of $\\alpha < 0$  or $T_{eq} > 0$ appear to be?  If these values are implausible, what does that mean in terms of the sea level-temperature system that we are modeling?  You should talk about the actual physical system, not just vague statements like \"$\\alpha < 0$ looks improbable\".  While that statement is true, it is not very insightful."
   ]
  },
  {
   "cell_type": "markdown",
   "metadata": {
    "collapsed": true
   },
   "source": [
    "If we consider the definitions of our variables, wherein $\\alpha$ is the sensitivity of sea-level changes to changes in global temperature (in units of mm per year); and $T_{eq}$ is the equilibrium global mean temperature (units of degrees Celsius). \n",
    "\n",
    "In the case of $\\alpha$, it does not make much sense that our sea-levels would get lower as our temperature went up (to have a negatively correlated relationship), so $\\alpha$ < 0 seems highly implausible. Likewise, our data seems to support that a somewhat positive relationship is present (with a best guess value of $\\alpha$ estimated at 2.5).\n",
    "\n",
    "Similarly, in the case of $T_{eq}$, it would seem that our value would be best estimated at a slightly negative value (where our best guess was at 0). This makes sense, as the world has more cold places than it does warm ones. As a result, it seems unlikely that our data would be in a positive region, as that means the global mean would be much higher than it is."
   ]
  },
  {
   "cell_type": "markdown",
   "metadata": {},
   "source": [
    "**Reflection 3:** Based on your plots above, do you think one of hill-climbing or simulated annealing will work better than the other to find the global maximum in the objective function, or does it appear that either will find the optimum?"
   ]
  },
  {
   "cell_type": "markdown",
   "metadata": {
    "collapsed": true
   },
   "source": [
    "I suspect that Simulated Annealing should give better results (and by better, I mean, more accurate). This is due to the fact that Simulated Annealing, at least in concept, should be much better at dealing with turbulent sets of data. This is mostly due to the fact that the random restarts allow for the Annealer to deal with local optima much better than its hill climbing cousin.\n",
    "\n",
    "While accurate, the hill-climbing algorithm has a huge shortcoming when there are multiple hills close to one another and is very liable to get stuck."
   ]
  },
  {
   "cell_type": "markdown",
   "metadata": {},
   "source": [
    "<br>\n",
    "\n",
    "<a/ id='p1f'></a>\n",
    "\n",
    "### (1f)  Defining our class structure\n",
    "\n",
    "That exploration was a nice way to get a sense of how the $\\alpha$ and $T_{eq}$ parameters affect the quality of the model output, but it was not particularly rigorous. Let's apply our **hill-climbing** algorithm to this problem.\n",
    "\n",
    "Using our in-class activity as a guide, do the following:\n",
    "\n",
    "* Define a `State` class, with attributes for the parameter values (which define the state) and the objective function value of that state.\n",
    "* Define a `Problem_hillclimb` **sub-class** of the more general class `Problem`, with:\n",
    "  * ~~attributes for the current `State` (a `State` object), the `objective_function` (the log-likelihood defined above), and `stepsize`. You will need to play around to decide what an appropriate stepsize is. Keep in mind that you may need a different stepsize for each of $\\alpha$ and $T_{eq}$~~.\n",
    "  * ~~methods for `moves` (return the list of all possible moves from the current state) and `best_move` (return the move that maximizes the objective function)~~.\n",
    "  * ~~the `moves` available should be in proper 2-dimensional space.  Do **not** simply optimize one parameter, keeping the other fixed, then optimize the other parameter, while keeping the first fixed.  (*That method *can* work, but there are some theoretical issues that would need to be tackled, and we are not getting into that here.*) You are allowed to restrict yourself to movements along a grid, as long as you entertain steps in both the $\\alpha$ and the $T_{eq}$ directions~~.\n",
    "  * The `Problem` class should have everything in it that you might need to apply different optimization algorithms, while the `Problem_hillclimb` sub-class will have the methods and attributes specific to hill-climbing defined.\n",
    "* Define the `hill_climb` algorithm, with any necessary modifications (here, and in the above classes) for the new 2-dimensional state space.\n",
    "  * `hill_climb(problem, n_iter)`:  arguments are a `Problem_hillclimb` object and number of iterations, `n_iter`\n",
    "  * return a `State` that corresponds to the algorithm's guess at a global maximum\n",
    "\n",
    "Subject to the above constraints, you may implement these however you would like. **If you do not use a sub-class (properly), you will lose points.** "
   ]
  },
  {
   "cell_type": "code",
   "execution_count": 242,
   "metadata": {
    "collapsed": true
   },
   "outputs": [],
   "source": [
    "class State:\n",
    "    def __init__(self, value, obj_value):\n",
    "        self.value = value\n",
    "        self.obj_value = obj_value\n",
    "        self.log_list = []\n",
    "        self.alpha_list = []\n",
    "        self.teq_list = []"
   ]
  },
  {
   "cell_type": "code",
   "execution_count": 243,
   "metadata": {
    "collapsed": true
   },
   "outputs": [],
   "source": [
    "class problem:\n",
    "    def __init__(self, initial_state, objective_function, stepsize):\n",
    "        self.current_state = initial_state\n",
    "        self.objective_function = objective_function\n",
    "        self.stepsize = stepsize\n",
    "        \n",
    "    def moves(self):\n",
    "        # depend on self.current_state\n",
    "        poss_moves = []\n",
    "        #increase alpha, increase T_eq\n",
    "        poss_moves.append((self.current_state.value[0] + self.stepsize, self.current_state.value[1] + self.stepsize))\n",
    "        #increase alpha, decrease T_eq\n",
    "        poss_moves.append((self.current_state.value[0] + self.stepsize, self.current_state.value[1] - self.stepsize))\n",
    "        #decrease alpha, decrease T_eq\n",
    "        poss_moves.append((self.current_state.value[0] - self.stepsize, self.current_state.value[1] - self.stepsize))\n",
    "        #decrease alpha, increase T_eq\n",
    "        poss_moves.append((self.current_state.value[0] - self.stepsize, self.current_state.value[1] + self.stepsize))\n",
    "        #decrease alpha\n",
    "        poss_moves.append((self.current_state.value[0] - self.stepsize, self.current_state.value[1]))\n",
    "        #decrease T_eq\n",
    "        poss_moves.append((self.current_state.value[0], self.current_state.value[1] - self.stepsize))\n",
    "        #increase alpha\n",
    "        poss_moves.append((self.current_state.value[0] + self.stepsize, self.current_state.value[1]))\n",
    "        #increase T_eq\n",
    "        poss_moves.append((self.current_state.value[0], self.current_state.value[1] + self.stepsize))\n",
    "                \n",
    "        return(poss_moves)"
   ]
  },
  {
   "cell_type": "code",
   "execution_count": 244,
   "metadata": {
    "scrolled": false
   },
   "outputs": [
    {
     "name": "stdout",
     "output_type": "stream",
     "text": [
      "(1.9800000000001563, -0.9440000000000004) -465.227340339\n"
     ]
    }
   ],
   "source": [
    "class Problem_hillclimb(problem):\n",
    "    \n",
    "    def best_move(self):\n",
    "        poss_moves = self.moves()\n",
    "        # calc objective function value for each possible move\n",
    "        obj_func = [self.objective_function(move) for move in poss_moves]\n",
    "        # pick the best move\n",
    "        best = poss_moves[max(zip(obj_func, range(len(obj_func))))[1]]\n",
    "        return best\n",
    "    \n",
    "def hill_climb(problem, n_iter):\n",
    "    for t in range(n_iter):\n",
    "        problem.current_state.value = problem.best_move()\n",
    "        problem.current_state.obj_value = problem.objective_function(problem.current_state.value)\n",
    "    return problem\n",
    "    \n",
    "initial_state = State(value = (3.4, -0.5), obj_value = log_likelihood((3.4, 0.5))) \n",
    "\n",
    "log_problem = Problem_hillclimb(initial_state = initial_state, objective_function= log_likelihood, stepsize=0.001)\n",
    "\n",
    "out = hill_climb(log_problem, n_iter=5000)\n",
    "print(out.current_state.value, out.current_state.obj_value)\n",
    "vals = out.current_state.value\n",
    "\n",
    "alpha = vals[0]\n",
    "teq = vals[1]\n"
   ]
  },
  {
   "cell_type": "markdown",
   "metadata": {},
   "source": [
    "**Now:**\n",
    "1. define an initial state object, using the default values from Rahmstorf 2007 as a starting point.\n",
    "2. define a hill-climbing problem object, using this initial state, the joint log-likelihood objective function, and stepsize(s) of your choosing. (The stepsize(s) may require some playing around to find something you are happy with.)\n",
    "3. ***hill-climb!!!*** Use a number of iterations that you deem appropriate. \n",
    "\n",
    "Play around until you have a simulation that you are happy with.  Then:\n",
    "1. Print to screen the parameter values and corresponding log-likelihood value.\n",
    "2. Compare this calibrated log-likelihood value to the \"out-of-box\" model (above).\n",
    "3. Make a plot of:\n",
    "  * the sea level observations as scatter points\n",
    "  * the uncalibrated model as one line\n",
    "  * the calibrated model as another line (using a different color!)\n",
    "  * include axis labels and a legend\n",
    "  \n",
    "**\"Unit tests\":**\n",
    "* As a benchmark, make sure that your log-likelihood is *at least* -500.\n",
    "* Your calibrated (optimized) model simulation should be going pretty much straight through the data points.\n",
    "* Remember to normalize your model against the 1961-1990 reference period."
   ]
  },
  {
   "cell_type": "code",
   "execution_count": 245,
   "metadata": {},
   "outputs": [
    {
     "data": {
      "image/png": "[encoded data removed]",
      "text/plain": [
       "<matplotlib.figure.Figure at 0x18e62323fd0>"
      ]
     },
     "metadata": {},
     "output_type": "display_data"
    }
   ],
   "source": [
    "plt.subplots(1, 1, figsize = (18,4))\n",
    "calibrated = slr(alpha, teq, temperature)\n",
    "uncalibrated = slr(3.4, -0.5, temperature)\n",
    "plt.title(\"Models projected onto Sea level data\")\n",
    "plt.xlabel(\"Years\")\n",
    "plt.ylabel(\"Sea level\")\n",
    "plt.plot(year, calibrated, c = \"red\", label = \"Calibrated - Hillclimbing Algo.\")\n",
    "plt.scatter(year, sealevel, c = \"black\", label = \"Sea level\")\n",
    "plt.plot(year, uncalibrated, c = \"blue\", label = \"Uncalibrated - Base SLR model\")\n",
    "plt.legend()\n",
    "plt.show()"
   ]
  },
  {
   "cell_type": "code",
   "execution_count": 246,
   "metadata": {},
   "outputs": [
    {
     "name": "stdout",
     "output_type": "stream",
     "text": [
      "True\n",
      "-465.227340339\n"
     ]
    }
   ],
   "source": [
    "print(out.current_state.obj_value > -500 and out.current_state.obj_value < 0)\n",
    "print(out.current_state.obj_value)"
   ]
  },
  {
   "cell_type": "markdown",
   "metadata": {},
   "source": [
    "<br>\n",
    "\n",
    "<a/ id='p1g'></a>\n",
    "\n",
    "### (1g)  Simulated annealing\n",
    "\n",
    "Let's re-calibrate the `slr` model. This time, we will use **simulated annealing**. Again, using our in-class activity as a guide, do the following:\n",
    "\n",
    "* Continue to use your `State` class above.\n",
    "* Define a `Problem_annealing` sub-class of the `Problem` class, with:\n",
    "  * attributes for the current `State` (a `State` object), the `objective_function` (the log-likelihood defined above), and `stepsize`. You will need to play around to decide what an appropriate stepsize is. Keep in mind that you may need a different stepsize for each of $\\alpha$ and $T_{eq}$.\n",
    "  * a method for `random_move`, to pick a random move **by drawing from a multivariate normal distribution**.  You should use the `stepsize` attribute as the covariance (width) for this.\n",
    "* Define the `simulated_annealing` algorithm, with any necessary modifications (here, and in the above classes) for the new 2-dimensional state space.\n",
    "  * `simulated_annealing(problem, n_iter)`:  arguments are a `Problem_annealing` object and number of iterations, `n_iter`\n",
    "  * return a `State` that corresponds to the algorithm's guess at a global maximum, and corresponding objective function value\n",
    "\n",
    "Subject to the above constraints, you may implement these however you would like."
   ]
  },
  {
   "cell_type": "code",
   "execution_count": 251,
   "metadata": {},
   "outputs": [],
   "source": [
    "class problem:\n",
    "    def __init__(self, initial_state, objective_function, stepsize):\n",
    "        self.current_state = initial_state\n",
    "        self.objective_function = objective_function\n",
    "        self.stepsize = stepsize\n",
    "        \n",
    "class Problem_annealing(problem):\n",
    "    def random_move(self):\n",
    "        x = [[self.stepsize, 0], [0, self.stepsize]]\n",
    "        x = np.diag(np.diag(x))\n",
    "        return np.random.multivariate_normal((self.current_state.value[0], self.current_state.value[1]), x)\n",
    "\n",
    "def simulated_annealing(problem, n_iter):\n",
    "    for t in range(n_iter): \n",
    "        temp_scheduler = 5 / (t + 1) ** 0.5\n",
    "\n",
    "        move = problem.random_move()\n",
    "\n",
    "        delta_e = problem.objective_function(move) - problem.current_state.obj_value\n",
    "\n",
    "        probability = np.exp(delta_e/temp_scheduler)\n",
    "\n",
    "        if delta_e > 0 or np.random.choice((1,0), p = (probability, 1-probability)):\n",
    "            problem.current_state.value = move\n",
    "            problem.current_state.obj_value = problem.objective_function(move)\n",
    "\n",
    "    return problem.current_state\n"
   ]
  },
  {
   "cell_type": "markdown",
   "metadata": {},
   "source": [
    "**Now:**\n",
    "1. define an initial state object, using the default values from Rahmstorf 2007 as a starting point.\n",
    "2. define a simulated annealing problem object, using this initial state, the log-likelihood objective function, an appropriate temperature updating schedule and stepsize(s) of your choosing. (The stepsize(s) may require some playing around to find something you are happy with.)\n",
    "  * note that this \"temperature\" is distinct from the actual physical temperature used as input to drive the `slr` model\n",
    "3. ***anneal!!!*** Use a number of iterations that you deem appropriate. \n",
    "\n",
    "Play around until you have a simulation that you are happy with.  Then:\n",
    "1. Print to screen the parameter values and corresponding log-likelihood value.\n",
    "2. Compare this calibrated log-likelihood value to the \"out-of-box\" model (above).\n",
    "3. Make a plot of:\n",
    "  * the sea level observations as scatter points\n",
    "  * the uncalibrated model as one line\n",
    "  * the calibrated model as another line (using a different color!)\n",
    "  * include axis labels and a legend\n",
    "  \n",
    "**\"Unit tests\":**  How does your model look when you plot it against the data? If it doesn't look good, then you failed this unit test :("
   ]
  },
  {
   "cell_type": "code",
   "execution_count": 252,
   "metadata": {},
   "outputs": [
    {
     "name": "stdout",
     "output_type": "stream",
     "text": [
      "[ 1.93875664 -0.96120674] -465.235421052\n"
     ]
    }
   ],
   "source": [
    "initial_state = State(value = (3.4, -0.5), obj_value = log_likelihood((3.4, -0.5))) \n",
    "\n",
    "anull = Problem_annealing(initial_state, log_likelihood,0.001)\n",
    "\n",
    "out = simulated_annealing(anull, n_iter = 10000)\n",
    "print(out.value, out.obj_value)"
   ]
  },
  {
   "cell_type": "code",
   "execution_count": 253,
   "metadata": {},
   "outputs": [
    {
     "data": {
      "image/png": "[encoded data removed]",
      "text/plain": [
       "<matplotlib.figure.Figure at 0x18e003f6be0>"
      ]
     },
     "metadata": {},
     "output_type": "display_data"
    }
   ],
   "source": [
    "alpha = out.value[0]\n",
    "teq = out.value[1]\n",
    "plt.subplots(1, 1, figsize = (18,4))\n",
    "calibrated = slr(alpha, teq, temperature)\n",
    "uncalibrated = slr(3.4, -0.5, temperature)\n",
    "plt.title(\"Models projected onto Sea level data\")\n",
    "plt.xlabel(\"Years\")\n",
    "plt.ylabel(\"Sea level\")\n",
    "plt.plot(year, calibrated, c = \"red\", label = \"Calibrated - Simulated Annealing\")\n",
    "plt.scatter(year, sealevel, c = \"black\", label = \"Sea level\")\n",
    "plt.plot(year, uncalibrated, c = \"blue\", label = \"Uncalibrated - Base SLR model\")\n",
    "plt.legend()\n",
    "plt.show()"
   ]
  },
  {
   "cell_type": "markdown",
   "metadata": {},
   "source": [
    "**That red line is looking *pretty* nice.**"
   ]
  },
  {
   "cell_type": "markdown",
   "metadata": {},
   "source": [
    "<br>\n",
    "\n",
    "<a/ id='p1h'></a>\n",
    "\n",
    "### (1h)  Wrap-up\n",
    "\n",
    "Consider the values you would choose for $\\alpha$ and $T_{eq}$ by only considering their **marginal** effects on the log-likelihood objective function (i.e., your answer to **1e**).  How do those compare to the values for $\\alpha$ and $T_{eq}$ that you found above using simulated annealing?  What do you think accounts for the difference?"
   ]
  },
  {
   "cell_type": "markdown",
   "metadata": {
    "collapsed": true
   },
   "source": [
    "On the account of $\\alpha$, the numbers were fairly close to my estimate at 2.5 The $T_eq$, however, was off by almost a whole integer. The difference in our assessments for $\\alpha$ and $T_{eq}$ largely has to do with the accuracy of our methods of assessment. Simulated annealing and hill climbing are far better methods to get 'zeroed in' values- whereas our previous assessment was made by squinting and pointing at a range of about 5 values. In this context, mind you, that range of values makes a huge difference, and as a result, accounted for a great deal of inaccuracy.\n",
    "\n",
    "Likewise, simulated annealing is more accurate than the hill climbing method, as it's capable of taking more, smaller/random steps and as a result can find a rough accurate assessment if we know, generally, what our data looks like (as we can fine tune the details of its randomized restarts). The small random steps are helpful in the case that we find a local maxima or optima, but do not know if it is a global maxima. As a result, the random reset will allow us to look in places closer/nearby and check to see if there are better alternatives."
   ]
  },
  {
   "cell_type": "markdown",
   "metadata": {},
   "source": [
    "<br>\n",
    "\n",
    "---\n",
    "\n",
    "<br>\n",
    "\n",
    "<a id='p2'></a>[Back to top](#top)\n",
    "\n",
    "## Problem 2:  Playing \"intelligent\" Tic-Tac-Toe\n",
    "\n",
    "<img src=\"https://www.cookieshq.co.uk/images/2016/06/01/tic-tac-toe.png\" width=\"150\"/>\n",
    "\n",
    "<a id='p2a'></a>\n",
    "\n",
    "### (2a)   Defining the Tic-Tac-Toe class structure\n",
    "\n",
    "Fill in this class structure for Tic-Tac-Toe using what we did during class as a guide.\n",
    "* `moves` is a list of tuples to represent which moves are available. Recall that we are using matrix notation for this, where the upper-left corner of the board, for example, is represented at (1,1).\n",
    "* `result(self, move, state)` returns a ***hypothetical*** resulting `State` object if `move` is made when the game is in the current `state`\n",
    "* `compute_utility(self, move, state)` calculates the utility of `state` that would result if `move` is made when the game is in the current `state`. This is where you want to check to see if anyone has gotten `nwin` in a row\n",
    "* `game_over(self, state)` - this wasn't a method, but it should be - it's a piece of code we need to execute repeatedly and giving it a name makes clear what task the piece of code performs. Returns `True` if the game in the given `state` has reached a terminal state, and `False` otherwise.\n",
    "* `utility(self, state, player)` also wasn't a method earlier, but also should be.  Returns the utility of the current state if the player is X and $-1 \\cdot$ utility if the player is O.\n",
    "* `display(self)` is a method to display the current game `state`, You get it for free! because this would be super frustrating without it.\n",
    "* `play_game(self, player1, player2)` returns an integer that is the utility of the outcome of the game (+1 if X wins, 0 if draw, -1 if O wins). `player1` and `player2` are functional arguments that we will deal with in parts **2b** and **2d**.\n",
    "\n",
    "Some notes:\n",
    "* Assume X always goes first.\n",
    "* Do **not** hard-code for 3x3 boards.\n",
    "* You may add attributes and methods to these classes as needed for this problem."
   ]
  },
  {
   "cell_type": "code",
   "execution_count": 134,
   "metadata": {},
   "outputs": [],
   "source": [
    "class State:\n",
    "    def __init__(self, moves):\n",
    "        self.to_move = 'O' #Who goes first?\n",
    "        self.utility = 0 #Running score of winner\n",
    "        self.board = {} #state of the board\n",
    "        self.moves = cp.copy(moves) #moves will be a list of available movess\n",
    "    \n",
    "\n",
    "        \n",
    "class TicTacToe:\n",
    "\n",
    "    def __init__(self, nrow = 3, ncol = 3, nwin = 3):\n",
    "        #initialize dimensions of the board\n",
    "        self.nrow = nrow\n",
    "        self.ncol = ncol\n",
    "        \n",
    "        #number of consecutive tiles necessary to win\n",
    "        self.nwin = nwin\n",
    "        \n",
    "        #create a initial state of the board in the form of tuples\n",
    "        #indexing beginning at (1,1) to (n,n)\n",
    "        initial_state_of_board = self.create_moves(nrow, ncol)\n",
    "        \n",
    "        #create a State object as a member of the TicTacToe class.\n",
    "        self.state = State(initial_state_of_board)\n",
    "                 \n",
    "    def create_moves(self, nrow, ncol):\n",
    "        #generates a list of initially available moves\n",
    "        moves = []\n",
    "        for i in range(1, nrow+1):\n",
    "            for j in range(1, ncol+1):\n",
    "                moves.append((i,j))\n",
    "        return moves\n",
    "\n",
    "                 \n",
    "    def result(self, move, state):\n",
    "        '''\n",
    "        What is the hypothetical result of move `move` in state `state` ?\n",
    "        move  = (row, col) tuple where player will put their mark (X or O)\n",
    "        state = a `State` object, to represent whose turn it is and form\n",
    "                the basis for generating a **hypothetical** updated state\n",
    "                that will result from making the given `move`\n",
    "        '''\n",
    "        \n",
    "        new_state = cp.deepcopy(state)\n",
    "        new_state.utility = self.compute_utility(move, new_state)\n",
    "        #player makes a move\n",
    "\n",
    "\n",
    "        #remove move from list of possible moves, as it has been used\n",
    "        new_state.to_move = 'O' if new_state.to_move == 'X' else 'X'\n",
    "        \n",
    "        \n",
    "        #give the turn to the other player\n",
    "        new_state.board[move] = new_state.to_move\n",
    "        new_state.moves.remove(move)\n",
    "        \n",
    "        return new_state\n",
    "        \n",
    "        \n",
    "\n",
    "    def compute_utility(self, move, state):\n",
    "        '''\n",
    "        What is the utility of making move `move` in state `state`?\n",
    "        If 'X' wins with this move, return 1;\n",
    "        if 'O' wins return -1;\n",
    "        else return 0.\n",
    "        '''        \n",
    "        #state.board[move] = state.to_move\n",
    "        total = 0\n",
    "        for i in range(1, self.nrow+1):\n",
    "            total = 0 \n",
    "            for j in range(1, self.ncol+1):\n",
    "                if state.to_move == state.board.get((i,j)):\n",
    "                    total += 1\n",
    "                else: total = 0\n",
    "                if total == self.nwin:\n",
    "                    if state.to_move == 'X':\n",
    "                        return 1\n",
    "                    else: return -1\n",
    "        \n",
    "        for i in range(1, self.ncol+1):\n",
    "            total = 0\n",
    "            for j in range(1, self.nrow +1):\n",
    "                if state.to_move == state.board.get((j,i)): total += 1\n",
    "                else: total = 0\n",
    "                    \n",
    "                if total == self.nwin:\n",
    "                    if state.to_move == 'X':\n",
    "                        return 1\n",
    "                    else: return -1\n",
    "        total = 0\n",
    "        \n",
    "        for i in range(1, self.nrow + 1):\n",
    "            if state.to_move == state.board.get((i,i)): total += 1\n",
    "            else: total = 0\n",
    "            if total == self.nwin:\n",
    "                if state.to_move == 'X':\n",
    "                    return 1\n",
    "                else: return -1\n",
    "                \n",
    "        for i in range(1, self.nrow + 1):\n",
    "            if state.to_move == state.board.get((i, self.nrow+1 - i)): total += 1\n",
    "            else: total = 0\n",
    "            if total == self.nwin:\n",
    "                if state.to_move == 'X':\n",
    "                    return 1\n",
    "                else: return -1\n",
    "        \n",
    "        return 0\n",
    "\n",
    "\n",
    "\n",
    "    def game_over(self):\n",
    "        '''\n",
    "        Is the game over?  Return True/False.\n",
    "        The game is over if someone has won (utility!=0)\n",
    "        or there are no more moves left.\n",
    "        '''\n",
    "        if len(self.state.moves) == 0:\n",
    "            return self.compute_utility(self.state.to_move, self.state)\n",
    "        return not len(self.state.moves) or self.compute_utility(self.state.to_move, self.state)\n",
    "        \n",
    "\n",
    "    \n",
    "    def utility(self, state, player):\n",
    "        '''\n",
    "        Return the value to the given player; 1 for win, -1 for loss, 0 otherwise.\n",
    "        '''\n",
    "        return self.compute_utility(self.state.to_move, self.state)\n",
    "            \n",
    "    def display(self):\n",
    "        '''Display the current game state.'''\n",
    "        for row in range(1, self.nrow+1):\n",
    "            for col in range(1, self.ncol+1):\n",
    "                print(self.state.board.get((row, col), '.'), end=' ')\n",
    "            print()\n",
    "   \n",
    "    def play_game(self, player1, player2):\n",
    "        '''\n",
    "        Play a game of tic-tac-toe!\n",
    "        player1 and player2 are function names, either `random_player`\n",
    "        (see 2b) or `alphabeta_player (see 2d)\n",
    "        '''\n",
    "        to_move = \"p1\"\n",
    "        while(not bool(self.game_over()) and len(self.state.moves) > 0):\n",
    "            if to_move == 'p1':\n",
    "                self.state = self.result(player1(self), self.state)\n",
    "                to_move = 'p2'\n",
    "            elif to_move == 'p2':\n",
    "                self.state = self.result(player2(self), self.state)\n",
    "                to_move = 'p1'            \n",
    "        return self.game_over()"
   ]
  },
  {
   "cell_type": "markdown",
   "metadata": {},
   "source": [
    "<br>\n",
    "\n",
    "<a/ id='p2b'></a>\n",
    "\n",
    "### (2b) Define a random player\n",
    "\n",
    "Define a function `random_player` that takes a single argument of the `TicTacToe` class and returns a random move out of the available legal moves in the `state` of the `TicTacToe` game.\n",
    "\n",
    "In your code for the `play_game` method above, make sure that `random_player` could be a viable input for the `player1` and/or `player2` arguments."
   ]
  },
  {
   "cell_type": "code",
   "execution_count": 135,
   "metadata": {},
   "outputs": [
    {
     "name": "stdout",
     "output_type": "stream",
     "text": [
      "1\n",
      "X X X \n",
      "O . O \n",
      "O X . \n"
     ]
    }
   ],
   "source": [
    "def random_player(TicTacToe):\n",
    "    if len(TicTacToe.state.moves) == 0: \n",
    "        print(\"No more moves!\")\n",
    "        TicTacToe.display()\n",
    "        \n",
    "    rand_int = np.random.randint(low=0, high=len(TicTacToe.state.moves))\n",
    "    #print(rand_int)\n",
    "   # print(TicTacToe.state.moves)\n",
    "    random_move = TicTacToe.state.moves[rand_int]\n",
    "   # print(random_move)\n",
    "    \n",
    "    return random_move\n",
    "\n",
    "test = TicTacToe(3,3)    \n",
    "result = test.play_game(random_player, random_player)\n",
    "print(result)\n",
    "test.display()"
   ]
  },
  {
   "cell_type": "markdown",
   "metadata": {
    "collapsed": true
   },
   "source": [
    "We know from experience and/or because I'm telling you right now that if two `random_player`s play many games of Tic-Tac-Toe against one another, whoever goes first will win about 58% of the time.  **Test your codes and verify** that this is the case by playing at least 1,000 games between two random players. **Report** the proportion of the games that the first player has won, lost, and came to a draw.\n",
    "\n",
    "**\"Unit tests\":** If you are wondering how close is close enough to 58%, I simulated 100 tournaments of 1,000 games each. The min-max range of win percentage by the first player was 54-63%."
   ]
  },
  {
   "cell_type": "code",
   "execution_count": 136,
   "metadata": {},
   "outputs": [
    {
     "name": "stdout",
     "output_type": "stream",
     "text": [
      "p1:  0.595 p2:  0.31 draw:  0.095\n",
      "Percentage of time p1 wins:  59.5 %\n"
     ]
    }
   ],
   "source": [
    "records = []\n",
    "for i in range(1000):\n",
    "    test = TicTacToe(3,3)    \n",
    "    result = test.play_game(random_player, random_player)\n",
    "    records.append(result)\n",
    "#print(records)\n",
    "\n",
    "p1_win = records.count(1)\n",
    "p2_win = records.count(-1)\n",
    "p1_draw = records.count(0)\n",
    "\n",
    "print('p1: ', p1_win/1000, 'p2: ', p2_win/1000, 'draw: ', p1_draw/1000)\n",
    "print(\"Percentage of time p1 wins: \", p1_win/1000*100, \"%\")"
   ]
  },
  {
   "cell_type": "markdown",
   "metadata": {},
   "source": [
    "<br>\n",
    "\n",
    "<a/ id='p2c'></a>\n",
    "\n",
    "### (2c) What about playing randomly on different-sized boards?\n",
    "\n",
    "What does the long-term win percentage appear to be for the first player in a 4x4 Tic-Tac-Toe tournament, where 4 marks must be connected for a win?  Support your answer using a simulation and printed output, similar to **2b**."
   ]
  },
  {
   "cell_type": "code",
   "execution_count": 137,
   "metadata": {},
   "outputs": [
    {
     "name": "stdout",
     "output_type": "stream",
     "text": [
      "p1:  0.346 p2:  0.318 draw:  0.336\n",
      "Percentage of time p1 wins:  34.599999999999994 %\n"
     ]
    }
   ],
   "source": [
    "records = []\n",
    "for i in range(1000):\n",
    "    test = TicTacToe(4,4,4)    \n",
    "    result = test.play_game(random_player, random_player)\n",
    "    records.append(result)\n",
    "#print(records)\n",
    "\n",
    "p1_win = records.count(1)\n",
    "p2_win = records.count(-1)\n",
    "p1_draw = records.count(0)\n",
    "\n",
    "print('p1: ', p1_win/1000, 'p2: ', p2_win/1000, 'draw: ', p1_draw/1000)\n",
    "print(\"Percentage of time p1 wins: \", p1_win/1000*100, \"%\")"
   ]
  },
  {
   "cell_type": "markdown",
   "metadata": {},
   "source": [
    "**Also:** The win percentage should have changed substantially. Did the decrease in wins turn into more losses for the first player or more draws? Write a few sentences explaining the behavior you observed.  *Hint: think about how the size of the state space has changed.*"
   ]
  },
  {
   "cell_type": "markdown",
   "metadata": {
    "collapsed": true
   },
   "source": [
    "The probability of player 1 winning has shifted to the probability of the two players coming to a draw. This is most likely due to the fact that, as we increase the number of spaces available (and the requisite number of consecutive tiles accordingly), we increase the likelihood that nobody will win, as it will be easier to disrupt the other player's consecutive tile streak (randomly or intentionally).\n"
   ]
  },
  {
   "cell_type": "markdown",
   "metadata": {},
   "source": [
    "<br>\n",
    "\n",
    "<a/ id='p2d'></a>\n",
    "\n",
    "### (2d) Define an alpha-beta player\n",
    "\n",
    "Alright. Let's finally get serious about our Tic-Tac-Toe game.  No more fooling around!\n",
    "\n",
    "Craft a function called `alphabeta_player` that takes a single argument of a `TicTacToe` class object and returns the minimax move in the `state` of the `TicTacToe` game. As the name implies, this player should be implementing alpha-beta pruning as described in the textbook and lecture.\n",
    "\n",
    "Note that your alpha-beta search for the minimax move should include function definitions and alternating recursive calls for `max_value` and `min_value` (see the aggressively realistic pseudocode from the lecture slides).\n",
    "\n",
    "In your code for the `play_game` method above, make sure that `alphabeta_player` could be a viable input for the `player1` and/or `player2` arguments. Because your `alphabeta_player` is about to mop the floor with your `random_player`!"
   ]
  },
  {
   "cell_type": "code",
   "execution_count": 138,
   "metadata": {},
   "outputs": [],
   "source": [
    "    def alphabeta_search(class_arg):\n",
    "        alpha = -9999999999999999\n",
    "        beta = +9999999999999999\n",
    "        action, value = max_value(class_arg, class_arg.state, alpha, beta)\n",
    "        return action\n",
    "\n",
    "    def max_value(class_arg, state, alpha, beta):\n",
    "        stuff = cp.deepcopy(state)\n",
    "        if class_arg.game_over():\n",
    "            return (class_arg.game_over(), stuff)\n",
    "        value = -9999999999999999\n",
    "        for action in class_arg.state.moves:\n",
    "            min_val = min_value(class_arg, class_arg.result(action, stuff), alpha, beta)\n",
    "            try:\n",
    "                value = max(value, min_val[0])\n",
    "            except:\n",
    "                value = max(value, min_val[1])\n",
    "            if value >= beta: return (action, value)\n",
    "            alpha = max(value, alpha)\n",
    "        return (action, value)\n",
    "\n",
    "    def min_value(class_arg, state, alpha, beta):\n",
    "        stuff = cp.deepcopy(state)\n",
    "        if class_arg.game_over():\n",
    "            return (class_arg.game_over(), class_arg.state)\n",
    "        value = +9999999999999999\n",
    "        for action in class_arg.state.moves:\n",
    "            max_val = max_value(class_arg, class_arg.result(action, stuff), alpha, beta)\n",
    "            try:\n",
    "                value = min(value, max_val[0])\n",
    "            except:\n",
    "                value = min(value, max_val[1])\n",
    "            #value = min(value, max_val)\n",
    "            #print(value[0], value[1])\n",
    "            if value <= alpha: return (action, value)\n",
    "            beta = min(value, beta)\n",
    "        return (action, value)\n",
    "    \n",
    "    def alphabeta_player(class_arg):\n",
    "        return alphabeta_search(class_arg)"
   ]
  },
  {
   "cell_type": "code",
   "execution_count": 139,
   "metadata": {},
   "outputs": [
    {
     "ename": "ValueError",
     "evalue": "list.remove(x): x not in list",
     "output_type": "error",
     "traceback": [
      "\u001b[1;31m---------------------------------------------------------------------------\u001b[0m",
      "\u001b[1;31mValueError\u001b[0m                                Traceback (most recent call last)",
      "\u001b[1;32m<ipython-input-139-d14b77a0afaf>\u001b[0m in \u001b[0;36m<module>\u001b[1;34m()\u001b[0m\n\u001b[0;32m      1\u001b[0m \u001b[0mtest\u001b[0m \u001b[1;33m=\u001b[0m \u001b[0mTicTacToe\u001b[0m\u001b[1;33m(\u001b[0m\u001b[1;36m3\u001b[0m\u001b[1;33m,\u001b[0m \u001b[1;36m3\u001b[0m\u001b[1;33m)\u001b[0m\u001b[1;33m\u001b[0m\u001b[0m\n\u001b[1;32m----> 2\u001b[1;33m \u001b[0mtest\u001b[0m\u001b[1;33m.\u001b[0m\u001b[0mplay_game\u001b[0m\u001b[1;33m(\u001b[0m\u001b[0malphabeta_player\u001b[0m\u001b[1;33m(\u001b[0m\u001b[0mtest\u001b[0m\u001b[1;33m)\u001b[0m\u001b[1;33m,\u001b[0m \u001b[0mrandom_player\u001b[0m\u001b[1;33m)\u001b[0m\u001b[1;33m\u001b[0m\u001b[0m\n\u001b[0m",
      "\u001b[1;32m<ipython-input-138-e30e1fafbcd6>\u001b[0m in \u001b[0;36malphabeta_player\u001b[1;34m(class_arg)\u001b[0m\n\u001b[0;32m     38\u001b[0m \u001b[1;33m\u001b[0m\u001b[0m\n\u001b[0;32m     39\u001b[0m \u001b[1;32mdef\u001b[0m \u001b[0malphabeta_player\u001b[0m\u001b[1;33m(\u001b[0m\u001b[0mclass_arg\u001b[0m\u001b[1;33m)\u001b[0m\u001b[1;33m:\u001b[0m\u001b[1;33m\u001b[0m\u001b[0m\n\u001b[1;32m---> 40\u001b[1;33m     \u001b[1;32mreturn\u001b[0m \u001b[0malphabeta_search\u001b[0m\u001b[1;33m(\u001b[0m\u001b[0mclass_arg\u001b[0m\u001b[1;33m)\u001b[0m\u001b[1;33m\u001b[0m\u001b[0m\n\u001b[0m",
      "\u001b[1;32m<ipython-input-138-e30e1fafbcd6>\u001b[0m in \u001b[0;36malphabeta_search\u001b[1;34m(class_arg)\u001b[0m\n\u001b[0;32m      2\u001b[0m     \u001b[0malpha\u001b[0m \u001b[1;33m=\u001b[0m \u001b[1;33m-\u001b[0m\u001b[1;36m9999999999999999\u001b[0m\u001b[1;33m\u001b[0m\u001b[0m\n\u001b[0;32m      3\u001b[0m     \u001b[0mbeta\u001b[0m \u001b[1;33m=\u001b[0m \u001b[1;33m+\u001b[0m\u001b[1;36m9999999999999999\u001b[0m\u001b[1;33m\u001b[0m\u001b[0m\n\u001b[1;32m----> 4\u001b[1;33m     \u001b[0maction\u001b[0m\u001b[1;33m,\u001b[0m \u001b[0mvalue\u001b[0m \u001b[1;33m=\u001b[0m \u001b[0mmax_value\u001b[0m\u001b[1;33m(\u001b[0m\u001b[0mclass_arg\u001b[0m\u001b[1;33m,\u001b[0m \u001b[0mclass_arg\u001b[0m\u001b[1;33m.\u001b[0m\u001b[0mstate\u001b[0m\u001b[1;33m,\u001b[0m \u001b[0malpha\u001b[0m\u001b[1;33m,\u001b[0m \u001b[0mbeta\u001b[0m\u001b[1;33m)\u001b[0m\u001b[1;33m\u001b[0m\u001b[0m\n\u001b[0m\u001b[0;32m      5\u001b[0m     \u001b[1;32mreturn\u001b[0m \u001b[0maction\u001b[0m\u001b[1;33m\u001b[0m\u001b[0m\n\u001b[0;32m      6\u001b[0m \u001b[1;33m\u001b[0m\u001b[0m\n",
      "\u001b[1;32m<ipython-input-138-e30e1fafbcd6>\u001b[0m in \u001b[0;36mmax_value\u001b[1;34m(class_arg, state, alpha, beta)\u001b[0m\n\u001b[0;32m     11\u001b[0m     \u001b[0mvalue\u001b[0m \u001b[1;33m=\u001b[0m \u001b[1;33m-\u001b[0m\u001b[1;36m9999999999999999\u001b[0m\u001b[1;33m\u001b[0m\u001b[0m\n\u001b[0;32m     12\u001b[0m     \u001b[1;32mfor\u001b[0m \u001b[0maction\u001b[0m \u001b[1;32min\u001b[0m \u001b[0mclass_arg\u001b[0m\u001b[1;33m.\u001b[0m\u001b[0mstate\u001b[0m\u001b[1;33m.\u001b[0m\u001b[0mmoves\u001b[0m\u001b[1;33m:\u001b[0m\u001b[1;33m\u001b[0m\u001b[0m\n\u001b[1;32m---> 13\u001b[1;33m         \u001b[0mmin_val\u001b[0m \u001b[1;33m=\u001b[0m \u001b[0mmin_value\u001b[0m\u001b[1;33m(\u001b[0m\u001b[0mclass_arg\u001b[0m\u001b[1;33m,\u001b[0m \u001b[0mclass_arg\u001b[0m\u001b[1;33m.\u001b[0m\u001b[0mresult\u001b[0m\u001b[1;33m(\u001b[0m\u001b[0maction\u001b[0m\u001b[1;33m,\u001b[0m \u001b[0mstuff\u001b[0m\u001b[1;33m)\u001b[0m\u001b[1;33m,\u001b[0m \u001b[0malpha\u001b[0m\u001b[1;33m,\u001b[0m \u001b[0mbeta\u001b[0m\u001b[1;33m)\u001b[0m\u001b[1;33m\u001b[0m\u001b[0m\n\u001b[0m\u001b[0;32m     14\u001b[0m         \u001b[1;32mtry\u001b[0m\u001b[1;33m:\u001b[0m\u001b[1;33m\u001b[0m\u001b[0m\n\u001b[0;32m     15\u001b[0m             \u001b[0mvalue\u001b[0m \u001b[1;33m=\u001b[0m \u001b[0mmax\u001b[0m\u001b[1;33m(\u001b[0m\u001b[0mvalue\u001b[0m\u001b[1;33m,\u001b[0m \u001b[0mmin_val\u001b[0m\u001b[1;33m[\u001b[0m\u001b[1;36m0\u001b[0m\u001b[1;33m]\u001b[0m\u001b[1;33m)\u001b[0m\u001b[1;33m\u001b[0m\u001b[0m\n",
      "\u001b[1;32m<ipython-input-138-e30e1fafbcd6>\u001b[0m in \u001b[0;36mmin_value\u001b[1;34m(class_arg, state, alpha, beta)\u001b[0m\n\u001b[0;32m     26\u001b[0m     \u001b[0mvalue\u001b[0m \u001b[1;33m=\u001b[0m \u001b[1;33m+\u001b[0m\u001b[1;36m9999999999999999\u001b[0m\u001b[1;33m\u001b[0m\u001b[0m\n\u001b[0;32m     27\u001b[0m     \u001b[1;32mfor\u001b[0m \u001b[0maction\u001b[0m \u001b[1;32min\u001b[0m \u001b[0mclass_arg\u001b[0m\u001b[1;33m.\u001b[0m\u001b[0mstate\u001b[0m\u001b[1;33m.\u001b[0m\u001b[0mmoves\u001b[0m\u001b[1;33m:\u001b[0m\u001b[1;33m\u001b[0m\u001b[0m\n\u001b[1;32m---> 28\u001b[1;33m         \u001b[0mmax_val\u001b[0m \u001b[1;33m=\u001b[0m \u001b[0mmax_value\u001b[0m\u001b[1;33m(\u001b[0m\u001b[0mclass_arg\u001b[0m\u001b[1;33m,\u001b[0m \u001b[0mclass_arg\u001b[0m\u001b[1;33m.\u001b[0m\u001b[0mresult\u001b[0m\u001b[1;33m(\u001b[0m\u001b[0maction\u001b[0m\u001b[1;33m,\u001b[0m \u001b[0mstuff\u001b[0m\u001b[1;33m)\u001b[0m\u001b[1;33m,\u001b[0m \u001b[0malpha\u001b[0m\u001b[1;33m,\u001b[0m \u001b[0mbeta\u001b[0m\u001b[1;33m)\u001b[0m\u001b[1;33m\u001b[0m\u001b[0m\n\u001b[0m\u001b[0;32m     29\u001b[0m         \u001b[1;32mtry\u001b[0m\u001b[1;33m:\u001b[0m\u001b[1;33m\u001b[0m\u001b[0m\n\u001b[0;32m     30\u001b[0m             \u001b[0mvalue\u001b[0m \u001b[1;33m=\u001b[0m \u001b[0mmin\u001b[0m\u001b[1;33m(\u001b[0m\u001b[0mvalue\u001b[0m\u001b[1;33m,\u001b[0m \u001b[0mmax_val\u001b[0m\u001b[1;33m[\u001b[0m\u001b[1;36m0\u001b[0m\u001b[1;33m]\u001b[0m\u001b[1;33m)\u001b[0m\u001b[1;33m\u001b[0m\u001b[0m\n",
      "\u001b[1;32m<ipython-input-134-2b643a4f4194>\u001b[0m in \u001b[0;36mresult\u001b[1;34m(self, move, state)\u001b[0m\n\u001b[0;32m     54\u001b[0m         \u001b[1;31m#give the turn to the other player\u001b[0m\u001b[1;33m\u001b[0m\u001b[1;33m\u001b[0m\u001b[0m\n\u001b[0;32m     55\u001b[0m         \u001b[0mnew_state\u001b[0m\u001b[1;33m.\u001b[0m\u001b[0mboard\u001b[0m\u001b[1;33m[\u001b[0m\u001b[0mmove\u001b[0m\u001b[1;33m]\u001b[0m \u001b[1;33m=\u001b[0m \u001b[0mnew_state\u001b[0m\u001b[1;33m.\u001b[0m\u001b[0mto_move\u001b[0m\u001b[1;33m\u001b[0m\u001b[0m\n\u001b[1;32m---> 56\u001b[1;33m         \u001b[0mnew_state\u001b[0m\u001b[1;33m.\u001b[0m\u001b[0mmoves\u001b[0m\u001b[1;33m.\u001b[0m\u001b[0mremove\u001b[0m\u001b[1;33m(\u001b[0m\u001b[0mmove\u001b[0m\u001b[1;33m)\u001b[0m\u001b[1;33m\u001b[0m\u001b[0m\n\u001b[0m\u001b[0;32m     57\u001b[0m \u001b[1;33m\u001b[0m\u001b[0m\n\u001b[0;32m     58\u001b[0m         \u001b[1;32mreturn\u001b[0m \u001b[0mnew_state\u001b[0m\u001b[1;33m\u001b[0m\u001b[0m\n",
      "\u001b[1;31mValueError\u001b[0m: list.remove(x): x not in list"
     ]
    }
   ],
   "source": [
    "test = TicTacToe(3, 3)\n",
    "test.play_game(alphabeta_player(test), random_player)"
   ]
  },
  {
   "cell_type": "code",
   "execution_count": 287,
   "metadata": {},
   "outputs": [
    {
     "data": {
      "text/html": [
       "<img src=\"https://matthewturland.com/slides/titanium/images/codeyunowork.jpg\"/>"
      ],
      "text/plain": [
       "<IPython.core.display.Image object>"
      ]
     },
     "execution_count": 287,
     "metadata": {},
     "output_type": "execute_result"
    }
   ],
   "source": [
    "from IPython.display import Image\n",
    "from IPython.core.display import HTML \n",
    "Image(url= \"https://matthewturland.com/slides/titanium/images/codeyunowork.jpg\")"
   ]
  },
  {
   "cell_type": "markdown",
   "metadata": {},
   "source": [
    "Verify that your alpha-beta player code is working appropriately through the following tests, using a standard 3x3 Tic-Tac-Toe board. Run **only 30 games for each test**, and report for each test the number of wins, draws and losses for the first player.\n",
    "\n",
    "1. An alpha-beta player who plays first should never lose to a random player who plays second.\n",
    "2. A random player who plays first should never win to an alpha-beta player who plays second.\n",
    "3. Two alpha-beta players should always draw, and should always end up in the same terminal state.\n",
    "\n",
    "**Nota bene:** Test your code with fewer games between the players to start, because the alpha-beta player will require substantially more compute time than the random player.  This is why I only ask for 30 games, which still might take a couple minutes, depending on your machine. (FYI: 30 games between 2 alpha-beta players on my 2017 MacBook Pro takes about 1 minute.)"
   ]
  },
  {
   "cell_type": "markdown",
   "metadata": {
    "collapsed": true
   },
   "source": [
    "# Halt! While my code does not work- I know what's supposed to be going on."
   ]
  },
  {
   "cell_type": "markdown",
   "metadata": {},
   "source": [
    "*Stay a while, and listen!*\n",
    "\n",
    "An alpha-beta player should *always*, at minimum, end in a draw with a randomly playing...player; and at best, an alpha-beta player should win more often than they draw. This is mostly due to the fact that, due to sheer luck, a random player can make the right choice...randomly; whereas the alpha-beta player is going to be continually looking for a move that is going to cause a win."
   ]
  },
  {
   "cell_type": "markdown",
   "metadata": {},
   "source": [
    "Likewise, if two players are always playing optimally, their game should end in a draw. (I.E. if two players are both Alpha-Beta players, they will have the same decision making process and the game shall end in a tie.)"
   ]
  },
  {
   "cell_type": "markdown",
   "metadata": {},
   "source": [
    "<br>\n",
    "\n",
    "<a/ id='p2e'></a>\n",
    "\n",
    "### (2e) What has pruning ever done for us?\n",
    "\n",
    "Calculate the number of number of states expanded by the minimax algorithm, with and without pruning, to determine the minimax decision from the initial empty 3x3 Tic-Tac-Toe board state.  This can be done in many ways, but writing out all the states by hand is **not** one of them (as you will find out!).\n",
    "\n",
    "Write a sentence or two, commenting on the difference in number of nodes expanded by each search."
   ]
  },
  {
   "cell_type": "markdown",
   "metadata": {
    "collapsed": true
   },
   "source": [
    "On average, Alpha-beta pruning will reach twice as deep in a decision tree, as it can peel back all but the most optimal decision at every step. "
   ]
  },
  {
   "cell_type": "markdown",
   "metadata": {},
   "source": [
    "<br>\n",
    "\n",
    "---\n",
    "\n",
    "<br>\n",
    "\n",
    "<a id='p3'></a>[Back to top](#top)\n",
    "\n",
    "## Problem 3:  Bayesian sock estimation, rebooted\n",
    "\n",
    "<img src=\"https://pbs.twimg.com/media/B0Lbm4TCcAAMH26.jpg\" width=\"200\"/>\n",
    "\n",
    "Let's modify what we did in class (Monday 5 March) so we can estimate the posterior distribution for the number of socks an arbitrary member of our class has, ***given*** the data of unique/paired socks that come out of the dryer.\n",
    "\n",
    "**The point:** Yes, we know how many socks **each individual** has (because you did the Quizlet, right?). But what we do *not* have is a formal framework in which we can estimate the number of socks ***an arbitrary*** person has (a person selected at random).  Furthermore, we do our laundry multiple times, so we can update our prior beliefs multiple times too, and obtain better estimates of how many socks a mysterious individual has.\n",
    "\n",
    "**Applications:** Pollsters may know which party *a specific individual* will vote for in an election, but a **LOT** of money is invested in figuring out which party ***an arbitrary*** individual from a community will vote for, given some data.\n",
    "\n",
    "<br>\n",
    "\n",
    "<a id='p3a'></a>\n",
    "\n",
    "### (3a)   Read and plot our class data\n",
    "\n",
    "\n",
    "1. Read in the data set from Quizlet 8, `data_socks.csv`.  Feel free to steal liberally from the Problem 1 codes.\n",
    "1. Make a figure with two panels:\n",
    "  1. A histogram of the CSCI 3202 results for `n_socks`, superimposed with a histogram of some samples from the original negative binomial prior distribution from class using the Karl Broman/blog post parameters.\n",
    "  1. A histogram of the CSCI 3202 results for `prop_pairs`, superimposed with a histogram of samples from the original beta prior distribution from class.\n",
    "  \n",
    "Clearly label all axes and include a legend to distinguish between our class results and the previous prior distributions.\n",
    "\n",
    "How you present these distributions is up to you.  Be sure the histograms sharing axes are scaled so they both show up!"
   ]
  },
  {
   "cell_type": "code",
   "execution_count": 140,
   "metadata": {},
   "outputs": [
    {
     "data": {
      "text/html": [
       "<div>\n",
       "<style>\n",
       "    .dataframe thead tr:only-child th {\n",
       "        text-align: right;\n",
       "    }\n",
       "\n",
       "    .dataframe thead th {\n",
       "        text-align: left;\n",
       "    }\n",
       "\n",
       "    .dataframe tbody tr th {\n",
       "        vertical-align: top;\n",
       "    }\n",
       "</style>\n",
       "<table border=\"1\" class=\"dataframe\">\n",
       "  <thead>\n",
       "    <tr style=\"text-align: right;\">\n",
       "      <th></th>\n",
       "      <th>n_socks</th>\n",
       "      <th>prop_pairs</th>\n",
       "    </tr>\n",
       "  </thead>\n",
       "  <tbody>\n",
       "    <tr>\n",
       "      <th>0</th>\n",
       "      <td>40</td>\n",
       "      <td>0.90</td>\n",
       "    </tr>\n",
       "    <tr>\n",
       "      <th>1</th>\n",
       "      <td>42</td>\n",
       "      <td>0.80</td>\n",
       "    </tr>\n",
       "    <tr>\n",
       "      <th>2</th>\n",
       "      <td>45</td>\n",
       "      <td>0.95</td>\n",
       "    </tr>\n",
       "    <tr>\n",
       "      <th>3</th>\n",
       "      <td>100</td>\n",
       "      <td>0.50</td>\n",
       "    </tr>\n",
       "    <tr>\n",
       "      <th>4</th>\n",
       "      <td>60</td>\n",
       "      <td>1.00</td>\n",
       "    </tr>\n",
       "  </tbody>\n",
       "</table>\n",
       "</div>"
      ],
      "text/plain": [
       "   n_socks  prop_pairs\n",
       "0       40        0.90\n",
       "1       42        0.80\n",
       "2       45        0.95\n",
       "3      100        0.50\n",
       "4       60        1.00"
      ]
     },
     "execution_count": 140,
     "metadata": {},
     "output_type": "execute_result"
    }
   ],
   "source": [
    "dfSocks = pd.read_csv(\"data_socks.csv\")\n",
    "dfSocks.head()"
   ]
  },
  {
   "cell_type": "markdown",
   "metadata": {},
   "source": [
    "<br>\n",
    "\n",
    "<a/ id='p3b'></a>\n",
    "\n",
    "### (3b)  Revising our prior distributions\n",
    "\n",
    "Decide on new parameters for our two prior distributions, to fit the data from our class.  The way we are formalizing the problem here is also a bit different (total socks, as opposed to just the ones in the laundry, for example), so we would need to adjust anyhow.  You can also decide to use completely new prior distribution forms altogether if you would like.\n",
    "\n",
    "Clearly state what your new prior distribution parameters are and how you chose them.  Show any relevant calculations."
   ]
  },
  {
   "cell_type": "markdown",
   "metadata": {},
   "source": [
    "We have some prior distribution that we will call $P(\\theta)$ (in accordance with the class notes).\n",
    "\n",
    "In $P(\\theta)$ we have two uncertain parameters, where $\\theta$ is the uncertain parameters. \n",
    "\n",
    "$\\theta = [n_{socks}, proportion_{pairs}]$\n",
    "* n_socks is the number of socks that we have, in total\n",
    "* proportion_pairs is the proportion of socks that are proper pairs.\n",
    "\n",
    "We can model this using a negative binomial distribution with the following attributes:\n",
    "$$prior_\\mu = ??$$\n",
    "$$prior_\\sigma = ??$$\n",
    "$$prior_{len} = -\\frac{prior^2_{\\mu}}{(prior_\\mu - prior^2_{\\sigma})}$$\n",
    "$$prior_{probability} = 1 - \\frac{prior^2_\\mu}{prior_{size}*prior^2_{\\sigma}}$$\n"
   ]
  },
  {
   "cell_type": "code",
   "execution_count": 255,
   "metadata": {},
   "outputs": [
    {
     "name": "stdout",
     "output_type": "stream",
     "text": [
      "Number of socks in our list:  69 heh.\n",
      "\n",
      "Stats on our mean values: \n",
      " n_socks       48.144928\n",
      "prop_pairs     0.874800\n",
      "dtype: float64\n",
      "\n",
      "Stats on the std. deviations: \n",
      " n_socks       34.192481\n",
      "prop_pairs     0.199877\n",
      "dtype: float64\n"
     ]
    }
   ],
   "source": [
    "print(\"Number of socks in our list: \", len(dfSocks), \"heh.\")\n",
    "print()\n",
    "print(\"Stats on our mean values: \\n\", dfSocks.mean())\n",
    "print()\n",
    "print(\"Stats on the std. deviations: \\n\", dfSocks.std())"
   ]
  },
  {
   "cell_type": "code",
   "execution_count": 268,
   "metadata": {},
   "outputs": [
    {
     "data": {
      "image/png": "[encoded data removed]",
      "text/plain": [
       "<matplotlib.figure.Figure at 0x18e620d8e48>"
      ]
     },
     "metadata": {},
     "output_type": "display_data"
    }
   ],
   "source": [
    "plt.subplots(1, 2, figsize=(18,4))\n",
    "\n",
    "\n",
    "p_mu = dfSocks.mean()[0]\n",
    "p_square = p_mu**2\n",
    "p_std = dfSocks.std()[0]\n",
    "p_len = -p_square / (p_mu - p_std**2)\n",
    "p_prob = 1 - p_square / (p_len * p_std**2) \n",
    "\n",
    "plt.subplot(1,2,1)\n",
    "x = stats.nbinom.rvs(n=p_len, p=p_prob, size=10000)\n",
    "plt.hist(x, bins=list(range(0,100,5)), edgecolor = 'white')\n",
    "plt.xlabel('Number of socks total')\n",
    "plt.ylabel('Frequency')\n",
    "\n",
    "#alpha / alpha + beta\n",
    "p_alpha = 95\n",
    "p_beta  = 5\n",
    "\n",
    "plt.subplot(1,2,2)\n",
    "x = stats.beta.rvs(a=prior_alpha, b=prior_beta, size=5000000)\n",
    "plt.hist(x, bins=np.arange(0,1.03,.03), edgecolor = 'white')\n",
    "plt.xlabel('Proportion in pairs')\n",
    "plt.ylabel('Frequency')\n",
    "plt.show()"
   ]
  },
  {
   "cell_type": "markdown",
   "metadata": {},
   "source": [
    "Plot the same two-panel figure as in **3a**, but instead of the Karl Broman/blog post prior histograms, include with our CSCI 3202 data your revised prior distributions."
   ]
  },
  {
   "cell_type": "code",
   "execution_count": 269,
   "metadata": {},
   "outputs": [
    {
     "data": {
      "image/png": "[encoded data removed]",
      "text/plain": [
       "<matplotlib.figure.Figure at 0x18e61fcde80>"
      ]
     },
     "metadata": {},
     "output_type": "display_data"
    }
   ],
   "source": [
    "plt.subplots(1, 2, figsize=(18,4))\n",
    "prior_mu = 48.144928\n",
    "prior_sd = 34.192481\n",
    "prior_size = -prior_mu**2 / (prior_mu - prior_sd**2)\n",
    "prior_p = 1 - prior_mu**2 / (prior_size * prior_sd**2) #probability of a success in a given trial\n",
    "\n",
    "plt.subplot(1,2,1)\n",
    "x = stats.nbinom.rvs(n=prior_size, p=prior_p, size=100000)\n",
    "plt.hist(x, bins=list(range(0,100,5)), edgecolor='white', label=\"Prior\",stacked=True,normed = True)\n",
    "plt.hist(dfSocks[\"n_socks\"], bins=list(range(0,100,5)), edgecolor='white', label=\"Original Data\",stacked=True,normed = True)\n",
    "plt.xlabel('Number of socks in total')\n",
    "plt.ylabel('Frequency')\n",
    "plt.legend(loc=\"upper right\")\n",
    "\n",
    "#alpha / alpha + beta\n",
    "prior_alpha = 95\n",
    "prior_beta  = 5\n",
    "\n",
    "plt.subplot(1,2,2)\n",
    "x = stats.beta.rvs(a=prior_alpha, b=prior_beta, size=100000)\n",
    "plt.hist(x, bins=np.arange(0,1.03,.03), edgecolor='white', label=\"Prior\",stacked=True,normed = True)\n",
    "plt.hist(dfSocks[\"prop_pairs\"], bins=np.arange(0,1.03,.03), edgecolor='white', label=\"Original Data\",stacked=True,normed = True)\n",
    "plt.xlabel('Proportion of Pairs')\n",
    "plt.ylabel('Frequency')\n",
    "plt.legend(loc=\"upper left\")\n",
    "plt.show()\n"
   ]
  },
  {
   "cell_type": "markdown",
   "metadata": {},
   "source": [
    "<br>\n",
    "\n",
    "<a/ id='p3c'></a>\n",
    "\n",
    "### (3c) Do your laundry!\n",
    "\n",
    "**Now:** Suppose we draw 10 socks out of the laundry and there is one pair and 8 unique socks. Update your prior distributions based on these data.  Use the same **accept/reject likelihood function** form that we used in class. Use at least 10,000 iterations."
   ]
  },
  {
   "cell_type": "markdown",
   "metadata": {},
   "source": [
    "Provide a two-panel figure (two rows x one column):\n",
    "1. Top panel is a histogram of samples from your prior distribution for `n_socks`\n",
    "1. Bottom panel is a histogram of samples from the posterior distribution resulting from your accept/reject approximate Bayesian computation\n",
    "\n",
    "Make sure the limits of your horizontal `n_socks`-axis are the same for both panels, to make for an easier comparison, and that all axes are labelled appropriately.\n",
    "\n",
    "Note that the model `sock_model` from class is defined in the helper functions below.  It should not need modified, but if you want to modify it you can."
   ]
  },
  {
   "cell_type": "code",
   "execution_count": 270,
   "metadata": {},
   "outputs": [
    {
     "data": {
      "text/html": [
       "<div>\n",
       "<style>\n",
       "    .dataframe thead tr:only-child th {\n",
       "        text-align: right;\n",
       "    }\n",
       "\n",
       "    .dataframe thead th {\n",
       "        text-align: left;\n",
       "    }\n",
       "\n",
       "    .dataframe tbody tr th {\n",
       "        vertical-align: top;\n",
       "    }\n",
       "</style>\n",
       "<table border=\"1\" class=\"dataframe\">\n",
       "  <thead>\n",
       "    <tr style=\"text-align: right;\">\n",
       "      <th></th>\n",
       "      <th>unique</th>\n",
       "      <th>pairs</th>\n",
       "      <th>n_socks</th>\n",
       "      <th>prop_pairs</th>\n",
       "    </tr>\n",
       "  </thead>\n",
       "  <tbody>\n",
       "    <tr>\n",
       "      <th>0</th>\n",
       "      <td>6</td>\n",
       "      <td>2</td>\n",
       "      <td>32</td>\n",
       "      <td>0.969032</td>\n",
       "    </tr>\n",
       "    <tr>\n",
       "      <th>1</th>\n",
       "      <td>8</td>\n",
       "      <td>1</td>\n",
       "      <td>42</td>\n",
       "      <td>0.960052</td>\n",
       "    </tr>\n",
       "    <tr>\n",
       "      <th>2</th>\n",
       "      <td>8</td>\n",
       "      <td>1</td>\n",
       "      <td>40</td>\n",
       "      <td>0.962760</td>\n",
       "    </tr>\n",
       "    <tr>\n",
       "      <th>3</th>\n",
       "      <td>6</td>\n",
       "      <td>2</td>\n",
       "      <td>20</td>\n",
       "      <td>0.927358</td>\n",
       "    </tr>\n",
       "    <tr>\n",
       "      <th>4</th>\n",
       "      <td>10</td>\n",
       "      <td>0</td>\n",
       "      <td>36</td>\n",
       "      <td>0.947635</td>\n",
       "    </tr>\n",
       "  </tbody>\n",
       "</table>\n",
       "</div>"
      ],
      "text/plain": [
       "   unique  pairs  n_socks  prop_pairs\n",
       "0       6      2       32    0.969032\n",
       "1       8      1       42    0.960052\n",
       "2       8      1       40    0.962760\n",
       "3       6      2       20    0.927358\n",
       "4      10      0       36    0.947635"
      ]
     },
     "execution_count": 270,
     "metadata": {},
     "output_type": "execute_result"
    }
   ],
   "source": [
    "n_picked = 10     \n",
    "n_iter = 10000  \n",
    "\n",
    "results = []\n",
    "\n",
    "for k in range(n_iter):\n",
    "    n_socks = int(stats.nbinom.rvs(n=prior_size, p=prior_p, size=1))\n",
    "    prop_pairs = float(stats.beta.rvs(a=prior_alpha, b=prior_beta, size=1))\n",
    "    unique, pairs = sock_model(n_socks=n_socks, prop_pairs=prop_pairs, n_picked=n_picked)       \n",
    "    results.append([unique, pairs, n_socks, prop_pairs])\n",
    "    \n",
    "df_socks_part_1 = pd.DataFrame(results, columns=['unique', 'pairs', 'n_socks', 'prop_pairs'])\n",
    "df_socks_part_1.head()"
   ]
  },
  {
   "cell_type": "code",
   "execution_count": 271,
   "metadata": {},
   "outputs": [
    {
     "data": {
      "image/png": "[encoded data removed]",
      "text/plain": [
       "<matplotlib.figure.Figure at 0x18e63f21a20>"
      ]
     },
     "metadata": {},
     "output_type": "display_data"
    },
    {
     "data": {
      "image/png": "[encoded data removed]",
      "text/plain": [
       "<matplotlib.figure.Figure at 0x18e61be4f98>"
      ]
     },
     "metadata": {},
     "output_type": "display_data"
    }
   ],
   "source": [
    "ax = df_socks_part_1[\"n_socks\"].hist(bins=range(0,105,5), edgecolor=\"white\")\n",
    "\n",
    "plt.xlim([0, 100])\n",
    "plt.xlabel('Number of socks')\n",
    "plt.title('Prior distribution')\n",
    "plt.xticks(range(0,100,10))\n",
    "plt.ylabel('Frequency')\n",
    "plt.show()\n",
    "\n",
    "#8 socks, 1 pair\n",
    "ax = df_socks_part_1.loc[(df_socks_part_1[\"unique\"]==8) & (df_socks_part_1[\"pairs\"]==1), \"n_socks\"].hist(\n",
    "    bins=range(0,105,5), edgecolor=\"white\")\n",
    "plt.xlim([0, 100])\n",
    "plt.xlabel('Number of socks')\n",
    "plt.title('Posterior distribution')\n",
    "plt.xticks(range(0,100,10))\n",
    "plt.ylabel('Frequency')\n",
    "plt.show()"
   ]
  },
  {
   "cell_type": "markdown",
   "metadata": {},
   "source": [
    "Write a few sentences commenting on the effect of the Bayesian update of our prior distribution.  (A \"Bayesian update\" simply refers to the part where we calculate the likelihood function and use it to modify our prior distribution into our posterior distribution.)"
   ]
  },
  {
   "cell_type": "markdown",
   "metadata": {
    "collapsed": true
   },
   "source": [
    "We created a graph with a positive skew by tightening the bounds of our histogram. By narrowing the allowed parameters within our distributions, we are altering the frequency with which some sets of our socks appear.\n",
    "\n",
    "As a result, we flattened the graph a little bit, making it less turbulent. (Standardizing the frequency of occurrence a little bit.)"
   ]
  },
  {
   "cell_type": "markdown",
   "metadata": {},
   "source": [
    "<br>\n",
    "\n",
    "<a/ id='p3d'></a>\n",
    "\n",
    "### (3d) Do your laundry... again!\n",
    "\n",
    "Now treat your resulting *posterior distributions* as the sample data from our class to develop ***updated prior distributions***.  The easiest way to do this is to assume the same functional form, but update the parameters of the distribution.\n",
    "\n",
    "Clearly state what your updated prior distributions are and how you decided on these new distributions/parameters. Show any relevant calculations."
   ]
  },
  {
   "cell_type": "code",
   "execution_count": 279,
   "metadata": {},
   "outputs": [
    {
     "name": "stdout",
     "output_type": "stream",
     "text": [
      "The new beta will be:  0.04654007259879567\n"
     ]
    }
   ],
   "source": [
    "print(\"The new beta will be: \", 1-0.9534599274012043)"
   ]
  },
  {
   "cell_type": "code",
   "execution_count": 274,
   "metadata": {},
   "outputs": [
    {
     "name": "stdout",
     "output_type": "stream",
     "text": [
      "Median of proportion of pairs:  0.9534599274012043\n"
     ]
    }
   ],
   "source": [
    "df_number_of_socks = df_socks_part_1.loc[(df_socks_part_1[\"unique\"]==8) & (df_socks_part_1[\"pairs\"]==1), \"n_socks\"]\n",
    "df_proportion_of_socks = df_socks_part_1.loc[(df_socks_part_1[\"unique\"]==8) & (df_socks_part_1[\"pairs\"]==1), \"prop_pairs\"]\n",
    "\n",
    "posterior_median = df_number_of_socks.median()\n",
    "posterior_sigma = df_number_of_socks.std()\n",
    "\n",
    "posterior_size = -posterior_median**2 / (posterior_median - posterior_sigma**2)\n",
    "posterior_probability = 1 - posterior_median**2 / (posterior_size * posterior_sigma**2)\n",
    "posterior_alpha = 9534599274012043\n",
    "posterior_beta =  465400725987957\n",
    "\n",
    "print(\"Median of proportion of pairs: \", df_proportion_of_socks.median())"
   ]
  },
  {
   "cell_type": "markdown",
   "metadata": {},
   "source": [
    "Using some of our previous knowledge of probability and statistics, we will remember that the median is more useful in the analysis of data when our data sets are skewed. \n",
    "\n",
    "In this case, given that we have a positive skew in our graph, it would make sense to use our median, as our mean may be misrepresentative of the data set.\n",
    "\n",
    "Likewise, we are going to increase the precision of our selection of alpha and beta, as we can get much, much closer to the whole value by using longer numbers in conjunction with our form: $\\frac{\\alpha}{\\alpha + \\beta}$"
   ]
  },
  {
   "cell_type": "code",
   "execution_count": null,
   "metadata": {},
   "outputs": [],
   "source": []
  },
  {
   "cell_type": "markdown",
   "metadata": {},
   "source": [
    "Suppose you do your laundry a second time, again with all of your socks in there at once.  This time, you pull 12 socks out of the laundry and get 3 pairs and 6 distinct socks.\n",
    "\n",
    "**Now:** Based on our *updated* prior distributions, use the accept/reject likelihood function with these new data to update your priors a second time. Again, use at least 10,000 iterations."
   ]
  },
  {
   "cell_type": "code",
   "execution_count": 275,
   "metadata": {},
   "outputs": [
    {
     "data": {
      "text/html": [
       "<div>\n",
       "<style>\n",
       "    .dataframe thead tr:only-child th {\n",
       "        text-align: right;\n",
       "    }\n",
       "\n",
       "    .dataframe thead th {\n",
       "        text-align: left;\n",
       "    }\n",
       "\n",
       "    .dataframe tbody tr th {\n",
       "        vertical-align: top;\n",
       "    }\n",
       "</style>\n",
       "<table border=\"1\" class=\"dataframe\">\n",
       "  <thead>\n",
       "    <tr style=\"text-align: right;\">\n",
       "      <th></th>\n",
       "      <th>unique</th>\n",
       "      <th>pairs</th>\n",
       "      <th>n_socks</th>\n",
       "      <th>prop_pairs</th>\n",
       "    </tr>\n",
       "  </thead>\n",
       "  <tbody>\n",
       "    <tr>\n",
       "      <th>0</th>\n",
       "      <td>10</td>\n",
       "      <td>1</td>\n",
       "      <td>42</td>\n",
       "      <td>0.961830</td>\n",
       "    </tr>\n",
       "    <tr>\n",
       "      <th>1</th>\n",
       "      <td>10</td>\n",
       "      <td>1</td>\n",
       "      <td>58</td>\n",
       "      <td>0.984009</td>\n",
       "    </tr>\n",
       "    <tr>\n",
       "      <th>2</th>\n",
       "      <td>10</td>\n",
       "      <td>1</td>\n",
       "      <td>46</td>\n",
       "      <td>0.956687</td>\n",
       "    </tr>\n",
       "    <tr>\n",
       "      <th>3</th>\n",
       "      <td>10</td>\n",
       "      <td>1</td>\n",
       "      <td>49</td>\n",
       "      <td>0.950395</td>\n",
       "    </tr>\n",
       "    <tr>\n",
       "      <th>4</th>\n",
       "      <td>8</td>\n",
       "      <td>2</td>\n",
       "      <td>20</td>\n",
       "      <td>0.912373</td>\n",
       "    </tr>\n",
       "  </tbody>\n",
       "</table>\n",
       "</div>"
      ],
      "text/plain": [
       "   unique  pairs  n_socks  prop_pairs\n",
       "0      10      1       42    0.961830\n",
       "1      10      1       58    0.984009\n",
       "2      10      1       46    0.956687\n",
       "3      10      1       49    0.950395\n",
       "4       8      2       20    0.912373"
      ]
     },
     "execution_count": 275,
     "metadata": {},
     "output_type": "execute_result"
    }
   ],
   "source": [
    "n_picked = 12     \n",
    "n_iter = 10000\n",
    "\n",
    "results = []\n",
    "\n",
    "for k in range(n_iter):\n",
    "    n_socks = int(stats.nbinom.rvs(n=prior_size, p=prior_p, size=1))\n",
    "    prop_pairs = float(stats.beta.rvs(a=prior_alpha, b=prior_beta, size=1))\n",
    "    unique, pairs = sock_model(n_socks=n_socks, prop_pairs=prop_pairs, n_picked=n_picked)       \n",
    "    results.append([unique, pairs, n_socks, prop_pairs])\n",
    "    \n",
    "df_socks_part_2 = pd.DataFrame(results, columns=['unique', 'pairs', 'n_socks', 'prop_pairs'])\n",
    "df_socks_part_2.head()"
   ]
  },
  {
   "cell_type": "markdown",
   "metadata": {},
   "source": [
    "Provide a three-panel figure (three rows x one column):\n",
    "1. First two panels are the same as in **3c**\n",
    "1. Third (bottom) panel is the posterior distribution resulting from the second update\n",
    "\n",
    "So the top panel is only the prior distribution (no data), the middle panel is a posterior updated once with data and the bottom panel is a posterior distribution updated with two sets of data.\n",
    "\n",
    "Each update with data is called an **assimilation step** - we are assimilating laundry data."
   ]
  },
  {
   "cell_type": "code",
   "execution_count": 281,
   "metadata": {},
   "outputs": [
    {
     "data": {
      "image/png": "[encoded data removed]",
      "text/plain": [
       "<matplotlib.figure.Figure at 0x18e62612320>"
      ]
     },
     "metadata": {},
     "output_type": "display_data"
    },
    {
     "data": {
      "image/png": "[encoded data removed]",
      "text/plain": [
       "<matplotlib.figure.Figure at 0x18e638e3d30>"
      ]
     },
     "metadata": {},
     "output_type": "display_data"
    },
    {
     "data": {
      "image/png": "[encoded data removed]",
      "text/plain": [
       "<matplotlib.figure.Figure at 0x18e638e3e48>"
      ]
     },
     "metadata": {},
     "output_type": "display_data"
    }
   ],
   "source": [
    "df_number_of_socks_2 = df_socks_part_2.loc[(df_socks_part_1[\"unique\"]==6) & (df_socks_part_1[\"pairs\"]==3), \"n_socks\"]\n",
    "df_proportion_of_socks_2 = df_socks_part_2.loc[(df_socks_part_1[\"unique\"]==6) & (df_socks_part_1[\"pairs\"]==3), \"prop_pairs\"]\n",
    "\n",
    "ax = df_socks_part_1[\"n_socks\"].hist(bins=range(0,105,5), edgecolor=\"white\")\n",
    "\n",
    "plt.xlim([0, 100])\n",
    "plt.xlabel('Number of socks')\n",
    "plt.title('Prior distribution')\n",
    "plt.xticks(range(0,100,10))\n",
    "plt.ylabel('Frequency')\n",
    "plt.show()\n",
    "\n",
    "#8 socks, 1 pair\n",
    "ax = df_socks_part_1.loc[(df_socks_part_1[\"unique\"]==8) & (df_socks_part_1[\"pairs\"]==1), \"n_socks\"].hist(\n",
    "    bins=range(0,105,5), edgecolor=\"white\")\n",
    "plt.xlim([0, 100])\n",
    "plt.xlabel('Number of socks')\n",
    "plt.title('Posterior distribution')\n",
    "plt.xticks(range(0,100,10))\n",
    "plt.ylabel('Frequency')\n",
    "plt.show()\n",
    "\n",
    "ax = df_socks_part_1.loc[(df_socks_part_2[\"unique\"]==6) & (df_socks_part_2[\"pairs\"]==3), \"n_socks\"].hist(\n",
    "    bins=range(0,105,5), edgecolor=\"white\")\n",
    "plt.xlim([0, 100])\n",
    "plt.xlabel('Number of socks')\n",
    "plt.title('Posterior distribution IMPROVED**')\n",
    "plt.xticks(range(0,100,10))\n",
    "plt.ylabel('Frequency')\n",
    "plt.show()"
   ]
  },
  {
   "cell_type": "markdown",
   "metadata": {},
   "source": [
    "<br>\n",
    "\n",
    "<a/ id='p3e'></a>\n",
    "\n",
    "### (3e) Some calculations\n",
    "\n",
    "Calculate the 5-95% percentile (quantile) range for `n_socks` using each of: (1) the prior distribution, (2) the posterior distribution after one update, and (3) the posterior distribution after two updates.  These are called the 90% **credible intervals** in this Bayesian setting, in contrast to the frequentist confidence interval."
   ]
  },
  {
   "cell_type": "code",
   "execution_count": 282,
   "metadata": {
    "scrolled": true
   },
   "outputs": [
    {
     "name": "stdout",
     "output_type": "stream",
     "text": [
      "Prior Distribution of socks (5 - 95% percentile): [18.8, 100.0]\n",
      "Posterior Distribution of Socks (1 pair, 8 Distinct: 5 - 95% percentile) [22.0, 110.0]\n",
      "Posterior Distribution of Socks (3 pair, 6 Distinct: 5 - 95% percentile) [16.0, 60.05]\n"
     ]
    }
   ],
   "source": [
    "prior_quantile_lower = dfSocks[\"n_socks\"].quantile(0.05)\n",
    "prior_quantile_upper = dfSocks[\"n_socks\"].quantile(0.95)\n",
    "post_quantile_1_8_lower = df_socks_part_1.loc[(df_socks_part_1[\"unique\"]==8) & (df_socks_part_1[\"pairs\"]==1), \"n_socks\"].quantile(0.05)\n",
    "post_quantile_1_8_upper = df_socks_part_1.loc[(df_socks_part_1[\"unique\"]==8) & (df_socks_part_1[\"pairs\"]==1), \"n_socks\"].quantile(0.95)\n",
    "post_quantile_3_6_lower = df_socks_part_2.loc[(df_socks_part_2[\"unique\"]==6) & (df_socks_part_2[\"pairs\"]==3), \"n_socks\"].quantile(0.05)\n",
    "post_quantile_3_6_upper = df_socks_part_2.loc[(df_socks_part_2[\"unique\"]==6) & (df_socks_part_2[\"pairs\"]==3), \"n_socks\"].quantile(0.95)\n",
    "\n",
    "print(\"Prior Distribution of socks (5 - 95% percentile): [{}, {}]\".format(prior_quantile_lower, prior_quantile_upper))\n",
    "print(\"Posterior Distribution of Socks (1 pair, 8 Distinct: 5 - 95% percentile) [{}, {}]\".format(post_quantile_1_8_lower, post_quantile_1_8_upper))\n",
    "print(\"Posterior Distribution of Socks (3 pair, 6 Distinct: 5 - 95% percentile) [{}, {}]\".format(post_quantile_3_6_lower, round(post_quantile_3_6_upper, 2)))"
   ]
  },
  {
   "cell_type": "markdown",
   "metadata": {},
   "source": [
    "Write a few sentences commenting on similarities/differences between your original prior distribution (for the class data set), and the two updated posterior distributions, as well as the differences in the estimated credible intervals. Explain why the distributions/credible intervals are changing as they are, as more data are assimilated."
   ]
  },
  {
   "cell_type": "markdown",
   "metadata": {
    "collapsed": true
   },
   "source": [
    "The general level of certainty has been raised, at the cost of a wider band of data, as can be seen with the first Posterior Distribution. If you note, however, that there is a massive increase in certainty (with a much, much smaller width) in the second assimilation step, you will see that our adjustments are reducing overall uncertainty within our data set. \n",
    "\n",
    "By focusing in on the Median, we can attempt to normalize the data as much as is  feasible, assuming that our data is at least a little irregular.\n",
    "\n",
    "The quartiles will continue to have tighter and  tighter bounds as we normalize around the other stats. If we adjusted the values around the mean (as well as the median), I would suspect at least a marginal increase in accuracy across the board. Likewise, we could incorporate in the standard deviation for this distribution to get an even more precise posterior distribution.\n",
    "\n",
    "On top of all of *that*, we could take more trials. At the time of writing, I believe we took 10,000 trials, but to improve our certainty we could increase this to 1,000,000 or more. (I won't do that for our computers' sake. Likewise, Python flips out if we do more than 10,000 trials. At least, on my machine.)"
   ]
  },
  {
   "cell_type": "markdown",
   "metadata": {},
   "source": [
    "<br>\n",
    "\n",
    "**Concluding note:** This only is technically accurate estimation if we assume that all of your socks are in the laundry at the same time. Or if we revise our prior distributions to estimate the number of socks we have in the laundry in any given load. But that's way harder to pin down.\n",
    "\n",
    "**Also:** Yes, I did wait to post this until after the Quizlet closed so I could include as much sock data as possible."
   ]
  },
  {
   "cell_type": "markdown",
   "metadata": {
    "collapsed": true
   },
   "source": [
    "<br><br><br>\n",
    "\n",
    "<a id='helpers'></a>\n",
    "\n",
    "---\n",
    "\n",
    "[Back to top](#top)\n",
    "\n",
    "## Some things that might be useful\n",
    "\n",
    "Easiest way to start:  Click this cell, go to \"Cell\" in the toolbar above, and click \"Run All Below\""
   ]
  },
  {
   "cell_type": "code",
   "execution_count": 2,
   "metadata": {
    "collapsed": true
   },
   "outputs": [],
   "source": [
    "import pandas as pd\n",
    "import numpy as np\n",
    "import copy as cp\n",
    "import itertools\n",
    "from scipy import stats\n",
    "from math import floor\n",
    "import matplotlib.pyplot as plt\n",
    "from time import time"
   ]
  },
  {
   "cell_type": "markdown",
   "metadata": {},
   "source": [
    "## Definitely useful"
   ]
  },
  {
   "cell_type": "code",
   "execution_count": 3,
   "metadata": {
    "collapsed": true
   },
   "outputs": [],
   "source": [
    "def slr(alpha, Teq, temperature):\n",
    "    '''sea-level emulator of Rahmstorf 2007 (DOI: 10.1126/science.1135456)\n",
    "    Takes global mean temperature as forcing, and parameters:\n",
    "    alpha = temperature sensitivity of sea level rise, and\n",
    "    Teq   = equilibrium temperature,\n",
    "    and calculates a rise/fall in sea levels, based on whether the temperature\n",
    "    is warmer/cooler than the equilibrium temperature Teq.\n",
    "    Here, we are only worrying about alpha (for now!)'''\n",
    "\n",
    "    n_time = len(temperature)\n",
    "    deltat = 1\n",
    "    sealevel = [0]*n_time\n",
    "    sealevel[0] = -134\n",
    "    for t in range(n_time-1):\n",
    "        sealevel[t+1] = sealevel[t] + deltat*alpha*(temperature[t]-Teq)\n",
    "\n",
    "    return sealevel\n",
    "\n",
    "\n",
    "def sock_model(n_socks, prop_pairs, n_picked):\n",
    "    \n",
    "    n_pairs = int( floor(n_socks/2) * prop_pairs)\n",
    "    n_odd = n_socks - 2*n_pairs\n",
    "\n",
    "    # label all our socks\n",
    "    socks = []\n",
    "    for i in range(n_pairs):\n",
    "        socks = socks + [i]*2\n",
    "    for j in range(n_pairs, n_pairs+n_odd):\n",
    "        socks = socks + [j]\n",
    "\n",
    "    if len(socks)>0:\n",
    "        # pick our socks out of the dryer\n",
    "        picked_socks = list(np.random.choice(socks, size=min(n_picked, n_socks), replace=False))\n",
    "        sock_counts = [picked_socks.count(k) for k in range(max(socks)+1)]\n",
    "\n",
    "        # how many were singleton socks?\n",
    "        unique = sock_counts.count(1)\n",
    "\n",
    "        # how many were in pairs?\n",
    "        pairs = sock_counts.count(2)\n",
    "        \n",
    "    else:\n",
    "        unique = 0\n",
    "        pairs = 0\n",
    "    \n",
    "    return unique, pairs\n"
   ]
  },
  {
   "cell_type": "markdown",
   "metadata": {},
   "source": [
    "[Back to top](#top)"
   ]
  },
  {
   "cell_type": "code",
   "execution_count": null,
   "metadata": {
    "collapsed": true
   },
   "outputs": [],
   "source": []
  }
 ],
 "metadata": {
  "kernelspec": {
   "display_name": "Python 3",
   "language": "python",
   "name": "python3"
  },
  "language_info": {
   "codemirror_mode": {
    "name": "ipython",
    "version": 3
   },
   "file_extension": ".py",
   "mimetype": "text/x-python",
   "name": "python",
   "nbconvert_exporter": "python",
   "pygments_lexer": "ipython3",
   "version": "3.6.1"
  }
 },
 "nbformat": 4,
 "nbformat_minor": 2
}
