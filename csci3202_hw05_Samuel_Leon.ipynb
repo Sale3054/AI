{
 "cells": [
  {
   "cell_type": "markdown",
   "metadata": {},
   "source": [
    "<a id='top'></a>\n",
    "\n",
    "# CSCI 3202, Spring 2018\n",
    "# Assignment 5\n",
    "# Due:  Wednesday 11 April 2018 by 12:00 PM\n",
    "\n",
    "<br>\n",
    "\n",
    "### Your name: Samuel Leon\n",
    "\n",
    "<br>\n",
    "\n",
    "**Note:** Some packages to load, helper functions and unit tests are defined at [the bottom of this notebook](#helpers). They're also defined up here, because I care.\n",
    "\n",
    "Shortcuts:  [top](#top) || [1](#p1) | [1a](#p1a) | [1b](#p1b) | [1c](#p1c) | [1d](#p1d) | [1e](#p1e) | [1f](#p1f) | [1g](#p1g) || [2](#p2) | [2a](#p2a) | [2b](#p2b) | [2c](#p2c) | [2d](#p2d) | [2e](#p2e) || [3](#p3) | [3a](#p3a) | [3b](#p3b) | [3c](#p3c) | [3d](#p3d) | [3e](#p3e) | [3f](#p3f) | [3g](#p3g) || [helpers](#helpers)"
   ]
  },
  {
   "cell_type": "code",
   "execution_count": 6,
   "metadata": {
    "collapsed": true
   },
   "outputs": [],
   "source": [
    "from scipy import stats\n",
    "import unittest\n",
    "import numpy as np\n",
    "import pandas as pd\n",
    "import matplotlib.pyplot as plt"
   ]
  },
  {
   "cell_type": "markdown",
   "metadata": {},
   "source": [
    "---\n",
    "\n",
    "<a id='p1'></a>[Back to top](#top)\n",
    "\n",
    "## Problem 1:  Bayesian network to model heart disease\n",
    "\n",
    "The following Bayesian network is based loosely on a study that examined heart disease risk factors in 167 elderly individuals in South Carolina.  This study is [linked here](https://piazza.com/class_profile/get_resource/jc4v74a5uu5wa/jeyiv7kvs7r7ck) and posted to Piazza under the Resources tab.  Note that this figure uses Y and N to represent Yes and No, whereas in class we used the equivalent T and F to represent True and False Boolean values.\n",
    "\n",
    "<img src=\"http://www.cs.colorado.edu/~tonyewong/home/resources/hw05_bayesnet_heartdisease.png\" style=\"width: 650px;\"/>"
   ]
  },
  {
   "cell_type": "markdown",
   "metadata": {},
   "source": [
    "<a id='p1a'></a>\n",
    "\n",
    "### (1a) \n",
    "\n",
    "Create a `BayesNet` object to model this.  Below are the codes for the (conditional) probability `P` function and `BayesNode` class as well, that we used in class on Friday (16 March) to represent the variable nodes and calculate probabilities. You can code this however you want, subject to the following constraints:\n",
    "1. the nodes are represented using the `BayesNode` class and can work with the `P` function for probabilities,\n",
    "1. your `BayesNet` structure keeps track of which nodes are in the Bayes net, as well as\n",
    "1. which nodes are the parents/children of which other nodes.\n",
    "\n",
    "Some *suggested* skeleton codes for a class structure are given. The suggestions for methods to implement are in view of the fact that we will need to calculate some probabilities, which is going to require us to `find_node`s and `find_values` that nodes can take on."
   ]
  },
  {
   "cell_type": "code",
   "execution_count": 7,
   "metadata": {
    "collapsed": true
   },
   "outputs": [],
   "source": [
    "## For the sake of brevity...\n",
    "T, F = True, False\n",
    "\n",
    "## From class:\n",
    "def P(var, value, evidence={}):\n",
    "    '''The probability distribution for P(var | evidence), \n",
    "    when all parent variables are known (in evidence)'''\n",
    "    if len(var.parents)==1:\n",
    "        # only one parent\n",
    "        row = evidence[var.parents[0]]\n",
    "    else:\n",
    "        # multiple parents\n",
    "        row = tuple(evidence[parent] for parent in var.parents)\n",
    "    return var.cpt[row] if value else 1-var.cpt[row]\n",
    "\n",
    "## Also from class:\n",
    "class BayesNode:\n",
    "    \n",
    "    def __init__(self, name, parents, values, cpt):\n",
    "        if isinstance(parents, str):\n",
    "            parents = parents.split()\n",
    "            \n",
    "        if len(parents)==0:\n",
    "            # if no parents, empty dict key for cpt\n",
    "            cpt = {(): cpt}\n",
    "        elif isinstance(cpt, dict):\n",
    "            # if there is only one parent, only one tuple argument\n",
    "            if cpt and isinstance(list(cpt.keys())[0], bool):\n",
    "                cpt = {(v): p for v, p in cpt.items()}\n",
    "\n",
    "        self.variable = name\n",
    "        self.parents = parents\n",
    "        self.cpt = cpt\n",
    "        self.values = values\n",
    "        self.children = []\n",
    "        \n",
    "    def __repr__(self):\n",
    "        return repr((self.variable, ' '.join(self.parents)))    \n",
    "\n",
    "    \n",
    "##===============================================##\n",
    "## Suggested skeleton codes for a BayesNet class ##\n",
    "##===============================================##\n",
    "\n",
    "class BayesNet:\n",
    "    '''Bayesian network containing only boolean-variable nodes.'''\n",
    "\n",
    "    def __init__(self, nodes):\n",
    "        '''Initialize the Bayes net by adding each of the nodes,\n",
    "        which should be a list BayesNode class objects ordered\n",
    "        from parents to children (`top` to `bottom`, from causes\n",
    "        to effects)'''\n",
    "        \n",
    "        self.bn_var = nodes \n",
    "\n",
    "                \n",
    "    def add(self, node):\n",
    "        '''Add a new BayesNode to the BayesNet. The parents should all\n",
    "        already be in the net, and the variable itself should not be'''\n",
    "        assert node.variable not in self.variables\n",
    "        assert all((parent in self.variables) for parent in node.parents)\n",
    "        self.bn_var.append(node) \n",
    "\n",
    "            \n",
    "    def find_node(self, var):\n",
    "        '''Find and return the BayesNode in the net with name `var`'''\n",
    "        for node in self.bn_var:\n",
    "            if (node.variable == var):\n",
    "                return node\n",
    "        \n",
    "\n",
    "        \n",
    "    def find_values(self, var):\n",
    "        '''Return the set of possible values for variable `var`'''\n",
    "        node = self.find_node(var)\n",
    "        return node.values\n",
    "    \n",
    "    def __repr__(self):\n",
    "        return 'BayesNet({})'.format(self.nodes)"
   ]
  },
  {
   "cell_type": "code",
   "execution_count": null,
   "metadata": {
    "collapsed": true
   },
   "outputs": [],
   "source": []
  },
  {
   "cell_type": "markdown",
   "metadata": {},
   "source": [
    "#### Unit tests"
   ]
  },
  {
   "cell_type": "code",
   "execution_count": 8,
   "metadata": {},
   "outputs": [
    {
     "name": "stderr",
     "output_type": "stream",
     "text": [
      "..\n",
      "----------------------------------------------------------------------\n",
      "Ran 2 tests in 0.006s\n",
      "\n",
      "OK\n"
     ]
    },
    {
     "data": {
      "text/plain": [
       "<unittest.runner.TextTestResult run=2 errors=0 failures=0>"
      ]
     },
     "execution_count": 8,
     "metadata": {},
     "output_type": "execute_result"
    }
   ],
   "source": [
    "tests_to_run = unittest.TestSuite()\n",
    "tests_to_run.addTest(Tests_Problem1(\"test_onenode\"))\n",
    "tests_to_run.addTest(Tests_Problem1(\"test_twonode\"))\n",
    "unittest.TextTestRunner().run(tests_to_run)"
   ]
  },
  {
   "cell_type": "markdown",
   "metadata": {},
   "source": [
    "<a/ id='p1b'></a>\n",
    "\n",
    "### (1b)\n",
    "\n",
    "Craft a function `get_prob(X, e, bn)` to return the **normalized** probability distribution of variable `X` in Bayes net `bn`, given the evidence `e`.  That is, return $P(X \\mid e)$. The arguments are:\n",
    "* `X` is some representation of the variable you are querying the probability distribution of. Either a string (the variable name from the `BayesNode` or a `BayesNode` object itself are good options.\n",
    "* `e` is some representation of the evidence your probability is conditioned on. When given an empty argument (or `None`) for `e`, `get_prob` should return the marginal distribution $P(X)$.\n",
    "* `bn` is your `BayesNet` object.\n",
    "\n",
    "You may do this using the `enumeration` algorithm from class (pseudocode is in the book), or by brute force (i.e., use a few `for` loops). Either way, you should be using your `BayesNet` object to keep track of all the nodes and relationships between nodes so your `get_prob` function knows these things."
   ]
  },
  {
   "cell_type": "code",
   "execution_count": 9,
   "metadata": {
    "collapsed": true
   },
   "outputs": [],
   "source": [
    "'''\n",
    "e_var is the whole list of nodes like: [('Smoking ^ Alcohol', ''), ('Moderate Exercise', ''), ('High Blood Pressure', 'Smoking ^ Alcohol Moderate Exercise'), ('Atheroscierosis', ''), ('Family History', ''), ('Heart Disease', 'Atheroscierosis High Blood Pressure Family History'), ('Angina Pectoris', 'Heart Disease'), ('Rapid Heartbeats', 'Heart Disease')]\n",
    "e_var[0] is the first tuple in the list ('Smoking ^ Alcohol', '')\n",
    "e_var[0].values is a tuple (True, False)\n",
    "e_var[0].variable is the name, Smoking ^ Alcohol in this example\n",
    "\n",
    "enumerater takes the list of values, evar, and a list of evidence e, and sums the probabilites as they're iterated through.\n",
    "We do this using a parent node and a summand, wherein the parent has the probability of all prior nodes and the child\n",
    "is the next subsequent step\n",
    "'''\n",
    "def iterate_list(list_obj):\n",
    "    if len(list_obj) == 0: return list_obj\n",
    "    else: return list_obj[1:]\n",
    "    \n",
    "def enumerater(e_var, e):    \n",
    "    evidence = e.copy()\n",
    "    if len(e_var) == 0: return 1\n",
    "\n",
    "    if e_var[0].variable in evidence:\n",
    "        parent = P(e_var[0], evidence[e_var[0].variable], evidence)\n",
    "        e_temp = e_var.copy()\n",
    "        e_temp.pop(0)\n",
    "        \n",
    "        child = enumerater(e_temp, evidence)\n",
    "        return (parent*child)\n",
    "    else:\n",
    "        summand = 0 \n",
    "        for i in e_var[0].values: #(True, False)\n",
    "            evidence[e_var[0].variable] = i #Assign true/false to names\n",
    "            parent = P(e_var[0], evidence[e_var[0].variable], evidence)\n",
    "            child = enumerater(iterate_list(e_var), evidence)\n",
    "            summand += (parent*child)\n",
    "        return summand\n",
    "                                   \n",
    "def get_prob(X, e, bn):\n",
    "    evidence = e.copy()\n",
    "    X = bn.find_node(X)\n",
    "    list_vals = []\n",
    "    for i in X.values:\n",
    "        evidence[X.variable] = i\n",
    "        list_vals.append(enumerater(bn.bn_var, evidence))\n",
    "        \n",
    "    total = sum(list_vals)\n",
    "    for i in range(len(list_vals)):\n",
    "        list_vals[i] /= total\n",
    "    #turn everything into a proper distribution\n",
    "        \n",
    "    dict_list = {}\n",
    "    for i in range(len(X.values)):\n",
    "        dict_list[X.values[i]] = list_vals[i]\n",
    "    print(dict_list)\n",
    "    return dict_list"
   ]
  },
  {
   "cell_type": "markdown",
   "metadata": {},
   "source": [
    "Use your `get_prob` function to calculate the following probabilities. Print them to the screen and compare to the original Bayes net figure given to make sure the output passes these \"unit tests\".\n",
    "\n",
    "1. The marginal probability of `Family History` is $P(FH=T)=0.15$\n",
    "2. The probability of *not* experiencing `Angina Pectoris`, given `Heart Disease` is observed, is $P(Ang=F \\mid HD=T)=1-0.85=0.15$\n",
    "3. The probability of `High Blood Pressure`, given a person does `Smoke and/or use Alcohol` but does not get `Moderate Exercise`, is $P(HBP=T \\mid Sm=T, ME=F)=0.72$"
   ]
  },
  {
   "cell_type": "code",
   "execution_count": 10,
   "metadata": {},
   "outputs": [
    {
     "name": "stdout",
     "output_type": "stream",
     "text": [
      "{True: 0.15, False: 0.85}\n",
      "{True: 0.85, False: 0.15000000000000002}\n",
      "{True: 0.7199999999999999, False: 0.28}\n",
      "P(Family History) {True: 0.15, False: 0.85}\n",
      "P(Angina Pectoris | Heart Disease) {True: 0.85, False: 0.15000000000000002}\n",
      "P(High Blood Pressure | Smokes, Alcohol | - Moderate Exercise) {True: 0.7199999999999999, False: 0.28}\n"
     ]
    }
   ],
   "source": [
    "ath = BayesNode('Atheroscierosis', '', (T,F), 0.53)\n",
    "fam_hist = BayesNode('Family History', '', (T,F), 0.15)\n",
    "M_E = BayesNode('Moderate Exercise', '', (T,F), 0.5)\n",
    "\n",
    "S_A = BayesNode('Smoking ^ Alcohol', '', (T,F), 0.2)\n",
    "H_BP = BayesNode('High Blood Pressure', ['Smoking ^ Alcohol', 'Moderate Exercise'], (T,F), {(T,T) : 0.6, (T,F) : 0.72, (F,T) : 0.33, (F,F) : 0.51})\n",
    "heart = BayesNode('Heart Disease', ['Atheroscierosis', 'High Blood Pressure', 'Family History'], (T,F), {(T,T,T):0.92, (T,T,F):0.91, (T,F,T):0.81, (T,F,F):0.77, (F,T,T):0.75, (F,T,F):0.69, (F,F,T):0.38, (F,F,F):0.23})\n",
    "ang = BayesNode('Angina Pectoris', ['Heart Disease'], (T,F), {T:0.85, F:0.4})\n",
    "rapid_h = BayesNode('Rapid Heartbeats', ['Heart Disease'], (T,F), {T:0.99, F:0.3})\n",
    "\n",
    "\n",
    "nodes = [S_A, M_E, H_BP, ath, fam_hist, heart, ang, rapid_h]\n",
    "Bnet = BayesNet(nodes)\n",
    "\n",
    "p1 = get_prob('Family History', {}, Bnet)\n",
    "p2 = get_prob('Angina Pectoris', {'Heart Disease':True}, Bnet)\n",
    "p3 = get_prob('High Blood Pressure', {'Smoking ^ Alcohol':True, 'Moderate Exercise':False}, Bnet)\n",
    "\n",
    "print(\"P(Family History)\", p1)\n",
    "print(\"P(Angina Pectoris | Heart Disease)\", p2)\n",
    "print(\"P(High Blood Pressure | Smokes, Alcohol | - Moderate Exercise)\", p3)"
   ]
  },
  {
   "cell_type": "markdown",
   "metadata": {},
   "source": [
    "<a/ id='p1c'></a>\n",
    "\n",
    "### (1c)\n",
    "\n",
    "Calculate the probability of observing someone with `High Blood Pressure`, $P(HBP=T)$, *by hand*, showing all work in Markdown/LateX below."
   ]
  },
  {
   "cell_type": "markdown",
   "metadata": {
    "collapsed": true
   },
   "source": [
    "**Your answer:**"
   ]
  },
  {
   "cell_type": "markdown",
   "metadata": {},
   "source": [
    "$P(HBP = T)$\n",
    "\n",
    "$\\Sigma$ **BELOW**\n",
    "\n",
    "\n",
    "$P(+Sm)*P(+ME)*P(HBP|+Sm, +ME) = (.2*.5*.6)$\n",
    "\n",
    "$P(+Sm)*P(-ME)*P(HBP|+Sm, -ME) = (.2*.5*.72)$\n",
    "\n",
    "$P(-Sm)*P(+ME)*P(HBP|-Sm, +ME) = (.8*.5*.33)$\n",
    "\n",
    "$P(-Sm)*P(-ME)*P(HBP |-Sm, -ME) = (.8*.5*.51)$"
   ]
  },
  {
   "cell_type": "code",
   "execution_count": 11,
   "metadata": {},
   "outputs": [
    {
     "name": "stdout",
     "output_type": "stream",
     "text": [
      "0.468\n"
     ]
    }
   ],
   "source": [
    "print((.2*.5*.6) + (.2*.5*.72) + (.8*.5*.33) + (.8*.5*.51))"
   ]
  },
  {
   "cell_type": "markdown",
   "metadata": {},
   "source": [
    "**Verify** your calculation using your `get_prob` function."
   ]
  },
  {
   "cell_type": "code",
   "execution_count": 12,
   "metadata": {},
   "outputs": [
    {
     "name": "stdout",
     "output_type": "stream",
     "text": [
      "{True: 0.4680000000000001, False: 0.532}\n"
     ]
    },
    {
     "data": {
      "text/plain": [
       "{False: 0.532, True: 0.4680000000000001}"
      ]
     },
     "execution_count": 12,
     "metadata": {},
     "output_type": "execute_result"
    }
   ],
   "source": [
    "get_prob('High Blood Pressure', {}, Bnet)"
   ]
  },
  {
   "cell_type": "markdown",
   "metadata": {},
   "source": [
    "<a/ id='p1d'></a>\n",
    "\n",
    "### (1d)\n",
    "\n",
    "Now calculate the following probabilities using your `get_prob` function.\n",
    "\n",
    "[i] The probability of an arbitrary individual having `Heart Disease`, $P(HD=T)$"
   ]
  },
  {
   "cell_type": "code",
   "execution_count": 13,
   "metadata": {},
   "outputs": [
    {
     "name": "stdout",
     "output_type": "stream",
     "text": [
      "{True: 0.6617765600000001, False: 0.33822343999999993}\n"
     ]
    },
    {
     "data": {
      "text/plain": [
       "{False: 0.33822343999999993, True: 0.6617765600000001}"
      ]
     },
     "execution_count": 13,
     "metadata": {},
     "output_type": "execute_result"
    }
   ],
   "source": [
    "get_prob('Heart Disease', {}, Bnet)"
   ]
  },
  {
   "cell_type": "markdown",
   "metadata": {},
   "source": [
    "[ii] The probability that an individual does *not* have `Heart Disease`, given that `Rapid Heartbeat` was observed, $P(HD=F \\mid Rapid=T)$"
   ]
  },
  {
   "cell_type": "code",
   "execution_count": 14,
   "metadata": {},
   "outputs": [
    {
     "name": "stdout",
     "output_type": "stream",
     "text": [
      "{True: 0.865895362727999, False: 0.13410463727200098}\n"
     ]
    },
    {
     "data": {
      "text/plain": [
       "{False: 0.13410463727200098, True: 0.865895362727999}"
      ]
     },
     "execution_count": 14,
     "metadata": {},
     "output_type": "execute_result"
    }
   ],
   "source": [
    "get_prob('Heart Disease', {'Rapid Heartbeats':True}, Bnet)"
   ]
  },
  {
   "cell_type": "markdown",
   "metadata": {},
   "source": [
    "[iii] The probability of an individual having `High Blood Pressure` if they have `Heart Disease` and a `Family History`, $P(HBP=T \\mid HD=T, FH=T)$"
   ]
  },
  {
   "cell_type": "code",
   "execution_count": 15,
   "metadata": {},
   "outputs": [
    {
     "name": "stdout",
     "output_type": "stream",
     "text": [
      "{True: 0.5486791513343575, False: 0.4513208486656426}\n"
     ]
    },
    {
     "data": {
      "text/plain": [
       "{False: 0.4513208486656426, True: 0.5486791513343575}"
      ]
     },
     "execution_count": 15,
     "metadata": {},
     "output_type": "execute_result"
    }
   ],
   "source": [
    "get_prob('High Blood Pressure', {'Heart Disease':True, 'Family History':True}, Bnet)"
   ]
  },
  {
   "cell_type": "markdown",
   "metadata": {},
   "source": [
    "[iv] The probability that an individual is a `Smoker/Alcohol User` if they have `Heart Disease`, $P(Sm=T \\mid HD=T)$"
   ]
  },
  {
   "cell_type": "code",
   "execution_count": 16,
   "metadata": {},
   "outputs": [
    {
     "name": "stdout",
     "output_type": "stream",
     "text": [
      "{True: 0.2163440784303391, False: 0.7836559215696609}\n"
     ]
    },
    {
     "data": {
      "text/plain": [
       "{False: 0.7836559215696609, True: 0.2163440784303391}"
      ]
     },
     "execution_count": 16,
     "metadata": {},
     "output_type": "execute_result"
    }
   ],
   "source": [
    "get_prob('Smoking ^ Alcohol', {'Heart Disease':True}, Bnet)"
   ]
  },
  {
   "cell_type": "markdown",
   "metadata": {},
   "source": [
    "[v] How would you expect the probability in [iv] to change if you also know the individual has `High Blood Pressure`?  Verify your hypothesis by calculating the relevant probability."
   ]
  },
  {
   "cell_type": "markdown",
   "metadata": {},
   "source": [
    "**Your answer:**"
   ]
  },
  {
   "cell_type": "markdown",
   "metadata": {},
   "source": [
    "I would expect the probability of Smoking and Alcohol to go up, as it would seem to be more likely that they either do not Exercise or they use Alcohol/Smoke if someone has High Blood Pressure."
   ]
  },
  {
   "cell_type": "code",
   "execution_count": 17,
   "metadata": {},
   "outputs": [
    {
     "name": "stdout",
     "output_type": "stream",
     "text": [
      "{True: 0.28205128205128205, False: 0.717948717948718}\n"
     ]
    },
    {
     "data": {
      "text/plain": [
       "{False: 0.717948717948718, True: 0.28205128205128205}"
      ]
     },
     "execution_count": 17,
     "metadata": {},
     "output_type": "execute_result"
    }
   ],
   "source": [
    "get_prob('Smoking ^ Alcohol', {'Heart Disease':True, 'High Blood Pressure':True}, Bnet)"
   ]
  },
  {
   "cell_type": "markdown",
   "metadata": {},
   "source": [
    "[vi] How would you expect the probability in [v] to change if you also know that the individual does *not* get `Moderate Exercise` (in addition to having `Heart Disease` and `High Blood Pressure`)?  Explain your answer using concepts from class.  Verify your answer by calculating the relevant probability."
   ]
  },
  {
   "cell_type": "markdown",
   "metadata": {
    "collapsed": true
   },
   "source": [
    "I would expect the probability that they are Smokers/Drinkers would be lower, as it's still a decent chance to have Heart Disease if you don't have moderate exercise- but that does not necessarily indicate that you are a smoker/drinker."
   ]
  },
  {
   "cell_type": "markdown",
   "metadata": {},
   "source": [
    "**Your answer:**"
   ]
  },
  {
   "cell_type": "code",
   "execution_count": 18,
   "metadata": {},
   "outputs": [
    {
     "name": "stdout",
     "output_type": "stream",
     "text": [
      "{True: 0.2608695652173913, False: 0.7391304347826088}\n"
     ]
    },
    {
     "data": {
      "text/plain": [
       "{False: 0.7391304347826088, True: 0.2608695652173913}"
      ]
     },
     "execution_count": 18,
     "metadata": {},
     "output_type": "execute_result"
    }
   ],
   "source": [
    "get_prob('Smoking ^ Alcohol', {'Heart Disease':True, 'High Blood Pressure':True, 'Moderate Exercise':False}, Bnet)"
   ]
  },
  {
   "cell_type": "markdown",
   "metadata": {},
   "source": [
    "---\n",
    "\n",
    "<a id='p2'></a>[Back to top](#top)\n",
    "\n",
    "<img src=\"https://inhabitat.com/wp-content/blogs.dir/1/files/2014/02/norman-bike-riding-dog.png\" style=\"width: 350px;\"/>\n",
    "\n",
    "## Problem 2:  Bayesian network to model decision-making\n",
    "\n",
    "Let's consider using a Bayesian network to model our decision about whether or not to ride our bike to work today.  This decision depends heavily on the weather, so let's focus on that.\n",
    "\n",
    "In class, we focused on Boolean variables.  For example, we might base our biking decision on whether or not it is raining.  But in reality, it probably matters *how hard* it is raining.  So suppose we break the variable `Rain` up into three discrete bins: `none`, `light` and `heavy`.\n",
    "\n",
    "The temperature also factors into our decision.  There is definitely a sweet spot, where temperatures are neither too warm nor too cold, so it is very likely we would enjoy riding our bike.  So we can model the variable `Temperature` also using three discrete bins: `cold`, `moderate` and `warm`.\n",
    "\n",
    "So a Bayesian network to model our decision for whether or not to bike to work could be as follows, where the first letter of each discrete bin is used to denote that variable value (i.e., `R=h` stands for heavy rain conditions).\n",
    "\n",
    "<img src=\"http://www.cs.colorado.edu/~tonyewong/home/resources/bayesnet_biking2.png\" style=\"width: 650px;\"/>"
   ]
  },
  {
   "cell_type": "markdown",
   "metadata": {},
   "source": [
    "<a/ id='p2a'></a>\n",
    "\n",
    "### (2a)\n",
    "\n",
    "Modify the `P` probability function to be able to handle these ternary parent nodes."
   ]
  },
  {
   "cell_type": "code",
   "execution_count": 19,
   "metadata": {
    "collapsed": true
   },
   "outputs": [],
   "source": [
    "def P(var, value, evidence={}):\n",
    "    '''The probability distribution for P(var | evidence), \n",
    "    when all parent variables are known (in evidence)'''\n",
    "    if len(var.parents)==1:\n",
    "        # only one parent\n",
    "        row = evidence[var.parents[0]]\n",
    "    else:\n",
    "        # multiple parents\n",
    "        row = tuple(evidence[parent] for parent in var.parents)\n",
    "    if len(var.values) == 2:\n",
    "        if value:\n",
    "            return var.cpt[row]\n",
    "        return (1 - var.cpt[row])\n",
    "    elif isinstance(var.cpt[row], float):\n",
    "        print(var.values)\n",
    "        return var.cpt[row]\n",
    "    return var.cpt[row][value]"
   ]
  },
  {
   "cell_type": "markdown",
   "metadata": {},
   "source": [
    "Set up `BayesNode` objects for each of `Rain`, `Temp` and `Bike`, and create a `BayesNet` object to model the Bayesian network for this decision.  Again, you can use whatever structure you wish for your `BayesNet`, but please use the `BayesNode` class.  You may need to make minor modifications to the `BayesNode` class (e.g., changing/adding attributes), although none are strictly necessary."
   ]
  },
  {
   "cell_type": "code",
   "execution_count": 20,
   "metadata": {
    "collapsed": true
   },
   "outputs": [],
   "source": [
    "Rain = BayesNode('Rain', '', ('none','light','heavy'), {'none':0.8, 'light':0.15, 'heavy':0.05})\n",
    "Temp = BayesNode('Temp', '', ('cold', 'moderate', 'warm'), {'cold':0.3, 'moderate':0.6, 'warm':0.1})\n",
    "Bike = BayesNode('Bike', ['Rain', 'Temp'], (T,F), {('none','cold'):0.7, ('none','moderate'):0.99, ('none','warm'):0.9, ('light','cold'):0.4, ('light','moderate'):0.6, ('light','warm'):0.5, ('heavy','cold'):0.2, ('heavy','moderate'):0.4, ('heavy','warm'):0.3})\n",
    "\n",
    "b_net_nodes = [Rain, Temp, Bike]\n",
    "b_net = BayesNet(b_net_nodes)"
   ]
  },
  {
   "cell_type": "markdown",
   "metadata": {},
   "source": [
    "**Verify** that your modified probability function `P` is working by checking the following \"unit tests\". Print the output to screen and compare to what you expect from the figure above.\n",
    "\n",
    "1. The marginal probability of no rain is $P(Rain=n)=0.8$\n",
    "1. The marginal probability of light rain is $P(Rain=l)=0.15$\n",
    "1. The marginal probability of heavy rain is $P(Rain=h)=0.05$\n",
    "1. The probability of biking given that it is raining heavily and the temperature is cold, is $P(Bike=T \\mid Rain=h, Temp=c)=0.2$"
   ]
  },
  {
   "cell_type": "code",
   "execution_count": 21,
   "metadata": {},
   "outputs": [
    {
     "name": "stdout",
     "output_type": "stream",
     "text": [
      "{'none': 0.7999999999999999, 'light': 0.14999999999999997, 'heavy': 0.049999999999999996}\n",
      "{True: 0.2, False: 0.8}\n"
     ]
    },
    {
     "data": {
      "text/plain": [
       "{False: 0.8, True: 0.2}"
      ]
     },
     "execution_count": 21,
     "metadata": {},
     "output_type": "execute_result"
    }
   ],
   "source": [
    "get_prob('Rain', {}, b_net)\n",
    "get_prob('Bike', {'Rain':'heavy', 'Temp':'cold'}, b_net)"
   ]
  },
  {
   "cell_type": "markdown",
   "metadata": {},
   "source": [
    "<a/ id='p2b'></a>\n",
    "\n",
    "### (2b)\n",
    "\n",
    "Make any necessary modifications to your `get_prob` function from Problem 1, so that you can use it to calculate marginal probabilities and conditional probabilities for this problem. It is possible that your function does not require any modifications."
   ]
  },
  {
   "cell_type": "code",
   "execution_count": 22,
   "metadata": {
    "collapsed": true
   },
   "outputs": [],
   "source": [
    "#I do not need to construct additional Pylons."
   ]
  },
  {
   "cell_type": "markdown",
   "metadata": {},
   "source": [
    "Use `get_prob` to calculate $P(Bike)$, the probability distribution for whether or not you will ride your bike on any given day."
   ]
  },
  {
   "cell_type": "code",
   "execution_count": 23,
   "metadata": {},
   "outputs": [
    {
     "name": "stdout",
     "output_type": "stream",
     "text": [
      "{True: 0.8112, False: 0.18880000000000002}\n"
     ]
    },
    {
     "data": {
      "text/plain": [
       "{False: 0.18880000000000002, True: 0.8112}"
      ]
     },
     "execution_count": 23,
     "metadata": {},
     "output_type": "execute_result"
    }
   ],
   "source": [
    "get_prob('Bike', {}, b_net)"
   ]
  },
  {
   "cell_type": "markdown",
   "metadata": {},
   "source": [
    "Use `get_prob` to calculate the probability that you will ride your bike, given that it is lightly raining."
   ]
  },
  {
   "cell_type": "code",
   "execution_count": 24,
   "metadata": {},
   "outputs": [
    {
     "name": "stdout",
     "output_type": "stream",
     "text": [
      "{True: 0.53, False: 0.47}\n"
     ]
    },
    {
     "data": {
      "text/plain": [
       "{False: 0.47, True: 0.53}"
      ]
     },
     "execution_count": 24,
     "metadata": {},
     "output_type": "execute_result"
    }
   ],
   "source": [
    "get_prob('Bike', {'Rain':'light'}, b_net)"
   ]
  },
  {
   "cell_type": "markdown",
   "metadata": {},
   "source": [
    "<a/ id='p2c'></a>\n",
    "\n",
    "### (2c)\n",
    "\n",
    "We are trapped indoors because some jerk gave us a ton of Intro to Artificial Intelligence homework to do.  Suppose we look out the window and see people biking. They sure do look like they're having fun! *Given* this information, we can actually make inferences regarding the temperature outside!  What is the probability distribution for temperature, given that we observe people biking?\n",
    "\n",
    "First, compute this using your `get_prob` function."
   ]
  },
  {
   "cell_type": "code",
   "execution_count": 25,
   "metadata": {},
   "outputs": [
    {
     "name": "stdout",
     "output_type": "stream",
     "text": [
      "{'cold': 0.2329881656804734, 'moderate': 0.6671597633136096, 'warm': 0.09985207100591718}\n"
     ]
    },
    {
     "data": {
      "text/plain": [
       "{'cold': 0.2329881656804734,\n",
       " 'moderate': 0.6671597633136096,\n",
       " 'warm': 0.09985207100591718}"
      ]
     },
     "execution_count": 25,
     "metadata": {},
     "output_type": "execute_result"
    }
   ],
   "source": [
    "get_prob('Temp', {'Bike':T}, b_net)"
   ]
  },
  {
   "cell_type": "code",
   "execution_count": 49,
   "metadata": {},
   "outputs": [
    {
     "name": "stdout",
     "output_type": "stream",
     "text": [
      "{True: 0.63, False: 0.37}\n",
      "{True: 0.902, False: 0.09800000000000002}\n",
      "{True: 0.8100000000000002, False: 0.18999999999999995}\n",
      "Prob(Temp | Bike):  0.4602906000000001\n"
     ]
    }
   ],
   "source": [
    "x = get_prob('Bike', {'Temp':'cold'}, b_net)[1]\n",
    "x2 = get_prob('Bike', {'Temp':'moderate'}, b_net)[1]\n",
    "x3 = get_prob('Bike', {'Temp':'warm'}, b_net)[1]\n",
    "\n",
    "print(\"Prob(Temp | Bike): \", x*x2*x3)"
   ]
  },
  {
   "cell_type": "markdown",
   "metadata": {},
   "source": [
    "<a/ id='p2d'></a>\n",
    "\n",
    "### (2d)\n",
    "\n",
    "Confirm your answer to **2c** by hand, showing *all* relevant work below in a LateX/Markdown cell."
   ]
  },
  {
   "cell_type": "markdown",
   "metadata": {
    "collapsed": true
   },
   "source": [
    "$P(Temp | Bike) = \\frac{P(Bike | Temp) * P(Temp)}{P(Bike)}$\n",
    "\n",
    "This step is a gigantic B%#%\n",
    "\n",
    "We need to calculate P(Bike) to calculate this. To do so, we would need to calculate everything as we did in **1.C)**. This is something I do not wish to do, as it is a great deal of work. So, I will write out the equation and then use the relevant probability from my code.\n",
    "\n",
    "\n",
    "$P(Bike) = P(n)*P(c)*P(B | n, c) + P(\\neg{n})*P(c)*P(B | \\neg{n}, c)\n",
    "+ P(n)*P(\\neg{c})*P(B | n, \\neg(c)) + P(\\neg{n})*P(\\neg{c})*P(B | \\neg{n}, \\neg{c}) + P(l)*P(c)*P(B | l, c) + P(\\neg{l})*P(c)*P(B | \\neg{l}, c)\n",
    "+ P(l)*P(\\neg{c})*P(B | l, \\neg(c)) + P(\\neg{l})*P(\\neg{c})*P(B | \\neg{l}, \\neg{c}) P(h)*P(c)*P(B | h, c) + P(\\neg{h})*P(c)*P(B | \\neg{h}, c)\n",
    "+ P(h)*P(\\neg{c})*P(B | h, \\neg(c)) + P(\\neg{h})*P(\\neg{c})*P(B | \\neg{h}, \\neg{c})$\n",
    "\n",
    "Yay. That's adequately ugly.\n",
    "\n",
    "So, to calculate that *monstrosity*, we plug in the appropriate values. This comes out to be $18\\%$. (Roughly). \n",
    "Then, we do some twiddel-y hand wave-y magic and plug in some numbers to the equation below."
   ]
  },
  {
   "cell_type": "markdown",
   "metadata": {},
   "source": [
    "$$\n",
    "P(C | Bike) = [P(n) * P(b | n, c) + P(l) * P(b | l, c) + P(h) * P(h | h, c)] * P(c)\n",
    "$$\n",
    "$$\n",
    "P(W | Bike) = [P(n) * P(b | n, w) + P(l) * P(b | l, w) + P(h) * P(h | h, w)]*P(w)\n",
    "$$\n",
    "$$\n",
    "P(M | Bike) = [P(n) * P(b | n, m) + P(l) * P(b | l, n) + P(h) * P(h | h, m)]*P(m)\n",
    "$$\n",
    "\n",
    "Then, we need to normalize the values over eachother. So, we sum the values together and divide each by the total. \n",
    "\n",
    "I do the calculations below."
   ]
  },
  {
   "cell_type": "markdown",
   "metadata": {},
   "source": [
    "**Your answer:**\n"
   ]
  },
  {
   "cell_type": "code",
   "execution_count": 27,
   "metadata": {},
   "outputs": [
    {
     "name": "stdout",
     "output_type": "stream",
     "text": [
      "P(B| c): 0.23298816568047337, P(B | m): 0.6671597633136096, P(B | w): 0.09985207100591718\n"
     ]
    }
   ],
   "source": [
    "pbc = (0.8*0.7 + 0.15*0.4 + 0.05*0.2)*0.3\n",
    "pbm = (0.8*0.99 + 0.15*0.6 + 0.05*0.4)*0.6\n",
    "pbw = (0.8*0.9 + 0.15*0.5 + 0.05*0.3)*0.1\n",
    "\n",
    "total = pbc + pbm + pbw\n",
    "pbc/= total\n",
    "pbm/= total\n",
    "pbw/= total\n",
    "print(\"P(B| c): {}, P(B | m): {}, P(B | w): {}\".format(pbc, pbm, pbw))"
   ]
  },
  {
   "cell_type": "markdown",
   "metadata": {},
   "source": [
    "**Hey! Those numbers match up! Yay! It worked.**"
   ]
  },
  {
   "cell_type": "markdown",
   "metadata": {},
   "source": [
    "<a/ id='p2e'></a>\n",
    "\n",
    "### (2e)\n",
    "\n",
    "Finally, confirm your confirmation of the probability distribution for `Temp` by using approximate Bayesian computation and 10,000 samples.  That is, use the **prior sampling** and **\"rejection sampling\"** techniques from class to estimate the probabilities associated with each possible value for `Temp`, given that there are people biking outside."
   ]
  },
  {
   "cell_type": "code",
   "execution_count": 28,
   "metadata": {
    "collapsed": true
   },
   "outputs": [],
   "source": [
    "def sample_2parent(row, variable, parents):\n",
    "    return np.random.choice([T,F], p=[P(variable, T, {parents[0]: row[parents[0]], parents[1]: row[parents[1]]}), \n",
    "                                      P(variable, F, {parents[0]: row[parents[0]], parents[1] : row[parents[1]]})])\n",
    "#thank \n",
    "#god \n",
    "#for \n",
    "#the \n",
    "#notebook\n",
    "\n",
    "n_sample = 10000\n",
    "p_dist_Temp = [0.3, 0.6, 0.1]\n",
    "p_dist_Rain = [0.8, 0.15, 0.05]\n",
    "\n",
    "Temp_list = ['cold', 'moderate', 'warm']\n",
    "Rain_list = ['none', 'light', 'heavy']\n",
    "sample_Temp = np.random.choice(Temp_list, size = n_sample, p=p_dist_Temp)\n",
    "\n",
    "dfSample = pd.DataFrame({'Temp': sample_Temp})\n",
    "dfSample['Rain'] = np.random.choice(Rain_list, size = n_sample, p=p_dist_Rain)\n",
    "dfSample['Bike'] = dfSample.apply(sample_2parent, axis=1, variable = Bike, parents=Bike.parents)\n",
    "\n"
   ]
  },
  {
   "cell_type": "markdown",
   "metadata": {},
   "source": [
    "As a \"Unit Test\", check what the probability of riding your bike is, given no other information.  Make sure this approximately matches your answer to **2b**."
   ]
  },
  {
   "cell_type": "code",
   "execution_count": 29,
   "metadata": {},
   "outputs": [
    {
     "name": "stdout",
     "output_type": "stream",
     "text": [
      "Probability it was cold: 0.22198888202594194\n",
      "Probability it was moderate: 0.10389129092032119\n",
      "Probability it was warm: 0.6741198270537369\n"
     ]
    }
   ],
   "source": [
    "df = dfSample[(dfSample['Bike'] == True)]\n",
    "print('Probability it was cold: {}'.format((sum(df['Temp'] == 'cold'))/len(df))) \n",
    "print('Probability it was moderate: {}'.format((sum(df['Temp'] == 'warm'))/len(df)))\n",
    "print('Probability it was warm: {}'.format((sum(df['Temp'] == 'moderate'))/len(df)))"
   ]
  },
  {
   "cell_type": "markdown",
   "metadata": {},
   "source": [
    "\n"
   ]
  },
  {
   "cell_type": "markdown",
   "metadata": {},
   "source": [
    "---\n",
    "\n",
    "<a id='p3'></a>\n",
    "\n",
    "## Problem 3:  Markov models - random walk to Taco Bell\n",
    "\n",
    "Your friend Chris went to a party last night and drank way too much Fun Juice.  Chris is feeling a bit hungry, so he leaves the party, which is at the corner of 6th Street East and 3rd Street North, and heads for Taco Bell, which is located at the corner of 2nd Street East and 1st Street North.  A figure depicting this neighborhood is given below.\n",
    "\n",
    "<img src=\"http://www.cs.colorado.edu/~tonyewong/home/resources/random_walk_to_taco_bell.png\" style=\"width: 650px;\"/>\n",
    "\n",
    "Fun Juice makes Chris' sense of direction quite poor, so at each intersection along his way, he picks any one of the available directions with equal probability.  Chris at least knows not to go north of 4th Street North, south of 0th Street North, east of 7th Street East, or west of 0th Street East, and has the common decency not to cut through anyone's yard (i.e., he only walks along streets).\n",
    "\n",
    "Suppose Chris only cares about traveling between from one intersection to another, and considers one *move* to be walking one block, from one intersection to an adjacent intersection.\n",
    "\n",
    "Since this grid is precisely a Cartesian coordinate grid, let the bottom-left corner of the neighborhood be represented by $(0,0)$.  Then the available moves from that location are to walk East (right, in the $+x$ direction) to $(1,0)$ or North to $(0,1)$.\n",
    "\n",
    "<a id='p3a'></a>\n",
    "\n",
    "### (3a)\n",
    "\n",
    "Create a class for `Neighborhood` and for `Agent`, to represent the neighborhood and the agent trying to get to Taco Bell:\n",
    "\n",
    "`Neighborhood(n_northsouth, n_eastwest, taco_bell)`:\n",
    "* `n_northsouth` and `n_eastwest` provide the number of streets running north-south and the number of streets running east-west, respectively.  In the given figure, there are 5 streets running east-west, for example.\n",
    "* `taco_bell` is a tuple providing the coordinates of Taco Bell in this neighborhood.\n",
    "* has attributes for:\n",
    "  * number of streets running north-south\n",
    "  * number of streets running east-west\n",
    "  * all of the intersections in the neighborhood\n",
    "  * the location of the Taco Bell in the neighborhood\n",
    "* Implement in your code a check to make sure the location of the Taco Bell is within the neighborhood's coordinates.  Assume that the south-west corner of the neighborhood is always $(0,0)$.\n",
    "\n",
    "`Agent(name, loc, neighborhood)`:\n",
    "* In the constructor, provide the agent with a `name` (string), initial location as a tuple (`loc`), and a `Neighborhood` to live in. Store these as attributes.\n",
    "* Fill in the rest of the needed methods for the agent:\n",
    "  * `available_moves()` returns a list of tuples, representing the locations the agent can walk to from its current location\n",
    "  * `random_move()` returns one of the possible moves\n",
    "  * `walk(move)` updates the agent's location, if they make the given argument `move`\n",
    "  * `at_taco_bell()` returns True if the agent is at the same intersection as the neighborhood Taco Bell, and False otherwise"
   ]
  },
  {
   "cell_type": "code",
   "execution_count": 30,
   "metadata": {},
   "outputs": [],
   "source": [
    "from random import randint as randint\n",
    "class Neighborhood:\n",
    "    def __init__(self, n_northsouth, n_eastwest, taco_bell):\n",
    "        '''Set up the layout of the neighborhood by giving the # streets\n",
    "        running North/South (n_northsouth) and the # streets running \n",
    "        East/West). Based on these, store all the available locations \n",
    "        (intersections) in the neighborhood, and make sure the given\n",
    "        coordinates for Taco Bell are valid'''\n",
    "        \n",
    "        self.northsouth = n_northsouth\n",
    "        self.eastwest = n_eastwest\n",
    "        self.intersections = []\n",
    "        self.tacobell_loc = taco_bell\n",
    "        \n",
    "        for i in range(0,n_northsouth):\n",
    "            for j in range(0,n_eastwest):\n",
    "                self.intersections.append(tuple((i,j)))\n",
    "        \n",
    "        \n",
    "class Agent:\n",
    "    def __init__(self, name, loc, neighborhood):\n",
    "        \n",
    "        self.name = name\n",
    "        self.current_loc = loc\n",
    "        self.neighborhood = neighborhood\n",
    "        self.moves_made = [loc]\n",
    "        \n",
    "        \n",
    "    def available_moves(self):\n",
    "        '''Return a list of available intersections the agent can move to,\n",
    "        based on the layout of the agent's neighborhood'''\n",
    "        \n",
    "        moves = []\n",
    "        x,y = self.current_loc\n",
    "        \n",
    "        if x > 0: \n",
    "            moves.append(tuple((x-1,y))) \n",
    "            if x < self.neighborhood.northsouth:\n",
    "                moves.append(tuple((x+1,y)))\n",
    "        else: moves.append(tuple((x+1,y)))\n",
    "            \n",
    "        if y > 0:\n",
    "            moves.append(tuple((x,y-1)))\n",
    "            if y < self.neighborhood.eastwest:\n",
    "                moves.append(tuple((x,y+1)))\n",
    "        else: moves.append(tuple((x,y+1)))\n",
    "            \n",
    "        return moves\n",
    "        \n",
    "\n",
    "    def random_move(self):\n",
    "        '''Return a random move out of the available moves\n",
    "        from the agent`s current location'''\n",
    "        \n",
    "        potential_moves = self.available_moves()\n",
    "        random_loc = randint(0, len(potential_moves)-1)\n",
    "        self.moves_made.append(potential_moves[random_loc])\n",
    "        return potential_moves[random_loc]\n",
    "        \n",
    "    def walk(self):\n",
    "        \n",
    "        '''Update the agent to a new location'''\n",
    "        \n",
    "        self.current_loc = self.random_move()\n",
    "        \n",
    "        \n",
    "    def at_taco_bell(self):\n",
    "        '''Return True if the agent is at Taco Bell, and False otherwise'''\n",
    "        \n",
    "        if self.current_loc == self.neighborhood.tacobell_loc:\n",
    "            return True\n",
    "        return False\n",
    "        \n",
    "    \n",
    "    def __repr__(self):\n",
    "        return '{} at {}'.format(self.name, self.current_loc)"
   ]
  },
  {
   "cell_type": "markdown",
   "metadata": {},
   "source": [
    "#### Unit tests"
   ]
  },
  {
   "cell_type": "code",
   "execution_count": 31,
   "metadata": {},
   "outputs": [
    {
     "name": "stderr",
     "output_type": "stream",
     "text": [
      "...\n",
      "----------------------------------------------------------------------\n",
      "Ran 3 tests in 0.004s\n",
      "\n",
      "OK\n"
     ]
    },
    {
     "data": {
      "text/plain": [
       "<unittest.runner.TextTestResult run=3 errors=0 failures=0>"
      ]
     },
     "execution_count": 31,
     "metadata": {},
     "output_type": "execute_result"
    }
   ],
   "source": [
    "tests_to_run = unittest.TestSuite()\n",
    "tests_to_run.addTest(Tests_Problem3('test_moves_corner'))\n",
    "tests_to_run.addTest(Tests_Problem3('test_moves_center'))\n",
    "tests_to_run.addTest(Tests_Problem3('test_tacos'))\n",
    "unittest.TextTestRunner().run(tests_to_run)"
   ]
  },
  {
   "cell_type": "markdown",
   "metadata": {},
   "source": [
    "<a/ id='p3b'></a>\n",
    "\n",
    "### (3b)\n",
    "\n",
    "Create a neighborhood and Chris agent to represent the situation above.\n",
    "\n",
    "Then, run an ensemble of 1,000 simulations to obtain a sample for the number of blocks Chris must travel in order to arrive at Taco Bell at (2,1), starting from the party at (6,3).  Report the expected number of blocks traveled."
   ]
  },
  {
   "cell_type": "code",
   "execution_count": 34,
   "metadata": {
    "scrolled": true
   },
   "outputs": [
    {
     "name": "stdout",
     "output_type": "stream",
     "text": [
      "Avg num blocks to return to Taco Bell:  95.81\n"
     ]
    }
   ],
   "source": [
    "neighborhood = Neighborhood(8,5, (2,1))\n",
    "num_trials = 1000\n",
    "path_taken = []\n",
    "total_blocks_traversed = 0\n",
    "\n",
    "for i in range(0,1000):\n",
    "    chris = Agent('Chris', (2,5), neighborhood)\n",
    "    while not chris.at_taco_bell():\n",
    "        chris.walk()    \n",
    "    total_blocks_traversed += len(chris.moves_made)-1\n",
    "    path_taken.append(chris.moves_made)\n",
    "\n",
    "average = total_blocks_traversed / num_trials\n",
    "print(\"Avg num blocks to return to Taco Bell: \", average)"
   ]
  },
  {
   "cell_type": "markdown",
   "metadata": {},
   "source": [
    "**Reflection:**  The sequence of states (coordinates) that Chris passed through in his travels is a **Markov chain** - each new state depended only on the previous one.  This process, called a **random walk**, can be a useful way to explore a state space.\n",
    "\n",
    "\n",
    "<a/ id='p3c'></a>\n",
    "\n",
    "### (3c)\n",
    "\n",
    "Let us explore one of the characteristics of a Markov chain that we often find ourselves interested in:  the **expected time of first return** to a state.  In particular, let's examine Chris' **expected time of first return to Taco Bell**.\n",
    "\n",
    "Build an ensemble of 1,000 simulations of how many blocks Chris must travel to return to Taco Bell, given that he starts at Taco Bell in the neighborhood depicted in the figure above.\n",
    "\n",
    "We can estimate the expected time of first return to Taco Bell using the **mean** number of blocks Chris must travel in order to make it back to those tasty tacos. Report this estimate based on your simulation results."
   ]
  },
  {
   "cell_type": "code",
   "execution_count": 35,
   "metadata": {},
   "outputs": [
    {
     "name": "stdout",
     "output_type": "stream",
     "text": [
      "Avg num blocks to return to Taco Bell:  47.646\n"
     ]
    }
   ],
   "source": [
    "neighborhood = Neighborhood(8, 5, (2,1))\n",
    "n_trials = 1000\n",
    "total = 0\n",
    "\n",
    "for i in range(n_trials):\n",
    "    agent_chris = Agent(\"Chris\", (2,1), neighborhood)\n",
    "    agent_chris.walk()\n",
    "    while not agent_chris.at_taco_bell():\n",
    "        agent_chris.walk()\n",
    "    total += len(agent_chris.moves_made) - 1\n",
    "average = total/n_trials\n",
    "print(\"Avg num blocks to return to Taco Bell: \", average)\n"
   ]
  },
  {
   "cell_type": "markdown",
   "metadata": {},
   "source": [
    "<a id='p3d'></a>\n",
    "\n",
    "### (3d)\n",
    "\n",
    "Your friend Dan also is leaving the party.  Dan leaves just after Chris.  Dan, however, has a preference for heading west (left, in the $-x$ direction) when he can, for that is where Ralphie roams.  In fact, his preference for being nearer to Ralphie is so strong that if it is possible for him to move west, then he does so 60% of the time, with the other 40% of the probability distributed equally among his other options.\n",
    "\n",
    "Revise the `Agent` class - or better yet, *sub-class it*, to represent Dan's strange yet endearing decision-making for which random direction to move in."
   ]
  },
  {
   "cell_type": "code",
   "execution_count": 36,
   "metadata": {},
   "outputs": [],
   "source": [
    "class doubleAgent(Agent):\n",
    "   \n",
    "    def random_move(self):\n",
    "        '''Return a random move out of the available moves\n",
    "        from the agent`s current location'''\n",
    "        options = self.available_moves()\n",
    "        if (options[0][0] == self.current_loc[0]-1): #if west is available\n",
    "            buffalo_calling = np.random.choice(['Yeh', 'Neh'], p = [0.6, 0.4])\n",
    "            if buffalo_calling == 'Yeh': x = 0\n",
    "        x = randint(0, len(options)-1)\n",
    "        self.moves_made.append(options[x])\n",
    "        return options[x]"
   ]
  },
  {
   "cell_type": "code",
   "execution_count": 40,
   "metadata": {},
   "outputs": [
    {
     "name": "stdout",
     "output_type": "stream",
     "text": [
      "(6, 2)\n"
     ]
    }
   ],
   "source": [
    "neighborhood = Neighborhood(8,5, (2,1))\n",
    "\n",
    "agent_dan = doubleAgent('Dan', (6,3), neighborhood)\n",
    "agent_dan.walk()\n",
    "print(agent_dan.current_loc)"
   ]
  },
  {
   "cell_type": "markdown",
   "metadata": {},
   "source": [
    "Now simulate 1,000 samples for how many blocks Dan will need to travel in order to make it to Taco Bell from the party.  Report the expected number of blocks Dan must travel to get some delicious chalupas."
   ]
  },
  {
   "cell_type": "code",
   "execution_count": 41,
   "metadata": {},
   "outputs": [
    {
     "name": "stdout",
     "output_type": "stream",
     "text": [
      "Avg num blocks to get to Taco Bell:  125.072\n"
     ]
    }
   ],
   "source": [
    "neighborhood = Neighborhood(8, 5, (2,1))\n",
    "n_trials = 1000\n",
    "total = 0\n",
    "\n",
    "for i in range(n_trials):\n",
    "    agent_dan = Agent(\"Dan\", (6,3), neighborhood)\n",
    "    agent_dan.walk()\n",
    "    while not agent_dan.at_taco_bell():\n",
    "        agent_dan.walk()\n",
    "    total += len(agent_dan.moves_made) - 1\n",
    "average = total/n_trials\n",
    "print(\"Avg num blocks to get to Taco Bell: \", average)"
   ]
  },
  {
   "cell_type": "markdown",
   "metadata": {},
   "source": [
    "<a/ id='p3e'></a>\n",
    "\n",
    "### (3e)\n",
    "\n",
    "What is Dan's expected time of first return to Taco Bell, as measured by the number of blocks traveled?"
   ]
  },
  {
   "cell_type": "code",
   "execution_count": 42,
   "metadata": {},
   "outputs": [
    {
     "name": "stdout",
     "output_type": "stream",
     "text": [
      "Avg num blocks to return to Taco Bell:  46.528\n"
     ]
    }
   ],
   "source": [
    "neighborhood = Neighborhood(8, 5, (2,1))\n",
    "n_trials = 1000\n",
    "total = 0\n",
    "\n",
    "for i in range(n_trials):\n",
    "    agent_dan = Agent(\"Dan\", (2,1), neighborhood)\n",
    "    agent_dan.walk()\n",
    "    while agent_dan.at_taco_bell() == False:\n",
    "        agent_dan.walk()\n",
    "    total += len(agent_dan.moves_made) - 1\n",
    "average = total/n_trials\n",
    "print(\"Avg num blocks to return to Taco Bell: \", average)"
   ]
  },
  {
   "cell_type": "markdown",
   "metadata": {},
   "source": [
    "### (3f)\n",
    "\n",
    "Consider the smaller neighborhood depicted below, with only 3 north-south streets, 2 east-west streets, and a Taco Bell located at $(1,1)$.\n",
    "\n",
    "<img src=\"http://www.cs.colorado.edu/~tonyewong/home/resources/random_walk_to_taco_bell_small.png\" style=\"width: 250px;\"/>\n",
    "\n",
    "There are 6 distinct states in the state space, one for each of the 6 intersections.  Recall that the transition probability matrix denotes the probability of moving from the state given by the row of the matrix to the state given by the column.\n",
    "\n",
    "Recall that the transition probability matrix is given by\n",
    "\n",
    "$$T = \\left[\\begin{array}{cccccc} \n",
    "  q((0,0),(0,0)) & q((0,0),(1,0)) & q((0,0),(2,0)) & q((0,0),(0,1)) & q((0,0),(1,1)) & q((0,0),(2,1)) \\\\\n",
    "  q((1,0),(0,0)) & q((1,0),(1,0)) & q((1,0),(2,0)) & q((1,0),(0,1)) & q((1,0),(1,1)) & q((1,0),(2,1)) \\\\\n",
    "  q((2,0),(0,0)) & q((2,0),(1,0)) & q((2,0),(2,0)) & q((2,0),(0,1)) & q((2,0),(1,1)) & q((2,0),(2,1)) \\\\\n",
    "  q((0,1),(0,0)) & q((0,1),(1,0)) & q((0,1),(2,0)) & q((0,1),(0,1)) & q((0,1),(1,1)) & q((0,1),(2,1)) \\\\\n",
    "  q((1,1),(0,0)) & q((1,1),(1,0)) & q((1,1),(2,0)) & q((1,1),(0,1)) & q((1,1),(1,1)) & q((1,1),(2,1)) \\\\\n",
    "  q((2,1),(0,0)) & q((2,1),(1,0)) & q((2,1),(2,0)) & q((2,1),(0,1)) & q((2,1),(1,1)) & q((2,1),(2,1)) \\\\  \n",
    "\\end{array} \\right]$$\n",
    "\n",
    "where $q(s_1, s_2)$ is the probability of moving from state $s_1$ to state $s_2$ in one step.\n",
    "\n",
    "**For example:**  If Dan is currently at $(1,0)$, then:\n",
    "* $q((1,0),(0,0))=0.6$\n",
    "* $q((1,0),(2,0))=0.2$\n",
    "* $q((1,0),(1,1))=0.2$\n",
    "* $q((1,0),(0,1))=q((1,0),(2,1))=0$\n",
    "* $q((1,0),(1,0))=0$ because Dan must move somewhere.\n",
    "\n",
    "This row is already filled in for you.\n",
    "\n",
    "Finish filling in the rest of the transition probability matrices below for each of Chris and Dan."
   ]
  },
  {
   "cell_type": "code",
   "execution_count": 43,
   "metadata": {
    "collapsed": true
   },
   "outputs": [],
   "source": [
    "                # (0,0)\n",
    "T_dan = np.array([[ 0 , 0.5, 0  , 0.5, 0  , 0  ],  #(0,0)\n",
    "                  [0.6, 0  , 0.2, 0  , 0.2, 0  ], \n",
    "                  [ 0 , 0.6, 0  , 0  , 0  , 0.4], \n",
    "                  [0.5, 0  , 0  , 0  , 0.5, 0  ],\n",
    "                  [ 0 , 0  , 0.2, 0.6, 0.2, 0  ], \n",
    "                  [ 0 , 0  , 0.4, 0  , 0.6, 0  ]]) #(2,1)\n",
    "\n",
    "                #   (0,0)\n",
    "T_chris = np.array([[ 0 , 0.5, 0  , 0.5, 0  , 0  ], #(0,0)\n",
    "                    [1/3, 0  , 1/3, 0  , 1/3, 0  ], \n",
    "                    [ 0 , 0.5, 0  , 0  , 0  , 0.5], \n",
    "                    [0.5, 0  , 0  , 0  , 0.5, 0  ], \n",
    "                    [ 0 , 1/3, 1/3, 1/3, 0  , 0  ], \n",
    "                    [ 0 , 0  , 0.5, 0  , 0.5, 0  ]]) #(2,1)"
   ]
  },
  {
   "cell_type": "markdown",
   "metadata": {},
   "source": [
    "Use your transition probability matrices to estimate the probabilities (independently) that each of Chris and Dan will be at Taco Bell in 2 moves, given that they starts at $(0,0)$."
   ]
  },
  {
   "cell_type": "code",
   "execution_count": 44,
   "metadata": {},
   "outputs": [
    {
     "name": "stdout",
     "output_type": "stream",
     "text": [
      "Dan: \n",
      " [[ 0.55  0.    0.1   0.    0.35  0.  ]\n",
      " [ 0.    0.42  0.04  0.42  0.04  0.08]\n",
      " [ 0.36  0.    0.28  0.    0.36  0.  ]\n",
      " [ 0.    0.25  0.1   0.55  0.1   0.  ]\n",
      " [ 0.3   0.12  0.04  0.12  0.34  0.08]\n",
      " [ 0.    0.24  0.12  0.36  0.12  0.16]]\n",
      "Chris: \n",
      " [[ 0.41666667  0.          0.16666667  0.          0.41666667  0.        ]\n",
      " [ 0.          0.44444444  0.11111111  0.27777778  0.          0.16666667]\n",
      " [ 0.16666667  0.          0.41666667  0.          0.41666667  0.        ]\n",
      " [ 0.          0.41666667  0.16666667  0.41666667  0.          0.        ]\n",
      " [ 0.27777778  0.16666667  0.11111111  0.          0.27777778  0.16666667]\n",
      " [ 0.          0.41666667  0.16666667  0.16666667  0.          0.25      ]]\n"
     ]
    }
   ],
   "source": [
    "print(\"Dan: \\n\", np.matmul(T_dan, T_dan))\n",
    "print(\"Chris: \\n\", np.matmul(T_chris, T_chris))"
   ]
  },
  {
   "cell_type": "markdown",
   "metadata": {},
   "source": [
    "What is the probability that either are at Taco Bell after 3 moves, if they start from $(0,0)$?  Why is this?"
   ]
  },
  {
   "cell_type": "code",
   "execution_count": 45,
   "metadata": {},
   "outputs": [
    {
     "name": "stdout",
     "output_type": "stream",
     "text": [
      "Chris: 0.41666666666666663, Dan: 0.35\n"
     ]
    }
   ],
   "source": [
    "chris = (T_chris[0,1]*T_chris[1,4])+(T_chris[0,3]*T_chris[3,4])\n",
    "dan = (T_dan[0,1]*T_dan[1,4])+(T_dan[0,3]*T_dan[3,4])\n",
    "print(\"Chris: {}, Dan: {}\".format(chris, dan))"
   ]
  },
  {
   "cell_type": "markdown",
   "metadata": {},
   "source": [
    "**Your answer:**"
   ]
  },
  {
   "cell_type": "markdown",
   "metadata": {
    "collapsed": true
   },
   "source": [
    "At any point in our undirected graph we are, at most, 2 moves from Taco Bell. If we were to take 3 steps in any direction (including stepping backwards/retracing our steps), we would *never* be at Taco Bell, as Taco Bell is on an even number of edges away (and we would, therefore, overshoot Taco Bell).\n",
    "\n",
    "However, if we were to change the parity of our graph's edges, it would be a different story. As of now, however, the probability would be 0."
   ]
  },
  {
   "cell_type": "markdown",
   "metadata": {},
   "source": [
    "<a/ id='p3g'></a>\n",
    "\n",
    "### (3g)\n",
    "\n",
    "If Chris and Dan both spend all of their time walking around and eating at Taco Bell, what is the long-run proportion of Chris and Dan's time that each will spend at Taco Bell?  That is, if you run the random walk simulation for a very, very long time, what is your estimate for the proportion of states in the Markov chain that are at Taco Bell?\n",
    "\n",
    "First, estimate these probabilities using long Markov chain random walk simulations for each of Chris and Dan. About 100,000 moves should be enough to stabilize your estimates."
   ]
  },
  {
   "cell_type": "code",
   "execution_count": 46,
   "metadata": {},
   "outputs": [
    {
     "name": "stdout",
     "output_type": "stream",
     "text": [
      "Proportion of time Chris is at Taco Bell: 0.05398%\n",
      "Proportion of time Dan is at Taco Bell: 0.05378%\n"
     ]
    }
   ],
   "source": [
    "neighborhood = Neighborhood(7,2,(1,1))\n",
    "agent_chris = Agent('Chris', (0,0), neighborhood)\n",
    "agent_dan = Agent('Dan', (0,0), neighborhood)\n",
    "trials = 100000\n",
    "dan = 0\n",
    "chris = 0\n",
    "\n",
    "for i in range(trials):\n",
    "    agent_chris.walk()\n",
    "    agent_dan.walk()\n",
    "    if agent_chris.at_taco_bell():\n",
    "        chris += 1\n",
    "    if agent_dan.at_taco_bell():\n",
    "        dan += 1\n",
    "        \n",
    "print(\"Proportion of time Chris is at Taco Bell: {}%\".format(chris/trials))\n",
    "print(\"Proportion of time Dan is at Taco Bell: {}%\".format(dan/trials))"
   ]
  },
  {
   "cell_type": "markdown",
   "metadata": {},
   "source": [
    "Now estimate these probabilities using your transition probability matrices.  You should notice something a little bit strange when you compare these results against those from the simulations above.  Provide a couple sentences interpreting these results."
   ]
  },
  {
   "cell_type": "markdown",
   "metadata": {
    "collapsed": true
   },
   "source": [
    "It would seem that the results are following a schema of some sort. They're periodically resetting (every three columns, in this case). \n",
    "\n",
    "My best guess would be to assume that this is due to the nature of the graphical structure of our city. Since we are alternating from an even and odd parity edge at each step, the probability that we reach Taco Bell varies. \n",
    "\n",
    "Likewise, Dan's is a little more turbulent as he's more likely to move West if he can, and therefore will have a harder time reaching Taco Bell without first getting in front of it. \n",
    "\n",
    "Chris, on the other hand, has a much more periodic structure, as he moves randomly. "
   ]
  },
  {
   "cell_type": "markdown",
   "metadata": {},
   "source": [
    "**Your answer:**"
   ]
  },
  {
   "cell_type": "code",
   "execution_count": 47,
   "metadata": {},
   "outputs": [
    {
     "name": "stdout",
     "output_type": "stream",
     "text": [
      "100,000 moves: Chris = \n",
      "[[ 0.14718615  0.23376623  0.19047619  0.13852814  0.19480519  0.0952381 ]\n",
      " [ 0.14718615  0.23376623  0.19047619  0.13852814  0.19480519  0.0952381 ]\n",
      " [ 0.14718615  0.23376623  0.19047619  0.13852814  0.19480519  0.0952381 ]\n",
      " [ 0.14718615  0.23376623  0.19047619  0.13852814  0.19480519  0.0952381 ]\n",
      " [ 0.14718615  0.23376623  0.19047619  0.13852814  0.19480519  0.0952381 ]\n",
      " [ 0.14718615  0.23376623  0.19047619  0.13852814  0.19480519  0.0952381 ]]\n",
      "100,000 moves: Dan = \n",
      "[[ 0.22556391  0.16917293  0.09398496  0.2481203   0.22556391  0.03759398]\n",
      " [ 0.22556391  0.16917293  0.09398496  0.2481203   0.22556391  0.03759398]\n",
      " [ 0.22556391  0.16917293  0.09398496  0.2481203   0.22556391  0.03759398]\n",
      " [ 0.22556391  0.16917293  0.09398496  0.2481203   0.22556391  0.03759398]\n",
      " [ 0.22556391  0.16917293  0.09398496  0.2481203   0.22556391  0.03759398]\n",
      " [ 0.22556391  0.16917293  0.09398496  0.2481203   0.22556391  0.03759398]]\n"
     ]
    }
   ],
   "source": [
    "C = T_chris\n",
    "D = T_dan\n",
    "for i in range(100000):\n",
    "    C = np.matmul(C, T_chris)\n",
    "    D = np.matmul(D, T_dan)\n",
    "print('100,000 moves: Chris = \\n{}'.format(C))\n",
    "print('100,000 moves: Dan = \\n{}'.format(D))"
   ]
  },
  {
   "cell_type": "markdown",
   "metadata": {
    "collapsed": true
   },
   "source": [
    "<br><br><br>\n",
    "\n",
    "<a id='helpers'></a>\n",
    "\n",
    "---\n",
    "\n",
    "[Back to top](#top)\n",
    "\n",
    "## Some things that might be useful\n",
    "\n",
    "Easiest way to start:  Click this cell, go to \"Cell\" in the toolbar above, and click \"Run All Below\""
   ]
  },
  {
   "cell_type": "code",
   "execution_count": 4,
   "metadata": {
    "collapsed": true
   },
   "outputs": [],
   "source": [
    "from scipy import stats\n",
    "import unittest\n",
    "import numpy as np\n",
    "import pandas as pd\n",
    "import matplotlib.pyplot as plt"
   ]
  },
  {
   "cell_type": "markdown",
   "metadata": {},
   "source": [
    "## Unit tests"
   ]
  },
  {
   "cell_type": "code",
   "execution_count": 5,
   "metadata": {
    "collapsed": true
   },
   "outputs": [],
   "source": [
    "class Tests_Problem1(unittest.TestCase):\n",
    "    def setUp(self):\n",
    "        self.p1 = BayesNode('p1', '', [T,F], 0.3)\n",
    "        self.p2 = BayesNode('p2', '', [T,F], 0.6)\n",
    "        self.c  = BayesNode('c', ['p1', 'p2'], [T,F], {(T,T):0.1, (T,F):0.2, (F,T):0.3, (F,F):0.4})\n",
    "    def test_onenode(self):\n",
    "        self.assertEqual(P(self.p1, T), 0.3)\n",
    "    def test_twonode(self):\n",
    "        self.assertEqual(P(self.c, F, {'p1':T, 'p2':F}), 0.8)\n",
    "        \n",
    "class Tests_Problem3(unittest.TestCase):\n",
    "    def test_moves_corner(self):\n",
    "        nh = Neighborhood(2,2, (1,1))\n",
    "        chris = Agent('Chris', (0,0), nh)\n",
    "        self.assertTrue(((1,0) in chris.available_moves()) and ((0,1) in chris.available_moves()))\n",
    "    def test_moves_center(self):\n",
    "        nh = Neighborhood(3,3, (1,1))\n",
    "        chris = Agent('Chris', (1,1), nh)\n",
    "        self.assertTrue(((1,0) in chris.available_moves()) and ((0,1) in chris.available_moves()) and\n",
    "                        ((1,2) in chris.available_moves()) and ((2,1) in chris.available_moves()))\n",
    "    def test_tacos(self):\n",
    "        nh = Neighborhood(3,3, (1,1))\n",
    "        chris = Agent('Chris', (1,1), nh)\n",
    "        self.assertTrue(chris.at_taco_bell())"
   ]
  },
  {
   "cell_type": "markdown",
   "metadata": {},
   "source": [
    "[Back to top](#top)"
   ]
  },
  {
   "cell_type": "code",
   "execution_count": null,
   "metadata": {
    "collapsed": true
   },
   "outputs": [],
   "source": []
  }
 ],
 "metadata": {
  "kernelspec": {
   "display_name": "Python 3",
   "language": "python",
   "name": "python3"
  },
  "language_info": {
   "codemirror_mode": {
    "name": "ipython",
    "version": 3
   },
   "file_extension": ".py",
   "mimetype": "text/x-python",
   "name": "python",
   "nbconvert_exporter": "python",
   "pygments_lexer": "ipython3",
   "version": "3.6.1"
  }
 },
 "nbformat": 4,
 "nbformat_minor": 2
}
