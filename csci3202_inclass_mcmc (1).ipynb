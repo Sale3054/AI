{
 "cells": [
  {
   "cell_type": "markdown",
   "metadata": {},
   "source": [
    "# CSCI 3202, Spring 2018\n",
    "\n",
    "# Friday 6 April 2018\n",
    "\n",
    "# In-class notebook:  Markov chain Monte Carlo (MCMC)\n",
    "\n",
    "<a id='top'></a>\n",
    "\n",
    "<br>\n",
    "\n",
    "### Your name(s): Austin Argueso-Nott, Jake Tran\n",
    "\n",
    "<br>\n",
    "\n",
    "* You will submit this to Moodle as **Quizlet 13**.  \n",
    "* Be sure to include **everyone's name that you worked with**. \n",
    "* Note that **everyone must turn in their own copy of the assignment**.\n",
    "\n",
    "---\n",
    "\n",
    "Shortcuts:  [Top](#top) || [Intro](#intro) | [Algorithm](#algo) | [Implementation](#imple) | [Classes](#class) | [Metropolist-Hastings](#mh) | [Inference](#infer) || [Conclusions](#conc)\n",
    "\n",
    "---\n",
    "\n",
    "Before we begin, let's load a few packages that we might find useful."
   ]
  },
  {
   "cell_type": "code",
   "execution_count": 23,
   "metadata": {
    "collapsed": true
   },
   "outputs": [],
   "source": [
    "import numpy as np\n",
    "from scipy import stats\n",
    "import matplotlib.pyplot as plt"
   ]
  },
  {
   "cell_type": "markdown",
   "metadata": {},
   "source": [
    "<a id='intro'></a>\n",
    "\n",
    "---\n",
    "### Markov chain Monte Carlo\n",
    "\n",
    "Markov chain Monte Carlo (MCMC) is a common and powerful technique to sample from distributions that are a pain in the ass/impossible to write down explicitly (like, actually do the integrals needed).  Part of the power of MCMC is in its ability to **characterize uncertainty** in the things you are trying to estimate.  Let us have a look, shall we?"
   ]
  },
  {
   "cell_type": "markdown",
   "metadata": {},
   "source": [
    "<img src=\"https://www.thesun.co.uk/wp-content/uploads/2017/10/nintchdbpict000357607366.jpg?strip=all&w=960\" width=\"250\">\n",
    "\n",
    "\n",
    "**Suppose we have a linear model** for the number of squirrels we see on a given day ($y$), as a function of the number of miles we ride a bike that day ($x$).  So the ***true*** process model, based on the unknown true values of the slope and intercept parameters, which we can call $\\alpha^*$ and $\\beta^*$, is:\n",
    "\n",
    "$$y_{true} = \\alpha^* x + \\beta^*$$\n",
    "\n",
    "We can make this more realistic by incorporating some normally-distributed uncertainty, say, with mean 0 and standard deviation $\\sigma$.  Call these uncertain measurements $y_{meas}$:\n",
    "\n",
    "$$y_{meas} = y_{true} + \\epsilon = \\alpha^* x + \\beta^* + \\epsilon$$\n",
    "\n",
    "where $\\epsilon \\sim N(0, \\sigma^2)$ is our normally-distributed measurement error.\n",
    "\n",
    "Now we want to estimate $\\alpha$ and $\\beta$.  Call $\\hat{\\alpha}$ and $\\hat{\\beta}$ our estimates of these parameters.  They lead to a set of estimates of the response, $\\hat{y}$:\n",
    "\n",
    "$$\\hat{y} = \\hat{\\alpha} x + \\hat{\\beta}$$\n",
    "\n",
    "<br>\n",
    "\n",
    "**To start:**\n",
    "* set the random number seed so all our results (at least for this part) will be consistent\n",
    "* set up a grid of $x$ values between 0 and 10 in increments of 0.5, \n",
    "* let $\\alpha^* = 1$ and let $\\beta^* = 10$\n",
    "* let $\\sigma = 1.5$ represent the measurement uncertainty\n",
    "* calculate the true values $y_{true}$ and a set of measured values $y_{meas}$\n",
    "* make a plot of:\n",
    "  * number of miles biked ($x$) versus true number of squirrels seen ($y_{true}$), and\n",
    "  * measured number of squirrels seen ($y_{meas}$)\n",
    "  * include axis labels and a legend"
   ]
  },
  {
   "cell_type": "code",
   "execution_count": 24,
   "metadata": {},
   "outputs": [
    {
     "data": {
      "image/png": "[encoded data removed]",
      "text/plain": [
       "<matplotlib.figure.Figure at 0x1c9f11ee7f0>"
      ]
     },
     "metadata": {},
     "output_type": "display_data"
    }
   ],
   "source": [
    "np.random.seed(3202)\n",
    "\n",
    "astar = 1\n",
    "bstar = 10\n",
    "sigma = 1.5\n",
    "x_grid = np.arange(0,10,0.5)\n",
    "y_true = [astar*x + bstar for x in x_grid]\n",
    "\n",
    "# x and y values of our synthetic data set\n",
    "x_meas = np.arange(0,10,0.5)\n",
    "y_meas = [stats.norm.rvs(loc=y, scale=sigma) for y in y_true]\n",
    "\n",
    "plt.plot(x_grid, y_true, label='$y_{true}$')\n",
    "plt.scatter(x_grid, y_meas, color='coral', label='$y_{meas}$')\n",
    "plt.xlabel('Miles biked')\n",
    "plt.ylabel('Squirrels seen')\n",
    "plt.legend()\n",
    "plt.show()"
   ]
  },
  {
   "cell_type": "markdown",
   "metadata": {},
   "source": [
    "**Reflection:**  \n",
    "1. What do the values $\\alpha^* = 1$ and $\\beta^* = 10$ mean *physically*?\n",
    "2. How many data points do we have?\n",
    "\n",
    "<br>\n",
    "\n",
    "Of course, we could use good old-fashioned **least squares regression** to get estimates of the parameters $\\alpha$ and $\\beta$:"
   ]
  },
  {
   "cell_type": "code",
   "execution_count": 25,
   "metadata": {},
   "outputs": [
    {
     "name": "stdout",
     "output_type": "stream",
     "text": [
      "Slope estimate is 0.9106, intercept estimate is 10.3923\n"
     ]
    }
   ],
   "source": [
    "bestfit = stats.linregress(x=x_meas, y=y_meas)\n",
    "print('Slope estimate is {:0.4f}, intercept estimate is {:0.4f}'.format(bestfit.slope,bestfit.intercept))"
   ]
  },
  {
   "cell_type": "markdown",
   "metadata": {},
   "source": [
    "... but that doesn't tell us anything useful about the ***uncertainty*** in those estimates.\n",
    "\n",
    "*(NB: yes, you could get confidence intervals, but Bayesian estimation and inference are better for real-world decision-making. And Artificial Intelligence is all about teaching computers how to make decisions. So here we go!)*\n",
    "\n",
    "<br>\n",
    "\n",
    "So let's use **Markov chain Monte Carlo** to characterize the uncertainty in our estimates of those linear model parameters. To simplify, let's keep $\\beta$ fixed at the least square value from above, and only worry about estimating $\\alpha$."
   ]
  },
  {
   "cell_type": "code",
   "execution_count": 26,
   "metadata": {
    "collapsed": true
   },
   "outputs": [],
   "source": [
    "beta = bestfit.intercept"
   ]
  },
  {
   "cell_type": "markdown",
   "metadata": {},
   "source": [
    "<a id='algo'></a>\n",
    "\n",
    "---\n",
    "### Algorithm\n",
    "\n",
    "> **Metropolis-Hastings Algorithm (MCMC):**\n",
    "  Exactly the same as **simulated annealing** with the following modifications:\n",
    "  * save **all** of the previous parameter states because it's a Markov chain, so they all tell you something about your system\n",
    "  * probability of accepting a move at iteration $t$ is the ratio of **posterior scores** for the current and the proposed states:\n",
    "  $$p_{accept} = \\dfrac{\\pi(\\alpha_{new} \\mid y_{meas})}{\\pi(\\alpha_{t} \\mid y_{meas})}$$\n",
    "  where $\\pi(\\alpha \\mid y_{meas})$ is the posterior score for the parameter value $\\alpha$, given the data.\n",
    "    * if we accept the proposed move, then the next $\\alpha_{t+1}$ is set to $\\alpha_{new}$\n",
    "    * if we reject the proposed move, then the next $\\alpha_{t+1}$ is set to $\\alpha_t$ (no change)\n",
    "  * do this for some large number $N$ of iterations ($t=0, 1, 2, \\ldots, N$)\n",
    "  \n",
    "There are a lot of ways to improve and modify the MCMC algorithm, but **this is basically it**.\n",
    "\n",
    "M-H is just one of many MCMC algorithms, but is the most natural for us to use because of its close ties to simulated annealing.\n",
    "\n",
    "<br>\n",
    "\n",
    "**The why:**  If we use $p_{accept}$ as above, then some glorious things occur:\n",
    "1. the sequence of parameter estimates $\\{\\alpha_t\\}_{t=0}^N$ is a Markov chain (we know this already)\n",
    "2. math (not shown) reveals that this Markov chain has a stationary distribution...\n",
    "3. ... that just happens to be **the** posterior distribution $\\pi(\\alpha \\mid y_{meas})$"
   ]
  },
  {
   "cell_type": "markdown",
   "metadata": {},
   "source": [
    "<a id='imple'></a>\n",
    "\n",
    "---\n",
    "### Implementation\n",
    "\n",
    "To compute the acceptance probabilities for the Metropolis-Hastings algorithm, we need the posterior scores, which are:\n",
    "\n",
    "$$\\text{posterior score} = \\pi(\\alpha \\mid y_{meas}) = L(y_{meas} \\mid \\alpha) \\times \\pi(\\alpha)$$\n",
    "\n",
    "So, we will need a likelihood function, $L(y_{meas} \\mid \\alpha)$, and a prior distribution for $\\alpha$, $\\pi(\\alpha)$."
   ]
  },
  {
   "cell_type": "markdown",
   "metadata": {},
   "source": [
    "<br>\n",
    "\n",
    "#### Likelihood function\n",
    "For the likelihood function, we know the data are all normally distributed with mean 0 and standard deviation $\\sigma$. So, similarly to the SLR model problem from the homework, we will use the product of normal distributions for each data point:\n",
    "\n",
    "$$L(y \\mid \\alpha) = \\prod_{i=1}^N f(\\hat{y}_i-y_i \\mid \\mu=0, \\sigma)$$\n",
    "\n",
    "where $f(\\hat{y}_i-y_i \\mid \\mu=0, \\sigma)$ is a normal pdf evaluated at $\\hat{y}_i - y_i$, with mean 0 and standard deviation $\\sigma$, and $\\hat{y} = \\alpha x + \\beta$ (evaluated at the `x_grid` points, and with our fixed value for $\\beta$) (*hint:  see `scipy.stats.norm.pdf`*)\n",
    "\n",
    "Code up a `likelihood` function that takes a single argument `parameter` representing the $\\alpha$ at which we will evaluate our model to obtain $\\hat{y}$ and compare it against $y_{meas}$. Note that this assumes the use of some implicit variables passing into the function, but will keep things a little more tidy.\n",
    "\n",
    "**\"Unit test\":** $~~\\texttt{likelihood}(1.5) \\approx 1.6 \\times 10^{-37}$\n",
    "\n",
    "*If the random number generator seeding is version-dependent, you result might differ. As long as your result is in the ballpark of $10^{-30\\text{something}}$, you are probably fine.*"
   ]
  },
  {
   "cell_type": "code",
   "execution_count": 27,
   "metadata": {},
   "outputs": [
    {
     "data": {
      "text/plain": [
       "1.6245683261075742e-37"
      ]
     },
     "execution_count": 27,
     "metadata": {},
     "output_type": "execute_result"
    }
   ],
   "source": [
    "def likelihood(parameter):\n",
    "    yhat = parameter*x_grid + beta\n",
    "    collection = stats.norm.pdf(yhat - y_meas, loc = 0, scale = sigma)\n",
    "    acc = 1\n",
    "    for i in collection:\n",
    "        acc = acc * i\n",
    "    return acc\n",
    "\n",
    "likelihood(1.5)"
   ]
  },
  {
   "cell_type": "markdown",
   "metadata": {},
   "source": [
    "#### Prior distribution\n",
    "The simplest choice for a prior is use a uniform distribution... So let's do that! \n",
    "\n",
    "We should use a mechanistic understanding of the system we are studying to inform what the upper and lower bounds of our prior range should be. So condsider:  what is a reasonable lower bound on $\\alpha$?\n",
    "\n",
    "$0 \\leq \\alpha \\leq 5$ seems wide enough to capture anything we care about. Define a `prior` function that takes a single `parameter` argument and returns the prior probability for that parameter value. Again, my hair has gone a little bit gray because of the implicit function input...\n",
    "\n",
    "**\"Unit test\":** $~~ \\texttt{prior}(1.5) = 0.2$"
   ]
  },
  {
   "cell_type": "code",
   "execution_count": 28,
   "metadata": {},
   "outputs": [
    {
     "data": {
      "text/plain": [
       "0.2"
      ]
     },
     "execution_count": 28,
     "metadata": {},
     "output_type": "execute_result"
    }
   ],
   "source": [
    "ub = 5\n",
    "lb = 0\n",
    "\n",
    "def prior(parameter):\n",
    "    if parameter <= ub and parameter >= lb:\n",
    "        return (1/(ub-lb))\n",
    "    else:\n",
    "        return 0\n",
    "\n",
    "prior(1.5)    "
   ]
  },
  {
   "cell_type": "markdown",
   "metadata": {},
   "source": [
    "#### Posterior score\n",
    "Now for the sake of compactness, define a `posterior` function that returns the posterior score:\n",
    "\n",
    "$$\\texttt{posterior}(\\alpha) = \\texttt{likelihood}(\\alpha) \\times \\texttt{prior}(\\alpha)$$\n",
    "\n",
    "You can save some run-time by coding the `likelihood` function to only run if the `prior` function returns a nonzero probability.  If `prior`($\\alpha$)=0, then we know `posterior`($\\alpha$) is going to be 0 no matter what the `likelihood` function returns.  This doesn't matter much for this simple model, but it scales up very nicely."
   ]
  },
  {
   "cell_type": "code",
   "execution_count": 29,
   "metadata": {},
   "outputs": [
    {
     "name": "stdout",
     "output_type": "stream",
     "text": [
      "post(-6) 0.0\n",
      "post(1.5) 3.24913665222e-38\n",
      "3.2491366522151486e-38\n"
     ]
    }
   ],
   "source": [
    "def posterior(parameter):\n",
    "    return likelihood(parameter) * prior(parameter)\n",
    "\n",
    "print(\"post(-6)\", posterior(-6))\n",
    "print(\"post(1.5)\", posterior(1.5))\n",
    "print(1.6245683261075742e-37*.2)"
   ]
  },
  {
   "cell_type": "markdown",
   "metadata": {},
   "source": [
    "**\"Unit tests\"**:\n",
    "* What should `posterior(-6)` equal? Check this.\n",
    "* Check that `posterior(1.5)` = the product of your results above for `likelihood(1.5)` and `prior(1.5)`\n",
    "\n",
    "Since `posterior` is going to be returning some very small values, in practice we will use the `log(posterior)` values for this algorithm. But **Future You** can worry about that."
   ]
  },
  {
   "cell_type": "markdown",
   "metadata": {},
   "source": [
    "<a id='class'></a>\n",
    "\n",
    "---\n",
    "### Class structures\n",
    "\n",
    "#### `State` class from Local Search\n",
    "Just like for Simulated Annealing (and Hill-Climbing) we should keep track of our states ($\\alpha$ values) and the associated posterior scores.\n",
    "\n",
    "This is just like our Local Search, where now the `posterior` function is our objective function, which we want to maximize. The beauty of MCMC is that we are maximizing it ***in light of the uncertainties in our model and data***.\n",
    "\n",
    "**Define** an initial parameter estimate for $\\alpha$. The least squares regression value for $\\alpha$ above is a very reasonable first guess! **And create** an associated initial state for our MCMC algorithm to start from."
   ]
  },
  {
   "cell_type": "code",
   "execution_count": 47,
   "metadata": {
    "collapsed": true
   },
   "outputs": [],
   "source": [
    "class State:\n",
    "    def __init__(self, state, value):\n",
    "        self.state = state\n",
    "        self.value = value"
   ]
  },
  {
   "cell_type": "code",
   "execution_count": 48,
   "metadata": {},
   "outputs": [],
   "source": [
    "initialState = State(1, posterior(1))"
   ]
  },
  {
   "cell_type": "markdown",
   "metadata": {},
   "source": [
    "#### `Problem` class... also from Local Search\n",
    "\n",
    "Below is the code for the Simulated Annealing Problem sub-class, actually copy-pasted from my Local Search notebook and with a couple variable names changed.\n",
    "\n",
    "**Define** a `ProblemMCMC` object. Use the initial state and `posterior` function from above, and use the stepsize 0.05 to start."
   ]
  },
  {
   "cell_type": "code",
   "execution_count": 49,
   "metadata": {
    "collapsed": true
   },
   "outputs": [],
   "source": [
    "class ProblemMCMC:        \n",
    "    def __init__(self, initial, posterior, stepsize):\n",
    "        self.current = initial\n",
    "        self.post = posterior\n",
    "        self.stepsize = stepsize\n",
    "        \n",
    "    def random_move(self):\n",
    "        next_move = stats.multivariate_normal.rvs(self.current.state, self.stepsize)\n",
    "        return next_move, self.post(next_move)"
   ]
  },
  {
   "cell_type": "code",
   "execution_count": 50,
   "metadata": {
    "collapsed": true
   },
   "outputs": [],
   "source": [
    "mcmcProb = ProblemMCMC(initialState, posterior, 0.05)"
   ]
  },
  {
   "cell_type": "markdown",
   "metadata": {},
   "source": [
    "<a id='mh'></a>\n",
    "\n",
    "---\n",
    "### Metropolis-Hastings algorithm\n",
    "\n",
    "Below is pseudocode for the Metropolis-Hastings algorithm, which actually *does* the MCMC sampling. The function `mcmc` takes as input a `ProblemMCMC` class object, called `problem`, and a positive integer number of iterations to run the algorithm, `n_iter`.\n",
    "\n",
    "Fill in the rest of the code!  Your simulated annealing codes can be used as a very helpful guide."
   ]
  },
  {
   "cell_type": "code",
   "execution_count": 51,
   "metadata": {
    "collapsed": true
   },
   "outputs": [],
   "source": [
    "def mcmc(problem, n_iter):\n",
    "    \n",
    "    # want to keep growing these lists to track the parameter estimates\n",
    "    parameters = [problem.current.state]\n",
    "    posterior = [problem.current.value]\n",
    "    \n",
    "    for t in range(n_iter):\n",
    "\n",
    "        # Propose a new state\n",
    "        nextMove, movePost = problem.random_move()\n",
    "        # Calculate the acceptance probability\n",
    "        p_accept = (movePost/posterior[t])\n",
    "        # If p_accept >= 1\n",
    "        if p_accept >= 1:\n",
    "            # Add the proposed parameter to the end of the list of parameters\n",
    "            parameters.append(nextMove)\n",
    "            problem.current.state = nextMove\n",
    "            # Add the corresponding posterior score to the end of that list too\n",
    "            posterior.append(movePost)\n",
    "            problem.current.value = movePost\n",
    "        # If p_accept < 1\n",
    "        else:\n",
    "            # Accept with probability p_accept\n",
    "            accept = np.random.choice([True, False],p=[p_accept, 1-p_accept])\n",
    "            # If you accept:\n",
    "            if accept:\n",
    "                # Add the proposed parameter to the end of the list `parameters`\n",
    "                parameters.append(nextMove)\n",
    "                problem.current.state = nextMove\n",
    "                # Add the corresponding posterior score to the end of that list too\n",
    "                posterior.append(movePost)\n",
    "                problem.current.value = movePost\n",
    "            # If you reject:\n",
    "            else:\n",
    "                # Add another copy of the current parameter value to the end of the list `parameters`\n",
    "                parameters.append(parameters[t])\n",
    "                # Add the corresponding posterior score to the end of that list too\n",
    "                posterior.append(posterior[t])\n",
    "\n",
    "    return parameters, posterior# the `parameters` and `posterior` scores"
   ]
  },
  {
   "cell_type": "markdown",
   "metadata": {},
   "source": [
    "**As a first step,** make sure your implementation is working. Run 100 iterations and save the parameter estimates and the corresponding posterior scores.\n",
    "\n",
    "When plotted as a line, the parameter estimates as a function of iteration should look like the following, which is called a **trace plot** or **history plot** of the Markov chain:\n",
    "\n",
    "![trace plot](http://www.cs.colorado.edu/~tonyewong/home/resources/example_trace_plot.png)"
   ]
  },
  {
   "cell_type": "code",
   "execution_count": 52,
   "metadata": {
    "scrolled": true
   },
   "outputs": [
    {
     "data": {
      "image/png": "[encoded data removed]",
      "text/plain": [
       "<matplotlib.figure.Figure at 0x1c9f244b9b0>"
      ]
     },
     "metadata": {},
     "output_type": "display_data"
    }
   ],
   "source": [
    "np.random.seed(3202)\n",
    "n = 100\n",
    "initialState = State(1, posterior(1))\n",
    "mcmcProb = ProblemMCMC(initialState, posterior, 0.05)\n",
    "parameters, posteriorZ = mcmc(mcmcProb, n)\n",
    "\n",
    "plt.plot(parameters)\n",
    "plt.xlabel('Iteration')\n",
    "plt.ylabel('Alpha')\n",
    "plt.show()"
   ]
  },
  {
   "cell_type": "markdown",
   "metadata": {},
   "source": [
    "Once you have 100 iterations running smoothly and reproducing (approximately) the plot above, run 4000 iterations and generate a history plot. (*note:  this might take a few seconds*)"
   ]
  },
  {
   "cell_type": "code",
   "execution_count": 53,
   "metadata": {},
   "outputs": [
    {
     "data": {
      "image/png": "[encoded data removed]",
      "text/plain": [
       "<matplotlib.figure.Figure at 0x1c9f09bc1d0>"
      ]
     },
     "metadata": {},
     "output_type": "display_data"
    }
   ],
   "source": [
    "np.random.seed(3202)\n",
    "n = 4000\n",
    "initialState = State(1, posterior(1))\n",
    "mcmcProb = ProblemMCMC(initialState, posterior, 0.05)\n",
    "parameters, posteriorZ = mcmc(mcmcProb, n)\n",
    "\n",
    "plt.plot(parameters)\n",
    "plt.xlabel('Iteration')\n",
    "plt.ylabel('Alpha')\n",
    "plt.show()"
   ]
  },
  {
   "cell_type": "markdown",
   "metadata": {},
   "source": [
    "Your plot should display the **hairy caterpillar** look of a well-mixed Markov chain.  If it's right, you will know it because the history plot will resemble a hairy caterpillar (and Googling 'markov chain hairy caterpillar' will return a lot of appropriate pictures, as well as some cute critters).\n",
    "\n",
    "#### Acceptance ratio\n",
    "But another, more sciency, way that we can assess Markov chain quality is by calculating the **acceptance ratio**.  Come up with a way to calculate the proportion of parameter proposals that were accepted.  \n",
    "* One obvious way is to modify your `mcmc` codes above to return this as an output.\n",
    "* Another way you can swiftly do this post-processing is to use the `numpy` `diff` function.\n",
    "\n",
    "**Print out** the acceptance rate for your Markov chain simulation above."
   ]
  },
  {
   "cell_type": "code",
   "execution_count": 55,
   "metadata": {},
   "outputs": [
    {
     "name": "stdout",
     "output_type": "stream",
     "text": [
      "0.3084228942764309\n"
     ]
    }
   ],
   "source": [
    "print(np.count_nonzero(np.diff(parameters))/len(parameters))"
   ]
  },
  {
   "cell_type": "markdown",
   "metadata": {},
   "source": [
    "How do you know if your acceptane ratio is 'correct'?\n",
    "* For many parameters (think > 10), the optimal acceptance rate is about 23.4%\n",
    "* For one parameter (our case!), the optimal acceptance rate is about 44%\n",
    "\n",
    "<br>\n",
    "\n",
    "The acceptance rate for your Markov chain is almost certainly not 44%.  This is related to the **stepsize** used:\n",
    "* if you accept too few proposals, then your stepsize is too large (because you're leaping over good ones)\n",
    "* if you accept too many proposals, then your stepsize is too small (because you are too timid in your exploration)\n",
    "\n",
    "**Play around** with the `stepsize` input to the `ProblemMCMC` object and see if you can get something closer to 44%. "
   ]
  },
  {
   "cell_type": "code",
   "execution_count": 38,
   "metadata": {},
   "outputs": [
    {
     "data": {
      "image/png": "[encoded data removed]",
      "text/plain": [
       "<matplotlib.figure.Figure at 0x1c9f22e6eb8>"
      ]
     },
     "metadata": {},
     "output_type": "display_data"
    },
    {
     "name": "stdout",
     "output_type": "stream",
     "text": [
      "0.4461384653836541\n"
     ]
    }
   ],
   "source": [
    "np.random.seed(3202)\n",
    "n = 4000\n",
    "initialState = State(1, posterior(1))\n",
    "mcmcProb = ProblemMCMC(initialState, posterior, 0.02)\n",
    "parameters, posteriorZ = mcmc(mcmcProb, n)\n",
    "\n",
    "plt.plot(parameters)\n",
    "plt.xlabel('Iteration')\n",
    "plt.ylabel('Alpha')\n",
    "plt.show()\n",
    "\n",
    "print(np.count_nonzero(np.diff(parameters))/len(parameters))"
   ]
  },
  {
   "cell_type": "markdown",
   "metadata": {},
   "source": [
    "<a/ id='infer'></a>\n",
    "\n",
    "---\n",
    "### Posterior inference\n",
    "Now that our acceptance rate is about right, we can use the resulting Markov chain to make inferences regarding the parameter $\\alpha$.\n",
    "\n",
    "We only care about the Markov chain once it has converged to the **stationary distribution** though, which takes some time.  So we need to throw away the period during which it is still converging.  This process is called **burn-in**.\n",
    "\n",
    "Throw out the first half of your Markov chain for burn-in, and save the last half (2000 iterations) for analysis."
   ]
  },
  {
   "cell_type": "code",
   "execution_count": 39,
   "metadata": {
    "collapsed": true
   },
   "outputs": [],
   "source": [
    "newparameters = parameters[-2000:]"
   ]
  },
  {
   "cell_type": "markdown",
   "metadata": {},
   "source": [
    "#### Histograms\n",
    "... are one way to ***qualitatively*** display and characterize uncertainty in our model parameter.  Make a histogram of our posterior parameter estimates for $\\alpha$."
   ]
  },
  {
   "cell_type": "code",
   "execution_count": 40,
   "metadata": {},
   "outputs": [
    {
     "data": {
      "image/png": "[encoded data removed]",
      "text/plain": [
       "<matplotlib.figure.Figure at 0x1c9f24f5278>"
      ]
     },
     "metadata": {},
     "output_type": "display_data"
    }
   ],
   "source": [
    "%matplotlib inline\n",
    "\n",
    "l = np.percentile(newparameters, 5)\n",
    "u = np.percentile(newparameters, 95)\n",
    "    \n",
    "ci = np.array([l, u])\n",
    "\n",
    "fig, ax = plt.subplots(nrows=1, ncols=1, figsize=(16,8))\n",
    "ax.hist(newparameters, bins = np.arange(0.5,1.5,0.025), facecolor=\"darkolivegreen\", edgecolor=\"ivory\")\n",
    "ax.set_ylabel('Frequency', fontsize=16)\n",
    "ax.set_xlabel('Alpha Parameter value', fontsize=16)\n",
    "ax.set_title(\"Alpha Parameter stationary distribution\", fontsize=16)\n",
    "ax.grid(alpha=0.25)\n",
    "ax.set_xticks(np.arange(0.5,1.5,0.05))\n",
    "for i in ci:\n",
    "        ax.axvline(x=i, color='maroon', linestyle='--',)\n",
    "ax.set_axisbelow(True)"
   ]
  },
  {
   "cell_type": "markdown",
   "metadata": {},
   "source": [
    "#### Credible intervals\n",
    "... are a way to ***quantitatively*** characterize our parametric uncertainty.  Calculate and print to the screen the 90% credible interval, which is the 5-95% quantile range."
   ]
  },
  {
   "cell_type": "code",
   "execution_count": 41,
   "metadata": {},
   "outputs": [
    {
     "name": "stdout",
     "output_type": "stream",
     "text": [
      "[ 0.80647189  1.00250423]\n"
     ]
    }
   ],
   "source": [
    "print(ci)"
   ]
  },
  {
   "cell_type": "markdown",
   "metadata": {},
   "source": [
    "#### Projections\n",
    "\n",
    "It is possible that you would use MCMC to characterize uncertainty and that would be it.  But another big strength of MCMC is our ability now to generate a **posterior ensemble** and use it to make projections out-of-sample.  For example, our data did not include any bike rides longer than 10 miles.  So a natural question is: *what is our best estimate for the number of squirrels we would see on a 15-mile bike ride?* and equally importantly: *what is the uncertainty in that estimate?*\n",
    "\n",
    "**Estimate** the number of squirrels you would see on a 15-mile bike ride using the 2000 posterior samples for $\\alpha$.\n",
    "* create a histogram of your estimates of $y(15)$\n",
    "* calculate and print the 5-95% credible range for $y(15)$"
   ]
  },
  {
   "cell_type": "code",
   "execution_count": 42,
   "metadata": {},
   "outputs": [
    {
     "name": "stdout",
     "output_type": "stream",
     "text": [
      "[ 22.48935208  25.4298371 ]\n"
     ]
    },
    {
     "data": {
      "image/png": "[encoded data removed]",
      "text/plain": [
       "<matplotlib.figure.Figure at 0x1c9f23b0eb8>"
      ]
     },
     "metadata": {},
     "output_type": "display_data"
    }
   ],
   "source": [
    "\n",
    "newY = (np.array(newparameters)*15) + beta\n",
    "lY = np.percentile(newY, 5)\n",
    "uY = np.percentile(newY, 95)\n",
    "    \n",
    "ciY = np.array([lY, uY])\n",
    "print(ciY)\n",
    "\n",
    "fig, ax = plt.subplots(nrows=1, ncols=1, figsize=(16,8))\n",
    "ax.hist(newY, facecolor=\"darkolivegreen\", edgecolor=\"ivory\")\n",
    "ax.set_ylabel('Frequency', fontsize=16)\n",
    "ax.set_xlabel('Number of Squirrels', fontsize=16)\n",
    "ax.set_title(\"y(15)\", fontsize=16)\n",
    "ax.grid(alpha=0.25)\n",
    "for i in ciY:\n",
    "        ax.axvline(x=i, color='maroon', linestyle='--',)\n",
    "ax.set_axisbelow(True)"
   ]
  },
  {
   "cell_type": "markdown",
   "metadata": {},
   "source": [
    "<a/ id='conc'></a>\n",
    "\n",
    "---\n",
    "### Important take-aways:\n",
    "\n",
    "1. The Metropolis-Hasting MCMC algorithm is just simulated annealing done in a clever way...\n",
    "2. that allows us to sample from the **posterior distribution** of model parameters, **given the data**.\n",
    "6. Acceptance rate of about 23% is optimal only for lots parameters. For our single parameter, it's more like 44%.\n",
    "4. We can use MCMC and credible intervals/histograms to **characterize** and **quantify** uncertainty in both our parameters and predictions.\n",
    "\n",
    "<br>\n",
    "\n",
    "[Back to top](#top)"
   ]
  },
  {
   "cell_type": "code",
   "execution_count": null,
   "metadata": {
    "collapsed": true
   },
   "outputs": [],
   "source": []
  },
  {
   "cell_type": "code",
   "execution_count": null,
   "metadata": {
    "collapsed": true
   },
   "outputs": [],
   "source": []
  }
 ],
 "metadata": {
  "kernelspec": {
   "display_name": "Python 3",
   "language": "python",
   "name": "python3"
  },
  "language_info": {
   "codemirror_mode": {
    "name": "ipython",
    "version": 3
   },
   "file_extension": ".py",
   "mimetype": "text/x-python",
   "name": "python",
   "nbconvert_exporter": "python",
   "pygments_lexer": "ipython3",
   "version": "3.6.1"
  }
 },
 "nbformat": 4,
 "nbformat_minor": 2
}
