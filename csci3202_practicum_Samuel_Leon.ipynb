{
 "cells": [
  {
   "cell_type": "markdown",
   "metadata": {},
   "source": [
    "# CSCI 3202, Spring 2018: Practicum\n",
    "\n",
    "---\n",
    "\n",
    "<a id='top'></a>\n",
    "\n",
    "This practicum is due on Moodle by **4 PM on Friday 4 May 2018**.  Your solutions to theoretical questions should be done in Markdown/LateX directly below the associated question. Your solutions to computational questions should include any relevant Python code, as well as results and any written commentary.\n",
    "\n",
    "**The rules:**\n",
    "\n",
    "1. All work, code and analysis must be **your own**.\n",
    "1. You may use your course notes, posted lecture slides, in-class notebooks and homework solutions as resources.  You may also search online for answers to general knowledge questions, like the form of a probability distribution function, or how to perform a particular operation in Python.\n",
    "1. You may **not** post to message boards or other online resources asking for help.\n",
    "1. **You may not collaborate with classmates or anyone else.**\n",
    "1. This is meant to be like a coding portion of your final exam. So, I will be much less helpful than I typically am with homework. For example, I will not check answers, help debug your code, and so on.\n",
    "1. If you have a question, post it first as a **private** Piazza message. If I decide that it is appropriate for the entire class, then I will make it a public post (and anonymous).\n",
    "1. If something is left open-ended, it is probably because I intend for you to code it up however you want, and only care about the plots/analysis I see at the end. Feel free to ask clarifying questions though.\n",
    "\n",
    "Violation of these rules will result in an **F** and a trip to the Honor Code council.\n",
    "\n",
    "---\n",
    "**By writing your name below, you agree to abide by these rules:**\n",
    "\n",
    "**Your name:**\n",
    "\n",
    "---\n",
    "\n",
    "Shortcuts:  [Top](#top) || [1. Search](#p1) | [2. Bayes nets](#p2) | [3. Markov chains](#p3) | [4. Reinforcement learning](#p4) || [Bottom](#bottom)"
   ]
  },
  {
   "cell_type": "code",
   "execution_count": 1,
   "metadata": {
    "collapsed": true
   },
   "outputs": [],
   "source": [
    "import pandas as pd\n",
    "import numpy as np\n",
    "import scipy.stats as stats\n",
    "import matplotlib.pyplot as plt\n",
    "import unittest\n",
    "import heapq\n",
    "from matplotlib import colors\n",
    "from collections import defaultdict"
   ]
  },
  {
   "cell_type": "code",
   "execution_count": 2,
   "metadata": {
    "collapsed": true
   },
   "outputs": [],
   "source": [
    "class Tests_Problem1(unittest.TestCase):\n",
    "    '''\n",
    "    test suite for Problem 1 B) Heuristic functions\n",
    "    '''\n",
    "    def test_cols(self):\n",
    "        dist = heuristic_cols((4, 16), (25, 9))\n",
    "        self.assertEqual(dist, 21)\n",
    "    def test_rows(self):\n",
    "        dist = heuristic_rows((4,16), (25, 9))\n",
    "        self.assertEqual(dist, 7)\n",
    "    def test_eucl(self):\n",
    "        dist = heuristic_eucl((4,16), (25, 9))\n",
    "        self.assertEqual(round(dist,4), 22.1359)\n",
    "    def test_max(self):\n",
    "        pass\n",
    "    def test_adjacent(self):\n",
    "        adj = {(1,16): 1, (2,14):np.sqrt(2), (2,15):1, (2,16):np.sqrt(2)}\n",
    "        fun_a = adjacent_states((1,15))\n",
    "        self.assertEqual(adj, fun_a)"
   ]
  },
  {
   "cell_type": "markdown",
   "metadata": {},
   "source": [
    "<a/ id='p1'></a>\n",
    "\n",
    "---\n",
    "## [25 pts] Problem 1:  Route-finding\n",
    "\n",
    "Consider the map of the area to the west of the Engineering Center given below, with a fairly coarse Cartesian grid superimposed.\n",
    "\n",
    "<img src=\"http://www.cs.colorado.edu/~tonyewong/home/resources/engineering_center_grid_zoom.png\" style=\"width: 800px;\"/>"
   ]
  },
  {
   "cell_type": "code",
   "execution_count": 3,
   "metadata": {
    "collapsed": true,
    "scrolled": true
   },
   "outputs": [],
   "source": [
    "def plot_maze(maze, path=None):\n",
    "    ''' visualize the binary `maze` (assumed numpy array) and solution `path` (if provided)'''\n",
    "\n",
    "    nrow, ncol = maze.shape\n",
    "    \n",
    "    # create colormap\n",
    "    cmap = colors.ListedColormap(['coral', 'slategray'])\n",
    "\n",
    "    fig, ax = plt.subplots()\n",
    "    ax.imshow(maze, cmap=cmap, origin='lower')\n",
    "    \n",
    "    # draw gridlines\n",
    "    ax.grid(which='major', axis='both', linestyle='-', color='k')\n",
    "    ax.set_xticks(np.arange(-.5, ncol, 1))\n",
    "    ax.set_yticks(np.arange(-.5, nrow, 1))\n",
    "    ax.xaxis.set_ticklabels([])\n",
    "    ax.yaxis.set_ticklabels([])\n",
    "    \n",
    "    # now draw the solution path, if one is provided\n",
    "    if path:\n",
    "        for p in range(len(path)-1):\n",
    "            point = path[p]\n",
    "            nextpoint = path[p+1]\n",
    "            plt.plot([point[0],nextpoint[0]], [point[1], nextpoint[1]], c='black')\n",
    "    plt.title(\"A map to our universe\")\n",
    "    plt.xlabel(\"The x direction increases this way ->\")\n",
    "    plt.ylabel(\"The y direction increases this way ->\")\n",
    "    plt.show()"
   ]
  },
  {
   "cell_type": "code",
   "execution_count": 4,
   "metadata": {
    "collapsed": true
   },
   "outputs": [],
   "source": [
    "class Frontier_PQ:\n",
    "    ''' frontier class for uniform search, ordered by path cost '''\n",
    "    \n",
    "    def __init__(self, start, cost):\n",
    "        self.states = {}\n",
    "        self.q = []\n",
    "        self.add(start, cost)\n",
    "        \n",
    "    def add(self, state, cost):\n",
    "        ''' push the new state and cost to get there onto the heap'''\n",
    "        heapq.heappush(self.q, (cost, state))\n",
    "        self.states[state] = cost\n",
    "\n",
    "    def pop(self):\n",
    "        (cost, state) = heapq.heappop(self.q)  # get cost of getting to explored state\n",
    "        self.states.pop(state)    # and remove from frontier\n",
    "        return (cost, state)\n",
    "\n",
    "    def replace(self, state, cost):\n",
    "        ''' found a cheaper route to `state`, replacing old cost with new `cost` '''\n",
    "        self.states[state] = cost\n",
    "        for i, (oldcost, oldstate) in enumerate(self.q):\n",
    "            if oldstate==state and oldcost > cost:\n",
    "                self.q[i] = (cost, state)\n",
    "                heapq._siftdown(self.q, 0, i) # now i is posisbly out of order; restore\n",
    "        return"
   ]
  },
  {
   "cell_type": "markdown",
   "metadata": {},
   "source": [
    "\n",
    "\n",
    "The green square at $(x,y)=(1,15)$ is the starting location, and you would like to walk from there to the yellow square at $(25,9)$ with the **lowest total path cost**. The filled-in blue squares are obstacles, and you cannot walk through those locations.  You also cannot walk outside of this grid.\n",
    "\n",
    "Legal moves in the North/South/East/West directions have a step cost of 1. Moves in the diagonal direction (for example, from $(1,15)$ to $(2,14)$) are allowed, but they have a step cost of $\\sqrt{2}$. \n",
    "\n",
    "Of course, you can probably do this problem without a search algorithm. But (1) that will provide a useful \"sanity check\" for your answer, and (2) an AI agent cannot necessarily figure that out... without your help!\n",
    "\n",
    "#### Part A\n",
    "Write a function `adjacent_states(state)`:\n",
    "* takes a single argument `state`, which is a tuple representing a valid state in this state space\n",
    "* returns in some form the states reachable from `state` and the step costs. How exactly you do this is up to you.\n",
    "\n",
    "Print to the screen the output for `adjacent_states((1,15))`."
   ]
  },
  {
   "cell_type": "code",
   "execution_count": 5,
   "metadata": {
    "collapsed": true
   },
   "outputs": [],
   "source": [
    "def enumerate_walls():\n",
    "\n",
    "    walls = []\n",
    "\n",
    "    #generate upper right cube\n",
    "    for i in range(21, 26):\n",
    "        for j in range(11, 17):\n",
    "            walls.append((i,j))\n",
    "\n",
    "    #generate bottom middle object\n",
    "    for i in range(5, 24):\n",
    "        walls.append((i, 1))\n",
    "\n",
    "    #generate middle cube object\n",
    "    for i in range(10, 14):\n",
    "        for j in range(9, 11):\n",
    "            walls.append((i,j))\n",
    "    for i in range(10, 15):\n",
    "        for j in range(11, 13):\n",
    "            walls.append((i, j))\n",
    "\n",
    "    for i in range(11, 15):\n",
    "        for j in range(13, 15):\n",
    "            walls.append((i, j))\n",
    "\n",
    "    x2 = 15\n",
    "    x1 = 2\n",
    "    #generate left object\n",
    "    for i in range(1, 5):\n",
    "        for j in range(x1, x2):\n",
    "            walls.append((i,j))\n",
    "        x2 -= 1\n",
    "        x1 += 1\n",
    "    return walls\n",
    "\n",
    "wallz = enumerate_walls()\n",
    "def check_wall(state, walls = wallz):\n",
    "    if state not in walls:\n",
    "        return True\n",
    "    else:\n",
    "        return False"
   ]
  },
  {
   "cell_type": "code",
   "execution_count": 6,
   "metadata": {
    "scrolled": true
   },
   "outputs": [
    {
     "data": {
      "text/plain": [
       "{(1, 16): 1,\n",
       " (2, 14): 1.4142135623730951,\n",
       " (2, 15): 1,\n",
       " (2, 16): 1.4142135623730951}"
      ]
     },
     "execution_count": 6,
     "metadata": {},
     "output_type": "execute_result"
    }
   ],
   "source": [
    "def adjacent_states(state):\n",
    "    '''\n",
    "    return all adjacent states of current state\n",
    "    '''\n",
    "    adj = {}\n",
    "    \n",
    "    if state[0] > 1:#left\n",
    "        x = state[0] - 1\n",
    "        y = state[1]\n",
    "        if check_wall((x,y)): adj[(x,y)] = 1\n",
    "        \n",
    "        if state[1] > 1: #left down\n",
    "            y = state[1] - 1\n",
    "            if check_wall((x,y)): adj[(x,y)] = np.sqrt(2)\n",
    "            \n",
    "        if state[1] <25: #left up\n",
    "            y = state[1] + 1\n",
    "            if check_wall((x,y)): adj[(x,y)] = np.sqrt(2)\n",
    "            \n",
    "    if state[0] < 25: #right\n",
    "        x = state[0] + 1\n",
    "        y = state[1]\n",
    "        if check_wall((x,y)): adj[(x,y)] = 1\n",
    "        \n",
    "        if state[1] > 1:  #right down\n",
    "            y = state[1] -1\n",
    "            if check_wall((x,y)): adj[(x,y)] = np.sqrt(2) \n",
    "            \n",
    "        if state[1] < 16: #right up\n",
    "            y= state[1] + 1\n",
    "            if check_wall((x,y)): adj[(x,y)] = np.sqrt(2) \n",
    "            \n",
    "    if state[1] > 1: #down\n",
    "        x = state[0]\n",
    "        y = state[1] -1\n",
    "        if check_wall((x,y)): adj[(x,y)] = 1\n",
    "        \n",
    "    if state[1] < 16: #up\n",
    "        x = state[0]\n",
    "        y = state[1] + 1 \n",
    "        if check_wall((x,y)): adj[(x,y)] = 1\n",
    "    return adj      \n",
    "\n",
    "adjacent_states((1,15))"
   ]
  },
  {
   "cell_type": "code",
   "execution_count": 7,
   "metadata": {
    "scrolled": true
   },
   "outputs": [
    {
     "name": "stderr",
     "output_type": "stream",
     "text": [
      ".\n",
      "----------------------------------------------------------------------\n",
      "Ran 1 test in 0.004s\n",
      "\n",
      "OK\n"
     ]
    },
    {
     "data": {
      "text/plain": [
       "<unittest.runner.TextTestResult run=1 errors=0 failures=0>"
      ]
     },
     "execution_count": 7,
     "metadata": {},
     "output_type": "execute_result"
    }
   ],
   "source": [
    "tests_to_run = unittest.TestSuite()\n",
    "tests_to_run.addTest(Tests_Problem1(\"test_adjacent\"))\n",
    "unittest.TextTestRunner().run(tests_to_run)"
   ]
  },
  {
   "cell_type": "markdown",
   "metadata": {},
   "source": [
    "#### Part B\n",
    "Three candidate heuristic functions might be:\n",
    "1. `heuristic_cols(state, goal)` = number of columns between the argument `state` and the `goal`\n",
    "1. `heuristic_rows(state, goal)` = number of rows between the argument `state` and the `goal`\n",
    "1. `heuristic_eucl(state, goal)` = Euclidean distance between the argument `state` and the `goal`\n",
    "\n",
    "Write a function `heuristic_max(state, goal)` that returns the maximum of all three of these heuristic functions for a given `state` and `goal`."
   ]
  },
  {
   "cell_type": "code",
   "execution_count": 8,
   "metadata": {
    "collapsed": true
   },
   "outputs": [],
   "source": [
    "def heuristic_cols(state, goal):\n",
    "    '''\n",
    "    state and goal are tuples (column, row)\n",
    "    number of columns between the argument state and the goal\n",
    "    '''\n",
    "    return abs(state[0] - goal[0])\n",
    "def heuristic_rows(state, goal):\n",
    "    '''\n",
    "    state and goal are tuples (column, row)\n",
    "    number of rows between the argument state and the goal\n",
    "    '''\n",
    "    return abs(state[1] - goal[1])\n",
    "\n",
    "def heuristic_eucl(state, goal):\n",
    "    x = np.abs(state[0] - goal[0])\n",
    "    y = np.abs(state[1] - goal[1])\n",
    "    return np.sqrt(x*x + y*y)\n",
    "\n",
    "def heuristic_max(state, goal):\n",
    "    '''\n",
    "    returns the maximum of all three heuristic functions, heuristic_eucl(), herusitic_rows(), heuristic_cols()\n",
    "    state and goal are tuples (column, row) pairs\n",
    "    '''\n",
    "    return max(heuristic_eucl(state, goal), heuristic_rows(state,goal), heuristic_cols(state, goal))"
   ]
  },
  {
   "cell_type": "code",
   "execution_count": 9,
   "metadata": {
    "scrolled": false
   },
   "outputs": [
    {
     "name": "stderr",
     "output_type": "stream",
     "text": [
      "....\n",
      "----------------------------------------------------------------------\n",
      "Ran 4 tests in 0.004s\n",
      "\n",
      "OK\n"
     ]
    },
    {
     "data": {
      "text/plain": [
       "<unittest.runner.TextTestResult run=4 errors=0 failures=0>"
      ]
     },
     "execution_count": 9,
     "metadata": {},
     "output_type": "execute_result"
    }
   ],
   "source": [
    "'''\n",
    "I wrote my own test functions! Yay!\n",
    "'''\n",
    "\n",
    "tests_to_run = unittest.TestSuite()\n",
    "tests_to_run.addTest(Tests_Problem1(\"test_cols\"))\n",
    "tests_to_run.addTest(Tests_Problem1(\"test_rows\"))\n",
    "tests_to_run.addTest(Tests_Problem1(\"test_eucl\"))\n",
    "tests_to_run.addTest(Tests_Problem1(\"test_max\")) # <- Except for this one. I don't want to write this out by hand. So it gets a freebie\n",
    "unittest.TextTestRunner().run(tests_to_run)"
   ]
  },
  {
   "cell_type": "markdown",
   "metadata": {},
   "source": [
    "#### Part C\n",
    "Is the Manhattan distance an admissible heuristic function for this problem?  Explain why or why not. A counterexample is a great way to prove that something is not true."
   ]
  },
  {
   "cell_type": "markdown",
   "metadata": {},
   "source": [
    "----\n",
    "<span style=\"color:steelblue\">**The Manhattan distance is inadmissable** in this case. The Manhattan distance is an admissable solution when there is a **clear, unobstructed path** to the goal state/node. **This is not the case** in our example, therefore, **we should not use the Manhattan distance**.</span>\n",
    "\n",
    "\n",
    "<span style=\"color:steelblue\">\n",
    "Consider the state (10, 13); the Manhattan distance says that the distance to our endpoint would be 19. However, this consideration does not include the obstructions present in the plane.\n",
    "</span>\n",
    "\n",
    "<span style=\"color:steelblue\">\n",
    "In actuality, the distance is 23 blocks away. Therefore, it provided an inaccurate solution and *cannot be trusted*!\n",
    "</span> \n",
    "\n",
    "\n",
    "----"
   ]
  },
  {
   "cell_type": "markdown",
   "metadata": {},
   "source": [
    "#### Part D\n",
    "Use A\\* search and the `heuristic_max` heuristic to find the shortest path from the initial state at $(1,15)$ to the goal state at $(25,9)$. Your search **should not** build up the entire state space graph in memory. Instead, use the `adjacent_states` function from Part A, similarly to the 8-tile problem from Homework 3."
   ]
  },
  {
   "cell_type": "code",
   "execution_count": 10,
   "metadata": {
    "collapsed": true
   },
   "outputs": [],
   "source": [
    "def path(previous, s): \n",
    "    '''\n",
    "    `previous` is a dictionary chaining together the predecessor state that led to each state\n",
    "    `s` will be None for the initial state\n",
    "    otherwise, start from the last state `s` and recursively trace `previous` back to the initial state,\n",
    "    constructing a list of states visited as we go\n",
    "    '''\n",
    "    if s is None:\n",
    "        return []\n",
    "    else:\n",
    "        return path(previous, previous[s])+[s]"
   ]
  },
  {
   "cell_type": "code",
   "execution_count": 11,
   "metadata": {
    "collapsed": true
   },
   "outputs": [],
   "source": [
    "def astar_search(start, goal, heuristic, return_cost=False, return_nexp=False):\n",
    "    '''A* search from `start` to `goal`\n",
    "    start = initial state\n",
    "    goal = goal state\n",
    "    heuristic = function for estimated cost to goal (function name)\n",
    "    return_cost = logical (True/False) for whether or not to return the total path cost\n",
    "    return_nexp = logical (True/False) for whether or not to return the number of nodes explored\n",
    "    '''\n",
    "    # check that the initial state is even solvable\n",
    "    frontier = Frontier_PQ(start, 0)\n",
    "    previous = {start : None}\n",
    "    explored = {}\n",
    "    n_exp = 0\n",
    "    while frontier:\n",
    "        s = frontier.pop()\n",
    "        n_exp += 1\n",
    "        if s[1] == goal:\n",
    "            if return_cost: return (path(previous, s[1]), s[0], n_exp) if return_nexp else (path(previous, s[1]), s[0])\n",
    "            return path(previous, s[1])\n",
    "        \n",
    "        explored[s[1]] = len(path(previous, s[1]))-1   # -1 to offset the initial state (so lowest path cost is 0)\n",
    "        adjacent = adjacent_states(s[1])\n",
    "        for s2 in adjacent:\n",
    "            newcost = explored[s[1]] + 1 + heuristic(s2, goal)\n",
    "            if (s2 not in explored) and (s2 not in frontier.states):\n",
    "                frontier.add(s2, newcost)\n",
    "                previous[s2] = s[1]\n",
    "            elif (s2 in frontier.states) and (frontier.states[s2] > newcost):\n",
    "                frontier.replace(s2, newcost)\n",
    "                previous[s2] = s[1]"
   ]
  },
  {
   "cell_type": "code",
   "execution_count": 12,
   "metadata": {
    "collapsed": true
   },
   "outputs": [],
   "source": [
    "wallz = enumerate_walls()\n",
    "walls_x, walls_y = zip(*wallz)\n",
    "walls_x = [i-1 for i in walls_x]\n",
    "walls_y = [i-1 for i in walls_y]"
   ]
  },
  {
   "cell_type": "code",
   "execution_count": 13,
   "metadata": {
    "collapsed": true
   },
   "outputs": [],
   "source": [
    "space = np.zeros((16,26))\n",
    "for i in range(len(walls_x)):\n",
    "    x,y = walls_x[i], walls_y[i]\n",
    "    space[y][x] = 1"
   ]
  },
  {
   "cell_type": "markdown",
   "metadata": {},
   "source": [
    "#### Part E\n",
    "Make a figure depicting the optimal route from the initial state to the goal, similarly to how you depicted the maze solution in Homework 2."
   ]
  },
  {
   "cell_type": "code",
   "execution_count": 14,
   "metadata": {
    "scrolled": true
   },
   "outputs": [
    {
     "name": "stdout",
     "output_type": "stream",
     "text": [
      "[(0, 14), (1, 13), (2, 12), (3, 11), (4, 10), (5, 9), (6, 8), (7, 8), (8, 8), (9, 7), (10, 7), (11, 7), (12, 7), (13, 8), (14, 8), (15, 8), (16, 8), (17, 8), (18, 8), (19, 8), (20, 8), (21, 8), (22, 8), (23, 8), (24, 8)]\n"
     ]
    },
    {
     "data": {
      "image/png": "[encoded data removed]",
      "text/plain": [
       "<matplotlib.figure.Figure at 0x26ba07d62b0>"
      ]
     },
     "metadata": {},
     "output_type": "display_data"
    }
   ],
   "source": [
    "paths = astar_search((1,15), (25,9), heuristic_max)\n",
    "for i in range(len(paths)):\n",
    "    paths[i] = (paths[i][0]-1, paths[i][1]-1)\n",
    "print(paths)\n",
    "plot_maze(space, path = paths)"
   ]
  },
  {
   "cell_type": "markdown",
   "metadata": {},
   "source": [
    "<span style=\"color:steelblue\">\n",
    "I did it!\n",
    "It's worth noting that, technically speaking, there are several equivalent solutions to this problem, as the step cost of taking each step is 1, in this case and our path options are fairly simple, linear options. Another perfectly valid approach would have been to go directly across (horizontally) until we approached a wall, and then to go down again and then across.\n",
    "</span>"
   ]
  },
  {
   "cell_type": "markdown",
   "metadata": {},
   "source": [
    "![image](https://img.buzzfeed.com/buzzfeed-static/static/2015-02/2/8/enhanced/webdr01/anigif_original-grid-image-15541-1422885496-28.gif?crop=450:222;0,12&downsize=715:*&output-format=auto&output-quality=auto)"
   ]
  },
  {
   "cell_type": "markdown",
   "metadata": {},
   "source": [
    "[Back to top](#top)\n",
    "\n",
    "<a/ id='p2'></a>\n",
    "\n",
    "<br>\n",
    "\n",
    "---\n",
    "## [25 pts] Problem 2:  Bayesian networks\n",
    "\n",
    "#### Part A\n",
    "Suppose we are about to go on a run and are trying to decide how far to run. Consider the Bayesian network depicted below for this decision. The length of our run ($R$, miles) is continuous and depends on the temperature ($T$, degrees Fahrenheit), which is also a continuous variable, and whether or not it is raining ($P$), which is a discrete Boolean variable.\n",
    "\n",
    "<img src=\"http://www.cs.colorado.edu/~tonyewong/home/resources/running_bayesnet.png\" style=\"width: 450px;\"/>\n",
    "\n",
    "1. Read in the data set [`data_running.csv`](https://piazza.com/class_profile/get_resource/jc4v74a5uu5wa/jfv207i7dlqd8) from the Resources tab on Piazza (and linked here).\n",
    "1. How many data points are there?\n",
    "1. Make a histogram of the distribution of temperature, with appropriate axis labels."
   ]
  },
  {
   "cell_type": "code",
   "execution_count": 15,
   "metadata": {
    "scrolled": true
   },
   "outputs": [
    {
     "data": {
      "text/html": [
       "<div>\n",
       "<style>\n",
       "    .dataframe thead tr:only-child th {\n",
       "        text-align: right;\n",
       "    }\n",
       "\n",
       "    .dataframe thead th {\n",
       "        text-align: left;\n",
       "    }\n",
       "\n",
       "    .dataframe tbody tr th {\n",
       "        vertical-align: top;\n",
       "    }\n",
       "</style>\n",
       "<table border=\"1\" class=\"dataframe\">\n",
       "  <thead>\n",
       "    <tr style=\"text-align: right;\">\n",
       "      <th></th>\n",
       "      <th>Unnamed: 0</th>\n",
       "      <th>rain</th>\n",
       "      <th>temperature</th>\n",
       "      <th>length</th>\n",
       "    </tr>\n",
       "  </thead>\n",
       "  <tbody>\n",
       "    <tr>\n",
       "      <th>0</th>\n",
       "      <td>0</td>\n",
       "      <td>Yes</td>\n",
       "      <td>93.255955</td>\n",
       "      <td>7.548189</td>\n",
       "    </tr>\n",
       "    <tr>\n",
       "      <th>1</th>\n",
       "      <td>1</td>\n",
       "      <td>No</td>\n",
       "      <td>65.948429</td>\n",
       "      <td>8.586705</td>\n",
       "    </tr>\n",
       "    <tr>\n",
       "      <th>2</th>\n",
       "      <td>2</td>\n",
       "      <td>Yes</td>\n",
       "      <td>95.111679</td>\n",
       "      <td>8.002269</td>\n",
       "    </tr>\n",
       "    <tr>\n",
       "      <th>3</th>\n",
       "      <td>3</td>\n",
       "      <td>No</td>\n",
       "      <td>67.330186</td>\n",
       "      <td>9.499620</td>\n",
       "    </tr>\n",
       "    <tr>\n",
       "      <th>4</th>\n",
       "      <td>4</td>\n",
       "      <td>Yes</td>\n",
       "      <td>85.666279</td>\n",
       "      <td>7.621792</td>\n",
       "    </tr>\n",
       "  </tbody>\n",
       "</table>\n",
       "</div>"
      ],
      "text/plain": [
       "   Unnamed: 0 rain  temperature    length\n",
       "0           0  Yes    93.255955  7.548189\n",
       "1           1   No    65.948429  8.586705\n",
       "2           2  Yes    95.111679  8.002269\n",
       "3           3   No    67.330186  9.499620\n",
       "4           4  Yes    85.666279  7.621792"
      ]
     },
     "execution_count": 15,
     "metadata": {},
     "output_type": "execute_result"
    }
   ],
   "source": [
    "#Ok. Let's read in the CSV\n",
    "df = pd.read_csv('data_running.csv')\n",
    "df.head()"
   ]
  },
  {
   "cell_type": "code",
   "execution_count": 16,
   "metadata": {},
   "outputs": [
    {
     "data": {
      "text/plain": [
       "Unnamed: 0     200\n",
       "rain           200\n",
       "temperature    200\n",
       "length         200\n",
       "dtype: int64"
      ]
     },
     "execution_count": 16,
     "metadata": {},
     "output_type": "execute_result"
    }
   ],
   "source": [
    "df.count()"
   ]
  },
  {
   "cell_type": "markdown",
   "metadata": {},
   "source": [
    "----\n",
    " \n",
    "2, How many points are there? \n",
    "\n",
    "<span style=\"color:steelblue\"> It would seem that there are 200 points.</span>\n",
    "\n",
    "\n",
    "----"
   ]
  },
  {
   "cell_type": "code",
   "execution_count": 17,
   "metadata": {},
   "outputs": [
    {
     "data": {
      "image/png": "[encoded data removed]",
      "text/plain": [
       "<matplotlib.figure.Figure at 0x26ba0d216d8>"
      ]
     },
     "metadata": {},
     "output_type": "display_data"
    }
   ],
   "source": [
    "plt.subplots(1, 1)\n",
    "plt.tight_layout()\n",
    "plt.hist(df['temperature'],edgecolor = 'white', color = 'steelblue', normed = True)\n",
    "plt.title(\"Distribution of the probability of each Temperature\")\n",
    "plt.xlabel(\"Temperature\")\n",
    "plt.ylabel('Probability of given temp')\n",
    "plt.show()"
   ]
  },
  {
   "cell_type": "code",
   "execution_count": 18,
   "metadata": {},
   "outputs": [
    {
     "data": {
      "image/png": "[encoded data removed]",
      "text/plain": [
       "<matplotlib.figure.Figure at 0x26ba07d6a20>"
      ]
     },
     "metadata": {},
     "output_type": "display_data"
    }
   ],
   "source": [
    "plt.subplots(1, 1)\n",
    "plt.tight_layout()\n",
    "plt.hist(df['length'],edgecolor = 'white', color = 'steelblue', normed = True)\n",
    "plt.title(\"Distribution of the probability of each length of run\")\n",
    "plt.xlabel(\"Run time\")\n",
    "plt.ylabel('Prob. of each run time')\n",
    "plt.show()"
   ]
  },
  {
   "cell_type": "markdown",
   "metadata": {},
   "source": [
    "<span style=\"color:steelblue\">\n",
    "This is merely for my own purposes so I can assess the relationships in the data.\n",
    "</span>"
   ]
  },
  {
   "cell_type": "markdown",
   "metadata": {},
   "source": [
    "#### Part B\n",
    "\n",
    "Decide on appropriate prior distributions for $P$ and $T$.  Note that $P$ is discrete (Boolean), while $T$ is continuous.  There is not necessarily only one correct response; your answer should be fully justified by calculations shown below."
   ]
  },
  {
   "cell_type": "markdown",
   "metadata": {},
   "source": [
    " ----\n",
    "\n",
    "<span style=\"color:steelblue\">\n",
    "It is clear that, for **P**, it is a **Bernoulli distribution**, as at each step, we want to take a Bernoulli trial with a True or False result; either that it rained, or it did not.\n",
    "</span> \n",
    "\n",
    "<span style=\"color:steelblue\">\n",
    "Alternatively, it would seem that **T**'s prior distribution follows that of a **Gaussian Distribution**, as there is a normal distribution/bell curve of each of the timings for the length of the run.\n",
    "</span>\n",
    "\n",
    "----"
   ]
  },
  {
   "cell_type": "code",
   "execution_count": 19,
   "metadata": {},
   "outputs": [
    {
     "data": {
      "image/png": "[encoded data removed]",
      "text/plain": [
       "<matplotlib.figure.Figure at 0x26ba0ecffd0>"
      ]
     },
     "metadata": {},
     "output_type": "display_data"
    }
   ],
   "source": [
    "dftrue = df[df['rain'] == 'Yes']\n",
    "dftrue.count()\n",
    "num_rained = 200-48\n",
    "p_rained = (1/(152))\n",
    "\n",
    "x = np.random.binomial(10, 1/152, 100000)\n",
    "plt.hist(x)\n",
    "plt.show()"
   ]
  },
  {
   "cell_type": "markdown",
   "metadata": {},
   "source": [
    "<span style=\"color:steelblue\">\n",
    "It would seem that there is a probability of 1/152 chance of it raining, overall- since it can't be *kind of* raining, it's a True/False.\n",
    "</span>"
   ]
  },
  {
   "cell_type": "code",
   "execution_count": 20,
   "metadata": {
    "scrolled": true
   },
   "outputs": [
    {
     "data": {
      "image/png": "[encoded data removed]",
      "text/plain": [
       "<matplotlib.figure.Figure at 0x26ba1fcbc18>"
      ]
     },
     "metadata": {},
     "output_type": "display_data"
    }
   ],
   "source": [
    "'''\n",
    "Gaussian distribution of temperature\n",
    "\n",
    "'''\n",
    "\n",
    "T_mean = df['temperature'].mean()\n",
    "T_std = df['temperature'].std()\n",
    "\n",
    "t_dist = np.random.normal(T_mean, T_std, 1000)\n",
    "plt.hist(t_dist, color = 'steelblue', edgecolor = 'white')\n",
    "plt.xlabel(\"Temperature\")\n",
    "plt.ylabel('Times observed')\n",
    "plt.show()"
   ]
  },
  {
   "cell_type": "markdown",
   "metadata": {},
   "source": [
    "#### Part C\n",
    "1. Make two scatter plots:  one of the relationship between temperature (x-axis) and run length (y-axis) for only the days when it was raining, and one of this relationship for only the days when it was not raining. Label your axes appropriately.\n",
    "1. Run length is necessarily non-negative, so a log-normal distribution would be appropriate as the conditional probability distribution for $R$, given $P$ and $T$. Let the log-normal parameter related to central tendency vary linearly with $T$, and categorically depending on whether or not it is raining. Keep the log-normal parameter related to distribution spread fixed. \n",
    "1. Report the values of all relevant estimated parameters for the conditional probability distribution. There is not necessarily only one correct response; your answer should be fully justified by calculations."
   ]
  },
  {
   "cell_type": "markdown",
   "metadata": {},
   "source": [
    "----\n",
    "\n",
    "# Number 1\n",
    "\n",
    "1. Make two scatter plots:  one of the relationship between temperature (x-axis) and run length (y-axis) for only the days when it was raining, and one of this relationship for only the days when it was not raining. Label your axes appropriately."
   ]
  },
  {
   "cell_type": "code",
   "execution_count": 21,
   "metadata": {
    "scrolled": false
   },
   "outputs": [
    {
     "data": {
      "image/png": "[encoded data removed]",
      "text/plain": [
       "<matplotlib.figure.Figure at 0x26ba2084d68>"
      ]
     },
     "metadata": {},
     "output_type": "display_data"
    }
   ],
   "source": [
    "dfRain = df[df['rain'] == \"Yes\"]\n",
    "dfNoRain= df[df['rain'] == \"No\"]\n",
    "\n",
    "Temp_Y = dfRain['temperature'].values.T.tolist()\n",
    "Temp_N = dfNoRain['temperature'].values.T.tolist()\n",
    "Rain_Y = dfRain['length'].values.T.tolist()\n",
    "Rain_N = dfNoRain['length'].values.T.tolist()\n",
    "\n",
    "f, (ax1, ax2) = plt.subplots(1, 2, sharey = True)\n",
    "ax1.scatter(Temp_Y, Rain_Y, color = \"green\", edgecolor = \"pink\")\n",
    "ax1.set_title(\"With no Rain\")\n",
    "ax1.set_xlabel(\"Temperature\")\n",
    "ax1.set_ylabel(\"Length of Run\")\n",
    "ax2.scatter(Temp_N, Rain_N, color = \"steelblue\", edgecolor = \"white\")\n",
    "ax2.set_xlabel(\"Temperature\")\n",
    "ax2.set_title(\"With Rain\")\n",
    "plt.show()"
   ]
  },
  {
   "cell_type": "markdown",
   "metadata": {},
   "source": [
    "----\n",
    "\n",
    "# Number Two "
   ]
  },
  {
   "cell_type": "markdown",
   "metadata": {},
   "source": [
    "2, Run length is necessarily non-negative, so a log-normal distribution would be appropriate as the conditional probability distribution for $R$, given $P$ and $T$. Let the log-normal parameter related to central tendency vary linearly with $T$, and categorically depending on whether or not it is raining. Keep the log-normal parameter related to distribution spread fixed. "
   ]
  },
  {
   "cell_type": "markdown",
   "metadata": {},
   "source": [
    "----\n",
    "<span style=\"color:steelblue\">\n",
    "So we need to figure out what exaclty our equation is.\n",
    "Since they vary linearly with one another, there must be some equation such as:\n",
    "</span>\n",
    "\n",
    "$\\mu = \\mu_{0}X  + \\mu_{1}$"
   ]
  },
  {
   "cell_type": "markdown",
   "metadata": {},
   "source": [
    "<span style=\"color:steelblue\">\n",
    "So, let's calculate a line of best fit for these two and see how they fit together.\n",
    "</span>"
   ]
  },
  {
   "cell_type": "code",
   "execution_count": 22,
   "metadata": {
    "scrolled": false
   },
   "outputs": [
    {
     "name": "stdout",
     "output_type": "stream",
     "text": [
      "Slope estimate is 0.0110, intercept estimate is 6.7770\n",
      "Slope estimate is 0.0479, intercept estimate is 6.1817\n"
     ]
    }
   ],
   "source": [
    "bestfit_rain = stats.linregress(x=dfRain['temperature'], y=dfRain['length'])\n",
    "bestfit_Norain = stats.linregress(x=dfNoRain['temperature'], y=dfNoRain['length'])\n",
    "\n",
    "print('Slope estimate is {:0.4f}, intercept estimate is {:0.4f}'.format(bestfit_rain.slope,bestfit_rain.intercept))\n",
    "print('Slope estimate is {:0.4f}, intercept estimate is {:0.4f}'.format(bestfit_Norain.slope,bestfit_Norain.intercept))"
   ]
  },
  {
   "cell_type": "code",
   "execution_count": 23,
   "metadata": {
    "scrolled": false
   },
   "outputs": [
    {
     "data": {
      "image/png": "[encoded data removed]",
      "text/plain": [
       "<matplotlib.figure.Figure at 0x26ba206e160>"
      ]
     },
     "metadata": {},
     "output_type": "display_data"
    }
   ],
   "source": [
    "plt.hist(stats.lognorm.rvs(scale = bestfit_rain.slope*dfRain['temperature'].mean() + bestfit_rain.intercept, s = np.log(1.1), size = 10000), edgecolor = 'white', normed = True, label = 'With rain')\n",
    "plt.hist(stats.lognorm.rvs(scale = bestfit_Norain.slope*dfNoRain['temperature'].mean() + bestfit_Norain.intercept, s = np.log(1.1), size = 10000), edgecolor = 'white', normed = True, label = 'No rain', alpha = 0.75)\n",
    "plt.xlabel(\"Run time\")\n",
    "plt.ylabel(\"Probability density of run time\")\n",
    "plt.legend()\n",
    "plt.show()"
   ]
  },
  {
   "cell_type": "markdown",
   "metadata": {},
   "source": [
    "<span style=\"color:steelblue\">\n",
    "The best estimate for our central tendency will be the slope, wherein the length of our run varies linearly as a function of Temperature.\n",
    "</span>"
   ]
  },
  {
   "cell_type": "markdown",
   "metadata": {},
   "source": [
    "<span style=\"color:steelblue\">\n",
    "Just as a sanity check, let's evaluate what we see here. It would seem that our run times are longer on average on days without rain, and more numerous. Seems to make sense to me! Likewise, run time and temperature are positively correlated.\n",
    "</span>\n",
    "\n",
    "----"
   ]
  },
  {
   "cell_type": "markdown",
   "metadata": {},
   "source": [
    "3, Report the values of all relevant estimated parameters for the conditional probability distribution. There is not necessarily only one correct response; your answer should be fully justified by calculations."
   ]
  },
  {
   "cell_type": "markdown",
   "metadata": {},
   "source": [
    "----\n",
    "\n",
    "<span style=\"color:steelblue\">\n",
    "We need a few things. Firstly, we need the line of best fit so that we can use the estimated values for the central tendency, as previously mentioned. \n",
    "Likewise, we need some value of standard variation.\n",
    "</span>\n",
    "<span style=\"color:steelblue\">\n",
    "Further, using the equation for central tendency, we have a starting point for our scale value for the lognormal distribution.\n",
    "</span>\n",
    "<span style=\"color:steelblue\">\n",
    "I assigned $\\sigma$ to be the standard deviation of temperature, as a whole, as it needed to be a fixed value as per our specifications.\n",
    "</span>\n",
    "\n",
    "<span style=\"color:steelblue\">\n",
    "Further, I used the central estimate from the SSE squared line regression tool for slope and beta, to create an equation for the linear relationship of our data. I plugged the mean $\\mu$ for each data set into the equation.\n",
    "</span>\n",
    "\n",
    "----"
   ]
  },
  {
   "cell_type": "code",
   "execution_count": null,
   "metadata": {},
   "outputs": [],
   "source": [
    "print(f\"The mean of data with Rain: {dfRain['temperature'].mean()}\")\n",
    "print(f\"The mean of data with no Rain: {dfNoRain['temperature'].mean()}\")\n",
    "sigma = df['temperature'].std()\n",
    "#and the two equations for our seperate data models\n",
    "\n",
    "bestfit_rain = stats.linregress(x=dfRain['temperature'], y=dfRain['length'])\n",
    "bestfit_Norain = stats.linregress(x=dfNoRain['temperature'], y=dfNoRain['length'])\n",
    "\n",
    "print(f\"With rain: Y1 = ax+b, where a = {bestfit_rain.slope} and b = {bestfit_rain.intercept}\")\n",
    "print(f\"With no rain: Y2 = ax+b, where a = {bestfit_Norain.slope} and b = {bestfit_Norain.intercept}\")"
   ]
  },
  {
   "cell_type": "markdown",
   "metadata": {},
   "source": [
    "#### Part D\n",
    "\n",
    "Find the probability distributions for your run length on a day that is 80 degrees Fahrenheit and **not** raining, as well as run length on an 80-degree day when it **is** raining.  Plot these two distributions on the same set of axes, with run length (miles) on the x-axis and probability density on the y-axis. Include a legend and appropriate axis labels."
   ]
  },
  {
   "cell_type": "code",
   "execution_count": 25,
   "metadata": {},
   "outputs": [
    {
     "data": {
      "image/png": "[encoded data removed]",
      "text/plain": [
       "<matplotlib.figure.Figure at 0x26ba1f5b3c8>"
      ]
     },
     "metadata": {},
     "output_type": "display_data"
    }
   ],
   "source": [
    "df80Rain = dfRain[dfRain['temperature'] >= 80]\n",
    "df80Rain = df80Rain[df80Rain['temperature'] < 90]\n",
    "df80NoRain = dfNoRain[dfNoRain['temperature'] >= 80]\n",
    "df80NoRain = df80NoRain[df80NoRain['temperature'] < 90]\n",
    "\n",
    "\n",
    "bestfit80_rain = stats.linregress(x=df80Rain['temperature'], y=df80Rain['length'])\n",
    "bestfit80_Norain = stats.linregress(x=df80NoRain['temperature'], y=df80NoRain['length'])\n",
    "r1 = stats.lognorm.rvs(scale = bestfit80_rain.slope*df80Rain['temperature'].mean() + bestfit80_rain.intercept, s = np.log(1.1), size = 10000)\n",
    "r2 = stats.lognorm.rvs(scale = bestfit80_Norain.slope*df80NoRain['temperature'].mean() + bestfit80_Norain.intercept, s = np.log(1.1), size = 10000)\n",
    "plt.hist(r1, edgecolor = 'white', normed = True, label = 'With rain')\n",
    "plt.hist(r2,  alpha = 0.75, edgecolor = 'white', normed = True, label = 'No rain', color = 'red')\n",
    "plt.xlabel(\"Run time\")\n",
    "plt.ylabel(\"Probability density of run time\")\n",
    "plt.legend()\n",
    "plt.show()"
   ]
  },
  {
   "cell_type": "markdown",
   "metadata": {},
   "source": [
    "#### Part E\n",
    "\n",
    "Use approximate Bayesian computation (i.e., sampling) to estimate the probability of going on a run **at least** 8 miles in length. "
   ]
  },
  {
   "cell_type": "code",
   "execution_count": 26,
   "metadata": {},
   "outputs": [
    {
     "name": "stdout",
     "output_type": "stream",
     "text": [
      "Proportion of runs that is greater than or equal to 8 miles long w/ rain: 30.12%\n",
      "Proportion of runs that is greater than or equal to 8 miles long w/o rain: 97.88%\n"
     ]
    }
   ],
   "source": [
    "r1 = stats.lognorm.rvs(scale = bestfit_rain.slope*dfRain['temperature'].mean() + bestfit_rain.intercept, s = np.log(1.1), size = 10000)\n",
    "r2 = stats.lognorm.rvs(scale = bestfit_Norain.slope*dfNoRain['temperature'].mean() + bestfit_Norain.intercept, s = np.log(1.1), size = 10000)\n",
    "runs, runs2, total, total2 = 0, 0, 0, 0\n",
    "for i in r1:\n",
    "    if i >= 8: runs += 1\n",
    "    total += 1\n",
    "for i in r2:\n",
    "    if i >= 8: runs2 += 1\n",
    "    total2 += 1\n",
    "        \n",
    "#since we already generated our models before\n",
    "print(f\"Proportion of runs that is greater than or equal to 8 miles long w/ rain: {round(runs/total*100, 2)}%\")\n",
    "print(f\"Proportion of runs that is greater than or equal to 8 miles long w/o rain: {round(runs2/total*100, 2)}%\")"
   ]
  },
  {
   "cell_type": "markdown",
   "metadata": {},
   "source": [
    "Seems reasonable."
   ]
  },
  {
   "cell_type": "markdown",
   "metadata": {},
   "source": [
    "[Back to top](#top)\n",
    "\n",
    "<a/ id='p3'></a>\n",
    "\n",
    "---\n",
    "## [25 pts] Problem 3:  Markov chain Monte Carlo\n",
    "\n",
    "Consider the problem of estimating the slope and intercept parameters for a linear model. Suppose this linear model represents the amount of ice cream you will consume ($y$, in pints) after going on a bike ride of length $x$ (in miles).\n",
    "\n",
    "$$y = \\alpha x + \\beta$$"
   ]
  },
  {
   "cell_type": "markdown",
   "metadata": {},
   "source": [
    "#### Part A\n",
    "\n",
    "Fix the $x$ distance values at which we will estimate our ice cream intake covering the 0 to 9.9 range (inclusive), at intervals of 0.1 miles. Let $\\alpha^* = 0.5$ and $\\beta^* = 8$ represent the true parameters for your linear model. Generate a synthetic data set of ice cream eaten for each bike ride length $x$, assuming that measured ice cream consumption is normally distributed, centered at the true model and with standard deviation $\\sigma = 1$. Create a scatter plot of you true model and the \"observed\" data, with appropriate axis labels and a legend.\n",
    "\n",
    "**Question:** How many data points are there?"
   ]
  },
  {
   "cell_type": "markdown",
   "metadata": {},
   "source": [
    "First, let's generate our data."
   ]
  },
  {
   "cell_type": "code",
   "execution_count": null,
   "metadata": {},
   "outputs": [],
   "source": [
    "astar, bstar, sigma = 0.5, 8, 1\n",
    "x_grid = np.arange(0, 10, 0.1)\n",
    "y_true = [astar*x + bstar for x in x_grid]\n",
    "\n",
    "# x and y values of our synthetic data set\n",
    "x_meas = np.arange(0, 10, 0.1)\n",
    "y_meas = [stats.norm.rvs(loc = y, scale = sigma) for y in y_true]\n",
    "\n",
    "plt.plot(x_grid, y_true, label='$y_{true}$')\n",
    "plt.scatter(x_grid, y_meas, color='coral', label='$y_{meas}$')\n",
    "plt.xlabel('Miles biked')\n",
    "plt.ylabel('Pints consumed')\n",
    "plt.title(\"Pints consumed vs. Miles Biked\")\n",
    "plt.legend()\n",
    "plt.show()"
   ]
  },
  {
   "cell_type": "markdown",
   "metadata": {},
   "source": [
    "There are 100 data points within our True model. Additionally, there are 100 points within our Measured model. In total, this accumulates to 200 points."
   ]
  },
  {
   "cell_type": "markdown",
   "metadata": {},
   "source": [
    "#### Part B\n",
    "\n",
    "In class, we used the posterior score itself to calculate acceptance probabilities at iteration $t$ for the Metropolis-Hastings algorithm:\n",
    "\n",
    "$$p_{accept} = \\dfrac{\\pi(\\theta_{new} \\mid y_{meas})}{\\pi(\\theta_{t} \\mid y_{meas})},$$\n",
    "\n",
    "where $\\theta_t = (\\alpha_t, T_{eq,t})$ are the parameter estimates in our Markov chain at iteration $t$ and $y_{meas}$ is the data.  But it is much more numerically stable to use the natural logarithm of the posterior score in most applications. \n",
    "\n",
    "1. Define a log-posterior function to return the logarithm of the posterior score for a given set of parameter values, varying *both* $\\alpha$ and $\\beta$. Use uniform prior distributions, for $\\alpha \\in [0,5]$ and $\\beta \\in [0,15]$. You may assume that $\\alpha$ and $\\beta$ are independent, so their prior distribution factors as $\\pi(\\alpha, \\beta) = \\pi(\\alpha) \\pi(\\beta)$.\n",
    "2. Calculate the simple least squares regression estimates of $\\alpha$ and $\\beta$, and report their log-posterior score."
   ]
  },
  {
   "cell_type": "markdown",
   "metadata": {},
   "source": [
    "We know a few things then, from this:\n",
    "\n",
    "The posterior score is going to be something like:\n",
    "\n",
    "$posterior\\ score = L(\\theta \\mid{Y})*prior$ \n",
    "\n",
    "Where $prior = prior_{\\alpha} * prior_{\\beta}$"
   ]
  },
  {
   "cell_type": "markdown",
   "metadata": {},
   "source": [
    "1, Define a log-posterior function to return the logarithm of the posterior score for a given set of parameter values, varying *both* $\\alpha$ and $\\beta$. Use uniform prior distributions, for $\\alpha \\in [0,5]$ and $\\beta \\in [0,15]$. You may assume that $\\alpha$ and $\\beta$ are independent, so their prior distribution factors as $\\pi(\\alpha, \\beta) = \\pi(\\alpha) \\pi(\\beta)$."
   ]
  },
  {
   "cell_type": "code",
   "execution_count": null,
   "metadata": {
    "collapsed": true
   },
   "outputs": [],
   "source": [
    "def prior(p_alpha, p_beta, a_range = (0,5), b_range = (0, 15)):\n",
    "    pr_alpha, pr_beta = 0, 0\n",
    "    pr_alpha = 1/(a_range[1] - a_range[0]) if a_range[0] <= p_alpha <= a_range[1] else pr_alpha\n",
    "    pr_beta = 1/(b_range[1] - b_range[0]) if b_range[0] <= p_beta <= b_range[1] else pr_beta\n",
    "    return (pr_alpha * pr_beta)\n",
    "\n",
    "def posterior(alpha, beta = 8):\n",
    "    pri = prior(alpha, beta)\n",
    "    if pri==0:\n",
    "        return 0\n",
    "    else:\n",
    "        return likelihood(alpha, beta)*pri\n",
    "    \n",
    "def likelihood(parameter, beta):\n",
    "    prod = 1\n",
    "    prod_a = 1\n",
    "    for i in range(len(x_grid)): #alternate alpha\n",
    "        delta = (parameter*x_grid[i] + beta) - y_meas[i]\n",
    "        prod *= stats.norm.pdf(x=delta, loc=0, scale=sigma)\n",
    "    for j in range(0, 15): #alternate beta\n",
    "        delta = (prod*x_grid[-1] + j) - y_meas[-1]\n",
    "        prod_a *= stats.norm.pdf(x=delta, loc=0, scale=sigma)\n",
    "    return prod_a\n",
    "\n",
    "def log_posterior(alpha, beta):\n",
    "    return np.log(posterior(alpha, beta))"
   ]
  },
  {
   "cell_type": "code",
   "execution_count": null,
   "metadata": {},
   "outputs": [],
   "source": [
    "priori = prior(0.5, 8)\n",
    "print(priori)\n",
    "print(log_posterior(0.5, 0.8))"
   ]
  },
  {
   "cell_type": "markdown",
   "metadata": {},
   "source": [
    "2, Calculate the simple least squares regression estimates of $\\alpha$ and $\\beta$, and report their log-posterior score."
   ]
  },
  {
   "cell_type": "code",
   "execution_count": null,
   "metadata": {
    "scrolled": false
   },
   "outputs": [],
   "source": [
    "bestfit = stats.linregress(x=x_meas, y=y_meas)\n",
    "print('Slope estimate is {:0.4f}, intercept estimate is {:0.4f}'.format(bestfit.slope,bestfit.intercept))"
   ]
  },
  {
   "cell_type": "markdown",
   "metadata": {},
   "source": [
    "So, we know our estimate for $\\beta^{*}$ to be the intercept of this equation, and $\\alpha*$ to be the slope, using the Simple Least Squares regression estimates above."
   ]
  },
  {
   "cell_type": "code",
   "execution_count": null,
   "metadata": {},
   "outputs": [],
   "source": [
    "alpha = bestfit.slope\n",
    "beta = bestfit.intercept\n",
    "print(f\"(alpha*: {alpha}, beta*: {beta})\")"
   ]
  },
  {
   "cell_type": "markdown",
   "metadata": {},
   "source": [
    "Here, we have their log posterior scores:"
   ]
  },
  {
   "cell_type": "code",
   "execution_count": null,
   "metadata": {},
   "outputs": [],
   "source": [
    "print(log_posterior(0.5, 0.8))"
   ]
  },
  {
   "cell_type": "markdown",
   "metadata": {},
   "source": [
    "#### Part C\n",
    "\n",
    "To use the log-posterior as our objective function, we need to modify the Metropolis-Hastings acceptance probability so we can calculate it in terms of posterior scores (the right hand side below):\n",
    "\n",
    "$$\\log{(p_{accept})} = \\log{\\left(\\dfrac{\\pi(\\theta_{new} \\mid y_{meas})}{\\pi(\\theta_{t} \\mid y_{meas})}\\right)} = \\log{(\\pi(\\theta_{new} \\mid y_{meas}))} - \\log{(\\pi(\\theta_{t} \\mid y_{meas}))}$$\n",
    "\n",
    "If you exponentiate both sides, things should start to look familiar from simulated annealing:\n",
    "\n",
    "$$\\exp{\\left[\\log{(p_{accept})}\\right]} = p_{accept} = \\exp{\\left[\\log{(\\pi(\\theta_{new} \\mid y_{meas}))} - \\log{(\\pi(\\theta_{t} \\mid y_{meas}))}\\right]}$$\n",
    "\n",
    "Implement this in the Metropolis-Hastings algorithm.  Use a multivariate normal distribution to propose new parameters $(\\alpha, \\beta)$ jointly."
   ]
  },
  {
   "cell_type": "code",
   "execution_count": null,
   "metadata": {},
   "outputs": [],
   "source": [
    "class State:\n",
    "    def __init__(self, state, value):\n",
    "        self.state = state\n",
    "        self.value = value\n",
    "        \n",
    "class ProblemMCMC:        \n",
    "    def __init__(self, initial, posterior, stepsize):\n",
    "        self.current = initial\n",
    "        self.post = posterior\n",
    "        self.stepsize = stepsize\n",
    "        \n",
    "    def random_move(self):\n",
    "        covariance = 0\n",
    "        next_move = stats.multivariate_normal.rvs(self.current.state, self.stepsize)\n",
    "        return next_move, self.post(next_move)\n",
    "    \n",
    "def mcmc(problem1, problem2, n_iter):\n",
    "    parameters1 = [problem1.current.state]\n",
    "    posterior1 = [problem1.current.value]\n",
    "    parameters2 = [problem2.current.state]\n",
    "    posterior2 = [problem2.current.value]\n",
    "    \n",
    "    print(f\"Params: P1: {parameters1[0]}, P2: {parameters2[0]}, Posts: p1: {posterior1[0]}, p2: {posterior2[0]}\")\n",
    "    \n",
    "    for t in range(n_iter):\n",
    "        #propose a new state\n",
    "        (new_state1, new_post1) = problem1.random_move()\n",
    "        (new_state2, new_post2) = problem2.random_move()\n",
    "        \n",
    "        #calculate the acceptance probability of our new state\n",
    "        p_accept1 = (((new_post1)/(posterior1[t]))*(new_post2)/(posterior2[t]))\n",
    "        #print(p_accept1)\n",
    "        \n",
    "        if p_accept1 >= 1:\n",
    "            \n",
    "            #add the posterior score of our new proposed state\n",
    "            posterior1.append(new_post1)\n",
    "            #add our proposed state to the list of parameters that we have built\n",
    "            parameters1.append(new_state1)\n",
    "            problem1.current.state = new_state1\n",
    "            problem1.current.value = new_post1\n",
    "            \n",
    "            #add the posterior score of our new proposed state\n",
    "            posterior2.append(new_post2)\n",
    "            #add our proposed state to the list of parameters that we have built\n",
    "            parameters2.append(new_state2)\n",
    "            problem2.current.state = new_state2\n",
    "            problem2.current.value = new_post2\n",
    "            \n",
    "            \n",
    "        if p_accept1 < 1:\n",
    "            #check to see if we accept our supposed parameter\n",
    "            selection = np.random.choice([True, False], p = [p_accept1, 1-p_accept1])\n",
    "            \n",
    "            if selection == True:\n",
    "                #add the posterior score of our new proposed state\n",
    "                posterior1.append(new_post1)\n",
    "                #add our proposed state to the list of parameters that we have built\n",
    "                parameters1.append(new_state1)\n",
    "                problem1.current.state = new_state1\n",
    "                problem1.current.value = new_post1\n",
    "                     \n",
    "                #add the posterior score of our new proposed state\n",
    "                posterior2.append(new_post2)\n",
    "                #add our proposed state to the list of parameters that we have built\n",
    "                parameters2.append(new_state2)\n",
    "                problem2.current.state = new_state2\n",
    "                problem2.current.value = new_post2\n",
    "                \n",
    "            if selection == False:\n",
    "                #otherwise, we reject the new parameter and instead\n",
    "                #add another copy of the current parameter and its\n",
    "                #corresponding posterior score\n",
    "                parameters1.append(parameters1[t])\n",
    "                posterior1.append(posterior1[t])\n",
    "                parameters2.append(parameters2[t])\n",
    "                posterior2.append(posterior2[t])\n",
    "\n",
    "    return (parameters1, parameters2), (posterior1, posterior2)"
   ]
  },
  {
   "cell_type": "code",
   "execution_count": null,
   "metadata": {},
   "outputs": [],
   "source": [
    "print(alpha, beta)"
   ]
  },
  {
   "cell_type": "code",
   "execution_count": null,
   "metadata": {
    "collapsed": true
   },
   "outputs": [],
   "source": [
    "new_alpha = State(alpha, posterior(alpha, beta))\n",
    "new_beta = State(beta, posterior(alpha, beta))\n",
    "\n",
    "mcmc_alpha = ProblemMCMC(new_alpha, posterior, 0.05)\n",
    "mcmc_beta = ProblemMCMC(new_beta, posterior, 0.05)"
   ]
  },
  {
   "cell_type": "code",
   "execution_count": null,
   "metadata": {},
   "outputs": [],
   "source": [
    "parameters, posteriors = mcmc(mcmc_alpha, mcmc_beta, 5000)"
   ]
  },
  {
   "cell_type": "code",
   "execution_count": null,
   "metadata": {
    "collapsed": true
   },
   "outputs": [],
   "source": []
  },
  {
   "cell_type": "markdown",
   "metadata": {},
   "source": [
    "#### Part D\n",
    "\n",
    "Obtain samples from the posterior distribution of $\\alpha$ and $\\beta$ by running the Metropolis-Hastings algorithm for 5000 iterations.  Start with the least squares estimates from Part B as the initial values for each parameter. The step sizes for the parameters should be chosen such that the acceptance rate is somewhere between 23 and 44%. Remove the first half of each Markov chain for burn-in, and save the rest for analysis.\n",
    "\n",
    "1. Create a two-panel figure of the history plots of your Markov chains for each of $\\alpha$ and $\\beta$. Calculate and report the acceptance rate.\n",
    "1. Create a two-panel figure of the histograms for your posterior samples for analysis for $\\alpha$ and $\\beta$. Label your axes appropriately.\n",
    "1. Below your histogram, report on the 5-95% credible intervals (percentiles) for each parameter, as well as their posterior medians."
   ]
  },
  {
   "cell_type": "code",
   "execution_count": null,
   "metadata": {},
   "outputs": [],
   "source": [
    "print(np.count_nonzero(np.diff(parameters[1])*np.diff(parameters[0]))/(len(parameters[0])+len(parameters[1])))"
   ]
  },
  {
   "cell_type": "markdown",
   "metadata": {},
   "source": [
    "#### Part E\n",
    "\n",
    "Now repeat this experiment, but only include a subsample of 50 data points out of the original set. Generate the same set of plots and diagnostic numbers as Part D. You may need to adjust the step sizes in order to obtain similar acceptance rates.\n",
    "\n",
    "Compare the 5-95% credible intervals found in Part D and E, and comment on any differences you find."
   ]
  },
  {
   "cell_type": "markdown",
   "metadata": {},
   "source": [
    "[Back to top](#top)\n",
    "\n",
    "<a/ id='p4'></a>\n",
    "\n",
    "<br>\n",
    "\n",
    "---\n",
    "## [25 pts] Problem 4:  Reinforcement learning\n",
    "\n",
    "Consider a **cube** state space defined by $0 \\le x, y, z \\le L$. Suppose you are piloting/programming a [drone](https://twitter.com/Reuters/status/981121633023705088/video/1) to learn how to land on a platform at the center of the $z=0$ surface (the bottom). Some assumptions:\n",
    "* In this discrete world, if I say the drone is at $(x,y,z)$ I mean that it is in the box centered at $(x,y,z)$. And there are boxes (states) centered at $(x,y,z)$ for all $0 \\le x,y,z \\le L$. Each state is a 1 unit cube. So when $L=2$ (for example), there are cubes centered at each $x=0,1,2$, $y=0,1,2$ and so on, for a total state space size of $3^3 = 27$ states.\n",
    "* All of the states with $z=0$ are terminal states.\n",
    "* The state at the center of the bottom of the cubic state space is the landing pad. So, for example, when $L=4$, the landing pad is at $(x,y,z) = (2,2,0)$.\n",
    "* All terminal states ***except*** the landing pad have a reward of -1. The landing pad has a reward of +1.\n",
    "* All non-terminal states have a reward of -0.01.\n",
    "* The drone takes up exactly 1 cubic unit, and begins each training episode in a random non-terminal state.\n",
    "* The available actions in non-terminal states include moving exactly 1 unit Up (+z), Down (-z), North (+y), South (-y), East (+x) or West (-x). In a terminal state, the training episode should end."
   ]
  },
  {
   "cell_type": "markdown",
   "metadata": {},
   "source": [
    "#### Part A\n",
    "Write a class `MDPLanding` to represent the Markov decision process for this drone. Include methods for:\n",
    "1. `actions(state)`, which should return a list of all actions available from the given state\n",
    "2. `reward(state)`, which should return the reward for the given state\n",
    "3. `result(state, action)`, which should return the resulting state of doing the given action in the given state\n",
    "\n",
    "and attributes for:\n",
    "1. `states`, which is just a list of all the states in the state space, where each state is represented as an $(x,y,z)$ tuple\n",
    "2. `terminal_states`, a dictionary where keys are the terminal state tuples and the values are the rewards associated with those terminal states\n",
    "3. `default_reward`, which is a scalar for the reward associated with non-terminal states\n",
    "4. `all_actions`, a list of all possible actions (Up, Down, North, South, East, West)\n",
    "5. `discount`, the discount factor (use $\\gamma = 0.999$ for this entire problem)\n",
    "\n",
    "How you feed arguments/information into the class constructor is up to you.\n",
    "\n",
    "Note that actions are *deterministic* here.  The drone does not need to learn transition probabilities for outcomes of particular actions. What the drone does need to learn, however, is where the heck that landing pad is, and how to get there from any initial state."
   ]
  },
  {
   "cell_type": "code",
   "execution_count": null,
   "metadata": {
    "collapsed": true
   },
   "outputs": [],
   "source": [
    "class MDPLanding:\n",
    "    def __init__(self, L, terminal, default_reward, discount):\n",
    "        '''Create/store the following attributes:\n",
    "        states -- list of all the states (x,y) tuples\n",
    "        terminal_states -- is a dictionary with terminal state keys, and rewards as values\n",
    "        default_reward -- is the reward for being in any non-terminal state\n",
    "        df -- discount factor\n",
    "        ... and anything else you decide will be useful!\n",
    "        '''\n",
    "        self.states = [(x, y, z) for x in range(1, L+1) for y in range(1, L+1) for z in range(1, L+1)]\n",
    "        self.L = L\n",
    "        self.terminals = terminal\n",
    "        self.rewards = default_reward\n",
    "        self.discount = discount\n",
    "\n",
    "    def actions(self, state):\n",
    "        '''Return a list of available actions from the given state.\n",
    "        [None] are the actions available from a terminal state.\n",
    "        '''\n",
    "        actions = []\n",
    "        if state in self.terminals:\n",
    "            return [None]\n",
    "        else:\n",
    "            if state[0] - 1 > 0: #left boundary\n",
    "                actions.append('-x')\n",
    "                if state[0] -1 == 0:\n",
    "                    actions.append([None])\n",
    "            if state[0] + 1 < self.L: #right boundary\n",
    "                if state[0] + 1 == self.L:\n",
    "                    actions.append([None])\n",
    "                actions.append('+x')\n",
    "            if state[1] - 1 > 0: #down boundary\n",
    "                if state[1]-1 == 0:\n",
    "                    actions.append([None])\n",
    "                actions.append('-y')\n",
    "            if state[1] + 1 < self.L: #up boundary\n",
    "                actions.append('+y')\n",
    "                if state[1] + 1 == self.L:\n",
    "                    actions.append([None])\n",
    "            if state[2] - 1 > 0: #Z Down boundary\n",
    "                actions.append('-z')\n",
    "                if state[2] -1 == 0:\n",
    "                    actions.append([None])\n",
    "            if state[2] + 1 < self.L: #Z Up boundary\n",
    "                if state[2] + 1 == self.L:\n",
    "                    actions.append([None])\n",
    "                actions.append('+z')\n",
    "        return actions\n",
    "            \n",
    "        \n",
    "    def reward(self, state):\n",
    "        '''Return the reward for being in the given state'''\n",
    "        if state in self.terminals: \n",
    "            return self.terminals[state]\n",
    "        else: \n",
    "            return self.rewards\n",
    " \n",
    "        \n",
    "    def result(self, state, action):\n",
    "        '''Return the resulting state (as a tuple) from doing the given\n",
    "        action in the given state, without uncertainty. Uncertainty\n",
    "        is incorporated into the transition method.\n",
    "        state -- a tuple representing the current state\n",
    "        action -- one of N, S, E or W, as a string\n",
    "        '''\n",
    "        \n",
    "        if action == '+y':\n",
    "            return (state[0], state[1]+ 1, state[2])\n",
    "        elif action == '-y':\n",
    "            return (state[0], state[1]- 1, state[2])\n",
    "        elif action == '+x':\n",
    "            return (state[0] +1, state[1], state[2])\n",
    "        elif action == '-x':\n",
    "            return (state[0] - 1, state[1], state[2])\n",
    "        elif action == '+z':\n",
    "            return (state[0], state[1], state[2] + 1)\n",
    "        elif action == '-z':\n",
    "            return (state[0], state[1], state[2] -1)\n",
    "        elif action == [None] or action == None:\n",
    "            return (state)\n",
    "        \n",
    "        \n",
    "    def transition(self, state, action):\n",
    "        '''Return the probabilities and subsequent states associated\n",
    "        with taking the given action from the given state. Can be done\n",
    "        however you want, so that it works with your value/policy iteration.\n",
    "        '''\n",
    "        probs = {}\n",
    "        possible = self.actions(state)\n",
    "        move = self.result(state, action)\n",
    "        \n",
    "        for i in possible:\n",
    "            if i == action:\n",
    "                probs[action] = 1\n",
    "            else:\n",
    "                probs[i] =  1\n",
    "        return (tuple(move),probs)\n"
   ]
  },
  {
   "cell_type": "markdown",
   "metadata": {
    "collapsed": true
   },
   "source": [
    "#### Part B\n",
    "Write a function to implement **policy iteration** for this drone landing MDP. Create an MDP environment to represent the $L=4$ case (so 125 total states).\n",
    "\n",
    "Use your function to find an optimal policy for your new MDP environment. Check (by printing to screen) that the policy for the following states are what you expect, and comment on the results:\n",
    "1. $(2,2,1)$\n",
    "1. $(0,2,1)$\n",
    "1. $(2,0,1)$"
   ]
  },
  {
   "cell_type": "markdown",
   "metadata": {},
   "source": [
    "---\n",
    "\n",
    "<span style=\"color:steelblue\">\n",
    "Since we have no sample data, let's say that the **Landing pad** is at $(1,1,1)$\n",
    "and that there are three terminal states that are not the landing pad, $(3,3,3)$, $(3,4,3)$, $(2,3,1)$.\n",
    "</span>\n",
    "\n",
    "\n",
    "---"
   ]
  },
  {
   "cell_type": "code",
   "execution_count": null,
   "metadata": {
    "collapsed": true
   },
   "outputs": [],
   "source": [
    "def policy_iteration(mdp, U):\n",
    "    policy = {states: '+x' for states in mdp.states}\n",
    "    for states in mdp.states:\n",
    "        best_action = expected_utility('+x', states, U, mdp)\n",
    "        for action in mdp.actions(states):\n",
    "            temp = expected_utility(action, states, U, mdp)\n",
    "            if temp > best_action[0]:\n",
    "                best_action = (temp, action)\n",
    "        policy[states] = best_action[1]\n",
    "    return policy"
   ]
  },
  {
   "cell_type": "code",
   "execution_count": null,
   "metadata": {
    "collapsed": true
   },
   "outputs": [],
   "source": [
    "def expected_utility(a, s, U, mdp):\n",
    "    \"The expected utility of doing a in state s, according to the MDP and U.\"\n",
    "    return sum([p * U[s1] for (p, s1) in mdp.transition(s, a)])"
   ]
  },
  {
   "cell_type": "code",
   "execution_count": null,
   "metadata": {},
   "outputs": [],
   "source": [
    "terminal = {}\n",
    "default_reward = -0.01\n",
    "discount = 0.99\n",
    "mdp = MDPLanding(4, terminal, default_reward, discount)"
   ]
  },
  {
   "cell_type": "code",
   "execution_count": null,
   "metadata": {},
   "outputs": [],
   "source": [
    "print(f\"(1,5):{U[(2,2,1)]}, (6,1): {U[(2,2,1)]}\")\n",
    "print(f\"(2,5): {U[(0,2,1)]}, (5,3): {U[(0,2,1)]}\")\n",
    "print(f\"Policy, (2,4): {P[(2,0,1)]}, Policy, (1,1): {P[(2,0,1)]}\")"
   ]
  },
  {
   "cell_type": "markdown",
   "metadata": {},
   "source": [
    "#### Part C\n",
    "\n",
    "Code up a **Q-learning** agent/algorithm to learn how to land the drone. You can do this however you like, as long as you use the MDP class structure defined above.  \n",
    "\n",
    "Your code should include some kind of a wrapper to run many trials to train the agent and learn the Q values (see Section 21.3.2 in the textbook).  You also do not need to have a separate function for the actual \"agent\"; your code can just be a \"for\" loop within which you are refining your estimate of the Q values.\n",
    "\n",
    "From each training trial, save the cumulative discounted reward (utility) over the course of that episode. That is, add up all of $\\gamma^t R(s_t)$ where the drone is in state $s_t$ during time step $t$, for the entire sequence. I refer to this as \"cumulative reward\" because we usually refer to \"utility\" as the utility *under an optimal policy*.\n",
    "\n",
    "Some guidelines:\n",
    "* The drone should initialize in a random non-terminal state for each new training episode.\n",
    "* The training episodes should be limited to 50 time steps, even if the drone has not yet landed. If the drone lands (in a terminal state), the training episode is over.\n",
    "* You may use whatever learning rate $\\alpha$ you decide is appropriate, and gives good results.\n",
    "* There are many forms of Q-learning. You can use whatever variety you would like.\n",
    "* Your code should return:\n",
    "  * The learned Q values associated with each state-action pair.\n",
    "  * The cumulative reward for each training trial. \n",
    "  * Anything else that might be useful in the ensuing analysis."
   ]
  },
  {
   "cell_type": "markdown",
   "metadata": {},
   "source": [
    "#### Part D\n",
    "\n",
    "Initialize the $L=10$ environment (so that the landing pad is at $(5,5,0)$). Run some number of training trials to train the drone.\n",
    "\n",
    "**How do I know if my drone is learned enough?**  If you take the mean cumulative reward across the last 5000 training trials, it should be around 0.80. This means at least about 10,000 (but probably more) training episodes will be necessary. It will take a few seconds on your computer, so start small to test your codes.\n",
    "\n",
    "**Then:** Compute block means of cumulative reward from all of your training trials. Use blocks of 500 training trials. This means you need to create some kind of array-like structure such that its first element is the mean of the first 500 trials' cumulative rewards; its second element is the mean of the 501-1000th trials' cumulative rewards; and so on. Make a plot of the block mean rewards as the training progresses. It should increase from about -0.5 initially to somewhere around +0.8.\n",
    "\n",
    "**And:** Print to the screen the mean of the last 5000 trials' cumulative rewards, to verify that it is indeed about 0.80."
   ]
  },
  {
   "cell_type": "markdown",
   "metadata": {},
   "source": [
    "#### Part E\n",
    "\n",
    "**Question 1:** Why does the cumulative reward start off around -0.5 at the beginning of the training?\n",
    "\n",
    "**Question 2:** Why will it be difficult for us to train the drone to reliably obtain rewards much greater than about 0.8?"
   ]
  },
  {
   "cell_type": "markdown",
   "metadata": {},
   "source": [
    "<a/ id='bottom'></a>\n",
    "\n",
    "[Back to top](#top)"
   ]
  },
  {
   "cell_type": "code",
   "execution_count": null,
   "metadata": {
    "collapsed": true
   },
   "outputs": [],
   "source": []
  }
 ],
 "metadata": {
  "kernelspec": {
   "display_name": "Python 3",
   "language": "python",
   "name": "python3"
  },
  "language_info": {
   "codemirror_mode": {
    "name": "ipython",
    "version": 3
   },
   "file_extension": ".py",
   "mimetype": "text/x-python",
   "name": "python",
   "nbconvert_exporter": "python",
   "pygments_lexer": "ipython3",
   "version": "3.6.1"
  }
 },
 "nbformat": 4,
 "nbformat_minor": 2
}
